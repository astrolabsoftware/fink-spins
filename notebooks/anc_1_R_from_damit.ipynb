{
 "cells": [
  {
   "cell_type": "code",
   "execution_count": 1,
   "id": "f8445229-f54e-44f3-89b6-48328631cd57",
   "metadata": {},
   "outputs": [],
   "source": [
    "import os\n",
    "import numpy as np\n",
    "import pandas as pd\n",
    "import matplotlib.pyplot as plt\n",
    "\n",
    "import rocks\n",
    "rocks.set_log_level(\"error\")\n",
    "import time as t\n",
    "\n",
    "import subprocess\n",
    "\n",
    "# from astropy.time import Time\n",
    "# import requests\n",
    "# import io\n",
    "\n",
    "# import astropy.units as u\n",
    "# from astropy.coordinates import SkyCoord\n",
    "# from astropy.coordinates import angular_separation\n",
    "\n",
    "# from scipy.signal import argrelextrema\n",
    "\n",
    "\n",
    "# from fink_utils.sso import spins as finkus\n",
    "# import ssptools"
   ]
  },
  {
   "cell_type": "code",
   "execution_count": 2,
   "id": "d9c8c334-3351-4525-b20c-1e3a6f0cdcf7",
   "metadata": {},
   "outputs": [],
   "source": [
    "# DAMIT\n",
    "# path_damit = '/astrodata/Catalog/DAMIT/damit20230418/'\n",
    "path_data = os.path.join('..','data')\n",
    "path_damit = os.path.join(path_data,'damit')\n",
    "path_spins = './'"
   ]
  },
  {
   "cell_type": "markdown",
   "id": "fa978b64-80d6-4f3a-975a-37ec690cb865",
   "metadata": {},
   "source": [
    "# Read data"
   ]
  },
  {
   "cell_type": "code",
   "execution_count": 3,
   "id": "02668241-85e3-4e6f-9401-6f7dff97b428",
   "metadata": {},
   "outputs": [],
   "source": [
    "# Read DAMIT Tables\n",
    "ssos = pd.read_csv(os.path.join( path_damit, 'damit-asteroids.csv'))\n",
    "models = pd.read_csv(os.path.join( path_damit, 'damit-asteroid_models.csv'))\n",
    "refs = pd.read_csv(os.path.join( path_damit, 'damit-asteroid_models_references.csv'))\n",
    "bibs = pd.read_csv(os.path.join( path_damit, 'damit-references.csv'))"
   ]
  },
  {
   "cell_type": "code",
   "execution_count": 4,
   "id": "63d54ad4-b594-4d5b-83f4-48c92a7a1b5c",
   "metadata": {},
   "outputs": [],
   "source": [
    "# Select columns for ASTEROIDS\n",
    "ssos = ssos[ ['id', 'number', 'name', 'designation'] ]\n",
    "ssos.columns = ['asteroid_id', 'number', 'name', 'designation']"
   ]
  },
  {
   "cell_type": "code",
   "execution_count": 5,
   "id": "07c55344-61e7-4c56-83f5-d34fd2f77a1b",
   "metadata": {},
   "outputs": [],
   "source": [
    "# Select columns for MODELS\n",
    "models = models[ [ 'id', 'asteroid_id', 'lambda', 'beta', 'period' ] ]\n",
    "models.columns = [ 'model_id', 'asteroid_id', 'lambda', 'beta', 'period' ]"
   ]
  },
  {
   "cell_type": "code",
   "execution_count": 6,
   "id": "e21502ec-aefa-4cec-befe-0a2bc50351c0",
   "metadata": {},
   "outputs": [],
   "source": [
    "# Select columns for REFERENCES\n",
    "refs = refs[ ['asteroid_model_id','reference_id'] ]\n",
    "refs.columns = ['model_id','reference_id']"
   ]
  },
  {
   "cell_type": "code",
   "execution_count": 7,
   "id": "aa060c84-cc45-4276-91da-2036ab207924",
   "metadata": {},
   "outputs": [],
   "source": [
    "# Select columns for BIBLIOGRAPHY\n",
    "bibs = bibs[ ['id', 'bibcode'] ]\n",
    "bibs.columns = ['reference_id', 'bibcode']"
   ]
  },
  {
   "cell_type": "code",
   "execution_count": 8,
   "id": "2822dc1d-d87f-4ad1-9db7-8dedd4260f8c",
   "metadata": {},
   "outputs": [
    {
     "data": {
      "text/html": [
       "<div>\n",
       "<style scoped>\n",
       "    .dataframe tbody tr th:only-of-type {\n",
       "        vertical-align: middle;\n",
       "    }\n",
       "\n",
       "    .dataframe tbody tr th {\n",
       "        vertical-align: top;\n",
       "    }\n",
       "\n",
       "    .dataframe thead th {\n",
       "        text-align: right;\n",
       "    }\n",
       "</style>\n",
       "<table border=\"1\" class=\"dataframe\">\n",
       "  <thead>\n",
       "    <tr style=\"text-align: right;\">\n",
       "      <th></th>\n",
       "      <th>model_id</th>\n",
       "      <th>asteroid_id</th>\n",
       "      <th>lambda</th>\n",
       "      <th>beta</th>\n",
       "      <th>period</th>\n",
       "      <th>number</th>\n",
       "      <th>name</th>\n",
       "      <th>designation</th>\n",
       "      <th>reference_id</th>\n",
       "      <th>bibcode</th>\n",
       "    </tr>\n",
       "  </thead>\n",
       "  <tbody>\n",
       "    <tr>\n",
       "      <th>0</th>\n",
       "      <td>101</td>\n",
       "      <td>101</td>\n",
       "      <td>35.0</td>\n",
       "      <td>-12.0</td>\n",
       "      <td>7.813230</td>\n",
       "      <td>2.0</td>\n",
       "      <td>Pallas</td>\n",
       "      <td>NaN</td>\n",
       "      <td>106</td>\n",
       "      <td>2003icar..164..346t</td>\n",
       "    </tr>\n",
       "    <tr>\n",
       "      <th>1</th>\n",
       "      <td>106</td>\n",
       "      <td>104</td>\n",
       "      <td>340.0</td>\n",
       "      <td>42.0</td>\n",
       "      <td>7.274471</td>\n",
       "      <td>6.0</td>\n",
       "      <td>Hebe</td>\n",
       "      <td>NaN</td>\n",
       "      <td>106</td>\n",
       "      <td>2003icar..164..346t</td>\n",
       "    </tr>\n",
       "    <tr>\n",
       "      <th>2</th>\n",
       "      <td>110</td>\n",
       "      <td>106</td>\n",
       "      <td>335.0</td>\n",
       "      <td>-5.0</td>\n",
       "      <td>12.866670</td>\n",
       "      <td>8.0</td>\n",
       "      <td>Flora</td>\n",
       "      <td>NaN</td>\n",
       "      <td>106</td>\n",
       "      <td>2003icar..164..346t</td>\n",
       "    </tr>\n",
       "    <tr>\n",
       "      <th>3</th>\n",
       "      <td>111</td>\n",
       "      <td>107</td>\n",
       "      <td>180.0</td>\n",
       "      <td>22.0</td>\n",
       "      <td>5.079176</td>\n",
       "      <td>9.0</td>\n",
       "      <td>Metis</td>\n",
       "      <td>NaN</td>\n",
       "      <td>106</td>\n",
       "      <td>2003icar..164..346t</td>\n",
       "    </tr>\n",
       "    <tr>\n",
       "      <th>4</th>\n",
       "      <td>117</td>\n",
       "      <td>111</td>\n",
       "      <td>98.0</td>\n",
       "      <td>57.0</td>\n",
       "      <td>7.443224</td>\n",
       "      <td>19.0</td>\n",
       "      <td>Fortuna</td>\n",
       "      <td>NaN</td>\n",
       "      <td>106</td>\n",
       "      <td>2003icar..164..346t</td>\n",
       "    </tr>\n",
       "    <tr>\n",
       "      <th>...</th>\n",
       "      <td>...</td>\n",
       "      <td>...</td>\n",
       "      <td>...</td>\n",
       "      <td>...</td>\n",
       "      <td>...</td>\n",
       "      <td>...</td>\n",
       "      <td>...</td>\n",
       "      <td>...</td>\n",
       "      <td>...</td>\n",
       "      <td>...</td>\n",
       "    </tr>\n",
       "    <tr>\n",
       "      <th>16312</th>\n",
       "      <td>16275</td>\n",
       "      <td>10853</td>\n",
       "      <td>326.0</td>\n",
       "      <td>-83.0</td>\n",
       "      <td>8.016800</td>\n",
       "      <td>99949.0</td>\n",
       "      <td>Miepgies</td>\n",
       "      <td>NaN</td>\n",
       "      <td>665</td>\n",
       "      <td>2023arxiv230510798d</td>\n",
       "    </tr>\n",
       "    <tr>\n",
       "      <th>16313</th>\n",
       "      <td>16276</td>\n",
       "      <td>10854</td>\n",
       "      <td>34.0</td>\n",
       "      <td>-42.0</td>\n",
       "      <td>143.500000</td>\n",
       "      <td>99973.0</td>\n",
       "      <td>NaN</td>\n",
       "      <td>NaN</td>\n",
       "      <td>665</td>\n",
       "      <td>2023arxiv230510798d</td>\n",
       "    </tr>\n",
       "    <tr>\n",
       "      <th>16314</th>\n",
       "      <td>16277</td>\n",
       "      <td>10854</td>\n",
       "      <td>194.0</td>\n",
       "      <td>-64.0</td>\n",
       "      <td>143.490000</td>\n",
       "      <td>99973.0</td>\n",
       "      <td>NaN</td>\n",
       "      <td>NaN</td>\n",
       "      <td>665</td>\n",
       "      <td>2023arxiv230510798d</td>\n",
       "    </tr>\n",
       "    <tr>\n",
       "      <th>16315</th>\n",
       "      <td>16278</td>\n",
       "      <td>10855</td>\n",
       "      <td>192.0</td>\n",
       "      <td>-52.0</td>\n",
       "      <td>7.071400</td>\n",
       "      <td>99990.0</td>\n",
       "      <td>NaN</td>\n",
       "      <td>NaN</td>\n",
       "      <td>665</td>\n",
       "      <td>2023arxiv230510798d</td>\n",
       "    </tr>\n",
       "    <tr>\n",
       "      <th>16316</th>\n",
       "      <td>16279</td>\n",
       "      <td>10855</td>\n",
       "      <td>24.0</td>\n",
       "      <td>-47.0</td>\n",
       "      <td>7.071400</td>\n",
       "      <td>99990.0</td>\n",
       "      <td>NaN</td>\n",
       "      <td>NaN</td>\n",
       "      <td>665</td>\n",
       "      <td>2023arxiv230510798d</td>\n",
       "    </tr>\n",
       "  </tbody>\n",
       "</table>\n",
       "<p>16317 rows × 10 columns</p>\n",
       "</div>"
      ],
      "text/plain": [
       "       model_id  asteroid_id  lambda  beta      period   number      name  \\\n",
       "0           101          101    35.0 -12.0    7.813230      2.0    Pallas   \n",
       "1           106          104   340.0  42.0    7.274471      6.0      Hebe   \n",
       "2           110          106   335.0  -5.0   12.866670      8.0     Flora   \n",
       "3           111          107   180.0  22.0    5.079176      9.0     Metis   \n",
       "4           117          111    98.0  57.0    7.443224     19.0   Fortuna   \n",
       "...         ...          ...     ...   ...         ...      ...       ...   \n",
       "16312     16275        10853   326.0 -83.0    8.016800  99949.0  Miepgies   \n",
       "16313     16276        10854    34.0 -42.0  143.500000  99973.0       NaN   \n",
       "16314     16277        10854   194.0 -64.0  143.490000  99973.0       NaN   \n",
       "16315     16278        10855   192.0 -52.0    7.071400  99990.0       NaN   \n",
       "16316     16279        10855    24.0 -47.0    7.071400  99990.0       NaN   \n",
       "\n",
       "      designation  reference_id              bibcode  \n",
       "0             NaN           106  2003icar..164..346t  \n",
       "1             NaN           106  2003icar..164..346t  \n",
       "2             NaN           106  2003icar..164..346t  \n",
       "3             NaN           106  2003icar..164..346t  \n",
       "4             NaN           106  2003icar..164..346t  \n",
       "...           ...           ...                  ...  \n",
       "16312         NaN           665  2023arxiv230510798d  \n",
       "16313         NaN           665  2023arxiv230510798d  \n",
       "16314         NaN           665  2023arxiv230510798d  \n",
       "16315         NaN           665  2023arxiv230510798d  \n",
       "16316         NaN           665  2023arxiv230510798d  \n",
       "\n",
       "[16317 rows x 10 columns]"
      ]
     },
     "execution_count": 8,
     "metadata": {},
     "output_type": "execute_result"
    }
   ],
   "source": [
    "# Merge everything\n",
    "data = models.merge( ssos, on='asteroid_id')\n",
    "data = data.merge( refs, on='model_id')\n",
    "data = data.merge( bibs, on='reference_id')\n",
    "data"
   ]
  },
  {
   "cell_type": "code",
   "execution_count": 9,
   "id": "8b68d600-1ee1-4e59-b845-1b0baf6b05e7",
   "metadata": {},
   "outputs": [
    {
     "data": {
      "text/html": [
       "<div>\n",
       "<style scoped>\n",
       "    .dataframe tbody tr th:only-of-type {\n",
       "        vertical-align: middle;\n",
       "    }\n",
       "\n",
       "    .dataframe tbody tr th {\n",
       "        vertical-align: top;\n",
       "    }\n",
       "\n",
       "    .dataframe thead th {\n",
       "        text-align: right;\n",
       "    }\n",
       "</style>\n",
       "<table border=\"1\" class=\"dataframe\">\n",
       "  <thead>\n",
       "    <tr style=\"text-align: right;\">\n",
       "      <th></th>\n",
       "      <th>model_id</th>\n",
       "      <th>asteroid_id</th>\n",
       "      <th>lambda</th>\n",
       "      <th>beta</th>\n",
       "      <th>period</th>\n",
       "      <th>number</th>\n",
       "      <th>name</th>\n",
       "      <th>designation</th>\n",
       "      <th>reference_id</th>\n",
       "      <th>bibcode</th>\n",
       "    </tr>\n",
       "  </thead>\n",
       "  <tbody>\n",
       "    <tr>\n",
       "      <th>0</th>\n",
       "      <td>101</td>\n",
       "      <td>101</td>\n",
       "      <td>35.0</td>\n",
       "      <td>-12.0</td>\n",
       "      <td>7.81323</td>\n",
       "      <td>2.0</td>\n",
       "      <td>Pallas</td>\n",
       "      <td>NaN</td>\n",
       "      <td>106</td>\n",
       "      <td>2003icar..164..346t</td>\n",
       "    </tr>\n",
       "    <tr>\n",
       "      <th>24</th>\n",
       "      <td>101</td>\n",
       "      <td>101</td>\n",
       "      <td>35.0</td>\n",
       "      <td>-12.0</td>\n",
       "      <td>7.81323</td>\n",
       "      <td>2.0</td>\n",
       "      <td>Pallas</td>\n",
       "      <td>NaN</td>\n",
       "      <td>139</td>\n",
       "      <td>2011icar..214..652d</td>\n",
       "    </tr>\n",
       "    <tr>\n",
       "      <th>75</th>\n",
       "      <td>102</td>\n",
       "      <td>101</td>\n",
       "      <td>32.0</td>\n",
       "      <td>-11.0</td>\n",
       "      <td>7.81322</td>\n",
       "      <td>2.0</td>\n",
       "      <td>Pallas</td>\n",
       "      <td>NaN</td>\n",
       "      <td>169</td>\n",
       "      <td>2017a&amp;a...601a.114h</td>\n",
       "    </tr>\n",
       "    <tr>\n",
       "      <th>116</th>\n",
       "      <td>102</td>\n",
       "      <td>101</td>\n",
       "      <td>32.0</td>\n",
       "      <td>-11.0</td>\n",
       "      <td>7.81322</td>\n",
       "      <td>2.0</td>\n",
       "      <td>Pallas</td>\n",
       "      <td>NaN</td>\n",
       "      <td>132</td>\n",
       "      <td>2010icar..205..460c</td>\n",
       "    </tr>\n",
       "  </tbody>\n",
       "</table>\n",
       "</div>"
      ],
      "text/plain": [
       "     model_id  asteroid_id  lambda  beta   period  number    name designation  \\\n",
       "0         101          101    35.0 -12.0  7.81323     2.0  Pallas         NaN   \n",
       "24        101          101    35.0 -12.0  7.81323     2.0  Pallas         NaN   \n",
       "75        102          101    32.0 -11.0  7.81322     2.0  Pallas         NaN   \n",
       "116       102          101    32.0 -11.0  7.81322     2.0  Pallas         NaN   \n",
       "\n",
       "     reference_id              bibcode  \n",
       "0             106  2003icar..164..346t  \n",
       "24            139  2011icar..214..652d  \n",
       "75            169  2017a&a...601a.114h  \n",
       "116           132  2010icar..205..460c  "
      ]
     },
     "execution_count": 9,
     "metadata": {},
     "output_type": "execute_result"
    }
   ],
   "source": [
    "data[ data.number==2 ]\n",
    "# data[ data.number==135 ]"
   ]
  },
  {
   "cell_type": "markdown",
   "id": "fa9f3ad5-62b2-4fb7-9505-1583dd95a96c",
   "metadata": {},
   "source": [
    "# Compute R"
   ]
  },
  {
   "cell_type": "code",
   "execution_count": 10,
   "metadata": {},
   "outputs": [
    {
     "name": "stdout",
     "output_type": "stream",
     "text": [
      "revert bc 1119\n",
      "revert ab 7568\n",
      "revert bc 845\n",
      "miss ab, bc 0 0\n"
     ]
    }
   ],
   "source": [
    "abc = pd.read_csv( os.path.join(path_damit, 'abc.csv') )\n",
    "\n",
    "# Revert b and c if needed \n",
    "cond_bc = abc['b'] < abc['c']\n",
    "print('revert bc', len(abc[cond_bc]))\n",
    "\n",
    "b = abc.loc[cond_bc,'b']\n",
    "abc.loc[cond_bc,'b'] = abc.loc[cond_bc,'c']\n",
    "abc.loc[cond_bc,'c'] = b\n",
    "\n",
    "# Revert a and b if needed \n",
    "cond_ab = abc['a'] < abc['b']\n",
    "print('revert ab', len(abc[cond_ab]))\n",
    "\n",
    "a = abc.loc[cond_ab,'a']\n",
    "abc.loc[cond_ab,'a'] = abc.loc[cond_ab,'b']\n",
    "abc.loc[cond_ab,'b'] = a\n",
    "\n",
    "\n",
    "# Revert b and c again if needed \n",
    "cond_bc = abc['b'] < abc['c']\n",
    "print('revert bc', len(abc[cond_bc]))\n",
    "\n",
    "b = abc.loc[cond_bc,'b']\n",
    "abc.loc[cond_bc,'b'] = abc.loc[cond_bc,'c']\n",
    "abc.loc[cond_bc,'c'] = b\n",
    "\n",
    "# Check\n",
    "cond_bc = abc['b'] < abc['c']\n",
    "cond_ab = abc['a'] < abc['b']\n",
    "print('miss ab, bc', len(abc[cond_ab]), len(abc[cond_bc]))\n",
    "\n",
    "# abc[cond_bc]"
   ]
  },
  {
   "cell_type": "code",
   "execution_count": 11,
   "metadata": {},
   "outputs": [],
   "source": [
    "abc['R'] = abc['c']*(abc['a']+abc['b']) / (2 * abc['a']* abc['b'])"
   ]
  },
  {
   "cell_type": "code",
   "execution_count": 12,
   "metadata": {},
   "outputs": [
    {
     "data": {
      "text/plain": [
       "(16317, 16073, 16317)"
      ]
     },
     "execution_count": 12,
     "metadata": {},
     "output_type": "execute_result"
    }
   ],
   "source": [
    "all = data.merge( abc, on='model_id')\n",
    "len(data), len(abc), len(all)"
   ]
  },
  {
   "cell_type": "code",
   "execution_count": 13,
   "metadata": {},
   "outputs": [],
   "source": [
    "all.to_csv( os.path.join(path_data, 'damit_abc.csv'), index=False)"
   ]
  },
  {
   "cell_type": "code",
   "execution_count": 14,
   "metadata": {},
   "outputs": [
    {
     "data": {
      "text/plain": [
       "0.709146330721016"
      ]
     },
     "execution_count": 14,
     "metadata": {},
     "output_type": "execute_result"
    }
   ],
   "source": [
    "all['R'].mean()"
   ]
  },
  {
   "cell_type": "markdown",
   "id": "113f269a-d001-4b38-8914-244d074948e5",
   "metadata": {},
   "source": [
    "# Plot!"
   ]
  },
  {
   "cell_type": "code",
   "execution_count": null,
   "id": "5cad069d-574b-47e4-af55-d0c33eae0681",
   "metadata": {},
   "outputs": [],
   "source": [
    "fig, ax = plt.subplots(1, 3, figsize=(18,5))\n",
    "\n",
    "\n",
    "r_ab = [1,3]\n",
    "r_bc = [1,3]\n",
    "r_ac = [1,3]\n",
    "r_R = [0,1]\n",
    "b_ab = 50\n",
    "b_bc = 50\n",
    "b_ac = 50\n",
    "b_R = 25\n",
    "\n",
    "# --------------------------------------------------------------------------------\n",
    "# ab vs bc\n",
    "ax[0].hist2d( abc['a']/abc['b'], abc['b']/abc['c'], range=[r_ab,r_bc], bins=[b_ab,b_bc] )\n",
    "\n",
    "# --------------------------------------------------------------------------------\n",
    "# ab vs R\n",
    "ax[1].hist2d( abc['a']/abc['b'], abc['R'], range=[r_ab,r_R], bins=[b_ab,b_R] )\n",
    "\n",
    "# --------------------------------------------------------------------------------\n",
    "# ab vs ac\n",
    "ax[2].hist2d( abc['a']/abc['b'], abc['a']/abc['c'], range=[r_ab,r_ac], bins=[b_ab,b_ac] )\n",
    "\n",
    "\n",
    "# --------------------------------------------------------------------------------\n",
    "# ab vs R\n",
    "ax[0].set_xlabel('a/b')\n",
    "ax[0].set_ylabel('b/c')\n",
    "\n",
    "ax[1].set_xlabel('a/b')\n",
    "ax[1].set_ylabel('R')\n",
    "\n",
    "ax[2].set_xlabel('a/b')\n",
    "ax[2].set_ylabel('a/c')\n",
    "\n",
    "# ax.legend(loc='upper left')"
   ]
  },
  {
   "cell_type": "code",
   "execution_count": null,
   "id": "9fc0dacf-19f9-401a-9b56-606f8c551a30",
   "metadata": {},
   "outputs": [],
   "source": [
    "fig, ax = plt.subplots()\n",
    "\n",
    "r = [0,1]\n",
    "b = 50\n",
    "ax.hist( abc.R, range=r, bins=b, label=f'DAMIT ({len(data)})' )\n",
    "# ax.hist( data.R2, range=r, bins=b, label=f'DAMIT ({len(data)})' )\n",
    "ax.set_xlabel('R')\n",
    "ax.legend(loc='upper left')"
   ]
  },
  {
   "cell_type": "code",
   "execution_count": null,
   "id": "c28c6bb9-e967-485e-b87c-31c311b8b6ed",
   "metadata": {},
   "outputs": [],
   "source": [
    "data.bibcode.value_counts().head(50)"
   ]
  },
  {
   "cell_type": "code",
   "execution_count": null,
   "id": "ed652d7f-c7c9-4272-b95c-d3f08a36a0e1",
   "metadata": {},
   "outputs": [],
   "source": [
    "[str(a).upper() for a in data.bibcode.value_counts().head(20).index]"
   ]
  },
  {
   "cell_type": "code",
   "execution_count": null,
   "id": "deeca0c8-6119-4e25-90c2-132c1f7474d1",
   "metadata": {},
   "outputs": [],
   "source": [
    "data"
   ]
  },
  {
   "cell_type": "code",
   "execution_count": null,
   "metadata": {},
   "outputs": [],
   "source": []
  }
 ],
 "metadata": {
  "kernelspec": {
   "display_name": "Python 3 (ipykernel)",
   "language": "python",
   "name": "python3"
  },
  "language_info": {
   "codemirror_mode": {
    "name": "ipython",
    "version": 3
   },
   "file_extension": ".py",
   "mimetype": "text/x-python",
   "name": "python",
   "nbconvert_exporter": "python",
   "pygments_lexer": "ipython3",
   "version": "3.9.12"
  }
 },
 "nbformat": 4,
 "nbformat_minor": 5
}
