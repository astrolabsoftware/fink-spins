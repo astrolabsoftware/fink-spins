{
 "cells": [
  {
   "cell_type": "code",
   "execution_count": 1,
   "id": "f8445229-f54e-44f3-89b6-48328631cd57",
   "metadata": {},
   "outputs": [],
   "source": [
    "import glob\n",
    "import numpy as np\n",
    "import pandas as pd\n",
    "import matplotlib.pyplot as plt\n",
    "\n",
    "import rocks\n",
    "rocks.set_log_level(\"error\")\n",
    "import time as t\n",
    "\n",
    "import subprocess\n",
    "\n",
    "# from astropy.time import Time\n",
    "# import requests\n",
    "# import io\n",
    "\n",
    "# import astropy.units as u\n",
    "# from astropy.coordinates import SkyCoord\n",
    "# from astropy.coordinates import angular_separation\n",
    "\n",
    "# from scipy.signal import argrelextrema\n",
    "\n",
    "\n",
    "# from fink_utils.sso import spins as finkus\n",
    "# import ssptools"
   ]
  },
  {
   "cell_type": "code",
   "execution_count": 2,
   "id": "d9c8c334-3351-4525-b20c-1e3a6f0cdcf7",
   "metadata": {},
   "outputs": [],
   "source": [
    "# DAMIT\n",
    "path_damit = '/astrodata/Catalog/DAMIT/damit20230418/'\n",
    "path_spins = './'"
   ]
  },
  {
   "cell_type": "markdown",
   "id": "fa978b64-80d6-4f3a-975a-37ec690cb865",
   "metadata": {},
   "source": [
    "# Read data"
   ]
  },
  {
   "cell_type": "code",
   "execution_count": 3,
   "id": "02668241-85e3-4e6f-9401-6f7dff97b428",
   "metadata": {},
   "outputs": [],
   "source": [
    "# Read DAMIT Tables\n",
    "ssos = pd.read_csv(f'{path_damit}tables/asteroids.csv')\n",
    "models = pd.read_csv(f'{path_damit}tables/asteroid_models.csv')\n",
    "refs = pd.read_csv(f'{path_damit}tables/asteroid_models_references.csv')\n",
    "bibs = pd.read_csv(f'{path_damit}tables/references.csv')"
   ]
  },
  {
   "cell_type": "code",
   "execution_count": 4,
   "id": "63d54ad4-b594-4d5b-83f4-48c92a7a1b5c",
   "metadata": {},
   "outputs": [],
   "source": [
    "# Select columns for ASTEROIDS\n",
    "ssos = ssos[ ['id', 'number', 'name', 'designation'] ]\n",
    "ssos.columns = ['asteroid_id', 'number', 'name', 'designation']"
   ]
  },
  {
   "cell_type": "code",
   "execution_count": 5,
   "id": "07c55344-61e7-4c56-83f5-d34fd2f77a1b",
   "metadata": {},
   "outputs": [],
   "source": [
    "# Select columns for MODELS\n",
    "models = models[ [ 'id', 'asteroid_id', 'lambda', 'beta', 'period' ] ]\n",
    "models.columns = [ 'model_id', 'asteroid_id', 'lambda', 'beta', 'period' ]"
   ]
  },
  {
   "cell_type": "code",
   "execution_count": 6,
   "id": "e21502ec-aefa-4cec-befe-0a2bc50351c0",
   "metadata": {},
   "outputs": [],
   "source": [
    "# Select columns for REFERENCES\n",
    "refs = refs[ ['asteroid_model_id','reference_id'] ]\n",
    "refs.columns = ['model_id','reference_id']"
   ]
  },
  {
   "cell_type": "code",
   "execution_count": 7,
   "id": "aa060c84-cc45-4276-91da-2036ab207924",
   "metadata": {},
   "outputs": [],
   "source": [
    "# Select columns for BIBLIOGRAPHY\n",
    "bibs = bibs[ ['id', 'bibcode'] ]\n",
    "bibs.columns = ['reference_id', 'bibcode']"
   ]
  },
  {
   "cell_type": "code",
   "execution_count": 8,
   "id": "2822dc1d-d87f-4ad1-9db7-8dedd4260f8c",
   "metadata": {},
   "outputs": [
    {
     "data": {
      "text/html": [
       "<div>\n",
       "<style scoped>\n",
       "    .dataframe tbody tr th:only-of-type {\n",
       "        vertical-align: middle;\n",
       "    }\n",
       "\n",
       "    .dataframe tbody tr th {\n",
       "        vertical-align: top;\n",
       "    }\n",
       "\n",
       "    .dataframe thead th {\n",
       "        text-align: right;\n",
       "    }\n",
       "</style>\n",
       "<table border=\"1\" class=\"dataframe\">\n",
       "  <thead>\n",
       "    <tr style=\"text-align: right;\">\n",
       "      <th></th>\n",
       "      <th>model_id</th>\n",
       "      <th>asteroid_id</th>\n",
       "      <th>lambda</th>\n",
       "      <th>beta</th>\n",
       "      <th>period</th>\n",
       "      <th>number</th>\n",
       "      <th>name</th>\n",
       "      <th>designation</th>\n",
       "      <th>reference_id</th>\n",
       "      <th>bibcode</th>\n",
       "    </tr>\n",
       "  </thead>\n",
       "  <tbody>\n",
       "    <tr>\n",
       "      <th>0</th>\n",
       "      <td>101</td>\n",
       "      <td>101</td>\n",
       "      <td>35</td>\n",
       "      <td>-12</td>\n",
       "      <td>7.813230</td>\n",
       "      <td>2.0</td>\n",
       "      <td>Pallas</td>\n",
       "      <td>NaN</td>\n",
       "      <td>106</td>\n",
       "      <td>2003icar..164..346t</td>\n",
       "    </tr>\n",
       "    <tr>\n",
       "      <th>1</th>\n",
       "      <td>106</td>\n",
       "      <td>104</td>\n",
       "      <td>340</td>\n",
       "      <td>42</td>\n",
       "      <td>7.274471</td>\n",
       "      <td>6.0</td>\n",
       "      <td>Hebe</td>\n",
       "      <td>NaN</td>\n",
       "      <td>106</td>\n",
       "      <td>2003icar..164..346t</td>\n",
       "    </tr>\n",
       "    <tr>\n",
       "      <th>2</th>\n",
       "      <td>110</td>\n",
       "      <td>106</td>\n",
       "      <td>335</td>\n",
       "      <td>-5</td>\n",
       "      <td>12.866670</td>\n",
       "      <td>8.0</td>\n",
       "      <td>Flora</td>\n",
       "      <td>NaN</td>\n",
       "      <td>106</td>\n",
       "      <td>2003icar..164..346t</td>\n",
       "    </tr>\n",
       "    <tr>\n",
       "      <th>3</th>\n",
       "      <td>111</td>\n",
       "      <td>107</td>\n",
       "      <td>180</td>\n",
       "      <td>22</td>\n",
       "      <td>5.079176</td>\n",
       "      <td>9.0</td>\n",
       "      <td>Metis</td>\n",
       "      <td>NaN</td>\n",
       "      <td>106</td>\n",
       "      <td>2003icar..164..346t</td>\n",
       "    </tr>\n",
       "    <tr>\n",
       "      <th>4</th>\n",
       "      <td>117</td>\n",
       "      <td>111</td>\n",
       "      <td>98</td>\n",
       "      <td>57</td>\n",
       "      <td>7.443224</td>\n",
       "      <td>19.0</td>\n",
       "      <td>Fortuna</td>\n",
       "      <td>NaN</td>\n",
       "      <td>106</td>\n",
       "      <td>2003icar..164..346t</td>\n",
       "    </tr>\n",
       "    <tr>\n",
       "      <th>...</th>\n",
       "      <td>...</td>\n",
       "      <td>...</td>\n",
       "      <td>...</td>\n",
       "      <td>...</td>\n",
       "      <td>...</td>\n",
       "      <td>...</td>\n",
       "      <td>...</td>\n",
       "      <td>...</td>\n",
       "      <td>...</td>\n",
       "      <td>...</td>\n",
       "    </tr>\n",
       "    <tr>\n",
       "      <th>6230</th>\n",
       "      <td>6198</td>\n",
       "      <td>3569</td>\n",
       "      <td>104</td>\n",
       "      <td>-43</td>\n",
       "      <td>16.438100</td>\n",
       "      <td>949.0</td>\n",
       "      <td>Hel</td>\n",
       "      <td>NaN</td>\n",
       "      <td>662</td>\n",
       "      <td>2021a&amp;a...654a..48h</td>\n",
       "    </tr>\n",
       "    <tr>\n",
       "      <th>6231</th>\n",
       "      <td>6199</td>\n",
       "      <td>3570</td>\n",
       "      <td>219</td>\n",
       "      <td>-46</td>\n",
       "      <td>9.606520</td>\n",
       "      <td>971.0</td>\n",
       "      <td>Alsatia</td>\n",
       "      <td>NaN</td>\n",
       "      <td>662</td>\n",
       "      <td>2021a&amp;a...654a..48h</td>\n",
       "    </tr>\n",
       "    <tr>\n",
       "      <th>6232</th>\n",
       "      <td>6200</td>\n",
       "      <td>3570</td>\n",
       "      <td>85</td>\n",
       "      <td>-57</td>\n",
       "      <td>9.606580</td>\n",
       "      <td>971.0</td>\n",
       "      <td>Alsatia</td>\n",
       "      <td>NaN</td>\n",
       "      <td>662</td>\n",
       "      <td>2021a&amp;a...654a..48h</td>\n",
       "    </tr>\n",
       "    <tr>\n",
       "      <th>6233</th>\n",
       "      <td>6201</td>\n",
       "      <td>3571</td>\n",
       "      <td>237</td>\n",
       "      <td>32</td>\n",
       "      <td>947.700000</td>\n",
       "      <td>988.0</td>\n",
       "      <td>Appella</td>\n",
       "      <td>NaN</td>\n",
       "      <td>662</td>\n",
       "      <td>2021a&amp;a...654a..48h</td>\n",
       "    </tr>\n",
       "    <tr>\n",
       "      <th>6234</th>\n",
       "      <td>6202</td>\n",
       "      <td>3571</td>\n",
       "      <td>54</td>\n",
       "      <td>32</td>\n",
       "      <td>948.000000</td>\n",
       "      <td>988.0</td>\n",
       "      <td>Appella</td>\n",
       "      <td>NaN</td>\n",
       "      <td>662</td>\n",
       "      <td>2021a&amp;a...654a..48h</td>\n",
       "    </tr>\n",
       "  </tbody>\n",
       "</table>\n",
       "<p>6235 rows × 10 columns</p>\n",
       "</div>"
      ],
      "text/plain": [
       "      model_id  asteroid_id  lambda  beta      period  number     name  \\\n",
       "0          101          101      35   -12    7.813230     2.0   Pallas   \n",
       "1          106          104     340    42    7.274471     6.0     Hebe   \n",
       "2          110          106     335    -5   12.866670     8.0    Flora   \n",
       "3          111          107     180    22    5.079176     9.0    Metis   \n",
       "4          117          111      98    57    7.443224    19.0  Fortuna   \n",
       "...        ...          ...     ...   ...         ...     ...      ...   \n",
       "6230      6198         3569     104   -43   16.438100   949.0      Hel   \n",
       "6231      6199         3570     219   -46    9.606520   971.0  Alsatia   \n",
       "6232      6200         3570      85   -57    9.606580   971.0  Alsatia   \n",
       "6233      6201         3571     237    32  947.700000   988.0  Appella   \n",
       "6234      6202         3571      54    32  948.000000   988.0  Appella   \n",
       "\n",
       "     designation  reference_id              bibcode  \n",
       "0            NaN           106  2003icar..164..346t  \n",
       "1            NaN           106  2003icar..164..346t  \n",
       "2            NaN           106  2003icar..164..346t  \n",
       "3            NaN           106  2003icar..164..346t  \n",
       "4            NaN           106  2003icar..164..346t  \n",
       "...          ...           ...                  ...  \n",
       "6230         NaN           662  2021a&a...654a..48h  \n",
       "6231         NaN           662  2021a&a...654a..48h  \n",
       "6232         NaN           662  2021a&a...654a..48h  \n",
       "6233         NaN           662  2021a&a...654a..48h  \n",
       "6234         NaN           662  2021a&a...654a..48h  \n",
       "\n",
       "[6235 rows x 10 columns]"
      ]
     },
     "execution_count": 8,
     "metadata": {},
     "output_type": "execute_result"
    }
   ],
   "source": [
    "# Merge everything\n",
    "data = models.merge( ssos, on='asteroid_id')\n",
    "data = data.merge( refs, on='model_id')\n",
    "data = data.merge( bibs, on='reference_id')\n",
    "data"
   ]
  },
  {
   "cell_type": "code",
   "execution_count": 9,
   "id": "8b68d600-1ee1-4e59-b845-1b0baf6b05e7",
   "metadata": {},
   "outputs": [
    {
     "data": {
      "text/html": [
       "<div>\n",
       "<style scoped>\n",
       "    .dataframe tbody tr th:only-of-type {\n",
       "        vertical-align: middle;\n",
       "    }\n",
       "\n",
       "    .dataframe tbody tr th {\n",
       "        vertical-align: top;\n",
       "    }\n",
       "\n",
       "    .dataframe thead th {\n",
       "        text-align: right;\n",
       "    }\n",
       "</style>\n",
       "<table border=\"1\" class=\"dataframe\">\n",
       "  <thead>\n",
       "    <tr style=\"text-align: right;\">\n",
       "      <th></th>\n",
       "      <th>model_id</th>\n",
       "      <th>asteroid_id</th>\n",
       "      <th>lambda</th>\n",
       "      <th>beta</th>\n",
       "      <th>period</th>\n",
       "      <th>number</th>\n",
       "      <th>name</th>\n",
       "      <th>designation</th>\n",
       "      <th>reference_id</th>\n",
       "      <th>bibcode</th>\n",
       "    </tr>\n",
       "  </thead>\n",
       "  <tbody>\n",
       "    <tr>\n",
       "      <th>13</th>\n",
       "      <td>162</td>\n",
       "      <td>142</td>\n",
       "      <td>272</td>\n",
       "      <td>52</td>\n",
       "      <td>8.4006</td>\n",
       "      <td>135.0</td>\n",
       "      <td>Hertha</td>\n",
       "      <td>NaN</td>\n",
       "      <td>106</td>\n",
       "      <td>2003icar..164..346t</td>\n",
       "    </tr>\n",
       "    <tr>\n",
       "      <th>93</th>\n",
       "      <td>1799</td>\n",
       "      <td>142</td>\n",
       "      <td>276</td>\n",
       "      <td>53</td>\n",
       "      <td>8.4006</td>\n",
       "      <td>135.0</td>\n",
       "      <td>Hertha</td>\n",
       "      <td>NaN</td>\n",
       "      <td>169</td>\n",
       "      <td>2017a&amp;a...601a.114h</td>\n",
       "    </tr>\n",
       "    <tr>\n",
       "      <th>277</th>\n",
       "      <td>162</td>\n",
       "      <td>142</td>\n",
       "      <td>272</td>\n",
       "      <td>52</td>\n",
       "      <td>8.4006</td>\n",
       "      <td>135.0</td>\n",
       "      <td>Hertha</td>\n",
       "      <td>NaN</td>\n",
       "      <td>127</td>\n",
       "      <td>2009mpbu...36...98t</td>\n",
       "    </tr>\n",
       "  </tbody>\n",
       "</table>\n",
       "</div>"
      ],
      "text/plain": [
       "     model_id  asteroid_id  lambda  beta  period  number    name designation  \\\n",
       "13        162          142     272    52  8.4006   135.0  Hertha         NaN   \n",
       "93       1799          142     276    53  8.4006   135.0  Hertha         NaN   \n",
       "277       162          142     272    52  8.4006   135.0  Hertha         NaN   \n",
       "\n",
       "     reference_id              bibcode  \n",
       "13            106  2003icar..164..346t  \n",
       "93            169  2017a&a...601a.114h  \n",
       "277           127  2009mpbu...36...98t  "
      ]
     },
     "execution_count": 9,
     "metadata": {},
     "output_type": "execute_result"
    }
   ],
   "source": [
    "data[ data.number==135 ]"
   ]
  },
  {
   "cell_type": "markdown",
   "id": "fa9f3ad5-62b2-4fb7-9505-1583dd95a96c",
   "metadata": {},
   "source": [
    "# Compute R"
   ]
  },
  {
   "cell_type": "code",
   "execution_count": 16,
   "id": "348f7b86-4812-45b1-b57e-72bb410d4eb8",
   "metadata": {},
   "outputs": [],
   "source": [
    "for i, r in data.iterrows():\n",
    "    # print(i, r['number'], r['name'])\n",
    " \n",
    "    f_shape = f\"{path_damit}files/asteroid_{r['asteroid_id']}/model_{r['model_id']}/shape.txt\"\n",
    "    result = subprocess.run(['shape_R.sh',f_shape], stdout=subprocess.PIPE)\n",
    "    Rs = result.stdout.decode('utf-8').split()\n",
    "    \n",
    "    data.loc[i,'R'] = float(Rs[0])\n",
    "    data.loc[i,'R2'] = float(Rs[1])"
   ]
  },
  {
   "cell_type": "code",
   "execution_count": 17,
   "id": "1fd5d596-165e-4990-a689-f0136ed98c45",
   "metadata": {},
   "outputs": [],
   "source": [
    "data.to_csv( './data/damit.csv', index=False)"
   ]
  },
  {
   "cell_type": "markdown",
   "id": "113f269a-d001-4b38-8914-244d074948e5",
   "metadata": {},
   "source": [
    "# Plot!"
   ]
  },
  {
   "cell_type": "code",
   "execution_count": 19,
   "id": "5cad069d-574b-47e4-af55-d0c33eae0681",
   "metadata": {},
   "outputs": [
    {
     "data": {
      "text/plain": [
       "<matplotlib.legend.Legend at 0x7fd64211b640>"
      ]
     },
     "execution_count": 19,
     "metadata": {},
     "output_type": "execute_result"
    },
    {
     "data": {
      "image/png": "[encoded data removed]",
      "text/plain": [
       "<Figure size 432x288 with 1 Axes>"
      ]
     },
     "metadata": {
      "needs_background": "light"
     },
     "output_type": "display_data"
    }
   ],
   "source": [
    "fig, ax = plt.subplots()\n",
    "\n",
    "r = [0,1]\n",
    "b = 50\n",
    "ax.hist( data.R, range=r, bins=b, label=f'DAMIT ({len(data)})' )\n",
    "ax.hist( data.R2, range=r, bins=b, label=f'DAMIT ({len(data)})' )\n",
    "ax.set_xlabel('R')\n",
    "ax.legend(loc='upper left')"
   ]
  },
  {
   "cell_type": "code",
   "execution_count": null,
   "id": "9fc0dacf-19f9-401a-9b56-606f8c551a30",
   "metadata": {},
   "outputs": [],
   "source": []
  },
  {
   "cell_type": "code",
   "execution_count": 36,
   "id": "c28c6bb9-e967-485e-b87c-31c311b8b6ed",
   "metadata": {},
   "outputs": [
    {
     "data": {
      "text/plain": [
       "2018a&a...617a..57d    1204\n",
       "2016a&a...587a..48d     491\n",
       "2016a&a...586a.108h     433\n",
       "2021a&a...654a..48h     273\n",
       "2013a&a...551a..67h     247\n",
       "2011a&a...530a.134h     164\n",
       "2013a&a...559a.134h      58\n",
       "2018icar..299...84h      57\n",
       "2013icar..226.1045h      52\n",
       "2011icar..214..652d      51\n",
       "2017a&a...601a.114h      41\n",
       "2009a&a...493..291a      34\n",
       "2018icar..304..101d      33\n",
       "2003icar..164..346t      24\n",
       "2019a&a...625a.139m      22\n",
       "2017a&a...607a.117v      22\n",
       "2021a&a...654a..56v      21\n",
       "2002icar..159..369k      19\n",
       "2019icar..333..429p      19\n",
       "2003icar..162..285s      17\n",
       "2012a&a...545a.131m      14\n",
       "2007a&a...465..331d      12\n",
       "2015icar..256..101h      12\n",
       "2009p&ss...57..259d      10\n",
       "2018a&a...610a...7m       9\n",
       "2004icar..167..178k       8\n",
       "2006icar..185...39m       7\n",
       "2011a&a...529a.107m       7\n",
       "2008mpbu...35..167w       6\n",
       "2008a&a...478..559m       6\n",
       "2007a&a...473..633m       6\n",
       "2017a&a...598a..91v       5\n",
       "2009a&a...498..313m       5\n",
       "2012a&a...547a..10d       4\n",
       "2018a&a...609a..86d       4\n",
       "2006a&a...459..663m       4\n",
       "2009mpbu...36..119p       4\n",
       "2004a&a...416..353m       4\n",
       "2009a&a...508.1503m       3\n",
       "2017aj....153..270v       3\n",
       "2009mpbu...36...98t       3\n",
       "2002a&a...383l..19k       3\n",
       "2013mpbu...40..229f       2\n",
       "2016a&a...585a..56v       2\n",
       "2016aj....151...56v       2\n",
       "2019mpbu...46..196f       2\n",
       "2012mpbu...39..173l       2\n",
       "2012mpbu...39..234f       2\n",
       "2015mpbu...42..198f       2\n",
       "2009a&a...507..495v       2\n",
       "Name: bibcode, dtype: int64"
      ]
     },
     "execution_count": 36,
     "metadata": {},
     "output_type": "execute_result"
    }
   ],
   "source": [
    "data.bibcode.value_counts().head(50)"
   ]
  },
  {
   "cell_type": "code",
   "execution_count": 33,
   "id": "ed652d7f-c7c9-4272-b95c-d3f08a36a0e1",
   "metadata": {},
   "outputs": [
    {
     "data": {
      "text/plain": [
       "['2018A&A...617A..57D',\n",
       " '2016A&A...587A..48D',\n",
       " '2016A&A...586A.108H',\n",
       " '2021A&A...654A..48H',\n",
       " '2013A&A...551A..67H',\n",
       " '2011A&A...530A.134H',\n",
       " '2013A&A...559A.134H',\n",
       " '2018ICAR..299...84H',\n",
       " '2013ICAR..226.1045H',\n",
       " '2011ICAR..214..652D',\n",
       " '2017A&A...601A.114H',\n",
       " '2009A&A...493..291A',\n",
       " '2018ICAR..304..101D',\n",
       " '2003ICAR..164..346T',\n",
       " '2019A&A...625A.139M',\n",
       " '2017A&A...607A.117V',\n",
       " '2021A&A...654A..56V',\n",
       " '2002ICAR..159..369K',\n",
       " '2019ICAR..333..429P',\n",
       " '2003ICAR..162..285S']"
      ]
     },
     "execution_count": 33,
     "metadata": {},
     "output_type": "execute_result"
    }
   ],
   "source": [
    "[str(a).upper() for a in data.bibcode.value_counts().head(20).index]"
   ]
  },
  {
   "cell_type": "code",
   "execution_count": null,
   "id": "deeca0c8-6119-4e25-90c2-132c1f7474d1",
   "metadata": {},
   "outputs": [],
   "source": []
  }
 ],
 "metadata": {
  "kernelspec": {
   "display_name": "Python 3 (ipykernel)",
   "language": "python",
   "name": "python3"
  },
  "language_info": {
   "codemirror_mode": {
    "name": "ipython",
    "version": 3
   },
   "file_extension": ".py",
   "mimetype": "text/x-python",
   "name": "python",
   "nbconvert_exporter": "python",
   "pygments_lexer": "ipython3",
   "version": "3.9.12"
  }
 },
 "nbformat": 4,
 "nbformat_minor": 5
}
