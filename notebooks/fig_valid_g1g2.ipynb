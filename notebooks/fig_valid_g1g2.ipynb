{
 "cells": [
  {
   "cell_type": "code",
   "execution_count": 1,
   "id": "c67cc7b8-e6e2-44d4-9be9-ddafd36bca34",
   "metadata": {},
   "outputs": [],
   "source": [
    "import os\n",
    "import numpy as np\n",
    "import pandas as pd\n",
    "\n",
    "import rocks\n",
    "\n",
    "rocks.set_log_level(\"error\")\n",
    "\n",
    "import matplotlib as mpl\n",
    "import matplotlib.pyplot as plt\n",
    "from mpl_toolkits.axes_grid1.inset_locator import inset_axes\n",
    "import figure_setup as fs\n",
    "\n",
    "from figure_mask import compute_mask, print_statistics, compute_mask_spin"
   ]
  },
  {
   "cell_type": "code",
   "execution_count": 2,
   "id": "5e71235d-216a-4246-b918-68365659e23b",
   "metadata": {},
   "outputs": [],
   "source": [
    "# G12 line in G1G2 space\n",
    "def G12_to_G1G2(g12):\n",
    "    G1_a, G2_a = 0.0, 0.53513350\n",
    "    G1_b, G2_b = 0.84293649, -0.53513350\n",
    "\n",
    "    G1 = G1_a + g12 * G1_b\n",
    "    G2 = G2_a + g12 * G2_b\n",
    "\n",
    "    return G1, G2\n",
    "\n",
    "\n",
    "# Simple 1D Gaussian\n",
    "def gauss(x, m, mu, sigma):\n",
    "    return m * np.exp(-((x - mu) ** 2) / (2 * sigma**2))\n",
    "\n",
    "\n",
    "# Two 1D Gaussians\n",
    "def double_gauss(x, m1, mu1, sigma1, m2, mu2, sigma2):\n",
    "    g1 = gauss(x, m1, mu1, sigma1)\n",
    "    g2 = gauss(x, m2, mu2, sigma2)\n",
    "    return g1 + g2"
   ]
  },
  {
   "cell_type": "markdown",
   "id": "6198a3d1-286c-4c4b-806e-5c085aabc386",
   "metadata": {},
   "source": [
    "# Get ZTF fit"
   ]
  },
  {
   "cell_type": "code",
   "execution_count": 3,
   "id": "b76b0d15-20ce-4b38-907d-6ce100dfd15f",
   "metadata": {},
   "outputs": [],
   "source": [
    "# Local Configuration\n",
    "data_fink = \"../\"\n",
    "bft_file = os.path.join(data_fink, \"data\", \"ssoBFT-latest.parquet\")"
   ]
  },
  {
   "cell_type": "code",
   "execution_count": 4,
   "id": "97ca23d0-f509-45ca-8cf0-0b427ef6c6d6",
   "metadata": {},
   "outputs": [],
   "source": [
    "# ZTF filters\n",
    "filters = {\"1\": \"g\", \"2\": \"r\"}\n",
    "\n",
    "# S_color = {'g': -0.3928, 'r':0.2913}\n",
    "# sun_color = {'g': -0.3044, 'r':0.1903}\n",
    "\n",
    "# color_C = -(sun_color['g']-sun_color['r'])\n",
    "# color_S = -(S_color['g']-S_color['r'])\n",
    "\n",
    "\n",
    "# mag_to_V ={\n",
    "#         1: -0.2833,  # ZTF g\n",
    "#         2: 0.1777,   # ZTF r\n",
    "#         3: 0.4388,   # ATLAS orange\n",
    "#         4: -0.0986   # ATLAS cyan\n",
    "#     }\n",
    "\n",
    "fink_colors = [\"#15284F\", \"#F5622E\"]"
   ]
  },
  {
   "cell_type": "code",
   "execution_count": 5,
   "id": "6b4db0c1-36bc-4db9-b2d2-751e97ba0d35",
   "metadata": {},
   "outputs": [],
   "source": [
    "data = pd.read_parquet(os.path.join(data_fink, \"data\", \"ztf\", \"sso_ZTF.parquet\"))"
   ]
  },
  {
   "cell_type": "code",
   "execution_count": 6,
   "id": "64e11c31-c951-4d48-83aa-5a8d4d977746",
   "metadata": {},
   "outputs": [],
   "source": [
    "cols = [\n",
    "    \"sso_number\",\n",
    "    \"sso_name\",\n",
    "    \"sso_class\",\n",
    "    \"orbital_elements.semi_major_axis.value\",\n",
    "    \"orbital_elements.eccentricity.value\",\n",
    "    \"orbital_elements.inclination.value\",\n",
    "    \"orbital_elements.node_longitude.value\",\n",
    "    \"orbital_elements.perihelion_argument.value\",\n",
    "    \"orbital_elements.mean_anomaly.value\",\n",
    "    \"orbital_elements.mean_motion.value\",\n",
    "    \"family.family_number\",\n",
    "    \"family.family_name\",\n",
    "    \"tisserand_parameters.Jupiter.value\",\n",
    "    \"albedo.value\",\n",
    "    \"absolute_magnitude.value\",\n",
    "    \"diameter.value\",\n",
    "    \"taxonomy.class\",\n",
    "    \"taxonomy.complex\",\n",
    "    \"taxonomy.waverange\",\n",
    "    \"taxonomy.scheme\",\n",
    "    \"taxonomy.technique\",\n",
    "    \"colors.g-r.color.value\",\n",
    "    \"colors.g-r.color.error.min\",\n",
    "    \"colors.g-r.color.error.max\",\n",
    "    \"colors.g-r.facility\",\n",
    "    \"colors.g-r.observer\",\n",
    "    \"colors.g-r.epoch\",\n",
    "    \"colors.g-r.delta_time\",\n",
    "    \"colors.g-r.id_filter_1\",\n",
    "    \"colors.g-r.id_filter_2\",\n",
    "    \"colors.g-r.phot_sys\",\n",
    "    \"colors.g-r.technique\",\n",
    "    \"spins.1.obliquity\",\n",
    "    \"spins.1.RA0.value\",\n",
    "    \"spins.1.DEC0.value\",\n",
    "    \"spins.1.long.value\",\n",
    "    \"spins.1.lat.value\",\n",
    "    \"spins.1.technique\",\n",
    "    \"spins.2.obliquity\",\n",
    "    \"spins.2.RA0.value\",\n",
    "    \"spins.2.DEC0.value\",\n",
    "    \"spins.2.long.value\",\n",
    "    \"spins.2.lat.value\",\n",
    "    \"spins.2.technique\",\n",
    "    \"spins.3.obliquity\",\n",
    "    \"spins.3.RA0.value\",\n",
    "    \"spins.3.DEC0.value\",\n",
    "    \"spins.3.long.value\",\n",
    "    \"spins.3.lat.value\",\n",
    "    \"spins.3.technique\",\n",
    "    \"spins.4.obliquity\",\n",
    "    \"spins.4.RA0.value\",\n",
    "    \"spins.4.DEC0.value\",\n",
    "    \"spins.4.long.value\",\n",
    "    \"spins.4.lat.value\",\n",
    "    \"spins.4.technique\",\n",
    "]\n",
    "bft = pd.read_parquet(bft_file, columns=cols)\n",
    "\n",
    "\n",
    "data = data.merge(bft[cols], left_on=\"name\", right_on=\"sso_name\", how=\"left\")"
   ]
  },
  {
   "cell_type": "code",
   "execution_count": 7,
   "id": "08b33276-79b7-4a6e-b9f3-9780be262f6f",
   "metadata": {},
   "outputs": [
    {
     "data": {
      "text/plain": [
       "122675"
      ]
     },
     "execution_count": 7,
     "metadata": {},
     "output_type": "execute_result"
    }
   ],
   "source": [
    "len(data)"
   ]
  },
  {
   "cell_type": "markdown",
   "id": "d43ad60c-47c1-4d7a-aa0f-37e4e970e95b",
   "metadata": {},
   "source": [
    "# Compare results"
   ]
  },
  {
   "cell_type": "code",
   "execution_count": 8,
   "id": "b9c3e58e-2cd3-48aa-96f4-e0820920876d",
   "metadata": {},
   "outputs": [
    {
     "data": {
      "text/plain": [
       "HG1G2_status\n",
       " 2.0    113644\n",
       " 4.0      6886\n",
       " 1.0      1320\n",
       " 3.0       521\n",
       "-2.0       301\n",
       " 0.0         3\n",
       "Name: count, dtype: int64"
      ]
     },
     "execution_count": 8,
     "metadata": {},
     "output_type": "execute_result"
    }
   ],
   "source": [
    "data.HG1G2_status.value_counts()"
   ]
  },
  {
   "cell_type": "code",
   "execution_count": 9,
   "id": "4bda0526-03b5-49e4-b1dc-51e030936261",
   "metadata": {},
   "outputs": [
    {
     "name": "stdout",
     "output_type": "stream",
     "text": [
      "  All data       : 122675  (100.00%)\n",
      "  Mask HG (g∩r) : 120023  ( 97.84%)\n",
      "  Mask HG (gUr) : 120024  ( 97.84%)\n",
      "\n",
      "  All data       : 122675  (100.00%)\n",
      "  Mask HG1G2 (g∩r) :  47177  ( 38.46%)\n",
      "  Mask HG1G2 (gUr) :  85363  ( 69.58%)\n",
      "\n",
      "  All data       : 122675  (100.00%)\n",
      "  Mask SHG1G2 (g∩r) :  64279  ( 52.40%)\n",
      "  Mask SHG1G2 (gUr) :  97579  ( 79.54%)\n",
      "\n",
      "  All data       : 122675  (100.00%)\n",
      "  Mask FINK (g∩r) :  63092  ( 51.43%)\n",
      "  Mask FINK (gUr) :  95593  ( 77.92%)\n",
      "\n"
     ]
    }
   ],
   "source": [
    "mask_SHG1G2_union = compute_mask(data, model='SHG1G2', kind='union')\n",
    "mask_HG1G2_union = compute_mask(data, model='HG1G2', kind='union')\n",
    "mask_HG_union = compute_mask(data, model='HG', kind='union')\n",
    "\n",
    "mask_SHG1G2_inter = compute_mask(data, model='SHG1G2', kind='inter')\n",
    "mask_HG1G2_inter = compute_mask(data, model='HG1G2', kind='inter')\n",
    "mask_HG_inter = compute_mask(data, model='HG', kind='inter')\n",
    "\n",
    "maskFINK_inter = compute_mask(data, R_min=0.305, model='FINK', kind='inter')\n",
    "maskFINK_union = compute_mask(data, R_min=0.305, model='FINK', kind='union')\n",
    "\n",
    "for model in ['HG', 'HG1G2', 'SHG1G2', 'FINK']:\n",
    "    print_statistics(data, model)\n",
    "    print()"
   ]
  },
  {
   "cell_type": "code",
   "execution_count": 39,
   "id": "f251d3ed",
   "metadata": {},
   "outputs": [],
   "source": [
    "mask = mask_HG1G2_inter & mask_SHG1G2_inter"
   ]
  },
  {
   "cell_type": "markdown",
   "id": "dd7f7f59-6982-432a-be2a-30ad57b4ece3",
   "metadata": {},
   "source": [
    "## Figure G1G2"
   ]
  },
  {
   "cell_type": "code",
   "execution_count": 40,
   "id": "0dfa3e08",
   "metadata": {},
   "outputs": [
    {
     "data": {
      "text/plain": [
       "Index(['ssnamenr', 'HG_chi2red', 'HG_status', 'HG_fit', 'HG_rms', 'HG_rms_g',\n",
       "       'HG_rms_r', 'HG_median_error_phot', 'HG_median_error_phot_1',\n",
       "       'HG_median_error_phot_2', 'HG_H_g', 'HG_dH_g', 'HG_G_g', 'HG_dG_g',\n",
       "       'HG_H_r', 'HG_dH_r', 'HG_G_r', 'HG_dG_r', 'HG_flag', 'HG1G2_chi2red',\n",
       "       'HG1G2_status', 'HG1G2_fit', 'HG1G2_rms', 'HG1G2_rms_g', 'HG1G2_rms_r',\n",
       "       'HG1G2_median_error_phot', 'HG1G2_median_error_phot_1',\n",
       "       'HG1G2_median_error_phot_2', 'HG1G2_H_g', 'HG1G2_dH_g', 'HG1G2_G1_g',\n",
       "       'HG1G2_dG1_g', 'HG1G2_G2_g', 'HG1G2_dG2_g', 'HG1G2_H_r', 'HG1G2_dH_r',\n",
       "       'HG1G2_G1_r', 'HG1G2_dG1_r', 'HG1G2_G2_r', 'HG1G2_dG2_r', 'HG1G2_flag',\n",
       "       'SHG1G2_chi2red', 'SHG1G2_min_cos_lambda', 'SHG1G2_mean_cos_lambda',\n",
       "       'SHG1G2_max_cos_lambda', 'SHG1G2_status', 'SHG1G2_fit', 'SHG1G2_rms',\n",
       "       'SHG1G2_rms_g', 'SHG1G2_rms_r', 'SHG1G2_median_error_phot',\n",
       "       'SHG1G2_median_error_phot_1', 'SHG1G2_median_error_phot_2', 'n_obs',\n",
       "       'n_obs_g', 'n_obs_r', 'min_phase', 'min_phase_g', 'min_phase_r',\n",
       "       'max_phase', 'max_phase_g', 'max_phase_r', 'SHG1G2_R', 'SHG1G2_dR',\n",
       "       'SHG1G2_alpha0', 'SHG1G2_dalpha0', 'SHG1G2_delta0', 'SHG1G2_ddelta0',\n",
       "       'SHG1G2_H_g', 'SHG1G2_dH_g', 'SHG1G2_G1_g', 'SHG1G2_dG1_g',\n",
       "       'SHG1G2_G2_g', 'SHG1G2_dG2_g', 'SHG1G2_H_r', 'SHG1G2_dH_r',\n",
       "       'SHG1G2_G1_r', 'SHG1G2_dG1_r', 'SHG1G2_G2_r', 'SHG1G2_dG2_r'],\n",
       "      dtype='object')"
      ]
     },
     "execution_count": 40,
     "metadata": {},
     "output_type": "execute_result"
    }
   ],
   "source": [
    "data.columns[:80]"
   ]
  },
  {
   "cell_type": "code",
   "execution_count": 41,
   "id": "669504c7",
   "metadata": {},
   "outputs": [
    {
     "name": "stderr",
     "output_type": "stream",
     "text": [
      "/tmp/ipykernel_715402/1788196748.py:91: UserWarning: FixedFormatter should only be used together with FixedLocator\n",
      "  ax[0,0].set_yticklabels([' ','0.25','0.50','0.75','1.00'])\n"
     ]
    }
   ],
   "source": [
    "# --------------------------------------------------------------------------------\n",
    "# Fig + axes\n",
    "fig, ax = plt.subplots(\n",
    "    2,\n",
    "    2,\n",
    "    figsize=fs.figsize(0.5),\n",
    "#     gridspec_kw={\n",
    "#         \"left\": 0.11,\n",
    "#         \"right\": 0.98,\n",
    "#         # \"bottom\": 0.05,\n",
    "#         \"bottom\": 0.12,\n",
    "#         \"top\": 0.98,\n",
    "#         \"hspace\": 0.02,\n",
    "#         \"wspace\": 0.01,\n",
    "#     },\n",
    ")\n",
    "\n",
    "r = [0, 1]\n",
    "b = 100\n",
    "\n",
    "mm = mask\n",
    "\n",
    "# --------------------------------------------------------------------------------\n",
    "# G1\n",
    "ax[0, 0].hist2d(\n",
    "    data.HG1G2_G1_g[mm],\n",
    "    data.SHG1G2_G1_g[mm],\n",
    "    rasterized=True,\n",
    "    density=True,\n",
    "    range=[r, r],\n",
    "    bins=b,\n",
    "    cmap=\"Blues\",\n",
    "    norm=mpl.colors.LogNorm(),\n",
    ")\n",
    "ax[0, 1].hist2d(\n",
    "    data.HG1G2_G1_r[mm],\n",
    "    data.SHG1G2_G1_r[mm],\n",
    "    rasterized=True,\n",
    "    density=True,\n",
    "    range=[r, r],\n",
    "    bins=b,\n",
    "    cmap=\"Oranges\",\n",
    "    norm=mpl.colors.LogNorm(),\n",
    ")\n",
    "\n",
    "# --------------------------------------------------------------------------------\n",
    "# G2\n",
    "ax[1, 0].hist2d(\n",
    "    data.HG1G2_G2_g[mm],\n",
    "    data.SHG1G2_G2_g[mm],\n",
    "    rasterized=True,\n",
    "    density=True,\n",
    "    range=[r, r],\n",
    "    bins=b,\n",
    "    cmap=\"Blues\",\n",
    "    norm=mpl.colors.LogNorm(),\n",
    ")\n",
    "ax[1, 1].hist2d(\n",
    "    data.HG1G2_G2_r[mm],\n",
    "    data.SHG1G2_G2_r[mm],\n",
    "    rasterized=True,\n",
    "    density=True,\n",
    "    range=[r, r],\n",
    "    bins=b,\n",
    "    cmap=\"Oranges\",\n",
    "    norm=mpl.colors.LogNorm(),\n",
    ")\n",
    "\n",
    "\n",
    "for a in ax.ravel():\n",
    "    xx = np.linspace(0,1,num=10)\n",
    "    a.plot(xx, xx, color='grey', linestyle='dashed')\n",
    "\n",
    "\n",
    "# --------------------------------------------------------------------------------\n",
    "# Axes\n",
    "for a in ax[:, 1:].ravel():\n",
    "    a.set_yticklabels(\"\")\n",
    "for a in ax[0, :].ravel():\n",
    "    a.set_xticklabels(\"\")\n",
    "\n",
    "# X ticks\n",
    "for a in ax[1,:].ravel():\n",
    "    a.set_xticks([0,0.25,0.5,0.75,1])\n",
    "ax[1,0].set_xticklabels(['0','0.25','0.5','0.75','1.0'])\n",
    "ax[1,1].set_xticklabels(['','0.25','0.5','0.75','1.0'])\n",
    "\n",
    "# Y ticks\n",
    "for a in ax[1:,0].ravel():\n",
    "    a.set_yticks([0,0.25,0.5,0.75,1])\n",
    "ax[0,0].set_yticklabels([' ','0.25','0.50','0.75','1.00'])\n",
    "ax[1,0].set_yticklabels(['0','0.25','0.50','0.75','1.00'])\n",
    "\n",
    "# Labels\n",
    "ax[0, 0].set_ylabel(\"$G_1$ ($\\\\texttt{sHG}$$_{\\\\texttt{1}}$$\\\\texttt{G}$$_{\\\\texttt{2}}$)\")\n",
    "ax[0, 0].set_xlabel(\"$G_1$ ($\\\\texttt{HG}$$_{\\\\texttt{1}}$$\\\\texttt{G}$$_{\\\\texttt{2}}$)\", labelpad=0)\n",
    "\n",
    "ax[1, 0].set_ylabel(\"$G_2$ ($\\\\texttt{sHG}$$_{\\\\texttt{1}}$$\\\\texttt{G}$$_{\\\\texttt{2}}$)\")\n",
    "ax[1, 0].set_xlabel(\"$G_2$ ($\\\\texttt{HG}$$_{\\\\texttt{1}}$$\\\\texttt{G}$$_{\\\\texttt{2}}$)\", labelpad=0)\n",
    "\n",
    "ax[0, 1].set_ylabel(\"$G_1$ ($\\\\texttt{sHG}$$_{\\\\texttt{1}}$$\\\\texttt{G}$$_{\\\\texttt{2}}$)\")\n",
    "ax[0, 1].set_xlabel(\"$G_1$ ($\\\\texttt{HG}$$_{\\\\texttt{1}}$$\\\\texttt{G}$$_{\\\\texttt{2}}$)\", labelpad=0)\n",
    "\n",
    "ax[1, 1].set_ylabel(\"$G_2$ ($\\\\texttt{sHG}$$_{\\\\texttt{1}}$$\\\\texttt{G}$$_{\\\\texttt{2}}$)\")\n",
    "ax[1, 1].set_xlabel(\"$G_2$ ($\\\\texttt{HG}$$_{\\\\texttt{1}}$$\\\\texttt{G}$$_{\\\\texttt{2}}$)\", labelpad=0)\n",
    "\n",
    "# ax[1, 0].set_ylabel(\"$G_2$\")\n",
    "\n",
    "ax[0, 0].set_title(\"$g$ filter\", color='C0')\n",
    "ax[0, 1].set_title(\"$r$ filter\", color='C1')\n",
    "\n",
    "\n",
    "# --------------------------------------------------------------------------------\n",
    "fig.savefig(\n",
    "    os.path.join(data_fink, \"gfx\", \"article\", \"g1g2_comparison.png\"),\n",
    "    facecolor=\"white\",\n",
    ")\n",
    "\n",
    "fig.savefig(\n",
    "    os.path.join(data_fink, \"gfx\", \"article\", \"g1g2_comparison.pgf\"),\n",
    ")\n",
    "plt.close()"
   ]
  },
  {
   "cell_type": "code",
   "execution_count": null,
   "id": "e8c4f6ae",
   "metadata": {},
   "outputs": [],
   "source": []
  },
  {
   "cell_type": "code",
   "execution_count": null,
   "id": "a5847740",
   "metadata": {},
   "outputs": [],
   "source": []
  }
 ],
 "metadata": {
  "kernelspec": {
   "display_name": "Python 3 (ipykernel)",
   "language": "python",
   "name": "python3"
  },
  "language_info": {
   "codemirror_mode": {
    "name": "ipython",
    "version": 3
   },
   "file_extension": ".py",
   "mimetype": "text/x-python",
   "name": "python",
   "nbconvert_exporter": "python",
   "pygments_lexer": "ipython3",
   "version": "3.9.12"
  }
 },
 "nbformat": 4,
 "nbformat_minor": 5
}
