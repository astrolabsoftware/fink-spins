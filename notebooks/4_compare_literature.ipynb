{
 "cells": [
  {
   "cell_type": "code",
   "execution_count": 1,
   "id": "c67cc7b8-e6e2-44d4-9be9-ddafd36bca34",
   "metadata": {},
   "outputs": [],
   "source": [
    "import glob\n",
    "import numpy as np\n",
    "import pandas as pd\n",
    "\n",
    "import matplotlib.pyplot as plt\n",
    "\n",
    "import rocks\n",
    "rocks.set_log_level(\"error\")\n",
    "import time as t\n",
    "\n",
    "\n",
    "from astropy.time import Time\n",
    "import requests\n",
    "import io\n",
    "\n",
    "import astropy.units as u\n",
    "from astropy.coordinates import SkyCoord\n",
    "from astropy.coordinates import angular_separation\n",
    "\n",
    "from scipy.signal import argrelextrema\n",
    "\n",
    "\n",
    "from fink_utils.sso import spins as finkus\n",
    "import ssptools"
   ]
  },
  {
   "cell_type": "code",
   "execution_count": 2,
   "id": "19c551f9-2396-4ff6-94f6-391b73dd679d",
   "metadata": {},
   "outputs": [],
   "source": [
    "# import sys\n",
    "# sys.path.append('/home/bcarry/Documents/softs/ocapy/gfx/')\n",
    "# import figure_setup as fs"
   ]
  },
  {
   "cell_type": "code",
   "execution_count": 3,
   "id": "a48bc2fd-c1c7-4a8b-a160-96fc7f7b3d54",
   "metadata": {},
   "outputs": [],
   "source": [
    "# To test new ssocards\n",
    "# rocks.ssodnet.URL_SSODNET = "
   ]
  },
  {
   "cell_type": "markdown",
   "id": "6198a3d1-286c-4c4b-806e-5c085aabc386",
   "metadata": {},
   "source": [
    "# Get ZTF fit"
   ]
  },
  {
   "cell_type": "code",
   "execution_count": 4,
   "id": "b76b0d15-20ce-4b38-907d-6ce100dfd15f",
   "metadata": {},
   "outputs": [],
   "source": [
    "# Local Configuration\n",
    "bft_file = '/data/ssodnet/ssoBFT-latest.parquet'\n",
    "data_fink = '/data/fink/tutorials/sso/spins/'\n",
    "data_fink = './'\n",
    "\n",
    "# To choose the definition of sets\n",
    "# gold_silver_choice = 'julien'\n",
    "gold_silver_choice = 'benoit'"
   ]
  },
  {
   "cell_type": "code",
   "execution_count": 5,
   "id": "ca033440-e54f-4997-a212-e419f377ed07",
   "metadata": {},
   "outputs": [],
   "source": [
    "# Threshold for selection (of non-zero values)\n",
    "thres = 1e-3\n",
    "\n",
    "# Minimum phase angle to consider\n",
    "min_phase = 3"
   ]
  },
  {
   "cell_type": "code",
   "execution_count": 6,
   "id": "5ea808c9-ac69-4b19-9c98-8e41113a8fd6",
   "metadata": {},
   "outputs": [],
   "source": [
    "# ZTF filters 1: g, 2: r\n",
    "filters = {'1': 'g', '2': 'r'}\n",
    "\n",
    "S_color = {'g': -0.3928, 'r':0.2913}\n",
    "sun_color = {'g': -0.3044, 'r':0.1903}\n",
    "\n",
    "color_C = -(sun_color['g']-sun_color['r'])\n",
    "color_S = -(S_color['g']-S_color['r'])\n"
   ]
  },
  {
   "cell_type": "code",
   "execution_count": 7,
   "id": "6b4db0c1-36bc-4db9-b2d2-751e97ba0d35",
   "metadata": {},
   "outputs": [],
   "source": [
    "data = pd.read_parquet(f'{data_fink}data/sso_bft_50_inf_allsolutions.parquet')"
   ]
  },
  {
   "cell_type": "code",
   "execution_count": 8,
   "id": "7506e32d-fccc-4007-b27a-6bda182f0989",
   "metadata": {},
   "outputs": [
    {
     "ename": "TypeError",
     "evalue": "concatenate() got an unexpected keyword argument 'dtype'",
     "output_type": "error",
     "traceback": [
      "\u001b[0;31m---------------------------------------------------------------------------\u001b[0m",
      "\u001b[0;31mTypeError\u001b[0m                                 Traceback (most recent call last)",
      "Input \u001b[0;32mIn [8]\u001b[0m, in \u001b[0;36m<cell line: 17>\u001b[0;34m()\u001b[0m\n\u001b[1;32m     15\u001b[0m \u001b[38;5;66;03m# Convert to EC and store in the pandas DataFrame\u001b[39;00m\n\u001b[1;32m     16\u001b[0m coords \u001b[38;5;241m=\u001b[39m SkyCoord(ra\u001b[38;5;241m=\u001b[39mra, dec\u001b[38;5;241m=\u001b[39mdec, distance\u001b[38;5;241m=\u001b[39m\u001b[38;5;241m200\u001b[39m\u001b[38;5;241m*\u001b[39mu\u001b[38;5;241m.\u001b[39mparsec, frame\u001b[38;5;241m=\u001b[39m\u001b[38;5;124m'\u001b[39m\u001b[38;5;124mhcrs\u001b[39m\u001b[38;5;124m'\u001b[39m)\n\u001b[0;32m---> 17\u001b[0m data[\u001b[38;5;124m'\u001b[39m\u001b[38;5;124mlon\u001b[39m\u001b[38;5;124m'\u001b[39m] \u001b[38;5;241m=\u001b[39m \u001b[43mcoords\u001b[49m\u001b[38;5;241;43m.\u001b[39;49m\u001b[43mheliocentricmeanecliptic\u001b[49m\u001b[38;5;241m.\u001b[39mlon\u001b[38;5;241m.\u001b[39mvalue\n\u001b[1;32m     18\u001b[0m data[\u001b[38;5;124m'\u001b[39m\u001b[38;5;124mlat\u001b[39m\u001b[38;5;124m'\u001b[39m] \u001b[38;5;241m=\u001b[39m coords\u001b[38;5;241m.\u001b[39mheliocentricmeanecliptic\u001b[38;5;241m.\u001b[39mlat\u001b[38;5;241m.\u001b[39mvalue\n",
      "File \u001b[0;32m~/anaconda3/lib/python3.9/site-packages/astropy/coordinates/sky_coordinate.py:855\u001b[0m, in \u001b[0;36mSkyCoord.__getattr__\u001b[0;34m(self, attr)\u001b[0m\n\u001b[1;32m    853\u001b[0m     frame_cls \u001b[38;5;241m=\u001b[39m frame_transform_graph\u001b[38;5;241m.\u001b[39mlookup_name(attr)\n\u001b[1;32m    854\u001b[0m     \u001b[38;5;28;01mif\u001b[39;00m frame_cls \u001b[38;5;129;01mis\u001b[39;00m \u001b[38;5;129;01mnot\u001b[39;00m \u001b[38;5;28;01mNone\u001b[39;00m \u001b[38;5;129;01mand\u001b[39;00m \u001b[38;5;28mself\u001b[39m\u001b[38;5;241m.\u001b[39mframe\u001b[38;5;241m.\u001b[39mis_transformable_to(frame_cls):\n\u001b[0;32m--> 855\u001b[0m         \u001b[38;5;28;01mreturn\u001b[39;00m \u001b[38;5;28;43mself\u001b[39;49m\u001b[38;5;241;43m.\u001b[39;49m\u001b[43mtransform_to\u001b[49m\u001b[43m(\u001b[49m\u001b[43mattr\u001b[49m\u001b[43m)\u001b[49m\n\u001b[1;32m    857\u001b[0m \u001b[38;5;66;03m# Fail\u001b[39;00m\n\u001b[1;32m    858\u001b[0m \u001b[38;5;28;01mraise\u001b[39;00m \u001b[38;5;167;01mAttributeError\u001b[39;00m(\u001b[38;5;124m\"\u001b[39m\u001b[38;5;124m'\u001b[39m\u001b[38;5;132;01m{}\u001b[39;00m\u001b[38;5;124m'\u001b[39m\u001b[38;5;124m object has no attribute \u001b[39m\u001b[38;5;124m'\u001b[39m\u001b[38;5;132;01m{}\u001b[39;00m\u001b[38;5;124m'\u001b[39m\u001b[38;5;124m\"\u001b[39m\n\u001b[1;32m    859\u001b[0m                      \u001b[38;5;241m.\u001b[39mformat(\u001b[38;5;28mself\u001b[39m\u001b[38;5;241m.\u001b[39m\u001b[38;5;18m__class__\u001b[39m\u001b[38;5;241m.\u001b[39m\u001b[38;5;18m__name__\u001b[39m, attr))\n",
      "File \u001b[0;32m~/anaconda3/lib/python3.9/site-packages/astropy/coordinates/sky_coordinate.py:675\u001b[0m, in \u001b[0;36mSkyCoord.transform_to\u001b[0;34m(self, frame, merge_attributes)\u001b[0m\n\u001b[1;32m    671\u001b[0m generic_frame \u001b[38;5;241m=\u001b[39m GenericFrame(frame_kwargs)\n\u001b[1;32m    673\u001b[0m \u001b[38;5;66;03m# Do the transformation, returning a coordinate frame of the desired\u001b[39;00m\n\u001b[1;32m    674\u001b[0m \u001b[38;5;66;03m# final type (not generic).\u001b[39;00m\n\u001b[0;32m--> 675\u001b[0m new_coord \u001b[38;5;241m=\u001b[39m \u001b[43mtrans\u001b[49m\u001b[43m(\u001b[49m\u001b[38;5;28;43mself\u001b[39;49m\u001b[38;5;241;43m.\u001b[39;49m\u001b[43mframe\u001b[49m\u001b[43m,\u001b[49m\u001b[43m \u001b[49m\u001b[43mgeneric_frame\u001b[49m\u001b[43m)\u001b[49m\n\u001b[1;32m    677\u001b[0m \u001b[38;5;66;03m# Finally make the new SkyCoord object from the `new_coord` and\u001b[39;00m\n\u001b[1;32m    678\u001b[0m \u001b[38;5;66;03m# remaining frame_kwargs that are not frame_attributes in `new_coord`.\u001b[39;00m\n\u001b[1;32m    679\u001b[0m \u001b[38;5;28;01mfor\u001b[39;00m attr \u001b[38;5;129;01min\u001b[39;00m (\u001b[38;5;28mset\u001b[39m(new_coord\u001b[38;5;241m.\u001b[39mget_frame_attr_names()) \u001b[38;5;241m&\u001b[39m\n\u001b[1;32m    680\u001b[0m              \u001b[38;5;28mset\u001b[39m(frame_kwargs\u001b[38;5;241m.\u001b[39mkeys())):\n",
      "File \u001b[0;32m~/anaconda3/lib/python3.9/site-packages/astropy/coordinates/transformations.py:1479\u001b[0m, in \u001b[0;36mCompositeTransform.__call__\u001b[0;34m(self, fromcoord, toframe)\u001b[0m\n\u001b[1;32m   1476\u001b[0m             frattrs[inter_frame_attr_nm] \u001b[38;5;241m=\u001b[39m attr\n\u001b[1;32m   1478\u001b[0m     curr_toframe \u001b[38;5;241m=\u001b[39m t\u001b[38;5;241m.\u001b[39mtosys(\u001b[38;5;241m*\u001b[39m\u001b[38;5;241m*\u001b[39mfrattrs)\n\u001b[0;32m-> 1479\u001b[0m     curr_coord \u001b[38;5;241m=\u001b[39m \u001b[43mt\u001b[49m\u001b[43m(\u001b[49m\u001b[43mcurr_coord\u001b[49m\u001b[43m,\u001b[49m\u001b[43m \u001b[49m\u001b[43mcurr_toframe\u001b[49m\u001b[43m)\u001b[49m\n\u001b[1;32m   1481\u001b[0m \u001b[38;5;66;03m# this is safe even in the case where self.transforms is empty, because\u001b[39;00m\n\u001b[1;32m   1482\u001b[0m \u001b[38;5;66;03m# coordinate objects are immutable, so copying is not needed\u001b[39;00m\n\u001b[1;32m   1483\u001b[0m \u001b[38;5;28;01mreturn\u001b[39;00m curr_coord\n",
      "File \u001b[0;32m~/anaconda3/lib/python3.9/site-packages/astropy/coordinates/transformations.py:1251\u001b[0m, in \u001b[0;36mBaseAffineTransform.__call__\u001b[0;34m(self, fromcoord, toframe)\u001b[0m\n\u001b[1;32m   1250\u001b[0m \u001b[38;5;28;01mdef\u001b[39;00m \u001b[38;5;21m__call__\u001b[39m(\u001b[38;5;28mself\u001b[39m, fromcoord, toframe):\n\u001b[0;32m-> 1251\u001b[0m     params \u001b[38;5;241m=\u001b[39m \u001b[38;5;28;43mself\u001b[39;49m\u001b[38;5;241;43m.\u001b[39;49m\u001b[43m_affine_params\u001b[49m\u001b[43m(\u001b[49m\u001b[43mfromcoord\u001b[49m\u001b[43m,\u001b[49m\u001b[43m \u001b[49m\u001b[43mtoframe\u001b[49m\u001b[43m)\u001b[49m\n\u001b[1;32m   1252\u001b[0m     newrep \u001b[38;5;241m=\u001b[39m \u001b[38;5;28mself\u001b[39m\u001b[38;5;241m.\u001b[39m_apply_transform(fromcoord, \u001b[38;5;241m*\u001b[39mparams)\n\u001b[1;32m   1253\u001b[0m     \u001b[38;5;28;01mreturn\u001b[39;00m toframe\u001b[38;5;241m.\u001b[39mrealize_frame(newrep)\n",
      "File \u001b[0;32m~/anaconda3/lib/python3.9/site-packages/astropy/coordinates/transformations.py:1306\u001b[0m, in \u001b[0;36mAffineTransform._affine_params\u001b[0;34m(self, fromcoord, toframe)\u001b[0m\n\u001b[1;32m   1305\u001b[0m \u001b[38;5;28;01mdef\u001b[39;00m \u001b[38;5;21m_affine_params\u001b[39m(\u001b[38;5;28mself\u001b[39m, fromcoord, toframe):\n\u001b[0;32m-> 1306\u001b[0m     \u001b[38;5;28;01mreturn\u001b[39;00m \u001b[38;5;28;43mself\u001b[39;49m\u001b[38;5;241;43m.\u001b[39;49m\u001b[43mtransform_func\u001b[49m\u001b[43m(\u001b[49m\u001b[43mfromcoord\u001b[49m\u001b[43m,\u001b[49m\u001b[43m \u001b[49m\u001b[43mtoframe\u001b[49m\u001b[43m)\u001b[49m\n",
      "File \u001b[0;32m~/anaconda3/lib/python3.9/site-packages/astropy/coordinates/builtin_frames/ecliptic_transforms.py:120\u001b[0m, in \u001b[0;36micrs_to_helioecliptic\u001b[0;34m(from_coo, to_frame)\u001b[0m\n\u001b[1;32m    117\u001b[0m \u001b[38;5;66;03m# now compute the matrix to precess to the right orientation\u001b[39;00m\n\u001b[1;32m    118\u001b[0m rmat \u001b[38;5;241m=\u001b[39m _mean_ecliptic_rotation_matrix(to_frame\u001b[38;5;241m.\u001b[39mequinox)\n\u001b[0;32m--> 120\u001b[0m \u001b[38;5;28;01mreturn\u001b[39;00m rmat, \u001b[43mssb_from_sun\u001b[49m\u001b[38;5;241;43m.\u001b[39;49m\u001b[43mtransform\u001b[49m\u001b[43m(\u001b[49m\u001b[43mrmat\u001b[49m\u001b[43m)\u001b[49m\n",
      "File \u001b[0;32m~/anaconda3/lib/python3.9/site-packages/astropy/coordinates/representation.py:1402\u001b[0m, in \u001b[0;36mCartesianRepresentation.transform\u001b[0;34m(self, matrix)\u001b[0m\n\u001b[1;32m   1366\u001b[0m \u001b[38;5;124;03m\"\"\"\u001b[39;00m\n\u001b[1;32m   1367\u001b[0m \u001b[38;5;124;03mTransform the cartesian coordinates using a 3x3 matrix.\u001b[39;00m\n\u001b[1;32m   1368\u001b[0m \n\u001b[0;32m   (...)\u001b[0m\n\u001b[1;32m   1399\u001b[0m \u001b[38;5;124;03m               [ 3.        , 4.        ]] pc>\u001b[39;00m\n\u001b[1;32m   1400\u001b[0m \u001b[38;5;124;03m\"\"\"\u001b[39;00m\n\u001b[1;32m   1401\u001b[0m \u001b[38;5;66;03m# erfa rxp: Multiply a p-vector by an r-matrix.\u001b[39;00m\n\u001b[0;32m-> 1402\u001b[0m p \u001b[38;5;241m=\u001b[39m erfa_ufunc\u001b[38;5;241m.\u001b[39mrxp(matrix, \u001b[38;5;28;43mself\u001b[39;49m\u001b[38;5;241;43m.\u001b[39;49m\u001b[43mget_xyz\u001b[49m\u001b[43m(\u001b[49m\u001b[43mxyz_axis\u001b[49m\u001b[38;5;241;43m=\u001b[39;49m\u001b[38;5;241;43m-\u001b[39;49m\u001b[38;5;241;43m1\u001b[39;49m\u001b[43m)\u001b[49m)\n\u001b[1;32m   1403\u001b[0m \u001b[38;5;66;03m# transformed representation\u001b[39;00m\n\u001b[1;32m   1404\u001b[0m rep \u001b[38;5;241m=\u001b[39m \u001b[38;5;28mself\u001b[39m\u001b[38;5;241m.\u001b[39m\u001b[38;5;18m__class__\u001b[39m(p, xyz_axis\u001b[38;5;241m=\u001b[39m\u001b[38;5;241m-\u001b[39m\u001b[38;5;241m1\u001b[39m, copy\u001b[38;5;241m=\u001b[39m\u001b[38;5;28;01mFalse\u001b[39;00m)\n",
      "File \u001b[0;32m~/anaconda3/lib/python3.9/site-packages/astropy/coordinates/representation.py:1354\u001b[0m, in \u001b[0;36mCartesianRepresentation.get_xyz\u001b[0;34m(self, xyz_axis)\u001b[0m\n\u001b[1;32m   1349\u001b[0m         \u001b[38;5;28;01mreturn\u001b[39;00m np\u001b[38;5;241m.\u001b[39mmoveaxis(\u001b[38;5;28mself\u001b[39m\u001b[38;5;241m.\u001b[39m_xyz, \u001b[38;5;28mself\u001b[39m\u001b[38;5;241m.\u001b[39m_xyz_axis, xyz_axis)\n\u001b[1;32m   1351\u001b[0m \u001b[38;5;66;03m# Create combined array.  TO DO: keep it in _xyz for repeated use?\u001b[39;00m\n\u001b[1;32m   1352\u001b[0m \u001b[38;5;66;03m# But then in-place changes have to cancel it. Likely best to\u001b[39;00m\n\u001b[1;32m   1353\u001b[0m \u001b[38;5;66;03m# also update components.\u001b[39;00m\n\u001b[0;32m-> 1354\u001b[0m \u001b[38;5;28;01mreturn\u001b[39;00m \u001b[43mnp\u001b[49m\u001b[38;5;241;43m.\u001b[39;49m\u001b[43mstack\u001b[49m\u001b[43m(\u001b[49m\u001b[43m[\u001b[49m\u001b[38;5;28;43mself\u001b[39;49m\u001b[38;5;241;43m.\u001b[39;49m\u001b[43m_x\u001b[49m\u001b[43m,\u001b[49m\u001b[43m \u001b[49m\u001b[38;5;28;43mself\u001b[39;49m\u001b[38;5;241;43m.\u001b[39;49m\u001b[43m_y\u001b[49m\u001b[43m,\u001b[49m\u001b[43m \u001b[49m\u001b[38;5;28;43mself\u001b[39;49m\u001b[38;5;241;43m.\u001b[39;49m\u001b[43m_z\u001b[49m\u001b[43m]\u001b[49m\u001b[43m,\u001b[49m\u001b[43m \u001b[49m\u001b[43maxis\u001b[49m\u001b[38;5;241;43m=\u001b[39;49m\u001b[43mxyz_axis\u001b[49m\u001b[43m)\u001b[49m\n",
      "File \u001b[0;32m<__array_function__ internals>:200\u001b[0m, in \u001b[0;36mstack\u001b[0;34m(*args, **kwargs)\u001b[0m\n",
      "File \u001b[0;32m~/anaconda3/lib/python3.9/site-packages/astropy/units/quantity.py:1696\u001b[0m, in \u001b[0;36mQuantity.__array_function__\u001b[0;34m(self, function, types, args, kwargs)\u001b[0m\n\u001b[1;32m   1683\u001b[0m \u001b[38;5;66;03m# A function should be in one of the following sets or dicts:\u001b[39;00m\n\u001b[1;32m   1684\u001b[0m \u001b[38;5;66;03m# 1. SUBCLASS_SAFE_FUNCTIONS (set), if the numpy implementation\u001b[39;00m\n\u001b[1;32m   1685\u001b[0m \u001b[38;5;66;03m#    supports Quantity; we pass on to ndarray.__array_function__.\u001b[39;00m\n\u001b[0;32m   (...)\u001b[0m\n\u001b[1;32m   1693\u001b[0m \u001b[38;5;66;03m# function is in none of the above, we simply call the numpy\u001b[39;00m\n\u001b[1;32m   1694\u001b[0m \u001b[38;5;66;03m# implementation.\u001b[39;00m\n\u001b[1;32m   1695\u001b[0m \u001b[38;5;28;01mif\u001b[39;00m function \u001b[38;5;129;01min\u001b[39;00m SUBCLASS_SAFE_FUNCTIONS:\n\u001b[0;32m-> 1696\u001b[0m     \u001b[38;5;28;01mreturn\u001b[39;00m \u001b[38;5;28;43msuper\u001b[39;49m\u001b[43m(\u001b[49m\u001b[43m)\u001b[49m\u001b[38;5;241;43m.\u001b[39;49m\u001b[43m__array_function__\u001b[49m\u001b[43m(\u001b[49m\u001b[43mfunction\u001b[49m\u001b[43m,\u001b[49m\u001b[43m \u001b[49m\u001b[43mtypes\u001b[49m\u001b[43m,\u001b[49m\u001b[43m \u001b[49m\u001b[43margs\u001b[49m\u001b[43m,\u001b[49m\u001b[43m \u001b[49m\u001b[43mkwargs\u001b[49m\u001b[43m)\u001b[49m\n\u001b[1;32m   1698\u001b[0m \u001b[38;5;28;01melif\u001b[39;00m function \u001b[38;5;129;01min\u001b[39;00m FUNCTION_HELPERS:\n\u001b[1;32m   1699\u001b[0m     function_helper \u001b[38;5;241m=\u001b[39m FUNCTION_HELPERS[function]\n",
      "File \u001b[0;32m~/anaconda3/lib/python3.9/site-packages/numpy/core/shape_base.py:471\u001b[0m, in \u001b[0;36mstack\u001b[0;34m(arrays, axis, out, dtype, casting)\u001b[0m\n\u001b[1;32m    469\u001b[0m sl \u001b[38;5;241m=\u001b[39m (\u001b[38;5;28mslice\u001b[39m(\u001b[38;5;28;01mNone\u001b[39;00m),) \u001b[38;5;241m*\u001b[39m axis \u001b[38;5;241m+\u001b[39m (_nx\u001b[38;5;241m.\u001b[39mnewaxis,)\n\u001b[1;32m    470\u001b[0m expanded_arrays \u001b[38;5;241m=\u001b[39m [arr[sl] \u001b[38;5;28;01mfor\u001b[39;00m arr \u001b[38;5;129;01min\u001b[39;00m arrays]\n\u001b[0;32m--> 471\u001b[0m \u001b[38;5;28;01mreturn\u001b[39;00m \u001b[43m_nx\u001b[49m\u001b[38;5;241;43m.\u001b[39;49m\u001b[43mconcatenate\u001b[49m\u001b[43m(\u001b[49m\u001b[43mexpanded_arrays\u001b[49m\u001b[43m,\u001b[49m\u001b[43m \u001b[49m\u001b[43maxis\u001b[49m\u001b[38;5;241;43m=\u001b[39;49m\u001b[43maxis\u001b[49m\u001b[43m,\u001b[49m\u001b[43m \u001b[49m\u001b[43mout\u001b[49m\u001b[38;5;241;43m=\u001b[39;49m\u001b[43mout\u001b[49m\u001b[43m,\u001b[49m\n\u001b[1;32m    472\u001b[0m \u001b[43m                       \u001b[49m\u001b[43mdtype\u001b[49m\u001b[38;5;241;43m=\u001b[39;49m\u001b[43mdtype\u001b[49m\u001b[43m,\u001b[49m\u001b[43m \u001b[49m\u001b[43mcasting\u001b[49m\u001b[38;5;241;43m=\u001b[39;49m\u001b[43mcasting\u001b[49m\u001b[43m)\u001b[49m\n",
      "File \u001b[0;32m<__array_function__ internals>:200\u001b[0m, in \u001b[0;36mconcatenate\u001b[0;34m(*args, **kwargs)\u001b[0m\n",
      "File \u001b[0;32m~/anaconda3/lib/python3.9/site-packages/astropy/units/quantity.py:1701\u001b[0m, in \u001b[0;36mQuantity.__array_function__\u001b[0;34m(self, function, types, args, kwargs)\u001b[0m\n\u001b[1;32m   1699\u001b[0m function_helper \u001b[38;5;241m=\u001b[39m FUNCTION_HELPERS[function]\n\u001b[1;32m   1700\u001b[0m \u001b[38;5;28;01mtry\u001b[39;00m:\n\u001b[0;32m-> 1701\u001b[0m     args, kwargs, unit, out \u001b[38;5;241m=\u001b[39m \u001b[43mfunction_helper\u001b[49m\u001b[43m(\u001b[49m\u001b[38;5;241;43m*\u001b[39;49m\u001b[43margs\u001b[49m\u001b[43m,\u001b[49m\u001b[43m \u001b[49m\u001b[38;5;241;43m*\u001b[39;49m\u001b[38;5;241;43m*\u001b[39;49m\u001b[43mkwargs\u001b[49m\u001b[43m)\u001b[49m\n\u001b[1;32m   1702\u001b[0m \u001b[38;5;28;01mexcept\u001b[39;00m \u001b[38;5;167;01mNotImplementedError\u001b[39;00m:\n\u001b[1;32m   1703\u001b[0m     \u001b[38;5;28;01mreturn\u001b[39;00m \u001b[38;5;28mself\u001b[39m\u001b[38;5;241m.\u001b[39m_not_implemented_or_raise(function, types)\n",
      "\u001b[0;31mTypeError\u001b[0m: concatenate() got an unexpected keyword argument 'dtype'"
     ]
    }
   ],
   "source": [
    "data['HG1G2hyb_dSpin'] = np.sqrt( (data['HG1G2hyb_dRA0']*np.cos(np.radians(data['HG1G2hyb_DEC0'])))**2 + data['HG1G2hyb_dDEC0']**2 )\n",
    "\n",
    "\n",
    "# Remove solutions above 90 deg of latitude\n",
    "cond = data.HG1G2hyb_DEC0 > 90\n",
    "data.loc[cond,'HG1G2hyb_DEC0'] = 90\n",
    "cond = data.HG1G2hyb_DEC0 < -90\n",
    "data.loc[cond,'HG1G2hyb_DEC0'] = -90\n",
    "\n",
    "# Spin coordinates: long/lat\n",
    "# Define angle for astropy\n",
    "ra = data.HG1G2hyb_RA0*u.degree\n",
    "dec = data.HG1G2hyb_DEC0*u.degree\n",
    "\n",
    "# Convert to EC and store in the pandas DataFrame\n",
    "coords = SkyCoord(ra=ra, dec=dec, distance=200*u.parsec, frame='hcrs')\n",
    "data['lon'] = coords.heliocentricmeanecliptic.lon.value\n",
    "data['lat'] = coords.heliocentricmeanecliptic.lat.value\n",
    "\n"
   ]
  },
  {
   "cell_type": "code",
   "execution_count": null,
   "id": "b526b397-501d-4217-ab0b-a6a5dd991e7a",
   "metadata": {},
   "outputs": [],
   "source": [
    "bft = pd.read_parquet(bft_file)"
   ]
  },
  {
   "cell_type": "code",
   "execution_count": null,
   "id": "c21aa4b8-b451-4f75-b18e-fe68236a239c",
   "metadata": {},
   "outputs": [],
   "source": [
    "cols = ['sso_number', 'sso_name', 'sso_class',\n",
    "        'orbital_elements.semi_major_axis.value',\n",
    "        'orbital_elements.eccentricity.value',\n",
    "        'orbital_elements.inclination.value',\n",
    "        'orbital_elements.node_longitude.value',\n",
    "        'orbital_elements.perihelion_argument.value',\n",
    "        'orbital_elements.mean_anomaly.value',\n",
    "        'orbital_elements.mean_motion.value',\n",
    "        'family.family_number', 'family.family_name',\n",
    "        'tisserand_parameters.Jupiter.value',\n",
    "        'albedo.value',\n",
    "        'absolute_magnitude.value', \n",
    "        'diameter.value', \n",
    "        'taxonomy.class', 'taxonomy.complex', 'taxonomy.waverange', 'taxonomy.scheme', 'taxonomy.technique',\n",
    "        'colors.g-r.color.value', 'colors.g-r.color.error.min', 'colors.g-r.color.error.max',\n",
    "        'colors.g-r.facility', 'colors.g-r.observer', 'colors.g-r.epoch',\n",
    "        'colors.g-r.delta_time', 'colors.g-r.id_filter_1',\n",
    "        'colors.g-r.id_filter_2', 'colors.g-r.phot_sys', 'colors.g-r.technique',\n",
    "        'spins.1.obliquity', 'spins.1.RA0.value', 'spins.1.DEC0.value',\n",
    "        'spins.1.long.value', 'spins.1.lat.value', 'spins.1.technique',\n",
    "        'spins.2.obliquity', 'spins.2.RA0.value', 'spins.2.DEC0.value',\n",
    "        'spins.2.long.value', 'spins.2.lat.value', 'spins.2.technique',\n",
    "        'spins.3.obliquity', 'spins.3.RA0.value', 'spins.3.DEC0.value',\n",
    "        'spins.3.long.value', 'spins.3.lat.value', 'spins.3.technique',\n",
    "        'spins.4.obliquity', 'spins.4.RA0.value', 'spins.4.DEC0.value',\n",
    "        'spins.4.long.value', 'spins.4.lat.value', 'spins.4.technique'\n",
    "       ]        "
   ]
  },
  {
   "cell_type": "code",
   "execution_count": null,
   "id": "45d0f9b3-6373-4ca9-87dd-dcea58e6cf4a",
   "metadata": {},
   "outputs": [],
   "source": [
    "data = data.merge( bft[cols], left_on='name', right_on='sso_name', how='left' )"
   ]
  },
  {
   "cell_type": "code",
   "execution_count": null,
   "id": "59fc1eeb-8893-48f6-9d6b-ed193eb8ef7b",
   "metadata": {},
   "outputs": [],
   "source": [
    "data"
   ]
  },
  {
   "cell_type": "code",
   "execution_count": null,
   "id": "9a2e63c8-6e42-41aa-86bf-6c3ded183f6b",
   "metadata": {},
   "outputs": [],
   "source": []
  },
  {
   "cell_type": "code",
   "execution_count": null,
   "id": "3e3cc73f-6076-460d-ae06-08b91ddaf779",
   "metadata": {},
   "outputs": [],
   "source": [
    "\n",
    "\n",
    "# G1G2 mask for HG1G2, HG1G2spin, and hybrid model\n",
    "maskG1G2 = (data.HG1G2_G1>thres)  & (data.HG1G2_G2>thres) & (1-data.HG1G2_G1-data.HG1G2_G2>thres)\n",
    "maskG1G2sp = (data.HG1G2sp_G1>thres)  & (data.HG1G2sp_G2>thres) & (1-data.HG1G2sp_G1-data.HG1G2sp_G2>thres)\n",
    "maskG1G2hyb_g = (data.HG1G2hyb_G1_g>thres)  & (data.HG1G2hyb_G2_g>thres) & (1-data.HG1G2hyb_G1_g-data.HG1G2hyb_G2_g>thres)\n",
    "maskG1G2hyb_r = (data.HG1G2hyb_G1_r>thres)  & (data.HG1G2hyb_G2_r>thres) & (1-data.HG1G2hyb_G1_r-data.HG1G2hyb_G2_r>thres)\n",
    "maskG1G2hyb = maskG1G2hyb_g * maskG1G2hyb_r\n",
    "\n",
    "# G1G2 parameters likely to be wrong due to poor phase coverage\n",
    "maskPhase = data.minphase<min_phase\n",
    "\n",
    "# Spin solution suspicous: RA=={0,180,360}, DEC==0\n",
    "maskSpin = (data.HG1G2hyb_RA0>thres) & ( np.abs(360-data.HG1G2hyb_RA0)>thres )  & \\\n",
    "           ( np.abs(data.HG1G2hyb_RA0-180)>thres) & ( np.abs(data.HG1G2hyb_DEC0)>thres ) \n",
    "\n",
    "# Mask on Fit status\n",
    "maskFit = (data['HG1G2hyb_fit']==0) & ( (data['HG1G2hyb_status']==2) | (data['HG1G2hyb_status']==4) )\n",
    "\n",
    "# General sample for tests\n",
    "mask = maskG1G2 & maskG1G2sp & maskG1G2hyb & maskPhase & maskSpin\n",
    "\n",
    "# Sample to be published\n",
    "maskFINK = maskG1G2hyb & maskSpin & maskFit\n",
    "\n",
    "print(' All data       :', len(data))\n",
    "print('  Mask FINK     :', len(data[maskFINK]))\n",
    "print('  Mask hyb      :', len(data[maskG1G2hyb]))\n",
    "print('  Mask hyb g    :', len(data[maskG1G2hyb_g]))\n",
    "print('  Mask hyb r    :', len(data[maskG1G2hyb_r]))\n",
    "print('  Mask phase    :', len(data[maskPhase]))\n",
    "print('  Mask Spin     :',len(data[maskSpin]))\n",
    "print('  Mask          :', len(data[mask]))\n",
    "print()\n",
    "print('  Mask G1G2     :', len(data[maskG1G2]))\n",
    "print('  Mask g1g2spin :', len(data[maskG1G2sp]))\n"
   ]
  },
  {
   "cell_type": "markdown",
   "id": "62cf8ee8-9658-4c3e-b781-b324603d9451",
   "metadata": {},
   "source": [
    "# Abs mag"
   ]
  },
  {
   "cell_type": "code",
   "execution_count": null,
   "id": "7d12a7ce-c3b4-4e6f-99fd-85bca6e24844",
   "metadata": {},
   "outputs": [],
   "source": [
    "data['absolute_magnitude.value']"
   ]
  },
  {
   "cell_type": "code",
   "execution_count": null,
   "id": "0c6fd721-2852-49e3-8a3b-8a6a6f3600b4",
   "metadata": {},
   "outputs": [],
   "source": [
    "# Different colors\n",
    "fig, ax = plt.subplots(1, 2, figsize=(12,6))\n",
    "\n",
    "r = [-2,4]\n",
    "b = 100\n",
    "\n",
    "\n",
    "V_minus_g = -0.32\n",
    "V_minus_r = 0.13\n",
    "ax[0].hist( data['absolute_magnitude.value'] - data.HG1G2hyb_H_r - V_minus_r, range=r, bins=b, label='HG1G2 - Hr' )\n",
    "ax[0].hist( data.loc[maskFINK,'absolute_magnitude.value'] - data.loc[maskFINK,'HG1G2hyb_H_r'] - V_minus_r, range=r, bins=b, label='HG1G2 - Hr / mask' )\n",
    "\n",
    "ax[1].hist( data['absolute_magnitude.value'] - data.HG1G2hyb_H_g - V_minus_g, range=r, bins=b, label='HG1G2 - Hg' )\n",
    "ax[1].hist( data.loc[maskFINK,'absolute_magnitude.value'] - data.loc[maskFINK,'HG1G2hyb_H_g'] - V_minus_g, range=r, bins=b, label='HG1G2 - Hg / mask' )\n",
    "\n",
    "ax[0].axvline(0, color='black')\n",
    "ax[1].axvline(0, color='black')\n",
    "\n",
    "for a in ax:\n",
    "    a.set_xlabel('$\\Delta H = H_{lit} - H_s$')\n",
    "    a.legend(loc='lower right')\n",
    "    a.set_yscale('log')\n",
    "    \n",
    "# fig.savefig(f'{data_fink}/gfx_models/deltaH_spin_hyb_masks.png', facecolor='white')"
   ]
  },
  {
   "cell_type": "code",
   "execution_count": null,
   "id": "82ca56e2-bc3e-4b33-8cb7-7a873fe67e2a",
   "metadata": {},
   "outputs": [],
   "source": [
    "xx = np.linspace(0.1,2,num=100)\n",
    "plt.scatter( xx, np.log10(xx) )"
   ]
  },
  {
   "cell_type": "markdown",
   "id": "9a50d726-0e1a-45d8-b3f8-3f8ac931df27",
   "metadata": {},
   "source": [
    "# Spin distribution"
   ]
  },
  {
   "cell_type": "code",
   "execution_count": null,
   "id": "9912bcce-2edb-4c88-9632-83221d5abd9b",
   "metadata": {},
   "outputs": [],
   "source": [
    "fig, ax = plt.subplots(1, 3, figsize=(21,7))\n",
    "\n",
    "\n",
    "# Histogram of chi2\n",
    "for err in [5,10,20,30]:\n",
    "    cond = maskFINK\n",
    "    cond = cond*(data.HG1G2hyb_dSpin<=err)\n",
    "    ax[0].hist(data.loc[cond,'HG1G2hyb_chi2red'], bins=50, histtype='step', density=True, range=[0,10],\n",
    "               label=f'err spin<{err:d}$^o$ ({len(data[cond]):,d})')\n",
    "\n",
    "    theta = np.linspace(0, np.pi/2, num=90 )\n",
    "    ax[1].plot( err*np.cos(theta), err*np.sin(theta) )\n",
    "    \n",
    "ax[0].axvline(1, ls='--', color='grey')\n",
    "ax[0].set_xlabel(r'$\\chi^2_{red}$')\n",
    "ax[0].set_ylabel('Density')\n",
    "ax[0].legend()\n",
    "\n",
    "\n",
    "# Scatter dRA dDEC\n",
    "ax[1].scatter( data.HG1G2hyb_dRA0*np.cos(np.radians(data['HG1G2hyb_DEC0'])), data.HG1G2hyb_dDEC0, s=1, alpha=0.05 )\n",
    "ax[1].scatter( data.loc[maskFINK,'HG1G2hyb_dRA0']*np.cos(np.radians(data.loc[maskFINK,'HG1G2hyb_DEC0'])), data.loc[maskFINK,'HG1G2hyb_dDEC0'], s=1, alpha=0.05 )\n",
    "ax[1].set_xlim(0,90)\n",
    "ax[1].set_ylim(0,90)\n",
    "\n",
    "ax[1].set_xlabel('Uncertainty on RA$_0$ cos(DEC$_0$) (deg.)')\n",
    "ax[1].set_ylabel('Uncertainty on DEC$_0$ (deg.)')\n",
    "\n",
    "# Cumulative dSpin\n",
    "r = [0,90]\n",
    "b = 90\n",
    "ax[2].hist( data.HG1G2hyb_dSpin, cumulative=True, density=False, range=r, bins=b, label='All' )\n",
    "ax[2].hist( data.loc[maskFINK,'HG1G2hyb_dSpin'], cumulative=True, density=False, range=r, bins=b, label='Select' )\n",
    "\n",
    "ax[2].grid()\n",
    "ax[2].set_xlabel('Uncertainty on spin coordinates (deg.)')\n",
    "ax[2].legend(loc='upper left')\n",
    "\n",
    "# fig.savefig(f'{data_fink}plots/uncertainties_spin.png', facecolor='white', dpi=150)\n"
   ]
  },
  {
   "cell_type": "code",
   "execution_count": null,
   "id": "ac19b192-5d6d-4d82-9257-8ca935128f13",
   "metadata": {},
   "outputs": [],
   "source": [
    "fig, ax = plt.subplots(figsize=(12, 7))\n",
    "\n",
    "xax = 'HG1G2hyb_RA0'\n",
    "yax = 'HG1G2hyb_DEC0'\n",
    "\n",
    "cond = data.ssnamenr==data.ssnamenr\n",
    "ax.scatter( data.loc[cond,xax], data.loc[cond,yax], s=2, alpha=0.15)\n",
    "\n",
    "cond = maskSpin\n",
    "ax.scatter( data.loc[cond,xax], data.loc[cond,yax], s=2, alpha=0.15)\n",
    "\n",
    "coords = SkyCoord(lon=0.1*u.degree, lat=89.9*u.degree, distance=200*u.parsec, frame='heliocentricmeanecliptic')\n",
    "ax.scatter( coords.hcrs.ra.value, coords.hcrs.dec.value, marker='+', s=300,color='black' )\n",
    "coords = SkyCoord(lon=0.1*u.degree, lat=-89.9*u.degree, distance=200*u.parsec, frame='heliocentricmeanecliptic')\n",
    "ax.scatter( coords.hcrs.ra.value, coords.hcrs.dec.value, marker='+', s=300,color='black' )\n",
    "\n",
    "\n",
    "ax.set_xlabel('RA0 (deg)')\n",
    "ax.set_ylabel('DEC0 (deg)')\n",
    "# fig.savefig(f'{data_fink}plots/ra0_vs_dec0_with_flip.png', facecolor='white', dpi=150)\n",
    "\n"
   ]
  },
  {
   "cell_type": "markdown",
   "id": "01e9295c-d594-467b-b350-216c3013c0b5",
   "metadata": {},
   "source": [
    "- There are a few weird solution at RA0=0 or RA0=360 \n",
    "- We need to flip RA/DEC of half the solution"
   ]
  },
  {
   "cell_type": "code",
   "execution_count": null,
   "id": "91691bca-6c8b-4cf1-a485-9b7f60e74fd0",
   "metadata": {},
   "outputs": [],
   "source": [
    "fig, ax = plt.subplots(1, 2, figsize=(12,5))\n",
    "\n",
    "ax[0].hist( data.HG1G2hyb_RA0, range=[0,360], bins=361, density=True, label='All' )\n",
    "ax[0].hist( data.loc[maskFINK,'HG1G2hyb_RA0'], range=[0,360], bins=361, density=True, label='Select' )\n",
    "ax[0].legend()\n",
    "ax[0].set_xlabel('RA_0')\n",
    "\n",
    "ax[1].hist( data.HG1G2hyb_DEC0, range=[-90,90], bins=181, density=True, label='All' )\n",
    "ax[1].hist( data.loc[maskFINK,'HG1G2hyb_DEC0'], range=[-90,90], bins=181, density=True, label='Select' )\n",
    "ax[1].legend()\n",
    "ax[1].set_xlabel('DEC_0')"
   ]
  },
  {
   "cell_type": "code",
   "execution_count": null,
   "id": "3a5c0a83-23be-4b8f-abc7-2b7afd03b3a4",
   "metadata": {},
   "outputs": [],
   "source": [
    "# Flip half of the solution\n",
    "cond = (data.index %2 ==0 )\n",
    "xax = 'HG1G2hyb_RA0'\n",
    "yax = 'HG1G2hyb_DEC0'\n",
    "\n",
    "data.loc[cond,xax] = (data.loc[cond,xax]+180) % 360\n",
    "data.loc[cond,yax] = -data.loc[cond,yax]\n",
    "\n",
    "# Convert (again) to EC\n",
    "coords = SkyCoord(ra=data.loc[cond,xax]*u.deg, dec=data.loc[cond,yax]*u.deg, distance=200*u.parsec, frame='hcrs')\n",
    "data.loc[cond,'lon'] = coords.heliocentricmeanecliptic.lon.value\n",
    "data.loc[cond,'lat'] = coords.heliocentricmeanecliptic.lat.value"
   ]
  },
  {
   "cell_type": "code",
   "execution_count": null,
   "id": "fe344d77-a998-4d5b-9976-1cfe92d38ec1",
   "metadata": {},
   "outputs": [],
   "source": [
    "fig, ax = plt.subplots(figsize=(12, 7))\n",
    "\n",
    "cond = data.ssnamenr==data.ssnamenr\n",
    "xax = 'HG1G2hyb_RA0'\n",
    "yax = 'HG1G2hyb_DEC0'\n",
    "\n",
    "ax.scatter( data.loc[cond,xax], \n",
    "            data.loc[cond,yax], \n",
    "            s=2, alpha=0.15)\n",
    "\n",
    "ax.scatter( data.loc[maskFINK,xax], \n",
    "            data.loc[maskFINK,yax], \n",
    "            s=2, alpha=0.15)\n",
    "\n",
    "coords = SkyCoord(lon=0.1*u.degree, lat=89.9*u.degree, distance=200*u.parsec, frame='heliocentricmeanecliptic')\n",
    "ax.scatter( coords.hcrs.ra.value, coords.hcrs.dec.value, marker='+', s=300,color='black' )\n",
    "coords = SkyCoord(lon=0.1*u.degree, lat=-89.9*u.degree, distance=200*u.parsec, frame='heliocentricmeanecliptic')\n",
    "ax.scatter( coords.hcrs.ra.value, coords.hcrs.dec.value, marker='+', s=300,color='black' )\n",
    "\n",
    "\n",
    "ax.set_xlabel('RA0 (deg)')\n",
    "ax.set_ylabel('DEC0 (deg)')\n",
    "# fig.savefig(f'{data_fink}plots/ra0_vs_dec0_with_flip.png', facecolor='white', dpi=150)\n",
    "\n"
   ]
  },
  {
   "cell_type": "markdown",
   "id": "ed6e70f4-d774-4c4b-bd59-449c227b9108",
   "metadata": {},
   "source": [
    "# Compare with literature"
   ]
  },
  {
   "cell_type": "code",
   "execution_count": null,
   "id": "9b382ce2-8e94-4d97-b3f4-3ae32fac088f",
   "metadata": {},
   "outputs": [],
   "source": [
    "data['spins.1.technique'].value_counts()"
   ]
  },
  {
   "cell_type": "code",
   "execution_count": null,
   "id": "97a7373a-8076-4d33-a615-0a6a74260d0b",
   "metadata": {},
   "outputs": [],
   "source": [
    "# Compute angular distances\n",
    "spin_version = np.array(['A','B'])\n",
    "\n",
    "for ks in ['1','2','3','4']:\n",
    "    data[f'spins.{ks}.distance'] = np.nan\n",
    "    cond = (~data[f'spins.{ks}.RA0.value'].isna())\n",
    "    \n",
    "    #------------------------------------------------------------------------------------------\n",
    "    # A: Original spins\n",
    "    data.loc[cond,f'spins.{ks}.distance.A'] = data.loc[cond,[f'spins.{ks}.RA0.value',f'spins.{ks}.DEC0.value', 'HG1G2hyb_RA0','HG1G2hyb_DEC0']].apply(\n",
    "        lambda x: np.degrees(angular_separation( np.radians(x[0]), np.radians(x[1]), np.radians(x[2]), np.radians(x[3]) )) , axis=1\n",
    "    )\n",
    "    data.loc[cond,f'spins.{ks}.delta_RA.A'] = (data.loc[cond,f'spins.{ks}.RA0.value']-data.loc[cond,'HG1G2hyb_RA0'] ) * np.cos(np.radians(data.loc[cond,f'spins.{ks}.DEC0.value']))\n",
    "    data.loc[cond,f'spins.{ks}.delta_DEC.A'] = (data.loc[cond,f'spins.{ks}.DEC0.value']-data.loc[cond,'HG1G2hyb_DEC0'] )\n",
    "\n",
    "    #------------------------------------------------------------------------------------------\n",
    "    # B: RA-180 & Flip DEC\n",
    "    data.loc[cond,f'spins.{ks}.distance.B'] = data.loc[cond,[f'spins.{ks}.RA0.value',f'spins.{ks}.DEC0.value', 'HG1G2hyb_RA0','HG1G2hyb_DEC0']].apply(\n",
    "        lambda x: np.degrees(angular_separation( np.radians( (x[0]+180) % 360 ), np.radians(-x[1]), np.radians(x[2]), np.radians(x[3]) )) , axis=1\n",
    "    )\n",
    "    data.loc[cond,f'spins.{ks}.delta_RA.B'] = ( ((data.loc[cond,f'spins.{ks}.RA0.value']+180.0) % 360 )-data.loc[cond,'HG1G2hyb_RA0'] ) * np.cos(np.radians(-data.loc[cond,f'spins.{ks}.DEC0.value']))\n",
    "    data.loc[cond,f'spins.{ks}.delta_DEC.B'] = (-data.loc[cond,f'spins.{ks}.DEC0.value']-data.loc[cond,'HG1G2hyb_DEC0'] )\n",
    "\n",
    "    #------------------------------------------------------------------------------------------\n",
    "    # Find minimum distance and keep track of which spin version it is\n",
    "    data.loc[cond,f'spins.{ks}.closest'] = data.loc[cond, [f'spins.{ks}.distance.A', \n",
    "                                                           f'spins.{ks}.distance.B']].apply( lambda x: int(np.argmin(x)), axis=1 )\n",
    "    data = data.astype({f'spins.{ks}.closest':'Int64'})\n",
    "\n",
    "    data.loc[cond,f'spins.{ks}.distance'] = data.loc[cond, [f'spins.{ks}.distance.A', \n",
    "                                                            f'spins.{ks}.distance.B']].apply( lambda x: np.min(x), axis=1 )\n",
    "    data.loc[cond,f'spins.{ks}.version'] = data.loc[cond, [f'spins.{ks}.distance.A', \n",
    "                                                           f'spins.{ks}.distance.B']].apply( lambda x: spin_version[np.argmin(x)], axis=1 )\n",
    "\n",
    "    #------------------------------------------------------------------------------------------\n",
    "    # Find minimum distance and keep track of which spin version it is\n",
    "    data.loc[cond,f'spins.{ks}.delta_RA'] = data.loc[cond, [f'spins.{ks}.delta_RA.A',\n",
    "                                                            f'spins.{ks}.delta_RA.B', \n",
    "                                                            f'spins.{ks}.closest']].apply( lambda x: x[int(x[2])], axis=1 )\n",
    "    data.loc[cond,f'spins.{ks}.delta_DEC'] = data.loc[cond, [f'spins.{ks}.delta_DEC.A',\n",
    "                                                             f'spins.{ks}.delta_DEC.B', \n",
    "                                                             f'spins.{ks}.closest']].apply( lambda x: x[int(x[2])], axis=1 )\n",
    "\n",
    "    \n",
    "# Select the closest angularly\n",
    "cond = ~data[f'spins.1.distance'].isna()\n",
    "data.loc[cond,'spins.closest'] = data.loc[cond,['spins.1.distance','spins.2.distance','spins.3.distance','spins.4.distance']].apply( lambda x: int(np.argmin(x)), axis=1 )\n",
    "data = data.astype({'spins.closest':'Int64'})\n",
    "\n",
    "data.loc[cond,'spins.distance'] = data.loc[cond,['spins.1.distance','spins.2.distance','spins.3.distance','spins.4.distance']].apply( lambda x: np.min(x), axis=1 )\n",
    "data.loc[cond,'spins.delta_RA'] = data.loc[cond, [f'spins.1.delta_RA',\n",
    "                                                  f'spins.2.delta_RA',\n",
    "                                                  f'spins.3.delta_RA',\n",
    "                                                  f'spins.4.delta_RA', \n",
    "                                                  f'spins.closest']].apply( lambda x: x[int(x[4])], axis=1 )\n",
    "data.loc[cond,'spins.delta_DEC'] = data.loc[cond, [f'spins.1.delta_DEC',\n",
    "                                                   f'spins.2.delta_DEC',\n",
    "                                                   f'spins.3.delta_DEC',\n",
    "                                                   f'spins.4.delta_DEC', \n",
    "                                                   f'spins.closest']].apply( lambda x: x[int(x[4])], axis=1 )\n",
    "\n"
   ]
  },
  {
   "cell_type": "code",
   "execution_count": null,
   "id": "4ef8b281-1f08-4558-a80f-989b3b9fb500",
   "metadata": {},
   "outputs": [],
   "source": []
  },
  {
   "cell_type": "code",
   "execution_count": null,
   "id": "66c12feb-fd83-4a08-b0d8-a6b931f4cf76",
   "metadata": {},
   "outputs": [],
   "source": [
    "fig, ax = plt.subplots(1, 3, figsize=(18,5))\n",
    "\n",
    "cond = data.ssnamenr==data.ssnamenr\n",
    "\n",
    "r = [0,90]\n",
    "b = 50\n",
    "ax[0].hist( data.loc[cond,'spins.distance'], range=r, bins=b, density=True, label='All' )\n",
    "ax[0].hist( data.loc[maskFINK,'spins.distance'], range=r, bins=b, density=True, label='Select' )\n",
    "ax[0].legend()\n",
    "ax[0].set_xlabel('Distances / deg')\n",
    "ax0 = ax[0].twinx()\n",
    "ax0.hist( data.loc[maskFINK,'spins.distance'], range=r, bins=b, density=True, cumulative=True, histtype='step', color='gray' )\n",
    "ax[0].set_xlim(r)\n",
    "\n",
    "ax[1].hist( data.loc[cond,'spins.delta_RA'], range=r, bins=b, density=True, label='All' )\n",
    "ax[1].hist( data.loc[maskFINK,'spins.delta_RA'], range=r, bins=b, density=True, label='Select' )\n",
    "ax[1].legend()\n",
    "ax[1].set_xlabel('$\\Delta$ RA cos(DEC)')\n",
    "ax1 = ax[1].twinx()\n",
    "ax1.hist( data.loc[maskFINK,'spins.delta_RA'], range=r, bins=b, density=True, cumulative=True, histtype='step', color='gray' )\n",
    "ax[1].set_xlim(r)\n",
    "\n",
    "ax[2].hist( data.loc[cond,'spins.delta_DEC'], range=r, bins=b, density=True, label='All' )\n",
    "ax[2].hist( data.loc[maskFINK,'spins.delta_DEC'], range=r, bins=b, density=True, label='Select' )\n",
    "ax[2].legend()\n",
    "ax[2].set_xlabel('$\\Delta$ DEC')\n",
    "ax2 = ax[2].twinx()\n",
    "ax2.hist( data.loc[maskFINK,'spins.delta_DEC'], range=r, bins=b, density=True, cumulative=True, histtype='step', color='gray' )\n",
    "ax[2].set_xlim(r)\n"
   ]
  },
  {
   "cell_type": "code",
   "execution_count": null,
   "id": "a3511809-0667-461d-8629-fc54248fc36b",
   "metadata": {},
   "outputs": [],
   "source": [
    "fig, ax = plt.subplots(1, 3, figsize=(18,5))\n",
    "\n",
    "cond = data.ssnamenr==data.ssnamenr\n",
    "\n",
    "ax[0].scatter( data.loc[cond,'minphase'], data.loc[cond,'spins.distance'], label='All' )\n",
    "ax[0].scatter( data.loc[maskFINK,'minphase'], data.loc[maskFINK,'spins.distance'], label='Select' )\n",
    "ax[0].legend()\n",
    "ax[0].set_xlabel('Min phase')\n",
    "ax[0].set_ylabel('Distances / deg')\n",
    "ax[0].set_xlim(0,10)\n",
    "\n",
    "\n",
    "ax[1].scatter( data.loc[cond,'HG1G2hyb_rms'], data.loc[cond,'spins.distance'], label='All' )\n",
    "ax[1].scatter( data.loc[maskFINK,'HG1G2hyb_rms'], data.loc[maskFINK,'spins.distance'], label='Select' )\n",
    "ax[1].legend()\n",
    "ax[1].set_xlabel('RMS')\n",
    "ax[1].set_xscale('log')\n",
    "ax[1].set_ylabel('Distances / deg')\n",
    "\n",
    "r = [0,5]\n",
    "b = 51\n",
    "ax[2].hist( data.loc[cond,'spins.distance']/data.loc[cond,'HG1G2hyb_dSpin'], range=r, bins=b, label='All' )\n",
    "ax[2].hist( data.loc[maskFINK,'spins.distance']/data.loc[maskFINK,'HG1G2hyb_dSpin'], range=r, bins=b, label='Select' )\n",
    "ax2 = ax[2].twinx()\n",
    "ax2.hist( data.loc[cond,'spins.distance']/data.loc[cond,'HG1G2hyb_dSpin'], range=r, bins=b, density=True, cumulative=True, histtype='step', color='gray' )\n",
    "ax2.hist( data.loc[maskFINK,'spins.distance']/data.loc[maskFINK,'HG1G2hyb_dSpin'], range=r, bins=b, density=True, cumulative=True, histtype='step', color='black' )\n",
    "ax[2].set_xlim(r)\n",
    "\n",
    "ax[2].legend()\n",
    "ax[2].set_xlabel('abs mag')\n",
    "ax[2].set_yscale('log')\n",
    "ax[2].set_ylabel('Distances / deg')\n"
   ]
  },
  {
   "cell_type": "code",
   "execution_count": null,
   "id": "49822a89-07fc-4f97-92f4-378e1fcb2f13",
   "metadata": {},
   "outputs": [],
   "source": [
    "data.columns[:80]"
   ]
  },
  {
   "cell_type": "code",
   "execution_count": null,
   "id": "535e0e77-c492-455b-af8c-de572893450f",
   "metadata": {},
   "outputs": [],
   "source": [
    "fig, ax = plt.subplots(1, 3, figsize=(18,5))\n",
    "\n",
    "cond = data.ssnamenr==data.ssnamenr\n",
    "\n",
    "ax[0].scatter( data.loc[cond,'n_days'], data.loc[cond,'spins.distance'], label='All' )\n",
    "ax[0].scatter( data.loc[maskFINK,'n_days'], data.loc[maskFINK,'spins.distance'], label='Select' )\n",
    "ax[0].legend()\n",
    "ax[0].set_xlabel('N days')\n",
    "ax[0].set_ylabel('Distances / deg')\n",
    "\n",
    "ax[1].scatter( data.loc[cond,'HG1G2hyb_chi2red'], data.loc[cond,'spins.distance'], label='All' )\n",
    "ax[1].scatter( data.loc[maskFINK,'HG1G2hyb_chi2red'], data.loc[maskFINK,'spins.distance'], label='Select' )\n",
    "ax[1].legend()\n",
    "ax[1].set_xlabel('chi2 red')\n",
    "ax[1].set_xscale('log')\n",
    "ax[1].set_ylabel('Distances / deg')\n",
    "\n",
    "ax[2].scatter( data.loc[cond,'absolute_magnitude.value'], data.loc[cond,'spins.distance'], label='All' )\n",
    "ax[2].scatter( data.loc[maskFINK,'absolute_magnitude.value'], data.loc[maskFINK,'spins.distance'], label='Select' )\n",
    "ax[2].legend()\n",
    "ax[2].set_xlabel('abs mag')\n",
    "# ax[2].set_xscale('log')\n",
    "ax[2].set_ylabel('Distances / deg')\n"
   ]
  },
  {
   "cell_type": "code",
   "execution_count": null,
   "id": "a7217d9a-3bd0-46ea-8b6e-3171171a960c",
   "metadata": {},
   "outputs": [],
   "source": [
    "r = [0,20]\n",
    "b = 200 \n",
    "plt.hist(data['HG1G2hyb_chi2red'], range=r, bins=b, alpha=0.5, density=True )\n",
    "plt.hist(data.loc[maskFINK,'HG1G2hyb_chi2red'], range=r, bins=b, alpha=0.5, density=True )\n",
    "\n",
    "cond = data['spins.1.RA0.value'].notna()\n",
    "plt.hist(data.loc[cond,'HG1G2hyb_chi2red'], range=r, bins=b, alpha=0.5, density=True )\n",
    "# plt.xlim(0,10)\n",
    "plt.xlabel('chi2')\n",
    "\n",
    "len(data[maskFINK]), len(data[cond])"
   ]
  },
  {
   "cell_type": "markdown",
   "id": "6d7708cf-86a6-40ab-9d38-f490c86a91aa",
   "metadata": {},
   "source": [
    "- fishy: the object with spins have shitty chi2red!\n",
    "- Explanation: there is bias for high amplitude for LC-derived spins -> bad for HG1G2hybrid (LC not taken into account)"
   ]
  },
  {
   "cell_type": "code",
   "execution_count": null,
   "id": "a9e6205c-f374-4d59-8bc0-599886059141",
   "metadata": {},
   "outputs": [],
   "source": [
    "r = [0,0.5]\n",
    "b = 100 \n",
    "# plt.hist(data['HG1G2hyb_rms'], range=r, bins=b, alpha=0.5, density=True )\n",
    "plt.hist(data.loc[maskFINK,'HG1G2hyb_rms'], range=r, bins=b, alpha=0.5, density=True )\n",
    "\n",
    "cond = data['spins.1.RA0.value'].notna()\n",
    "plt.hist(data.loc[cond,'HG1G2hyb_rms'], range=r, bins=b, alpha=0.5, density=True )\n",
    "# plt.xlim(0,10)\n",
    "plt.xlabel('chi2')\n",
    "\n",
    "len(data[maskFINK]), len(data[cond])"
   ]
  },
  {
   "cell_type": "code",
   "execution_count": null,
   "id": "f1a97f86-4d6f-440b-ac11-4bdedfc0c487",
   "metadata": {},
   "outputs": [],
   "source": [
    "fig, ax = plt.subplots()\n",
    "\n",
    "ax.hist( data.loc[cond,'diameter.value'], histtype='step', bins=np.linspace(1,200,num=200), density=True, label='lit')\n",
    "ax.hist( data.loc[maskFINK,'diameter.value'], histtype='step', bins=np.linspace(1,200,num=200), density=True, label='fink' )\n",
    "\n",
    "ax.set_xscale('log')\n",
    "ax.legend()"
   ]
  },
  {
   "cell_type": "code",
   "execution_count": null,
   "id": "d9031cd5-488a-4200-af1c-acbcdbf5104b",
   "metadata": {},
   "outputs": [],
   "source": [
    "cond = maskFINK\n",
    "lim_spin = 30\n",
    "spin_v = '1'\n",
    "cond = cond * (data[f'spins.{spin_v}.distance'] < lim_spin)\n",
    "data.loc[cond,f'spins.{spin_v}.technique'].value_counts()\n",
    "\n",
    "# plt.hist( data.loc[cond,'spins.1.distance'] )"
   ]
  },
  {
   "cell_type": "code",
   "execution_count": null,
   "id": "86ad47a3-b0df-441a-8246-c92a5055feb5",
   "metadata": {},
   "outputs": [],
   "source": [
    "cond = maskFINK\n",
    "cond = cond * (data[f'spins.{spin_v}.distance'] < lim_spin)\n",
    "cond = cond * (data[f'spins.{spin_v}.technique']=='Radar')\n",
    "\n",
    "cols = ['number','name', #'minphase','maxphase','n_days',\n",
    "        'HG1G2hyb_RA0','HG1G2hyb_DEC0',\n",
    "        'spins.1.RA0.value','spins.1.DEC0.value', 'spins.1.version',\n",
    "        'spins.2.RA0.value','spins.2.DEC0.value', 'spins.2.version',\n",
    "        'spins.1.distance', 'spins.2.distance']\n",
    "data.loc[cond,cols].sort_values(by='number')\n",
    "# data.loc[cond,'spins.1.technique'].value_counts()"
   ]
  },
  {
   "cell_type": "code",
   "execution_count": null,
   "id": "7127df25-1780-4dfb-a824-f555f4c1388d",
   "metadata": {},
   "outputs": [],
   "source": [
    "cond = maskFINK\n",
    "data[cond].sort_values(by='sso_number').head(20)"
   ]
  },
  {
   "cell_type": "code",
   "execution_count": null,
   "id": "060c2c9f-7493-41ad-9b2e-1f994474f31a",
   "metadata": {},
   "outputs": [],
   "source": [
    "cond = maskFINK\n",
    "cols = ['number','name', #'minphase','maxphase','n_days',\n",
    "        'HG1G2hyb_RA0','HG1G2hyb_DEC0',\n",
    "        'spins.1.RA0.value','spins.1.DEC0.value', 'spins.1.version',\n",
    "        'spins.2.RA0.value','spins.2.DEC0.value', 'spins.2.version',\n",
    "        'spins.1.distance', 'spins.2.distance']\n",
    "data.loc[cond,cols].sort_values(by='number').head(20)"
   ]
  },
  {
   "cell_type": "code",
   "execution_count": 9,
   "id": "0bb32b9f-ead7-40bb-b04d-f170bee0a531",
   "metadata": {},
   "outputs": [
    {
     "data": {
      "text/plain": [
       "Index(['ssnamenr', 'number', 'name', 'minphase', 'maxphase', 'n_days', 'n_obs',\n",
       "       'HG_H', 'HG_dH', 'HG_G', 'HG_dG', 'HG_rms', 'HG_chi2red', 'HG1G2_H',\n",
       "       'HG1G2_dH', 'HG1G2_G1', 'HG1G2_dG1', 'HG1G2_G2', 'HG1G2_dG2',\n",
       "       'HG1G2_rms', 'HG1G2_chi2red', 'HG1G2sp_H', 'HG1G2sp_dH', 'HG1G2sp_G1',\n",
       "       'HG1G2sp_dG1', 'HG1G2sp_G2', 'HG1G2sp_dG2', 'HG1G2sp_RA0',\n",
       "       'HG1G2sp_dRA0', 'HG1G2sp_DEC0', 'HG1G2sp_dDEC0', 'HG1G2sp_R',\n",
       "       'HG1G2sp_dR', 'HG1G2sp_rms', 'HG1G2sp_chi2red', 'HG1G2hyb_H_g',\n",
       "       'HG1G2hyb_dH_g', 'HG1G2hyb_G1_g', 'HG1G2hyb_dG1_g', 'HG1G2hyb_G2_g',\n",
       "       'HG1G2hyb_dG2_g', 'HG1G2hyb_H_r', 'HG1G2hyb_dH_r', 'HG1G2hyb_G1_r',\n",
       "       'HG1G2hyb_dG1_r', 'HG1G2hyb_G2_r', 'HG1G2hyb_dG2_r', 'HG1G2hyb_H_o',\n",
       "       'HG1G2hyb_dH_o', 'HG1G2hyb_G1_o', 'HG1G2hyb_dG1_o', 'HG1G2hyb_G2_o',\n",
       "       'HG1G2hyb_dG2_o', 'HG1G2hyb_H_c', 'HG1G2hyb_dH_c', 'HG1G2hyb_G1_c',\n",
       "       'HG1G2hyb_dG1_c', 'HG1G2hyb_G2_c', 'HG1G2hyb_dG2_c', 'HG1G2hyb_RA0',\n",
       "       'HG1G2hyb_dRA0', 'HG1G2hyb_DEC0', 'HG1G2hyb_dDEC0', 'HG1G2hyb_R',\n",
       "       'HG1G2hyb_dR', 'HG1G2hyb_rms', 'HG1G2hyb_chi2red', 'HG1G2hyb_n_oppo',\n",
       "       'HG1G2hyb_status', 'HG1G2hyb_fit', 'HG1G2hyb_dSpin'],\n",
       "      dtype='object')"
      ]
     },
     "execution_count": 9,
     "metadata": {},
     "output_type": "execute_result"
    }
   ],
   "source": [
    "data.columns[:80]"
   ]
  },
  {
   "cell_type": "markdown",
   "id": "56650cfe-0643-4b03-8e9b-bf4826468178",
   "metadata": {},
   "source": [
    "# Obliquity"
   ]
  },
  {
   "cell_type": "code",
   "execution_count": 10,
   "id": "69255f46-fb8e-465b-bd59-702e8fe973eb",
   "metadata": {},
   "outputs": [
    {
     "ename": "KeyError",
     "evalue": "'orbital_elements.node_longitude.value'",
     "output_type": "error",
     "traceback": [
      "\u001b[0;31m---------------------------------------------------------------------------\u001b[0m",
      "\u001b[0;31mKeyError\u001b[0m                                  Traceback (most recent call last)",
      "File \u001b[0;32m~/anaconda3/lib/python3.9/site-packages/pandas/core/indexes/base.py:3621\u001b[0m, in \u001b[0;36mIndex.get_loc\u001b[0;34m(self, key, method, tolerance)\u001b[0m\n\u001b[1;32m   3620\u001b[0m \u001b[38;5;28;01mtry\u001b[39;00m:\n\u001b[0;32m-> 3621\u001b[0m     \u001b[38;5;28;01mreturn\u001b[39;00m \u001b[38;5;28;43mself\u001b[39;49m\u001b[38;5;241;43m.\u001b[39;49m\u001b[43m_engine\u001b[49m\u001b[38;5;241;43m.\u001b[39;49m\u001b[43mget_loc\u001b[49m\u001b[43m(\u001b[49m\u001b[43mcasted_key\u001b[49m\u001b[43m)\u001b[49m\n\u001b[1;32m   3622\u001b[0m \u001b[38;5;28;01mexcept\u001b[39;00m \u001b[38;5;167;01mKeyError\u001b[39;00m \u001b[38;5;28;01mas\u001b[39;00m err:\n",
      "File \u001b[0;32m~/anaconda3/lib/python3.9/site-packages/pandas/_libs/index.pyx:136\u001b[0m, in \u001b[0;36mpandas._libs.index.IndexEngine.get_loc\u001b[0;34m()\u001b[0m\n",
      "File \u001b[0;32m~/anaconda3/lib/python3.9/site-packages/pandas/_libs/index.pyx:163\u001b[0m, in \u001b[0;36mpandas._libs.index.IndexEngine.get_loc\u001b[0;34m()\u001b[0m\n",
      "File \u001b[0;32mpandas/_libs/hashtable_class_helper.pxi:5198\u001b[0m, in \u001b[0;36mpandas._libs.hashtable.PyObjectHashTable.get_item\u001b[0;34m()\u001b[0m\n",
      "File \u001b[0;32mpandas/_libs/hashtable_class_helper.pxi:5206\u001b[0m, in \u001b[0;36mpandas._libs.hashtable.PyObjectHashTable.get_item\u001b[0;34m()\u001b[0m\n",
      "\u001b[0;31mKeyError\u001b[0m: 'orbital_elements.node_longitude.value'",
      "\nThe above exception was the direct cause of the following exception:\n",
      "\u001b[0;31mKeyError\u001b[0m                                  Traceback (most recent call last)",
      "Input \u001b[0;32mIn [10]\u001b[0m, in \u001b[0;36m<cell line: 2>\u001b[0;34m()\u001b[0m\n\u001b[1;32m      1\u001b[0m \u001b[38;5;66;03m# Obliquity of the spin\u001b[39;00m\n\u001b[0;32m----> 2\u001b[0m data[\u001b[38;5;124m'\u001b[39m\u001b[38;5;124mlon_orbit\u001b[39m\u001b[38;5;124m'\u001b[39m] \u001b[38;5;241m=\u001b[39m \u001b[43mdata\u001b[49m\u001b[43m[\u001b[49m\u001b[38;5;124;43m'\u001b[39;49m\u001b[38;5;124;43morbital_elements.node_longitude.value\u001b[39;49m\u001b[38;5;124;43m'\u001b[39;49m\u001b[43m]\u001b[49m \u001b[38;5;241m-\u001b[39m \u001b[38;5;241m90\u001b[39m\n\u001b[1;32m      3\u001b[0m data[\u001b[38;5;124m'\u001b[39m\u001b[38;5;124mlat_orbit\u001b[39m\u001b[38;5;124m'\u001b[39m] \u001b[38;5;241m=\u001b[39m \u001b[38;5;241m90.\u001b[39m \u001b[38;5;241m-\u001b[39m data[\u001b[38;5;124m'\u001b[39m\u001b[38;5;124morbital_elements.inclination.value\u001b[39m\u001b[38;5;124m'\u001b[39m]\n\u001b[1;32m      4\u001b[0m data[\u001b[38;5;124m'\u001b[39m\u001b[38;5;124mobliquity\u001b[39m\u001b[38;5;124m'\u001b[39m] \u001b[38;5;241m=\u001b[39m data[[\u001b[38;5;124m'\u001b[39m\u001b[38;5;124mlon\u001b[39m\u001b[38;5;124m'\u001b[39m,\u001b[38;5;124m'\u001b[39m\u001b[38;5;124mlat\u001b[39m\u001b[38;5;124m'\u001b[39m, \u001b[38;5;124m'\u001b[39m\u001b[38;5;124mlon_orbit\u001b[39m\u001b[38;5;124m'\u001b[39m,\u001b[38;5;124m'\u001b[39m\u001b[38;5;124mlat_orbit\u001b[39m\u001b[38;5;124m'\u001b[39m]]\u001b[38;5;241m.\u001b[39mapply(\n\u001b[1;32m      5\u001b[0m     \u001b[38;5;28;01mlambda\u001b[39;00m x: np\u001b[38;5;241m.\u001b[39mdegrees(angular_separation( np\u001b[38;5;241m.\u001b[39mradians(x[\u001b[38;5;241m0\u001b[39m]), np\u001b[38;5;241m.\u001b[39mradians(x[\u001b[38;5;241m1\u001b[39m]), np\u001b[38;5;241m.\u001b[39mradians(x[\u001b[38;5;241m2\u001b[39m]), np\u001b[38;5;241m.\u001b[39mradians(x[\u001b[38;5;241m3\u001b[39m]) )) , axis\u001b[38;5;241m=\u001b[39m\u001b[38;5;241m1\u001b[39m\n\u001b[1;32m      6\u001b[0m )\n",
      "File \u001b[0;32m~/anaconda3/lib/python3.9/site-packages/pandas/core/frame.py:3505\u001b[0m, in \u001b[0;36mDataFrame.__getitem__\u001b[0;34m(self, key)\u001b[0m\n\u001b[1;32m   3503\u001b[0m \u001b[38;5;28;01mif\u001b[39;00m \u001b[38;5;28mself\u001b[39m\u001b[38;5;241m.\u001b[39mcolumns\u001b[38;5;241m.\u001b[39mnlevels \u001b[38;5;241m>\u001b[39m \u001b[38;5;241m1\u001b[39m:\n\u001b[1;32m   3504\u001b[0m     \u001b[38;5;28;01mreturn\u001b[39;00m \u001b[38;5;28mself\u001b[39m\u001b[38;5;241m.\u001b[39m_getitem_multilevel(key)\n\u001b[0;32m-> 3505\u001b[0m indexer \u001b[38;5;241m=\u001b[39m \u001b[38;5;28;43mself\u001b[39;49m\u001b[38;5;241;43m.\u001b[39;49m\u001b[43mcolumns\u001b[49m\u001b[38;5;241;43m.\u001b[39;49m\u001b[43mget_loc\u001b[49m\u001b[43m(\u001b[49m\u001b[43mkey\u001b[49m\u001b[43m)\u001b[49m\n\u001b[1;32m   3506\u001b[0m \u001b[38;5;28;01mif\u001b[39;00m is_integer(indexer):\n\u001b[1;32m   3507\u001b[0m     indexer \u001b[38;5;241m=\u001b[39m [indexer]\n",
      "File \u001b[0;32m~/anaconda3/lib/python3.9/site-packages/pandas/core/indexes/base.py:3623\u001b[0m, in \u001b[0;36mIndex.get_loc\u001b[0;34m(self, key, method, tolerance)\u001b[0m\n\u001b[1;32m   3621\u001b[0m     \u001b[38;5;28;01mreturn\u001b[39;00m \u001b[38;5;28mself\u001b[39m\u001b[38;5;241m.\u001b[39m_engine\u001b[38;5;241m.\u001b[39mget_loc(casted_key)\n\u001b[1;32m   3622\u001b[0m \u001b[38;5;28;01mexcept\u001b[39;00m \u001b[38;5;167;01mKeyError\u001b[39;00m \u001b[38;5;28;01mas\u001b[39;00m err:\n\u001b[0;32m-> 3623\u001b[0m     \u001b[38;5;28;01mraise\u001b[39;00m \u001b[38;5;167;01mKeyError\u001b[39;00m(key) \u001b[38;5;28;01mfrom\u001b[39;00m \u001b[38;5;21;01merr\u001b[39;00m\n\u001b[1;32m   3624\u001b[0m \u001b[38;5;28;01mexcept\u001b[39;00m \u001b[38;5;167;01mTypeError\u001b[39;00m:\n\u001b[1;32m   3625\u001b[0m     \u001b[38;5;66;03m# If we have a listlike key, _check_indexing_error will raise\u001b[39;00m\n\u001b[1;32m   3626\u001b[0m     \u001b[38;5;66;03m#  InvalidIndexError. Otherwise we fall through and re-raise\u001b[39;00m\n\u001b[1;32m   3627\u001b[0m     \u001b[38;5;66;03m#  the TypeError.\u001b[39;00m\n\u001b[1;32m   3628\u001b[0m     \u001b[38;5;28mself\u001b[39m\u001b[38;5;241m.\u001b[39m_check_indexing_error(key)\n",
      "\u001b[0;31mKeyError\u001b[0m: 'orbital_elements.node_longitude.value'"
     ]
    }
   ],
   "source": [
    "# Obliquity of the spin\n",
    "data['lon_orbit'] = data['orbital_elements.node_longitude.value'] - 90\n",
    "data['lat_orbit'] = 90. - data['orbital_elements.inclination.value']\n",
    "data['obliquity'] = data[['lon','lat', 'lon_orbit','lat_orbit']].apply(\n",
    "    lambda x: np.degrees(angular_separation( np.radians(x[0]), np.radians(x[1]), np.radians(x[2]), np.radians(x[3]) )) , axis=1\n",
    ")\n"
   ]
  },
  {
   "cell_type": "code",
   "execution_count": null,
   "id": "28479c9b-4c42-45dd-8471-370d34c730e5",
   "metadata": {},
   "outputs": [],
   "source": [
    "fig, ax = plt.subplots(figsize=fs.figsize(0.5), \n",
    "                      gridspec_kw={'right':0.975, \n",
    "                                  'top':0.95, \n",
    "                                  'bottom':0.15})\n",
    "\n",
    "cond = data.ssnamenr==data.ssnamenr\n",
    "cond = maskFINK\n",
    "ax.scatter( data.loc[cond,'diameter.value'],\n",
    "            data.loc[cond,'obliquity'], \n",
    "            marker='.',\n",
    "            color=colors[0], \n",
    "            s=2, \n",
    "            alpha=0.15 )\n",
    "\n",
    "ax.set_xscale('log')\n",
    "ax.set_xlim(1,300)\n",
    "ax.set_ylim(0,180)\n",
    "ax.set_xlabel('Diameter / km')\n",
    "ax.set_ylabel('Obliquity / deg')\n",
    "\n",
    "\n",
    "ax.set_xticks([1,10,100])\n",
    "ax.set_xticklabels(['1','10','100'])\n",
    "ax.set_yticks([0,30,60,90,120,150,180])\n",
    "\n",
    "fig.savefig(f'{data_fink}plots/obliquity_vs_diameter.png', facecolor='white', dpi=150)\n"
   ]
  },
  {
   "cell_type": "code",
   "execution_count": null,
   "id": "aaddc54d-348d-4d45-942d-a7f9eac4a9d0",
   "metadata": {},
   "outputs": [],
   "source": [
    "cond = maskFINK & (data['diameter.value']<10)\n",
    "fig, ax = plt.subplots()\n",
    "\n",
    "r = [0,180]\n",
    "b = 37\n",
    "ax.hist( data.loc[cond,'obliquity'], bins=b, range=r )"
   ]
  },
  {
   "cell_type": "markdown",
   "id": "067e4822-4b36-43f0-a4b7-ffa420e73074",
   "metadata": {},
   "source": [
    "# Oblateness"
   ]
  },
  {
   "cell_type": "code",
   "execution_count": null,
   "id": "a5dbb7d7-6349-4669-96e4-1305e6eca851",
   "metadata": {},
   "outputs": [],
   "source": [
    "damit = pd.read_csv( f'{data_fink}/data/damit.csv' )"
   ]
  },
  {
   "cell_type": "code",
   "execution_count": null,
   "id": "f68bbe7e-390e-4959-b2c1-cb3e63cdb1db",
   "metadata": {},
   "outputs": [],
   "source": [
    "np.mean(damit.R), np.mean(damit.R2)"
   ]
  },
  {
   "cell_type": "code",
   "execution_count": null,
   "id": "8db306f2-8468-4a00-8c3a-f96b75c98433",
   "metadata": {},
   "outputs": [],
   "source": [
    "fig, ax = plt.subplots(figsize=fs.figsize(0.5), \n",
    "                      gridspec_kw={'right':0.975, \n",
    "                                  'top':0.95, \n",
    "                                  'bottom':0.15})\n",
    "\n",
    "r = [0,1]\n",
    "b = 50\n",
    "\n",
    "colors = ['#15284F', '#F5622E']\n",
    "\n",
    "\n",
    "ax.hist( damit.R, range=r, bins=b, \n",
    "        color='lightgray', \n",
    "        density=True, alpha=0.5, label=f'DAMIT ({len(damit):,d})' )\n",
    "\n",
    "ax.hist( damit.R2, range=r, bins=b, \n",
    "        color='slategray', \n",
    "        density=True, alpha=0.5, label=f'DAMIT ({len(damit):,d})' )\n",
    "# ax.hist( data.loc[maskFINK,'HG1G2hyb_R'], range=r, bins=b, density=True, alpha=0.5, label=f'FINK ({len(data[maskFINK]):,d})' )\n",
    "\n",
    "cond = (data.HG1G2hyb_dR<0.9) & maskFINK\n",
    "ax.hist( data.loc[cond,'HG1G2hyb_R'], range=r, bins=b, \n",
    "         color=colors[0], \n",
    "        density=True, alpha=0.5, label=f'FINK ({len(data[maskFINK]):,d})' )\n",
    "\n",
    "ax.set_ylim(0,4)\n",
    "ax.set_xlabel('Oblateness R')\n",
    "ax.set_ylabel('Count density')\n",
    "ax.legend(loc='upper left')\n",
    "\n",
    "fig.savefig(f'{data_fink}plots/R_and_damit.png', facecolor='white', dpi=150)\n"
   ]
  },
  {
   "cell_type": "code",
   "execution_count": null,
   "id": "79cf0bd2-2dc9-4582-a63e-5e921cd4cb42",
   "metadata": {},
   "outputs": [],
   "source": [
    "# damit.sort_values(by='R').head(40)\n",
    "cond = maskFINK & (data.HG1G2hyb_R>0.18)\n",
    "data[cond].sort_values(by='HG1G2hyb_R').head(40)"
   ]
  },
  {
   "cell_type": "code",
   "execution_count": null,
   "id": "e6e994ea-9502-4ff1-a739-0208b32e562a",
   "metadata": {},
   "outputs": [],
   "source": [
    "fig, ax = plt.subplots(1, 3, figsize=(18,5))\n",
    "\n",
    "r = [0,1]\n",
    "b = 50\n",
    "\n",
    "\n",
    "cond = maskFINK\n",
    "\n",
    "ax[0].scatter( data.loc[cond,'HG1G2hyb_G1_r'], data.loc[cond,'HG1G2hyb_R'], marker='.', alpha=0.15 )\n",
    "ax[1].scatter( data.loc[cond,'HG1G2hyb_G2_r'], data.loc[cond,'HG1G2hyb_R'], marker='.', alpha=0.15 )\n",
    "ax[2].scatter( data.loc[cond,'HG1G2hyb_G1_r']+data.loc[cond,'HG1G2hyb_G2_r'], data.loc[cond,'HG1G2hyb_R'], marker='.', alpha=0.15 )\n",
    "\n",
    "ax[0].set_xlabel('G1')\n",
    "ax[1].set_xlabel('G2')\n",
    "ax[2].set_xlabel('G1 + G2')\n",
    "ax[0].set_ylabel('R')\n",
    "\n",
    "# ax.legend(loc='upper left')"
   ]
  },
  {
   "cell_type": "code",
   "execution_count": null,
   "id": "7b65f3a9-f884-4c44-8aa8-d594f46a9af2",
   "metadata": {},
   "outputs": [],
   "source": [
    "fig, ax = plt.subplots(figsize=(12,5))\n",
    "\n",
    "r = [0,1]\n",
    "b = 50\n",
    "\n",
    "cond = data['HG1G2hyb_R']<0.2\n",
    "\n",
    "ax.scatter( data.loc[cond,'HG1G2hyb_G1_r'], data.loc[cond,'HG1G2hyb_G2_r'], marker='.', alpha=0.15 )\n",
    "\n",
    "# ax[0].set_xlabel('G1')\n",
    "# ax[1].set_xlabel('G2')\n",
    "# ax[2].set_xlabel('G1 + G2')\n",
    "# ax[0].set_ylabel('R')\n",
    "\n",
    "# ax.legend(loc='upper left')"
   ]
  },
  {
   "cell_type": "code",
   "execution_count": null,
   "id": "be6450ee-cb92-402b-ad68-313a2ce5d489",
   "metadata": {},
   "outputs": [],
   "source": []
  },
  {
   "cell_type": "code",
   "execution_count": null,
   "id": "84f1cc2a-7f50-429e-8c92-f44828041b82",
   "metadata": {},
   "outputs": [],
   "source": []
  },
  {
   "cell_type": "code",
   "execution_count": null,
   "id": "5f3a0cde-042b-460d-9e8a-3e512dca021d",
   "metadata": {},
   "outputs": [],
   "source": []
  },
  {
   "cell_type": "code",
   "execution_count": null,
   "id": "e6aa66ad-1fba-456d-82ec-a1e250fd771a",
   "metadata": {},
   "outputs": [],
   "source": []
  }
 ],
 "metadata": {
  "kernelspec": {
   "display_name": "Python 3 (ipykernel)",
   "language": "python",
   "name": "python3"
  },
  "language_info": {
   "codemirror_mode": {
    "name": "ipython",
    "version": 3
   },
   "file_extension": ".py",
   "mimetype": "text/x-python",
   "name": "python",
   "nbconvert_exporter": "python",
   "pygments_lexer": "ipython3",
   "version": "3.9.12"
  }
 },
 "nbformat": 4,
 "nbformat_minor": 5
}
