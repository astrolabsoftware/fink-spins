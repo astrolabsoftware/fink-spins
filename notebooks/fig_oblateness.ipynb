{
 "cells": [
  {
   "cell_type": "code",
   "execution_count": 37,
   "id": "c67cc7b8-e6e2-44d4-9be9-ddafd36bca34",
   "metadata": {},
   "outputs": [],
   "source": [
    "import os\n",
    "import sys\n",
    "import numpy as np\n",
    "import pandas as pd\n",
    "\n",
    "import rocks\n",
    "\n",
    "rocks.set_log_level(\"error\")\n",
    "\n",
    "import matplotlib.pyplot as plt\n",
    "from mpl_toolkits.axes_grid1.inset_locator import inset_axes\n",
    "\n",
    "from figure_mask import compute_mask, print_statistics, compute_mask_spin"
   ]
  },
  {
   "cell_type": "code",
   "execution_count": 3,
   "id": "30842b91",
   "metadata": {},
   "outputs": [],
   "source": [
    "import figure_setup as fs"
   ]
  },
  {
   "cell_type": "markdown",
   "id": "6198a3d1-286c-4c4b-806e-5c085aabc386",
   "metadata": {},
   "source": [
    "# Get ZTF fit"
   ]
  },
  {
   "cell_type": "code",
   "execution_count": 16,
   "id": "b76b0d15-20ce-4b38-907d-6ce100dfd15f",
   "metadata": {},
   "outputs": [],
   "source": [
    "# Local Configuration\n",
    "data_fink = \"../\"\n",
    "bft_file = os.path.join(data_fink, \"data\", \"ssoBFT-latest.parquet\")\n",
    "damit_file = os.path.join(data_fink, \"data\", \"damit_abc.csv\")"
   ]
  },
  {
   "cell_type": "code",
   "execution_count": 17,
   "id": "ca033440-e54f-4997-a212-e419f377ed07",
   "metadata": {},
   "outputs": [],
   "source": [
    "# Threshold for selection (of non-zero values)\n",
    "thres = 1e-3\n",
    "\n",
    "# Minimum phase angle to consider\n",
    "min_phase = 3"
   ]
  },
  {
   "cell_type": "code",
   "execution_count": 18,
   "id": "5ea808c9-ac69-4b19-9c98-8e41113a8fd6",
   "metadata": {},
   "outputs": [],
   "source": [
    "# ZTF filters 1: g, 2: r\n",
    "filters = {\"1\": \"g\", \"2\": \"r\"}\n",
    "\n",
    "fink_colors = [\"#15284F\", \"#F5622E\"]\n",
    "\n",
    "color_fink = \"#15284F\""
   ]
  },
  {
   "cell_type": "code",
   "execution_count": 19,
   "id": "ced7ade3",
   "metadata": {},
   "outputs": [],
   "source": [
    "damit = pd.read_csv(damit_file)\n",
    "# damit.head(5)"
   ]
  },
  {
   "cell_type": "code",
   "execution_count": 20,
   "id": "9c1ff10d",
   "metadata": {},
   "outputs": [
    {
     "data": {
      "text/html": [
       "<div>\n",
       "<style scoped>\n",
       "    .dataframe tbody tr th:only-of-type {\n",
       "        vertical-align: middle;\n",
       "    }\n",
       "\n",
       "    .dataframe tbody tr th {\n",
       "        vertical-align: top;\n",
       "    }\n",
       "\n",
       "    .dataframe thead th {\n",
       "        text-align: right;\n",
       "    }\n",
       "</style>\n",
       "<table border=\"1\" class=\"dataframe\">\n",
       "  <thead>\n",
       "    <tr style=\"text-align: right;\">\n",
       "      <th></th>\n",
       "      <th>model_id</th>\n",
       "      <th>asteroid_id</th>\n",
       "      <th>lambda</th>\n",
       "      <th>beta</th>\n",
       "      <th>period</th>\n",
       "      <th>number</th>\n",
       "      <th>name</th>\n",
       "      <th>designation</th>\n",
       "      <th>reference_id</th>\n",
       "      <th>bibcode</th>\n",
       "      <th>a</th>\n",
       "      <th>b</th>\n",
       "      <th>c</th>\n",
       "      <th>R</th>\n",
       "    </tr>\n",
       "  </thead>\n",
       "  <tbody>\n",
       "    <tr>\n",
       "      <th>0</th>\n",
       "      <td>101</td>\n",
       "      <td>101</td>\n",
       "      <td>35.0</td>\n",
       "      <td>-12.0</td>\n",
       "      <td>7.813230</td>\n",
       "      <td>2.0</td>\n",
       "      <td>Pallas</td>\n",
       "      <td>NaN</td>\n",
       "      <td>106</td>\n",
       "      <td>2003icar..164..346t</td>\n",
       "      <td>2.600240e+06</td>\n",
       "      <td>2.464155e+06</td>\n",
       "      <td>2.282461e+06</td>\n",
       "      <td>0.902027</td>\n",
       "    </tr>\n",
       "    <tr>\n",
       "      <th>1</th>\n",
       "      <td>101</td>\n",
       "      <td>101</td>\n",
       "      <td>35.0</td>\n",
       "      <td>-12.0</td>\n",
       "      <td>7.813230</td>\n",
       "      <td>2.0</td>\n",
       "      <td>Pallas</td>\n",
       "      <td>NaN</td>\n",
       "      <td>139</td>\n",
       "      <td>2011icar..214..652d</td>\n",
       "      <td>2.600240e+06</td>\n",
       "      <td>2.464155e+06</td>\n",
       "      <td>2.282461e+06</td>\n",
       "      <td>0.902027</td>\n",
       "    </tr>\n",
       "    <tr>\n",
       "      <th>2</th>\n",
       "      <td>106</td>\n",
       "      <td>104</td>\n",
       "      <td>340.0</td>\n",
       "      <td>42.0</td>\n",
       "      <td>7.274471</td>\n",
       "      <td>6.0</td>\n",
       "      <td>Hebe</td>\n",
       "      <td>NaN</td>\n",
       "      <td>106</td>\n",
       "      <td>2003icar..164..346t</td>\n",
       "      <td>1.690630e+05</td>\n",
       "      <td>1.634407e+05</td>\n",
       "      <td>1.447296e+05</td>\n",
       "      <td>0.870793</td>\n",
       "    </tr>\n",
       "    <tr>\n",
       "      <th>3</th>\n",
       "      <td>106</td>\n",
       "      <td>104</td>\n",
       "      <td>340.0</td>\n",
       "      <td>42.0</td>\n",
       "      <td>7.274471</td>\n",
       "      <td>6.0</td>\n",
       "      <td>Hebe</td>\n",
       "      <td>NaN</td>\n",
       "      <td>139</td>\n",
       "      <td>2011icar..214..652d</td>\n",
       "      <td>1.690630e+05</td>\n",
       "      <td>1.634407e+05</td>\n",
       "      <td>1.447296e+05</td>\n",
       "      <td>0.870793</td>\n",
       "    </tr>\n",
       "    <tr>\n",
       "      <th>4</th>\n",
       "      <td>110</td>\n",
       "      <td>106</td>\n",
       "      <td>335.0</td>\n",
       "      <td>-5.0</td>\n",
       "      <td>12.866670</td>\n",
       "      <td>8.0</td>\n",
       "      <td>Flora</td>\n",
       "      <td>NaN</td>\n",
       "      <td>106</td>\n",
       "      <td>2003icar..164..346t</td>\n",
       "      <td>8.951272e+04</td>\n",
       "      <td>8.496190e+04</td>\n",
       "      <td>7.833080e+04</td>\n",
       "      <td>0.898516</td>\n",
       "    </tr>\n",
       "    <tr>\n",
       "      <th>...</th>\n",
       "      <td>...</td>\n",
       "      <td>...</td>\n",
       "      <td>...</td>\n",
       "      <td>...</td>\n",
       "      <td>...</td>\n",
       "      <td>...</td>\n",
       "      <td>...</td>\n",
       "      <td>...</td>\n",
       "      <td>...</td>\n",
       "      <td>...</td>\n",
       "      <td>...</td>\n",
       "      <td>...</td>\n",
       "      <td>...</td>\n",
       "      <td>...</td>\n",
       "    </tr>\n",
       "    <tr>\n",
       "      <th>16312</th>\n",
       "      <td>16275</td>\n",
       "      <td>10853</td>\n",
       "      <td>326.0</td>\n",
       "      <td>-83.0</td>\n",
       "      <td>8.016800</td>\n",
       "      <td>99949.0</td>\n",
       "      <td>Miepgies</td>\n",
       "      <td>NaN</td>\n",
       "      <td>665</td>\n",
       "      <td>2023arxiv230510798d</td>\n",
       "      <td>8.597170e-01</td>\n",
       "      <td>5.586180e-01</td>\n",
       "      <td>5.387130e-01</td>\n",
       "      <td>0.795492</td>\n",
       "    </tr>\n",
       "    <tr>\n",
       "      <th>16313</th>\n",
       "      <td>16276</td>\n",
       "      <td>10854</td>\n",
       "      <td>34.0</td>\n",
       "      <td>-42.0</td>\n",
       "      <td>143.500000</td>\n",
       "      <td>99973.0</td>\n",
       "      <td>NaN</td>\n",
       "      <td>NaN</td>\n",
       "      <td>665</td>\n",
       "      <td>2023arxiv230510798d</td>\n",
       "      <td>9.555900e-01</td>\n",
       "      <td>5.506200e-01</td>\n",
       "      <td>4.848120e-01</td>\n",
       "      <td>0.693913</td>\n",
       "    </tr>\n",
       "    <tr>\n",
       "      <th>16314</th>\n",
       "      <td>16277</td>\n",
       "      <td>10854</td>\n",
       "      <td>194.0</td>\n",
       "      <td>-64.0</td>\n",
       "      <td>143.490000</td>\n",
       "      <td>99973.0</td>\n",
       "      <td>NaN</td>\n",
       "      <td>NaN</td>\n",
       "      <td>665</td>\n",
       "      <td>2023arxiv230510798d</td>\n",
       "      <td>1.003388e+00</td>\n",
       "      <td>5.521440e-01</td>\n",
       "      <td>4.607300e-01</td>\n",
       "      <td>0.646806</td>\n",
       "    </tr>\n",
       "    <tr>\n",
       "      <th>16315</th>\n",
       "      <td>16278</td>\n",
       "      <td>10855</td>\n",
       "      <td>192.0</td>\n",
       "      <td>-52.0</td>\n",
       "      <td>7.071400</td>\n",
       "      <td>99990.0</td>\n",
       "      <td>NaN</td>\n",
       "      <td>NaN</td>\n",
       "      <td>665</td>\n",
       "      <td>2023arxiv230510798d</td>\n",
       "      <td>1.090510e+00</td>\n",
       "      <td>5.518300e-01</td>\n",
       "      <td>4.180810e-01</td>\n",
       "      <td>0.570504</td>\n",
       "    </tr>\n",
       "    <tr>\n",
       "      <th>16316</th>\n",
       "      <td>16279</td>\n",
       "      <td>10855</td>\n",
       "      <td>24.0</td>\n",
       "      <td>-47.0</td>\n",
       "      <td>7.071400</td>\n",
       "      <td>99990.0</td>\n",
       "      <td>NaN</td>\n",
       "      <td>NaN</td>\n",
       "      <td>665</td>\n",
       "      <td>2023arxiv230510798d</td>\n",
       "      <td>1.024072e+00</td>\n",
       "      <td>5.442000e-01</td>\n",
       "      <td>4.448690e-01</td>\n",
       "      <td>0.625943</td>\n",
       "    </tr>\n",
       "  </tbody>\n",
       "</table>\n",
       "<p>16317 rows × 14 columns</p>\n",
       "</div>"
      ],
      "text/plain": [
       "       model_id  asteroid_id  lambda  beta      period   number      name  \\\n",
       "0           101          101    35.0 -12.0    7.813230      2.0    Pallas   \n",
       "1           101          101    35.0 -12.0    7.813230      2.0    Pallas   \n",
       "2           106          104   340.0  42.0    7.274471      6.0      Hebe   \n",
       "3           106          104   340.0  42.0    7.274471      6.0      Hebe   \n",
       "4           110          106   335.0  -5.0   12.866670      8.0     Flora   \n",
       "...         ...          ...     ...   ...         ...      ...       ...   \n",
       "16312     16275        10853   326.0 -83.0    8.016800  99949.0  Miepgies   \n",
       "16313     16276        10854    34.0 -42.0  143.500000  99973.0       NaN   \n",
       "16314     16277        10854   194.0 -64.0  143.490000  99973.0       NaN   \n",
       "16315     16278        10855   192.0 -52.0    7.071400  99990.0       NaN   \n",
       "16316     16279        10855    24.0 -47.0    7.071400  99990.0       NaN   \n",
       "\n",
       "      designation  reference_id              bibcode             a  \\\n",
       "0             NaN           106  2003icar..164..346t  2.600240e+06   \n",
       "1             NaN           139  2011icar..214..652d  2.600240e+06   \n",
       "2             NaN           106  2003icar..164..346t  1.690630e+05   \n",
       "3             NaN           139  2011icar..214..652d  1.690630e+05   \n",
       "4             NaN           106  2003icar..164..346t  8.951272e+04   \n",
       "...           ...           ...                  ...           ...   \n",
       "16312         NaN           665  2023arxiv230510798d  8.597170e-01   \n",
       "16313         NaN           665  2023arxiv230510798d  9.555900e-01   \n",
       "16314         NaN           665  2023arxiv230510798d  1.003388e+00   \n",
       "16315         NaN           665  2023arxiv230510798d  1.090510e+00   \n",
       "16316         NaN           665  2023arxiv230510798d  1.024072e+00   \n",
       "\n",
       "                  b             c         R  \n",
       "0      2.464155e+06  2.282461e+06  0.902027  \n",
       "1      2.464155e+06  2.282461e+06  0.902027  \n",
       "2      1.634407e+05  1.447296e+05  0.870793  \n",
       "3      1.634407e+05  1.447296e+05  0.870793  \n",
       "4      8.496190e+04  7.833080e+04  0.898516  \n",
       "...             ...           ...       ...  \n",
       "16312  5.586180e-01  5.387130e-01  0.795492  \n",
       "16313  5.506200e-01  4.848120e-01  0.693913  \n",
       "16314  5.521440e-01  4.607300e-01  0.646806  \n",
       "16315  5.518300e-01  4.180810e-01  0.570504  \n",
       "16316  5.442000e-01  4.448690e-01  0.625943  \n",
       "\n",
       "[16317 rows x 14 columns]"
      ]
     },
     "execution_count": 20,
     "metadata": {},
     "output_type": "execute_result"
    }
   ],
   "source": [
    "damit"
   ]
  },
  {
   "cell_type": "code",
   "execution_count": 21,
   "id": "6b4db0c1-36bc-4db9-b2d2-751e97ba0d35",
   "metadata": {},
   "outputs": [],
   "source": [
    "data = pd.read_parquet(os.path.join(data_fink, \"data\", \"ztf\", \"sso_ZTF.parquet\"))"
   ]
  },
  {
   "cell_type": "code",
   "execution_count": 22,
   "id": "1ab224d6",
   "metadata": {},
   "outputs": [
    {
     "data": {
      "text/plain": [
       "Index(['ssnamenr', 'HG_chi2red', 'HG_status', 'HG_fit', 'HG_rms', 'HG_rms_g',\n",
       "       'HG_rms_r', 'HG_median_error_phot', 'HG_median_error_phot_1',\n",
       "       'HG_median_error_phot_2', 'HG_H_g', 'HG_dH_g', 'HG_G_g', 'HG_dG_g',\n",
       "       'HG_H_r', 'HG_dH_r', 'HG_G_r', 'HG_dG_r', 'HG_flag', 'HG1G2_chi2red',\n",
       "       'HG1G2_status', 'HG1G2_fit', 'HG1G2_rms', 'HG1G2_rms_g', 'HG1G2_rms_r',\n",
       "       'HG1G2_median_error_phot', 'HG1G2_median_error_phot_1',\n",
       "       'HG1G2_median_error_phot_2', 'HG1G2_H_g', 'HG1G2_dH_g', 'HG1G2_G1_g',\n",
       "       'HG1G2_dG1_g', 'HG1G2_G2_g', 'HG1G2_dG2_g', 'HG1G2_H_r', 'HG1G2_dH_r',\n",
       "       'HG1G2_G1_r', 'HG1G2_dG1_r', 'HG1G2_G2_r', 'HG1G2_dG2_r', 'HG1G2_flag',\n",
       "       'SHG1G2_chi2red', 'SHG1G2_min_cos_lambda', 'SHG1G2_mean_cos_lambda',\n",
       "       'SHG1G2_max_cos_lambda', 'SHG1G2_status', 'SHG1G2_fit', 'SHG1G2_rms',\n",
       "       'SHG1G2_rms_g', 'SHG1G2_rms_r', 'SHG1G2_median_error_phot',\n",
       "       'SHG1G2_median_error_phot_1', 'SHG1G2_median_error_phot_2', 'n_obs',\n",
       "       'n_obs_g', 'n_obs_r', 'min_phase', 'min_phase_g', 'min_phase_r',\n",
       "       'max_phase', 'max_phase_g', 'max_phase_r', 'SHG1G2_R', 'SHG1G2_dR',\n",
       "       'SHG1G2_alpha0', 'SHG1G2_dalpha0', 'SHG1G2_delta0', 'SHG1G2_ddelta0',\n",
       "       'SHG1G2_H_g', 'SHG1G2_dH_g', 'SHG1G2_G1_g', 'SHG1G2_dG1_g',\n",
       "       'SHG1G2_G2_g', 'SHG1G2_dG2_g', 'SHG1G2_H_r', 'SHG1G2_dH_r',\n",
       "       'SHG1G2_G1_r', 'SHG1G2_dG1_r', 'SHG1G2_G2_r', 'SHG1G2_dG2_r',\n",
       "       'mean_astrometry', 'std_astrometry', 'skew_astrometry',\n",
       "       'kurt_astrometry', 'n_days', 'n_days_g', 'n_days_r', 'last_jd', 'name',\n",
       "       'number', 'SHG1G2_obliquity', 'SHG1G2_alpha0_alt', 'SHG1G2_delta0_alt',\n",
       "       'version', 'SHG1G2_flag'],\n",
       "      dtype='object')"
      ]
     },
     "execution_count": 22,
     "metadata": {},
     "output_type": "execute_result"
    }
   ],
   "source": [
    "data.columns"
   ]
  },
  {
   "cell_type": "code",
   "execution_count": 23,
   "id": "7506e32d-fccc-4007-b27a-6bda182f0989",
   "metadata": {},
   "outputs": [
    {
     "name": "stdout",
     "output_type": "stream",
     "text": [
      "above 90: 0 \n",
      "below 90: 0 \n"
     ]
    }
   ],
   "source": [
    "data[\"SHG1G2_dSpin\"] = np.sqrt(\n",
    "    (data[\"SHG1G2_dalpha0\"] * np.cos(np.radians(data[\"SHG1G2_delta0\"]))) ** 2\n",
    "    + data[\"SHG1G2_ddelta0\"] ** 2\n",
    ")\n",
    "\n",
    "\n",
    "# # Remove solutions above 90 deg of latitude\n",
    "cond = data.SHG1G2_delta0 > 90\n",
    "data.loc[cond, \"SHG1G2_delta0\"] = 90\n",
    "print(f\"above 90: {len(data[cond])} \")\n",
    "\n",
    "cond = data.SHG1G2_delta0 < -90\n",
    "data.loc[cond, \"SHG1G2_delta0\"] = -90\n",
    "print(f\"below 90: {len(data[cond])} \")"
   ]
  },
  {
   "cell_type": "code",
   "execution_count": 62,
   "id": "9a2e63c8-6e42-41aa-86bf-6c3ded183f6b",
   "metadata": {},
   "outputs": [
    {
     "name": "stdout",
     "output_type": "stream",
     "text": [
      "  All data       : 122675  (100.00%)\n",
      "  Mask HG (g∩r) : 120023  ( 97.84%)\n",
      "  Mask HG (gUr) : 120024  ( 97.84%)\n",
      "\n",
      "  All data       : 122675  (100.00%)\n",
      "  Mask HG1G2 (g∩r) :  47177  ( 38.46%)\n",
      "  Mask HG1G2 (gUr) :  85363  ( 69.58%)\n",
      "\n",
      "  All data       : 122675  (100.00%)\n",
      "  Mask SHG1G2 (g∩r) :  64279  ( 52.40%)\n",
      "  Mask SHG1G2 (gUr) :  97579  ( 79.54%)\n",
      "\n",
      "  All data       : 122675  (100.00%)\n",
      "  Mask FINK (g∩r) :  63092  ( 51.43%)\n",
      "  Mask FINK (gUr) :  95593  ( 77.92%)\n",
      "\n"
     ]
    }
   ],
   "source": [
    "mask_SHG1G2_union = compute_mask(data, model='SHG1G2', kind='union')\n",
    "mask_HG1G2_union = compute_mask(data, model='HG1G2', kind='union')\n",
    "mask_HG_union = compute_mask(data, model='HG', kind='union')\n",
    "\n",
    "mask_SHG1G2_inter = compute_mask(data, model='SHG1G2', kind='inter')\n",
    "mask_HG1G2_inter = compute_mask(data, model='HG1G2', kind='inter')\n",
    "mask_HG_inter = compute_mask(data, model='HG', kind='inter')\n",
    "\n",
    "maskFINK_inter = compute_mask(data, R_min=0.305, model='FINK', kind='inter')\n",
    "maskFINK_union = compute_mask(data, R_min=0.305, model='FINK', kind='union')\n",
    "\n",
    "for model in ['HG', 'HG1G2', 'SHG1G2', 'FINK']:\n",
    "    print_statistics(data, model)\n",
    "    print()"
   ]
  },
  {
   "cell_type": "markdown",
   "id": "46518399-41ee-49f2-a94a-04776d3053ca",
   "metadata": {},
   "source": [
    "# Histogram of oblateness R"
   ]
  },
  {
   "cell_type": "code",
   "execution_count": 66,
   "id": "e4d471b8",
   "metadata": {},
   "outputs": [],
   "source": [
    "maskFINK = maskFINK_union\n",
    "\n",
    "# --------------------------------------------------------------------------------\n",
    "fig, ax = plt.subplots(\n",
    "    figsize=fs.figsize(0.5),\n",
    "    gridspec_kw={\n",
    "        \"hspace\": 0.02,\n",
    "        \"wspace\": 0.02,\n",
    "        \"top\": 0.98,\n",
    "        \"bottom\": 0.13,\n",
    "        \"left\": 0.10,\n",
    "        \"right\": 0.98,\n",
    "    },\n",
    ")\n",
    "\n",
    "# --------------------------------------------------------------------------------\n",
    "# FINK R\n",
    "r = [0.31, 1]\n",
    "b = 50\n",
    "\n",
    "\n",
    "ax.hist(\n",
    "    damit[\"R\"],\n",
    "    range=r,\n",
    "    bins=b,\n",
    "    density=True,\n",
    "    label=f\"DAMIT ({len(damit):,d})\",\n",
    "#     color=\"slategray\",\n",
    "    lw=1,\n",
    "    ls='--',\n",
    "    histtype='step',\n",
    "    alpha=0.8,\n",
    "    rasterized=True,\n",
    ")\n",
    "\n",
    "\n",
    "ax.hist(\n",
    "    data.loc[maskFINK, \"SHG1G2_R\"],\n",
    "    range=r,\n",
    "    bins=b,\n",
    "    density=True,\n",
    "    label=f\"FINK ({len(data[maskFINK]):,d})\",\n",
    "#     color=color_fink,\n",
    "    lw=2,\n",
    "    histtype='step',\n",
    "    alpha=0.8,\n",
    "    rasterized=True,\n",
    ")\n",
    "\n",
    "\n",
    "# --------------------------------------------------------------------------------\n",
    "# Axes\n",
    "ax.set_xlabel(\"Oblateness R\")\n",
    "ax.set_ylabel(\"Density count\")\n",
    "\n",
    "ax.set_ylim(0, 5)\n",
    "ax.legend(loc=\"upper left\")\n",
    "\n",
    "# --------------------------------------------------------------------------------\n",
    "fig.savefig(\n",
    "    os.path.join(data_fink, \"gfx\", \"article\", \"distrib_R.png\"),\n",
    "    facecolor=\"white\",\n",
    ")\n",
    "\n",
    "fig.savefig(\n",
    "    os.path.join(data_fink, \"gfx\", \"article\", \"distrib_R.pgf\"),\n",
    ")\n",
    "plt.close()"
   ]
  },
  {
   "cell_type": "code",
   "execution_count": 67,
   "id": "cb5c8ca7",
   "metadata": {},
   "outputs": [
    {
     "name": "stdout",
     "output_type": "stream",
     "text": [
      "\\newcommand{\\damitSSO}{10,743\\xspace}\n",
      "\\newcommand{\\damitModel}{16,317\\xspace}\n"
     ]
    }
   ],
   "source": [
    "print(f\"\\\\newcommand{{\\damitSSO}}{{{damit['asteroid_id'].nunique():,d}\\\\xspace}}\")\n",
    "print(f\"\\\\newcommand{{\\damitModel}}{{{len(damit):,d}\\\\xspace}}\")"
   ]
  },
  {
   "cell_type": "markdown",
   "id": "33836b7d",
   "metadata": {},
   "source": [
    "below is exploratory"
   ]
  },
  {
   "cell_type": "markdown",
   "id": "576e8adb",
   "metadata": {},
   "source": [
    "# Check RMS of SSOs with shape models"
   ]
  },
  {
   "cell_type": "code",
   "execution_count": 68,
   "id": "d186116a",
   "metadata": {},
   "outputs": [
    {
     "data": {
      "text/html": [
       "<pre style=\"white-space:pre;overflow-x:auto;line-height:normal;font-family:Menlo,'DejaVu Sans Mono',consolas,'Courier New',monospace\"><span style=\"color: #800000; text-decoration-color: #800000; font-weight: bold\">ERROR   </span> <span style=\"font-weight: bold\">[</span>rocks<span style=\"font-weight: bold\">]</span> Could not identify <span style=\"color: #008000; text-decoration-color: #008000\">'2009 PA09'</span>.                                                                   \n",
       "</pre>\n"
      ],
      "text/plain": [
       "\u001b[1;31mERROR   \u001b[0m \u001b[1m[\u001b[0mrocks\u001b[1m]\u001b[0m Could not identify \u001b[32m'2009 PA09'\u001b[0m.                                                                   \n"
      ]
     },
     "metadata": {},
     "output_type": "display_data"
    },
    {
     "data": {
      "text/html": [
       "<pre style=\"white-space:pre;overflow-x:auto;line-height:normal;font-family:Menlo,'DejaVu Sans Mono',consolas,'Courier New',monospace\"><span style=\"color: #800000; text-decoration-color: #800000; font-weight: bold\">ERROR   </span> <span style=\"font-weight: bold\">[</span>rocks<span style=\"font-weight: bold\">]</span> Could not identify <span style=\"color: #008000; text-decoration-color: #008000\">'2016 XB07'</span>.                                                                   \n",
       "</pre>\n"
      ],
      "text/plain": [
       "\u001b[1;31mERROR   \u001b[0m \u001b[1m[\u001b[0mrocks\u001b[1m]\u001b[0m Could not identify \u001b[32m'2016 XB07'\u001b[0m.                                                                   \n"
      ]
     },
     "metadata": {},
     "output_type": "display_data"
    },
    {
     "data": {
      "text/html": [
       "<pre style=\"white-space:pre;overflow-x:auto;line-height:normal;font-family:Menlo,'DejaVu Sans Mono',consolas,'Courier New',monospace\"><span style=\"color: #800000; text-decoration-color: #800000; font-weight: bold\">ERROR   </span> <span style=\"font-weight: bold\">[</span>rocks<span style=\"font-weight: bold\">]</span> Could not identify <span style=\"color: #008000; text-decoration-color: #008000\">'2006 QB03'</span>.                                                                   \n",
       "</pre>\n"
      ],
      "text/plain": [
       "\u001b[1;31mERROR   \u001b[0m \u001b[1m[\u001b[0mrocks\u001b[1m]\u001b[0m Could not identify \u001b[32m'2006 QB03'\u001b[0m.                                                                   \n"
      ]
     },
     "metadata": {},
     "output_type": "display_data"
    },
    {
     "data": {
      "text/html": [
       "<pre style=\"white-space:pre;overflow-x:auto;line-height:normal;font-family:Menlo,'DejaVu Sans Mono',consolas,'Courier New',monospace\"><span style=\"color: #800000; text-decoration-color: #800000; font-weight: bold\">ERROR   </span> <span style=\"font-weight: bold\">[</span>rocks<span style=\"font-weight: bold\">]</span> Could not identify <span style=\"color: #008000; text-decoration-color: #008000\">'2013 WJ00'</span>.                                                                   \n",
       "</pre>\n"
      ],
      "text/plain": [
       "\u001b[1;31mERROR   \u001b[0m \u001b[1m[\u001b[0mrocks\u001b[1m]\u001b[0m Could not identify \u001b[32m'2013 WJ00'\u001b[0m.                                                                   \n"
      ]
     },
     "metadata": {},
     "output_type": "display_data"
    },
    {
     "data": {
      "text/html": [
       "<pre style=\"white-space:pre;overflow-x:auto;line-height:normal;font-family:Menlo,'DejaVu Sans Mono',consolas,'Courier New',monospace\"><span style=\"color: #800000; text-decoration-color: #800000; font-weight: bold\">ERROR   </span> <span style=\"font-weight: bold\">[</span>rocks<span style=\"font-weight: bold\">]</span> Could not identify <span style=\"color: #008000; text-decoration-color: #008000\">'2020 OW03'</span>.                                                                   \n",
       "</pre>\n"
      ],
      "text/plain": [
       "\u001b[1;31mERROR   \u001b[0m \u001b[1m[\u001b[0mrocks\u001b[1m]\u001b[0m Could not identify \u001b[32m'2020 OW03'\u001b[0m.                                                                   \n"
      ]
     },
     "metadata": {},
     "output_type": "display_data"
    },
    {
     "data": {
      "text/html": [
       "<pre style=\"white-space:pre;overflow-x:auto;line-height:normal;font-family:Menlo,'DejaVu Sans Mono',consolas,'Courier New',monospace\"><span style=\"color: #800000; text-decoration-color: #800000; font-weight: bold\">ERROR   </span> <span style=\"font-weight: bold\">[</span>rocks<span style=\"font-weight: bold\">]</span> Could not identify <span style=\"color: #008000; text-decoration-color: #008000\">'2007 AS01'</span>.                                                                   \n",
       "</pre>\n"
      ],
      "text/plain": [
       "\u001b[1;31mERROR   \u001b[0m \u001b[1m[\u001b[0mrocks\u001b[1m]\u001b[0m Could not identify \u001b[32m'2007 AS01'\u001b[0m.                                                                   \n"
      ]
     },
     "metadata": {},
     "output_type": "display_data"
    },
    {
     "data": {
      "text/html": [
       "<pre style=\"white-space:pre;overflow-x:auto;line-height:normal;font-family:Menlo,'DejaVu Sans Mono',consolas,'Courier New',monospace\"><span style=\"color: #800000; text-decoration-color: #800000; font-weight: bold\">ERROR   </span> <span style=\"font-weight: bold\">[</span>rocks<span style=\"font-weight: bold\">]</span> Could not identify <span style=\"color: #008000; text-decoration-color: #008000\">'2020 JQ00'</span>.                                                                   \n",
       "</pre>\n"
      ],
      "text/plain": [
       "\u001b[1;31mERROR   \u001b[0m \u001b[1m[\u001b[0mrocks\u001b[1m]\u001b[0m Could not identify \u001b[32m'2020 JQ00'\u001b[0m.                                                                   \n"
      ]
     },
     "metadata": {},
     "output_type": "display_data"
    },
    {
     "data": {
      "text/html": [
       "<pre style=\"white-space:pre;overflow-x:auto;line-height:normal;font-family:Menlo,'DejaVu Sans Mono',consolas,'Courier New',monospace\"><span style=\"color: #800000; text-decoration-color: #800000; font-weight: bold\">ERROR   </span> <span style=\"font-weight: bold\">[</span>rocks<span style=\"font-weight: bold\">]</span> Could not identify <span style=\"color: #008000; text-decoration-color: #008000\">'2016 XE01'</span>.                                                                   \n",
       "</pre>\n"
      ],
      "text/plain": [
       "\u001b[1;31mERROR   \u001b[0m \u001b[1m[\u001b[0mrocks\u001b[1m]\u001b[0m Could not identify \u001b[32m'2016 XE01'\u001b[0m.                                                                   \n"
      ]
     },
     "metadata": {},
     "output_type": "display_data"
    },
    {
     "data": {
      "text/html": [
       "<pre style=\"white-space:pre;overflow-x:auto;line-height:normal;font-family:Menlo,'DejaVu Sans Mono',consolas,'Courier New',monospace\"><span style=\"color: #800000; text-decoration-color: #800000; font-weight: bold\">ERROR   </span> <span style=\"font-weight: bold\">[</span>rocks<span style=\"font-weight: bold\">]</span> Could not identify <span style=\"color: #008000; text-decoration-color: #008000\">'1999 UK05'</span>.                                                                   \n",
       "</pre>\n"
      ],
      "text/plain": [
       "\u001b[1;31mERROR   \u001b[0m \u001b[1m[\u001b[0mrocks\u001b[1m]\u001b[0m Could not identify \u001b[32m'1999 UK05'\u001b[0m.                                                                   \n"
      ]
     },
     "metadata": {},
     "output_type": "display_data"
    },
    {
     "data": {
      "text/html": [
       "<pre style=\"white-space:pre;overflow-x:auto;line-height:normal;font-family:Menlo,'DejaVu Sans Mono',consolas,'Courier New',monospace\"><span style=\"color: #800000; text-decoration-color: #800000; font-weight: bold\">ERROR   </span> <span style=\"font-weight: bold\">[</span>rocks<span style=\"font-weight: bold\">]</span> Could not identify <span style=\"color: #008000; text-decoration-color: #008000\">'2007 WJ07'</span>.                                                                   \n",
       "</pre>\n"
      ],
      "text/plain": [
       "\u001b[1;31mERROR   \u001b[0m \u001b[1m[\u001b[0mrocks\u001b[1m]\u001b[0m Could not identify \u001b[32m'2007 WJ07'\u001b[0m.                                                                   \n"
      ]
     },
     "metadata": {},
     "output_type": "display_data"
    },
    {
     "data": {
      "text/html": [
       "<pre style=\"white-space:pre;overflow-x:auto;line-height:normal;font-family:Menlo,'DejaVu Sans Mono',consolas,'Courier New',monospace\"><span style=\"color: #800000; text-decoration-color: #800000; font-weight: bold\">ERROR   </span> <span style=\"font-weight: bold\">[</span>rocks<span style=\"font-weight: bold\">]</span> Could not identify <span style=\"color: #008000; text-decoration-color: #008000\">'2007 XC03'</span>.                                                                   \n",
       "</pre>\n"
      ],
      "text/plain": [
       "\u001b[1;31mERROR   \u001b[0m \u001b[1m[\u001b[0mrocks\u001b[1m]\u001b[0m Could not identify \u001b[32m'2007 XC03'\u001b[0m.                                                                   \n"
      ]
     },
     "metadata": {},
     "output_type": "display_data"
    },
    {
     "data": {
      "text/html": [
       "<pre style=\"white-space:pre;overflow-x:auto;line-height:normal;font-family:Menlo,'DejaVu Sans Mono',consolas,'Courier New',monospace\"><span style=\"color: #800000; text-decoration-color: #800000; font-weight: bold\">ERROR   </span> <span style=\"font-weight: bold\">[</span>rocks<span style=\"font-weight: bold\">]</span> Could not identify <span style=\"color: #008000; text-decoration-color: #008000\">'2018 KG02'</span>.                                                                   \n",
       "</pre>\n"
      ],
      "text/plain": [
       "\u001b[1;31mERROR   \u001b[0m \u001b[1m[\u001b[0mrocks\u001b[1m]\u001b[0m Could not identify \u001b[32m'2018 KG02'\u001b[0m.                                                                   \n"
      ]
     },
     "metadata": {},
     "output_type": "display_data"
    },
    {
     "data": {
      "text/html": [
       "<pre style=\"white-space:pre;overflow-x:auto;line-height:normal;font-family:Menlo,'DejaVu Sans Mono',consolas,'Courier New',monospace\"><span style=\"color: #800000; text-decoration-color: #800000; font-weight: bold\">ERROR   </span> <span style=\"font-weight: bold\">[</span>rocks<span style=\"font-weight: bold\">]</span> Could not identify <span style=\"color: #008000; text-decoration-color: #008000\">'2007 UT07'</span>.                                                                   \n",
       "</pre>\n"
      ],
      "text/plain": [
       "\u001b[1;31mERROR   \u001b[0m \u001b[1m[\u001b[0mrocks\u001b[1m]\u001b[0m Could not identify \u001b[32m'2007 UT07'\u001b[0m.                                                                   \n"
      ]
     },
     "metadata": {},
     "output_type": "display_data"
    },
    {
     "data": {
      "text/html": [
       "<pre style=\"white-space:pre;overflow-x:auto;line-height:normal;font-family:Menlo,'DejaVu Sans Mono',consolas,'Courier New',monospace\"><span style=\"color: #800000; text-decoration-color: #800000; font-weight: bold\">ERROR   </span> <span style=\"font-weight: bold\">[</span>rocks<span style=\"font-weight: bold\">]</span> Could not identify <span style=\"color: #008000; text-decoration-color: #008000\">'2020 PD01'</span>.                                                                   \n",
       "</pre>\n"
      ],
      "text/plain": [
       "\u001b[1;31mERROR   \u001b[0m \u001b[1m[\u001b[0mrocks\u001b[1m]\u001b[0m Could not identify \u001b[32m'2020 PD01'\u001b[0m.                                                                   \n"
      ]
     },
     "metadata": {},
     "output_type": "display_data"
    },
    {
     "data": {
      "text/html": [
       "<pre style=\"white-space:pre;overflow-x:auto;line-height:normal;font-family:Menlo,'DejaVu Sans Mono',consolas,'Courier New',monospace\"><span style=\"color: #800000; text-decoration-color: #800000; font-weight: bold\">ERROR   </span> <span style=\"font-weight: bold\">[</span>rocks<span style=\"font-weight: bold\">]</span> Could not identify <span style=\"color: #008000; text-decoration-color: #008000\">'28P'</span>.                                                                         \n",
       "</pre>\n"
      ],
      "text/plain": [
       "\u001b[1;31mERROR   \u001b[0m \u001b[1m[\u001b[0mrocks\u001b[1m]\u001b[0m Could not identify \u001b[32m'28P'\u001b[0m.                                                                         \n"
      ]
     },
     "metadata": {},
     "output_type": "display_data"
    },
    {
     "data": {
      "text/html": [
       "<pre style=\"white-space:pre;overflow-x:auto;line-height:normal;font-family:Menlo,'DejaVu Sans Mono',consolas,'Courier New',monospace\"><span style=\"color: #800000; text-decoration-color: #800000; font-weight: bold\">ERROR   </span> <span style=\"font-weight: bold\">[</span>rocks<span style=\"font-weight: bold\">]</span> Could not identify <span style=\"color: #008000; text-decoration-color: #008000\">'2020 NA00'</span>.                                                                   \n",
       "</pre>\n"
      ],
      "text/plain": [
       "\u001b[1;31mERROR   \u001b[0m \u001b[1m[\u001b[0mrocks\u001b[1m]\u001b[0m Could not identify \u001b[32m'2020 NA00'\u001b[0m.                                                                   \n"
      ]
     },
     "metadata": {},
     "output_type": "display_data"
    },
    {
     "data": {
      "text/html": [
       "<pre style=\"white-space:pre;overflow-x:auto;line-height:normal;font-family:Menlo,'DejaVu Sans Mono',consolas,'Courier New',monospace\"><span style=\"color: #800000; text-decoration-color: #800000; font-weight: bold\">ERROR   </span> <span style=\"font-weight: bold\">[</span>rocks<span style=\"font-weight: bold\">]</span> Could not identify <span style=\"color: #008000; text-decoration-color: #008000\">'2011 LZ05'</span>.                                                                   \n",
       "</pre>\n"
      ],
      "text/plain": [
       "\u001b[1;31mERROR   \u001b[0m \u001b[1m[\u001b[0mrocks\u001b[1m]\u001b[0m Could not identify \u001b[32m'2011 LZ05'\u001b[0m.                                                                   \n"
      ]
     },
     "metadata": {},
     "output_type": "display_data"
    },
    {
     "data": {
      "text/html": [
       "<pre style=\"white-space:pre;overflow-x:auto;line-height:normal;font-family:Menlo,'DejaVu Sans Mono',consolas,'Courier New',monospace\"><span style=\"color: #800000; text-decoration-color: #800000; font-weight: bold\">ERROR   </span> <span style=\"font-weight: bold\">[</span>rocks<span style=\"font-weight: bold\">]</span> Could not identify <span style=\"color: #008000; text-decoration-color: #008000\">'2016 OF02'</span>.                                                                   \n",
       "</pre>\n"
      ],
      "text/plain": [
       "\u001b[1;31mERROR   \u001b[0m \u001b[1m[\u001b[0mrocks\u001b[1m]\u001b[0m Could not identify \u001b[32m'2016 OF02'\u001b[0m.                                                                   \n"
      ]
     },
     "metadata": {},
     "output_type": "display_data"
    },
    {
     "data": {
      "text/html": [
       "<pre style=\"white-space:pre;overflow-x:auto;line-height:normal;font-family:Menlo,'DejaVu Sans Mono',consolas,'Courier New',monospace\"><span style=\"color: #800000; text-decoration-color: #800000; font-weight: bold\">ERROR   </span> <span style=\"font-weight: bold\">[</span>rocks<span style=\"font-weight: bold\">]</span> Could not identify <span style=\"color: #008000; text-decoration-color: #008000\">'2007 OR01'</span>.                                                                   \n",
       "</pre>\n"
      ],
      "text/plain": [
       "\u001b[1;31mERROR   \u001b[0m \u001b[1m[\u001b[0mrocks\u001b[1m]\u001b[0m Could not identify \u001b[32m'2007 OR01'\u001b[0m.                                                                   \n"
      ]
     },
     "metadata": {},
     "output_type": "display_data"
    },
    {
     "data": {
      "text/html": [
       "<pre style=\"white-space:pre;overflow-x:auto;line-height:normal;font-family:Menlo,'DejaVu Sans Mono',consolas,'Courier New',monospace\"><span style=\"color: #800000; text-decoration-color: #800000; font-weight: bold\">ERROR   </span> <span style=\"font-weight: bold\">[</span>rocks<span style=\"font-weight: bold\">]</span> Could not identify <span style=\"color: #008000; text-decoration-color: #008000\">'2003 VD01'</span>.                                                                   \n",
       "</pre>\n"
      ],
      "text/plain": [
       "\u001b[1;31mERROR   \u001b[0m \u001b[1m[\u001b[0mrocks\u001b[1m]\u001b[0m Could not identify \u001b[32m'2003 VD01'\u001b[0m.                                                                   \n"
      ]
     },
     "metadata": {},
     "output_type": "display_data"
    },
    {
     "data": {
      "text/html": [
       "<pre style=\"white-space:pre;overflow-x:auto;line-height:normal;font-family:Menlo,'DejaVu Sans Mono',consolas,'Courier New',monospace\"><span style=\"color: #800000; text-decoration-color: #800000; font-weight: bold\">ERROR   </span> <span style=\"font-weight: bold\">[</span>rocks<span style=\"font-weight: bold\">]</span> Could not identify <span style=\"color: #008000; text-decoration-color: #008000\">'2021 NX07'</span>.                                                                   \n",
       "</pre>\n"
      ],
      "text/plain": [
       "\u001b[1;31mERROR   \u001b[0m \u001b[1m[\u001b[0mrocks\u001b[1m]\u001b[0m Could not identify \u001b[32m'2021 NX07'\u001b[0m.                                                                   \n"
      ]
     },
     "metadata": {},
     "output_type": "display_data"
    },
    {
     "data": {
      "text/html": [
       "<pre style=\"white-space:pre;overflow-x:auto;line-height:normal;font-family:Menlo,'DejaVu Sans Mono',consolas,'Courier New',monospace\"><span style=\"color: #800000; text-decoration-color: #800000; font-weight: bold\">ERROR   </span> <span style=\"font-weight: bold\">[</span>rocks<span style=\"font-weight: bold\">]</span> Could not identify <span style=\"color: #008000; text-decoration-color: #008000\">'2016 VM04'</span>.                                                                   \n",
       "</pre>\n"
      ],
      "text/plain": [
       "\u001b[1;31mERROR   \u001b[0m \u001b[1m[\u001b[0mrocks\u001b[1m]\u001b[0m Could not identify \u001b[32m'2016 VM04'\u001b[0m.                                                                   \n"
      ]
     },
     "metadata": {},
     "output_type": "display_data"
    },
    {
     "data": {
      "text/html": [
       "<pre style=\"white-space:pre;overflow-x:auto;line-height:normal;font-family:Menlo,'DejaVu Sans Mono',consolas,'Courier New',monospace\"><span style=\"color: #800000; text-decoration-color: #800000; font-weight: bold\">ERROR   </span> <span style=\"font-weight: bold\">[</span>rocks<span style=\"font-weight: bold\">]</span> Could not identify <span style=\"color: #008000; text-decoration-color: #008000\">'2003 RK07'</span>.                                                                   \n",
       "</pre>\n"
      ],
      "text/plain": [
       "\u001b[1;31mERROR   \u001b[0m \u001b[1m[\u001b[0mrocks\u001b[1m]\u001b[0m Could not identify \u001b[32m'2003 RK07'\u001b[0m.                                                                   \n"
      ]
     },
     "metadata": {},
     "output_type": "display_data"
    },
    {
     "data": {
      "text/html": [
       "<pre style=\"white-space:pre;overflow-x:auto;line-height:normal;font-family:Menlo,'DejaVu Sans Mono',consolas,'Courier New',monospace\"><span style=\"color: #800000; text-decoration-color: #800000; font-weight: bold\">ERROR   </span> <span style=\"font-weight: bold\">[</span>rocks<span style=\"font-weight: bold\">]</span> Could not identify <span style=\"color: #008000; text-decoration-color: #008000\">'2011 YQ04'</span>.                                                                   \n",
       "</pre>\n"
      ],
      "text/plain": [
       "\u001b[1;31mERROR   \u001b[0m \u001b[1m[\u001b[0mrocks\u001b[1m]\u001b[0m Could not identify \u001b[32m'2011 YQ04'\u001b[0m.                                                                   \n"
      ]
     },
     "metadata": {},
     "output_type": "display_data"
    },
    {
     "data": {
      "text/html": [
       "<pre style=\"white-space:pre;overflow-x:auto;line-height:normal;font-family:Menlo,'DejaVu Sans Mono',consolas,'Courier New',monospace\"><span style=\"color: #800000; text-decoration-color: #800000; font-weight: bold\">ERROR   </span> <span style=\"font-weight: bold\">[</span>rocks<span style=\"font-weight: bold\">]</span> Could not identify <span style=\"color: #008000; text-decoration-color: #008000\">'2015 MO01'</span>.                                                                   \n",
       "</pre>\n"
      ],
      "text/plain": [
       "\u001b[1;31mERROR   \u001b[0m \u001b[1m[\u001b[0mrocks\u001b[1m]\u001b[0m Could not identify \u001b[32m'2015 MO01'\u001b[0m.                                                                   \n"
      ]
     },
     "metadata": {},
     "output_type": "display_data"
    },
    {
     "data": {
      "text/html": [
       "<pre style=\"white-space:pre;overflow-x:auto;line-height:normal;font-family:Menlo,'DejaVu Sans Mono',consolas,'Courier New',monospace\"><span style=\"color: #800000; text-decoration-color: #800000; font-weight: bold\">ERROR   </span> <span style=\"font-weight: bold\">[</span>rocks<span style=\"font-weight: bold\">]</span> Could not identify <span style=\"color: #008000; text-decoration-color: #008000\">'2005 YV02'</span>.                                                                   \n",
       "</pre>\n"
      ],
      "text/plain": [
       "\u001b[1;31mERROR   \u001b[0m \u001b[1m[\u001b[0mrocks\u001b[1m]\u001b[0m Could not identify \u001b[32m'2005 YV02'\u001b[0m.                                                                   \n"
      ]
     },
     "metadata": {},
     "output_type": "display_data"
    },
    {
     "data": {
      "text/html": [
       "<pre style=\"white-space:pre;overflow-x:auto;line-height:normal;font-family:Menlo,'DejaVu Sans Mono',consolas,'Courier New',monospace\"><span style=\"color: #800000; text-decoration-color: #800000; font-weight: bold\">ERROR   </span> <span style=\"font-weight: bold\">[</span>rocks<span style=\"font-weight: bold\">]</span> Could not identify <span style=\"color: #008000; text-decoration-color: #008000\">'2015 WV01'</span>.                                                                   \n",
       "</pre>\n"
      ],
      "text/plain": [
       "\u001b[1;31mERROR   \u001b[0m \u001b[1m[\u001b[0mrocks\u001b[1m]\u001b[0m Could not identify \u001b[32m'2015 WV01'\u001b[0m.                                                                   \n"
      ]
     },
     "metadata": {},
     "output_type": "display_data"
    },
    {
     "data": {
      "text/html": [
       "<pre style=\"white-space:pre;overflow-x:auto;line-height:normal;font-family:Menlo,'DejaVu Sans Mono',consolas,'Courier New',monospace\"><span style=\"color: #800000; text-decoration-color: #800000; font-weight: bold\">ERROR   </span> <span style=\"font-weight: bold\">[</span>rocks<span style=\"font-weight: bold\">]</span> Could not identify <span style=\"color: #008000; text-decoration-color: #008000\">'2018 LM04'</span>.                                                                   \n",
       "</pre>\n"
      ],
      "text/plain": [
       "\u001b[1;31mERROR   \u001b[0m \u001b[1m[\u001b[0mrocks\u001b[1m]\u001b[0m Could not identify \u001b[32m'2018 LM04'\u001b[0m.                                                                   \n"
      ]
     },
     "metadata": {},
     "output_type": "display_data"
    },
    {
     "data": {
      "text/html": [
       "<pre style=\"white-space:pre;overflow-x:auto;line-height:normal;font-family:Menlo,'DejaVu Sans Mono',consolas,'Courier New',monospace\"><span style=\"color: #800000; text-decoration-color: #800000; font-weight: bold\">ERROR   </span> <span style=\"font-weight: bold\">[</span>rocks<span style=\"font-weight: bold\">]</span> Could not identify <span style=\"color: #008000; text-decoration-color: #008000\">'1998 UQ01'</span>.                                                                   \n",
       "</pre>\n"
      ],
      "text/plain": [
       "\u001b[1;31mERROR   \u001b[0m \u001b[1m[\u001b[0mrocks\u001b[1m]\u001b[0m Could not identify \u001b[32m'1998 UQ01'\u001b[0m.                                                                   \n"
      ]
     },
     "metadata": {},
     "output_type": "display_data"
    },
    {
     "data": {
      "text/html": [
       "<pre style=\"white-space:pre;overflow-x:auto;line-height:normal;font-family:Menlo,'DejaVu Sans Mono',consolas,'Courier New',monospace\"><span style=\"color: #800000; text-decoration-color: #800000; font-weight: bold\">ERROR   </span> <span style=\"font-weight: bold\">[</span>rocks<span style=\"font-weight: bold\">]</span> Could not identify <span style=\"color: #008000; text-decoration-color: #008000\">'2020 FW03'</span>.                                                                   \n",
       "</pre>\n"
      ],
      "text/plain": [
       "\u001b[1;31mERROR   \u001b[0m \u001b[1m[\u001b[0mrocks\u001b[1m]\u001b[0m Could not identify \u001b[32m'2020 FW03'\u001b[0m.                                                                   \n"
      ]
     },
     "metadata": {},
     "output_type": "display_data"
    },
    {
     "data": {
      "text/html": [
       "<pre style=\"white-space:pre;overflow-x:auto;line-height:normal;font-family:Menlo,'DejaVu Sans Mono',consolas,'Courier New',monospace\"><span style=\"color: #800000; text-decoration-color: #800000; font-weight: bold\">ERROR   </span> <span style=\"font-weight: bold\">[</span>rocks<span style=\"font-weight: bold\">]</span> Could not identify <span style=\"color: #008000; text-decoration-color: #008000\">'2003 YM01'</span>.                                                                   \n",
       "</pre>\n"
      ],
      "text/plain": [
       "\u001b[1;31mERROR   \u001b[0m \u001b[1m[\u001b[0mrocks\u001b[1m]\u001b[0m Could not identify \u001b[32m'2003 YM01'\u001b[0m.                                                                   \n"
      ]
     },
     "metadata": {},
     "output_type": "display_data"
    },
    {
     "data": {
      "text/html": [
       "<pre style=\"white-space:pre;overflow-x:auto;line-height:normal;font-family:Menlo,'DejaVu Sans Mono',consolas,'Courier New',monospace\"><span style=\"color: #800000; text-decoration-color: #800000; font-weight: bold\">ERROR   </span> <span style=\"font-weight: bold\">[</span>rocks<span style=\"font-weight: bold\">]</span> Could not identify <span style=\"color: #008000; text-decoration-color: #008000\">'2004 MJ03'</span>.                                                                   \n",
       "</pre>\n"
      ],
      "text/plain": [
       "\u001b[1;31mERROR   \u001b[0m \u001b[1m[\u001b[0mrocks\u001b[1m]\u001b[0m Could not identify \u001b[32m'2004 MJ03'\u001b[0m.                                                                   \n"
      ]
     },
     "metadata": {},
     "output_type": "display_data"
    },
    {
     "data": {
      "text/html": [
       "<pre style=\"white-space:pre;overflow-x:auto;line-height:normal;font-family:Menlo,'DejaVu Sans Mono',consolas,'Courier New',monospace\"><span style=\"color: #800000; text-decoration-color: #800000; font-weight: bold\">ERROR   </span> <span style=\"font-weight: bold\">[</span>rocks<span style=\"font-weight: bold\">]</span> Could not identify <span style=\"color: #008000; text-decoration-color: #008000\">'2002 TA09'</span>.                                                                   \n",
       "</pre>\n"
      ],
      "text/plain": [
       "\u001b[1;31mERROR   \u001b[0m \u001b[1m[\u001b[0mrocks\u001b[1m]\u001b[0m Could not identify \u001b[32m'2002 TA09'\u001b[0m.                                                                   \n"
      ]
     },
     "metadata": {},
     "output_type": "display_data"
    },
    {
     "data": {
      "text/html": [
       "<pre style=\"white-space:pre;overflow-x:auto;line-height:normal;font-family:Menlo,'DejaVu Sans Mono',consolas,'Courier New',monospace\"><span style=\"color: #800000; text-decoration-color: #800000; font-weight: bold\">ERROR   </span> <span style=\"font-weight: bold\">[</span>rocks<span style=\"font-weight: bold\">]</span> Could not identify <span style=\"color: #008000; text-decoration-color: #008000\">'2016 QP01'</span>.                                                                   \n",
       "</pre>\n"
      ],
      "text/plain": [
       "\u001b[1;31mERROR   \u001b[0m \u001b[1m[\u001b[0mrocks\u001b[1m]\u001b[0m Could not identify \u001b[32m'2016 QP01'\u001b[0m.                                                                   \n"
      ]
     },
     "metadata": {},
     "output_type": "display_data"
    },
    {
     "data": {
      "text/html": [
       "<pre style=\"white-space:pre;overflow-x:auto;line-height:normal;font-family:Menlo,'DejaVu Sans Mono',consolas,'Courier New',monospace\"><span style=\"color: #800000; text-decoration-color: #800000; font-weight: bold\">ERROR   </span> <span style=\"font-weight: bold\">[</span>rocks<span style=\"font-weight: bold\">]</span> Could not identify <span style=\"color: #008000; text-decoration-color: #008000\">'2001 YU03'</span>.                                                                   \n",
       "</pre>\n"
      ],
      "text/plain": [
       "\u001b[1;31mERROR   \u001b[0m \u001b[1m[\u001b[0mrocks\u001b[1m]\u001b[0m Could not identify \u001b[32m'2001 YU03'\u001b[0m.                                                                   \n"
      ]
     },
     "metadata": {},
     "output_type": "display_data"
    },
    {
     "data": {
      "text/html": [
       "<pre style=\"white-space:pre;overflow-x:auto;line-height:normal;font-family:Menlo,'DejaVu Sans Mono',consolas,'Courier New',monospace\"><span style=\"color: #800000; text-decoration-color: #800000; font-weight: bold\">ERROR   </span> <span style=\"font-weight: bold\">[</span>rocks<span style=\"font-weight: bold\">]</span> Could not identify <span style=\"color: #008000; text-decoration-color: #008000\">'2020 AV02'</span>.                                                                   \n",
       "</pre>\n"
      ],
      "text/plain": [
       "\u001b[1;31mERROR   \u001b[0m \u001b[1m[\u001b[0mrocks\u001b[1m]\u001b[0m Could not identify \u001b[32m'2020 AV02'\u001b[0m.                                                                   \n"
      ]
     },
     "metadata": {},
     "output_type": "display_data"
    },
    {
     "data": {
      "text/html": [
       "<pre style=\"white-space:pre;overflow-x:auto;line-height:normal;font-family:Menlo,'DejaVu Sans Mono',consolas,'Courier New',monospace\"><span style=\"color: #800000; text-decoration-color: #800000; font-weight: bold\">ERROR   </span> <span style=\"font-weight: bold\">[</span>rocks<span style=\"font-weight: bold\">]</span> Could not identify <span style=\"color: #008000; text-decoration-color: #008000\">'2008 YF02'</span>.                                                                   \n",
       "</pre>\n"
      ],
      "text/plain": [
       "\u001b[1;31mERROR   \u001b[0m \u001b[1m[\u001b[0mrocks\u001b[1m]\u001b[0m Could not identify \u001b[32m'2008 YF02'\u001b[0m.                                                                   \n"
      ]
     },
     "metadata": {},
     "output_type": "display_data"
    },
    {
     "data": {
      "text/html": [
       "<pre style=\"white-space:pre;overflow-x:auto;line-height:normal;font-family:Menlo,'DejaVu Sans Mono',consolas,'Courier New',monospace\"><span style=\"color: #800000; text-decoration-color: #800000; font-weight: bold\">ERROR   </span> <span style=\"font-weight: bold\">[</span>rocks<span style=\"font-weight: bold\">]</span> Could not identify <span style=\"color: #008000; text-decoration-color: #008000\">'2013 PY06'</span>.                                                                   \n",
       "</pre>\n"
      ],
      "text/plain": [
       "\u001b[1;31mERROR   \u001b[0m \u001b[1m[\u001b[0mrocks\u001b[1m]\u001b[0m Could not identify \u001b[32m'2013 PY06'\u001b[0m.                                                                   \n"
      ]
     },
     "metadata": {},
     "output_type": "display_data"
    },
    {
     "data": {
      "text/html": [
       "<pre style=\"white-space:pre;overflow-x:auto;line-height:normal;font-family:Menlo,'DejaVu Sans Mono',consolas,'Courier New',monospace\"><span style=\"color: #800000; text-decoration-color: #800000; font-weight: bold\">ERROR   </span> <span style=\"font-weight: bold\">[</span>rocks<span style=\"font-weight: bold\">]</span> Could not identify <span style=\"color: #008000; text-decoration-color: #008000\">'2014 KL05'</span>.                                                                   \n",
       "</pre>\n"
      ],
      "text/plain": [
       "\u001b[1;31mERROR   \u001b[0m \u001b[1m[\u001b[0mrocks\u001b[1m]\u001b[0m Could not identify \u001b[32m'2014 KL05'\u001b[0m.                                                                   \n"
      ]
     },
     "metadata": {},
     "output_type": "display_data"
    },
    {
     "data": {
      "text/html": [
       "<pre style=\"white-space:pre;overflow-x:auto;line-height:normal;font-family:Menlo,'DejaVu Sans Mono',consolas,'Courier New',monospace\"><span style=\"color: #800000; text-decoration-color: #800000; font-weight: bold\">ERROR   </span> <span style=\"font-weight: bold\">[</span>rocks<span style=\"font-weight: bold\">]</span> Could not identify <span style=\"color: #008000; text-decoration-color: #008000\">'2010 WQ07'</span>.                                                                   \n",
       "</pre>\n"
      ],
      "text/plain": [
       "\u001b[1;31mERROR   \u001b[0m \u001b[1m[\u001b[0mrocks\u001b[1m]\u001b[0m Could not identify \u001b[32m'2010 WQ07'\u001b[0m.                                                                   \n"
      ]
     },
     "metadata": {},
     "output_type": "display_data"
    },
    {
     "data": {
      "text/html": [
       "<pre style=\"white-space:pre;overflow-x:auto;line-height:normal;font-family:Menlo,'DejaVu Sans Mono',consolas,'Courier New',monospace\"><span style=\"color: #800000; text-decoration-color: #800000; font-weight: bold\">ERROR   </span> <span style=\"font-weight: bold\">[</span>rocks<span style=\"font-weight: bold\">]</span> Could not identify <span style=\"color: #008000; text-decoration-color: #008000\">'2004 XM00'</span>.                                                                   \n",
       "</pre>\n"
      ],
      "text/plain": [
       "\u001b[1;31mERROR   \u001b[0m \u001b[1m[\u001b[0mrocks\u001b[1m]\u001b[0m Could not identify \u001b[32m'2004 XM00'\u001b[0m.                                                                   \n"
      ]
     },
     "metadata": {},
     "output_type": "display_data"
    },
    {
     "data": {
      "text/html": [
       "<pre style=\"white-space:pre;overflow-x:auto;line-height:normal;font-family:Menlo,'DejaVu Sans Mono',consolas,'Courier New',monospace\"><span style=\"color: #800000; text-decoration-color: #800000; font-weight: bold\">ERROR   </span> <span style=\"font-weight: bold\">[</span>rocks<span style=\"font-weight: bold\">]</span> Could not identify <span style=\"color: #008000; text-decoration-color: #008000\">'2014 RP00'</span>.                                                                   \n",
       "</pre>\n"
      ],
      "text/plain": [
       "\u001b[1;31mERROR   \u001b[0m \u001b[1m[\u001b[0mrocks\u001b[1m]\u001b[0m Could not identify \u001b[32m'2014 RP00'\u001b[0m.                                                                   \n"
      ]
     },
     "metadata": {},
     "output_type": "display_data"
    },
    {
     "data": {
      "text/html": [
       "<pre style=\"white-space:pre;overflow-x:auto;line-height:normal;font-family:Menlo,'DejaVu Sans Mono',consolas,'Courier New',monospace\"><span style=\"color: #800000; text-decoration-color: #800000; font-weight: bold\">ERROR   </span> <span style=\"font-weight: bold\">[</span>rocks<span style=\"font-weight: bold\">]</span> Could not identify <span style=\"color: #008000; text-decoration-color: #008000\">'2003 NM03'</span>.                                                                   \n",
       "</pre>\n"
      ],
      "text/plain": [
       "\u001b[1;31mERROR   \u001b[0m \u001b[1m[\u001b[0mrocks\u001b[1m]\u001b[0m Could not identify \u001b[32m'2003 NM03'\u001b[0m.                                                                   \n"
      ]
     },
     "metadata": {},
     "output_type": "display_data"
    },
    {
     "data": {
      "text/html": [
       "<pre style=\"white-space:pre;overflow-x:auto;line-height:normal;font-family:Menlo,'DejaVu Sans Mono',consolas,'Courier New',monospace\"><span style=\"color: #800000; text-decoration-color: #800000; font-weight: bold\">ERROR   </span> <span style=\"font-weight: bold\">[</span>rocks<span style=\"font-weight: bold\">]</span> Could not identify <span style=\"color: #008000; text-decoration-color: #008000\">'2017 RM00'</span>.                                                                   \n",
       "</pre>\n"
      ],
      "text/plain": [
       "\u001b[1;31mERROR   \u001b[0m \u001b[1m[\u001b[0mrocks\u001b[1m]\u001b[0m Could not identify \u001b[32m'2017 RM00'\u001b[0m.                                                                   \n"
      ]
     },
     "metadata": {},
     "output_type": "display_data"
    },
    {
     "data": {
      "text/html": [
       "<pre style=\"white-space:pre;overflow-x:auto;line-height:normal;font-family:Menlo,'DejaVu Sans Mono',consolas,'Courier New',monospace\"><span style=\"color: #800000; text-decoration-color: #800000; font-weight: bold\">ERROR   </span> <span style=\"font-weight: bold\">[</span>rocks<span style=\"font-weight: bold\">]</span> Could not identify <span style=\"color: #008000; text-decoration-color: #008000\">'2010 VH95'</span>.                                                                   \n",
       "</pre>\n"
      ],
      "text/plain": [
       "\u001b[1;31mERROR   \u001b[0m \u001b[1m[\u001b[0mrocks\u001b[1m]\u001b[0m Could not identify \u001b[32m'2010 VH95'\u001b[0m.                                                                   \n"
      ]
     },
     "metadata": {},
     "output_type": "display_data"
    },
    {
     "data": {
      "text/html": [
       "<pre style=\"white-space:pre;overflow-x:auto;line-height:normal;font-family:Menlo,'DejaVu Sans Mono',consolas,'Courier New',monospace\"><span style=\"color: #800000; text-decoration-color: #800000; font-weight: bold\">ERROR   </span> <span style=\"font-weight: bold\">[</span>rocks<span style=\"font-weight: bold\">]</span> Could not identify <span style=\"color: #008000; text-decoration-color: #008000\">'2002 NS07'</span>.                                                                   \n",
       "</pre>\n"
      ],
      "text/plain": [
       "\u001b[1;31mERROR   \u001b[0m \u001b[1m[\u001b[0mrocks\u001b[1m]\u001b[0m Could not identify \u001b[32m'2002 NS07'\u001b[0m.                                                                   \n"
      ]
     },
     "metadata": {},
     "output_type": "display_data"
    },
    {
     "data": {
      "text/html": [
       "<pre style=\"white-space:pre;overflow-x:auto;line-height:normal;font-family:Menlo,'DejaVu Sans Mono',consolas,'Courier New',monospace\"><span style=\"color: #800000; text-decoration-color: #800000; font-weight: bold\">ERROR   </span> <span style=\"font-weight: bold\">[</span>rocks<span style=\"font-weight: bold\">]</span> Could not identify <span style=\"color: #008000; text-decoration-color: #008000\">'2014 RH00'</span>.                                                                   \n",
       "</pre>\n"
      ],
      "text/plain": [
       "\u001b[1;31mERROR   \u001b[0m \u001b[1m[\u001b[0mrocks\u001b[1m]\u001b[0m Could not identify \u001b[32m'2014 RH00'\u001b[0m.                                                                   \n"
      ]
     },
     "metadata": {},
     "output_type": "display_data"
    },
    {
     "data": {
      "text/html": [
       "<pre style=\"white-space:pre;overflow-x:auto;line-height:normal;font-family:Menlo,'DejaVu Sans Mono',consolas,'Courier New',monospace\"><span style=\"color: #800000; text-decoration-color: #800000; font-weight: bold\">ERROR   </span> <span style=\"font-weight: bold\">[</span>rocks<span style=\"font-weight: bold\">]</span> Could not identify <span style=\"color: #008000; text-decoration-color: #008000\">'2016 VW01'</span>.                                                                   \n",
       "</pre>\n"
      ],
      "text/plain": [
       "\u001b[1;31mERROR   \u001b[0m \u001b[1m[\u001b[0mrocks\u001b[1m]\u001b[0m Could not identify \u001b[32m'2016 VW01'\u001b[0m.                                                                   \n"
      ]
     },
     "metadata": {},
     "output_type": "display_data"
    },
    {
     "data": {
      "text/html": [
       "<pre style=\"white-space:pre;overflow-x:auto;line-height:normal;font-family:Menlo,'DejaVu Sans Mono',consolas,'Courier New',monospace\"><span style=\"color: #800000; text-decoration-color: #800000; font-weight: bold\">ERROR   </span> <span style=\"font-weight: bold\">[</span>rocks<span style=\"font-weight: bold\">]</span> Could not identify <span style=\"color: #008000; text-decoration-color: #008000\">'2011 AJ05'</span>.                                                                   \n",
       "</pre>\n"
      ],
      "text/plain": [
       "\u001b[1;31mERROR   \u001b[0m \u001b[1m[\u001b[0mrocks\u001b[1m]\u001b[0m Could not identify \u001b[32m'2011 AJ05'\u001b[0m.                                                                   \n"
      ]
     },
     "metadata": {},
     "output_type": "display_data"
    },
    {
     "data": {
      "text/html": [
       "<pre style=\"white-space:pre;overflow-x:auto;line-height:normal;font-family:Menlo,'DejaVu Sans Mono',consolas,'Courier New',monospace\"><span style=\"color: #800000; text-decoration-color: #800000; font-weight: bold\">ERROR   </span> <span style=\"font-weight: bold\">[</span>rocks<span style=\"font-weight: bold\">]</span> Could not identify <span style=\"color: #008000; text-decoration-color: #008000\">'2001 BO02'</span>.                                                                   \n",
       "</pre>\n"
      ],
      "text/plain": [
       "\u001b[1;31mERROR   \u001b[0m \u001b[1m[\u001b[0mrocks\u001b[1m]\u001b[0m Could not identify \u001b[32m'2001 BO02'\u001b[0m.                                                                   \n"
      ]
     },
     "metadata": {},
     "output_type": "display_data"
    },
    {
     "data": {
      "text/html": [
       "<pre style=\"white-space:pre;overflow-x:auto;line-height:normal;font-family:Menlo,'DejaVu Sans Mono',consolas,'Courier New',monospace\"><span style=\"color: #800000; text-decoration-color: #800000; font-weight: bold\">ERROR   </span> <span style=\"font-weight: bold\">[</span>rocks<span style=\"font-weight: bold\">]</span> Could not identify <span style=\"color: #008000; text-decoration-color: #008000\">'2020 PC05'</span>.                                                                   \n",
       "</pre>\n"
      ],
      "text/plain": [
       "\u001b[1;31mERROR   \u001b[0m \u001b[1m[\u001b[0mrocks\u001b[1m]\u001b[0m Could not identify \u001b[32m'2020 PC05'\u001b[0m.                                                                   \n"
      ]
     },
     "metadata": {},
     "output_type": "display_data"
    },
    {
     "data": {
      "text/html": [
       "<pre style=\"white-space:pre;overflow-x:auto;line-height:normal;font-family:Menlo,'DejaVu Sans Mono',consolas,'Courier New',monospace\"><span style=\"color: #800000; text-decoration-color: #800000; font-weight: bold\">ERROR   </span> <span style=\"font-weight: bold\">[</span>rocks<span style=\"font-weight: bold\">]</span> Could not identify <span style=\"color: #008000; text-decoration-color: #008000\">'2016 OK00'</span>.                                                                   \n",
       "</pre>\n"
      ],
      "text/plain": [
       "\u001b[1;31mERROR   \u001b[0m \u001b[1m[\u001b[0mrocks\u001b[1m]\u001b[0m Could not identify \u001b[32m'2016 OK00'\u001b[0m.                                                                   \n"
      ]
     },
     "metadata": {},
     "output_type": "display_data"
    },
    {
     "data": {
      "text/html": [
       "<pre style=\"white-space:pre;overflow-x:auto;line-height:normal;font-family:Menlo,'DejaVu Sans Mono',consolas,'Courier New',monospace\"><span style=\"color: #800000; text-decoration-color: #800000; font-weight: bold\">ERROR   </span> <span style=\"font-weight: bold\">[</span>rocks<span style=\"font-weight: bold\">]</span> Could not identify <span style=\"color: #008000; text-decoration-color: #008000\">'2017 HJ04'</span>.                                                                   \n",
       "</pre>\n"
      ],
      "text/plain": [
       "\u001b[1;31mERROR   \u001b[0m \u001b[1m[\u001b[0mrocks\u001b[1m]\u001b[0m Could not identify \u001b[32m'2017 HJ04'\u001b[0m.                                                                   \n"
      ]
     },
     "metadata": {},
     "output_type": "display_data"
    },
    {
     "data": {
      "text/html": [
       "<pre style=\"white-space:pre;overflow-x:auto;line-height:normal;font-family:Menlo,'DejaVu Sans Mono',consolas,'Courier New',monospace\"><span style=\"color: #800000; text-decoration-color: #800000; font-weight: bold\">ERROR   </span> <span style=\"font-weight: bold\">[</span>rocks<span style=\"font-weight: bold\">]</span> Could not identify <span style=\"color: #008000; text-decoration-color: #008000\">'2016 WQ05'</span>.                                                                   \n",
       "</pre>\n"
      ],
      "text/plain": [
       "\u001b[1;31mERROR   \u001b[0m \u001b[1m[\u001b[0mrocks\u001b[1m]\u001b[0m Could not identify \u001b[32m'2016 WQ05'\u001b[0m.                                                                   \n"
      ]
     },
     "metadata": {},
     "output_type": "display_data"
    },
    {
     "data": {
      "text/html": [
       "<pre style=\"white-space:pre;overflow-x:auto;line-height:normal;font-family:Menlo,'DejaVu Sans Mono',consolas,'Courier New',monospace\"><span style=\"color: #800000; text-decoration-color: #800000; font-weight: bold\">ERROR   </span> <span style=\"font-weight: bold\">[</span>rocks<span style=\"font-weight: bold\">]</span> Could not identify <span style=\"color: #008000; text-decoration-color: #008000\">'2016 OQ02'</span>.                                                                   \n",
       "</pre>\n"
      ],
      "text/plain": [
       "\u001b[1;31mERROR   \u001b[0m \u001b[1m[\u001b[0mrocks\u001b[1m]\u001b[0m Could not identify \u001b[32m'2016 OQ02'\u001b[0m.                                                                   \n"
      ]
     },
     "metadata": {},
     "output_type": "display_data"
    },
    {
     "data": {
      "text/html": [
       "<pre style=\"white-space:pre;overflow-x:auto;line-height:normal;font-family:Menlo,'DejaVu Sans Mono',consolas,'Courier New',monospace\"><span style=\"color: #800000; text-decoration-color: #800000; font-weight: bold\">ERROR   </span> <span style=\"font-weight: bold\">[</span>rocks<span style=\"font-weight: bold\">]</span> Could not identify <span style=\"color: #008000; text-decoration-color: #008000\">'2003 VA03'</span>.                                                                   \n",
       "</pre>\n"
      ],
      "text/plain": [
       "\u001b[1;31mERROR   \u001b[0m \u001b[1m[\u001b[0mrocks\u001b[1m]\u001b[0m Could not identify \u001b[32m'2003 VA03'\u001b[0m.                                                                   \n"
      ]
     },
     "metadata": {},
     "output_type": "display_data"
    },
    {
     "data": {
      "text/html": [
       "<pre style=\"white-space:pre;overflow-x:auto;line-height:normal;font-family:Menlo,'DejaVu Sans Mono',consolas,'Courier New',monospace\"><span style=\"color: #800000; text-decoration-color: #800000; font-weight: bold\">ERROR   </span> <span style=\"font-weight: bold\">[</span>rocks<span style=\"font-weight: bold\">]</span> Could not identify <span style=\"color: #008000; text-decoration-color: #008000\">'2009 CC03'</span>.                                                                   \n",
       "</pre>\n"
      ],
      "text/plain": [
       "\u001b[1;31mERROR   \u001b[0m \u001b[1m[\u001b[0mrocks\u001b[1m]\u001b[0m Could not identify \u001b[32m'2009 CC03'\u001b[0m.                                                                   \n"
      ]
     },
     "metadata": {},
     "output_type": "display_data"
    },
    {
     "data": {
      "text/html": [
       "<pre style=\"white-space:pre;overflow-x:auto;line-height:normal;font-family:Menlo,'DejaVu Sans Mono',consolas,'Courier New',monospace\"><span style=\"color: #800000; text-decoration-color: #800000; font-weight: bold\">ERROR   </span> <span style=\"font-weight: bold\">[</span>rocks<span style=\"font-weight: bold\">]</span> Could not identify <span style=\"color: #008000; text-decoration-color: #008000\">'2017 YH03'</span>.                                                                   \n",
       "</pre>\n"
      ],
      "text/plain": [
       "\u001b[1;31mERROR   \u001b[0m \u001b[1m[\u001b[0mrocks\u001b[1m]\u001b[0m Could not identify \u001b[32m'2017 YH03'\u001b[0m.                                                                   \n"
      ]
     },
     "metadata": {},
     "output_type": "display_data"
    },
    {
     "data": {
      "text/html": [
       "<pre style=\"white-space:pre;overflow-x:auto;line-height:normal;font-family:Menlo,'DejaVu Sans Mono',consolas,'Courier New',monospace\"><span style=\"color: #800000; text-decoration-color: #800000; font-weight: bold\">ERROR   </span> <span style=\"font-weight: bold\">[</span>rocks<span style=\"font-weight: bold\">]</span> Could not identify <span style=\"color: #008000; text-decoration-color: #008000\">'2020 KU04'</span>.                                                                   \n",
       "</pre>\n"
      ],
      "text/plain": [
       "\u001b[1;31mERROR   \u001b[0m \u001b[1m[\u001b[0mrocks\u001b[1m]\u001b[0m Could not identify \u001b[32m'2020 KU04'\u001b[0m.                                                                   \n"
      ]
     },
     "metadata": {},
     "output_type": "display_data"
    },
    {
     "data": {
      "text/html": [
       "<pre style=\"white-space:pre;overflow-x:auto;line-height:normal;font-family:Menlo,'DejaVu Sans Mono',consolas,'Courier New',monospace\"><span style=\"color: #800000; text-decoration-color: #800000; font-weight: bold\">ERROR   </span> <span style=\"font-weight: bold\">[</span>rocks<span style=\"font-weight: bold\">]</span> Could not identify <span style=\"color: #008000; text-decoration-color: #008000\">'2002 XZ04'</span>.                                                                   \n",
       "</pre>\n"
      ],
      "text/plain": [
       "\u001b[1;31mERROR   \u001b[0m \u001b[1m[\u001b[0mrocks\u001b[1m]\u001b[0m Could not identify \u001b[32m'2002 XZ04'\u001b[0m.                                                                   \n"
      ]
     },
     "metadata": {},
     "output_type": "display_data"
    },
    {
     "data": {
      "text/html": [
       "<pre style=\"white-space:pre;overflow-x:auto;line-height:normal;font-family:Menlo,'DejaVu Sans Mono',consolas,'Courier New',monospace\"><span style=\"color: #800000; text-decoration-color: #800000; font-weight: bold\">ERROR   </span> <span style=\"font-weight: bold\">[</span>rocks<span style=\"font-weight: bold\">]</span> Could not identify <span style=\"color: #008000; text-decoration-color: #008000\">'2003 UR00'</span>.                                                                   \n",
       "</pre>\n"
      ],
      "text/plain": [
       "\u001b[1;31mERROR   \u001b[0m \u001b[1m[\u001b[0mrocks\u001b[1m]\u001b[0m Could not identify \u001b[32m'2003 UR00'\u001b[0m.                                                                   \n"
      ]
     },
     "metadata": {},
     "output_type": "display_data"
    },
    {
     "data": {
      "text/html": [
       "<pre style=\"white-space:pre;overflow-x:auto;line-height:normal;font-family:Menlo,'DejaVu Sans Mono',consolas,'Courier New',monospace\"><span style=\"color: #800000; text-decoration-color: #800000; font-weight: bold\">ERROR   </span> <span style=\"font-weight: bold\">[</span>rocks<span style=\"font-weight: bold\">]</span> Could not identify <span style=\"color: #008000; text-decoration-color: #008000\">'2007 LX00'</span>.                                                                   \n",
       "</pre>\n"
      ],
      "text/plain": [
       "\u001b[1;31mERROR   \u001b[0m \u001b[1m[\u001b[0mrocks\u001b[1m]\u001b[0m Could not identify \u001b[32m'2007 LX00'\u001b[0m.                                                                   \n"
      ]
     },
     "metadata": {},
     "output_type": "display_data"
    },
    {
     "data": {
      "text/html": [
       "<pre style=\"white-space:pre;overflow-x:auto;line-height:normal;font-family:Menlo,'DejaVu Sans Mono',consolas,'Courier New',monospace\"><span style=\"color: #800000; text-decoration-color: #800000; font-weight: bold\">ERROR   </span> <span style=\"font-weight: bold\">[</span>rocks<span style=\"font-weight: bold\">]</span> Could not identify <span style=\"color: #008000; text-decoration-color: #008000\">'2001 RD02'</span>.                                                                   \n",
       "</pre>\n"
      ],
      "text/plain": [
       "\u001b[1;31mERROR   \u001b[0m \u001b[1m[\u001b[0mrocks\u001b[1m]\u001b[0m Could not identify \u001b[32m'2001 RD02'\u001b[0m.                                                                   \n"
      ]
     },
     "metadata": {},
     "output_type": "display_data"
    },
    {
     "data": {
      "text/html": [
       "<pre style=\"white-space:pre;overflow-x:auto;line-height:normal;font-family:Menlo,'DejaVu Sans Mono',consolas,'Courier New',monospace\"><span style=\"color: #800000; text-decoration-color: #800000; font-weight: bold\">ERROR   </span> <span style=\"font-weight: bold\">[</span>rocks<span style=\"font-weight: bold\">]</span> Could not identify <span style=\"color: #008000; text-decoration-color: #008000\">'2015 JO05'</span>.                                                                   \n",
       "</pre>\n"
      ],
      "text/plain": [
       "\u001b[1;31mERROR   \u001b[0m \u001b[1m[\u001b[0mrocks\u001b[1m]\u001b[0m Could not identify \u001b[32m'2015 JO05'\u001b[0m.                                                                   \n"
      ]
     },
     "metadata": {},
     "output_type": "display_data"
    },
    {
     "data": {
      "text/html": [
       "<pre style=\"white-space:pre;overflow-x:auto;line-height:normal;font-family:Menlo,'DejaVu Sans Mono',consolas,'Courier New',monospace\"><span style=\"color: #800000; text-decoration-color: #800000; font-weight: bold\">ERROR   </span> <span style=\"font-weight: bold\">[</span>rocks<span style=\"font-weight: bold\">]</span> Could not identify <span style=\"color: #008000; text-decoration-color: #008000\">'2020 ML03'</span>.                                                                   \n",
       "</pre>\n"
      ],
      "text/plain": [
       "\u001b[1;31mERROR   \u001b[0m \u001b[1m[\u001b[0mrocks\u001b[1m]\u001b[0m Could not identify \u001b[32m'2020 ML03'\u001b[0m.                                                                   \n"
      ]
     },
     "metadata": {},
     "output_type": "display_data"
    },
    {
     "data": {
      "text/html": [
       "<pre style=\"white-space:pre;overflow-x:auto;line-height:normal;font-family:Menlo,'DejaVu Sans Mono',consolas,'Courier New',monospace\"><span style=\"color: #800000; text-decoration-color: #800000; font-weight: bold\">ERROR   </span> <span style=\"font-weight: bold\">[</span>rocks<span style=\"font-weight: bold\">]</span> Could not identify <span style=\"color: #008000; text-decoration-color: #008000\">'2002 GZ08'</span>.                                                                   \n",
       "</pre>\n"
      ],
      "text/plain": [
       "\u001b[1;31mERROR   \u001b[0m \u001b[1m[\u001b[0mrocks\u001b[1m]\u001b[0m Could not identify \u001b[32m'2002 GZ08'\u001b[0m.                                                                   \n"
      ]
     },
     "metadata": {},
     "output_type": "display_data"
    },
    {
     "data": {
      "text/html": [
       "<pre style=\"white-space:pre;overflow-x:auto;line-height:normal;font-family:Menlo,'DejaVu Sans Mono',consolas,'Courier New',monospace\"><span style=\"color: #800000; text-decoration-color: #800000; font-weight: bold\">ERROR   </span> <span style=\"font-weight: bold\">[</span>rocks<span style=\"font-weight: bold\">]</span> Could not identify <span style=\"color: #008000; text-decoration-color: #008000\">'2010 LS00'</span>.                                                                   \n",
       "</pre>\n"
      ],
      "text/plain": [
       "\u001b[1;31mERROR   \u001b[0m \u001b[1m[\u001b[0mrocks\u001b[1m]\u001b[0m Could not identify \u001b[32m'2010 LS00'\u001b[0m.                                                                   \n"
      ]
     },
     "metadata": {},
     "output_type": "display_data"
    },
    {
     "data": {
      "text/html": [
       "<pre style=\"white-space:pre;overflow-x:auto;line-height:normal;font-family:Menlo,'DejaVu Sans Mono',consolas,'Courier New',monospace\"><span style=\"color: #800000; text-decoration-color: #800000; font-weight: bold\">ERROR   </span> <span style=\"font-weight: bold\">[</span>rocks<span style=\"font-weight: bold\">]</span> Could not identify <span style=\"color: #008000; text-decoration-color: #008000\">'2018 XV05'</span>.                                                                   \n",
       "</pre>\n"
      ],
      "text/plain": [
       "\u001b[1;31mERROR   \u001b[0m \u001b[1m[\u001b[0mrocks\u001b[1m]\u001b[0m Could not identify \u001b[32m'2018 XV05'\u001b[0m.                                                                   \n"
      ]
     },
     "metadata": {},
     "output_type": "display_data"
    },
    {
     "data": {
      "text/html": [
       "<pre style=\"white-space:pre;overflow-x:auto;line-height:normal;font-family:Menlo,'DejaVu Sans Mono',consolas,'Courier New',monospace\"><span style=\"color: #800000; text-decoration-color: #800000; font-weight: bold\">ERROR   </span> <span style=\"font-weight: bold\">[</span>rocks<span style=\"font-weight: bold\">]</span> Could not identify <span style=\"color: #008000; text-decoration-color: #008000\">'2019 AQ03'</span>.                                                                   \n",
       "</pre>\n"
      ],
      "text/plain": [
       "\u001b[1;31mERROR   \u001b[0m \u001b[1m[\u001b[0mrocks\u001b[1m]\u001b[0m Could not identify \u001b[32m'2019 AQ03'\u001b[0m.                                                                   \n"
      ]
     },
     "metadata": {},
     "output_type": "display_data"
    },
    {
     "data": {
      "text/html": [
       "<pre style=\"white-space:pre;overflow-x:auto;line-height:normal;font-family:Menlo,'DejaVu Sans Mono',consolas,'Courier New',monospace\"><span style=\"color: #800000; text-decoration-color: #800000; font-weight: bold\">ERROR   </span> <span style=\"font-weight: bold\">[</span>rocks<span style=\"font-weight: bold\">]</span> Could not identify <span style=\"color: #008000; text-decoration-color: #008000\">'2007 TG08'</span>.                                                                   \n",
       "</pre>\n"
      ],
      "text/plain": [
       "\u001b[1;31mERROR   \u001b[0m \u001b[1m[\u001b[0mrocks\u001b[1m]\u001b[0m Could not identify \u001b[32m'2007 TG08'\u001b[0m.                                                                   \n"
      ]
     },
     "metadata": {},
     "output_type": "display_data"
    },
    {
     "data": {
      "text/html": [
       "<pre style=\"white-space:pre;overflow-x:auto;line-height:normal;font-family:Menlo,'DejaVu Sans Mono',consolas,'Courier New',monospace\"><span style=\"color: #800000; text-decoration-color: #800000; font-weight: bold\">ERROR   </span> <span style=\"font-weight: bold\">[</span>rocks<span style=\"font-weight: bold\">]</span> Could not identify <span style=\"color: #008000; text-decoration-color: #008000\">'2020 OL03'</span>.                                                                   \n",
       "</pre>\n"
      ],
      "text/plain": [
       "\u001b[1;31mERROR   \u001b[0m \u001b[1m[\u001b[0mrocks\u001b[1m]\u001b[0m Could not identify \u001b[32m'2020 OL03'\u001b[0m.                                                                   \n"
      ]
     },
     "metadata": {},
     "output_type": "display_data"
    },
    {
     "data": {
      "text/html": [
       "<pre style=\"white-space:pre;overflow-x:auto;line-height:normal;font-family:Menlo,'DejaVu Sans Mono',consolas,'Courier New',monospace\"><span style=\"color: #800000; text-decoration-color: #800000; font-weight: bold\">ERROR   </span> <span style=\"font-weight: bold\">[</span>rocks<span style=\"font-weight: bold\">]</span> Could not identify <span style=\"color: #008000; text-decoration-color: #008000\">'2009 CD04'</span>.                                                                   \n",
       "</pre>\n"
      ],
      "text/plain": [
       "\u001b[1;31mERROR   \u001b[0m \u001b[1m[\u001b[0mrocks\u001b[1m]\u001b[0m Could not identify \u001b[32m'2009 CD04'\u001b[0m.                                                                   \n"
      ]
     },
     "metadata": {},
     "output_type": "display_data"
    },
    {
     "data": {
      "text/html": [
       "<pre style=\"white-space:pre;overflow-x:auto;line-height:normal;font-family:Menlo,'DejaVu Sans Mono',consolas,'Courier New',monospace\"><span style=\"color: #800000; text-decoration-color: #800000; font-weight: bold\">ERROR   </span> <span style=\"font-weight: bold\">[</span>rocks<span style=\"font-weight: bold\">]</span> Could not identify <span style=\"color: #008000; text-decoration-color: #008000\">'2012 UA00'</span>.                                                                   \n",
       "</pre>\n"
      ],
      "text/plain": [
       "\u001b[1;31mERROR   \u001b[0m \u001b[1m[\u001b[0mrocks\u001b[1m]\u001b[0m Could not identify \u001b[32m'2012 UA00'\u001b[0m.                                                                   \n"
      ]
     },
     "metadata": {},
     "output_type": "display_data"
    },
    {
     "data": {
      "text/html": [
       "<pre style=\"white-space:pre;overflow-x:auto;line-height:normal;font-family:Menlo,'DejaVu Sans Mono',consolas,'Courier New',monospace\"><span style=\"color: #800000; text-decoration-color: #800000; font-weight: bold\">ERROR   </span> <span style=\"font-weight: bold\">[</span>rocks<span style=\"font-weight: bold\">]</span> Could not identify <span style=\"color: #008000; text-decoration-color: #008000\">'2020 KJ06'</span>.                                                                   \n",
       "</pre>\n"
      ],
      "text/plain": [
       "\u001b[1;31mERROR   \u001b[0m \u001b[1m[\u001b[0mrocks\u001b[1m]\u001b[0m Could not identify \u001b[32m'2020 KJ06'\u001b[0m.                                                                   \n"
      ]
     },
     "metadata": {},
     "output_type": "display_data"
    },
    {
     "data": {
      "text/html": [
       "<pre style=\"white-space:pre;overflow-x:auto;line-height:normal;font-family:Menlo,'DejaVu Sans Mono',consolas,'Courier New',monospace\">\n",
       "</pre>\n"
      ],
      "text/plain": [
       "\n"
      ]
     },
     "metadata": {},
     "output_type": "display_data"
    }
   ],
   "source": [
    "nn = rocks.id(data.ssnamenr)\n",
    "data[\"sso_name\"] = [n[0] for n in nn]"
   ]
  },
  {
   "cell_type": "code",
   "execution_count": 69,
   "id": "000e8b6d",
   "metadata": {},
   "outputs": [
    {
     "data": {
      "text/html": [
       "<pre style=\"white-space:pre;overflow-x:auto;line-height:normal;font-family:Menlo,'DejaVu Sans Mono',consolas,'Courier New',monospace\">\n",
       "</pre>\n"
      ],
      "text/plain": [
       "\n"
      ]
     },
     "metadata": {},
     "output_type": "display_data"
    }
   ],
   "source": [
    "nn = rocks.id(damit.number)\n",
    "damit[\"sso_name\"] = [n[0] for n in nn]"
   ]
  },
  {
   "cell_type": "code",
   "execution_count": 70,
   "id": "8768d4f0",
   "metadata": {},
   "outputs": [],
   "source": [
    "maskFINK = maskFINK_union\n",
    "\n",
    "fig, ax = plt.subplots(\n",
    "    figsize=fs.figsize(0.5), gridspec_kw={\"right\": 0.975, \"top\": 0.95, \"bottom\": 0.15}\n",
    ")\n",
    "\n",
    "# Plot FINK Sample\n",
    "r = [0, 0.5]\n",
    "b = 50\n",
    "\n",
    "# all = data[maskFINK].merge(damit, on=\"sso_name\", how=\"left\")\n",
    "\n",
    "\n",
    "# Histogram FINK\n",
    "ax.hist(\n",
    "    data.loc[maskFINK, \"SHG1G2_rms\"],\n",
    "    range=r,\n",
    "    bins=b,\n",
    "    color=color_fink,\n",
    "    density=True,\n",
    "    alpha=0.8,\n",
    "    label=f\"FINK ({len(data[maskFINK]):,d})\",\n",
    ")\n",
    "\n",
    "\n",
    "# Histogram 3dShape\n",
    "cond = maskFINK & data.sso_name.isin(damit.sso_name)\n",
    "ax.hist(\n",
    "    data.loc[cond, \"SHG1G2_rms\"],\n",
    "    range=r,\n",
    "    bins=b,\n",
    "    color=\"slategray\",\n",
    "    density=True,\n",
    "    alpha=0.8,\n",
    "    label=f\"With 3D ({len(data[cond]):,d})\",\n",
    ")\n",
    "\n",
    "# Axes\n",
    "ax.legend(loc=\"upper right\")\n",
    "\n",
    "fig.savefig(os.path.join(\"..\", \"gfx\", \"rms_shape.png\"), facecolor=\"white\", dpi=150)\n",
    "fig.savefig(os.path.join(\"..\", \"gfx\", \"rms_shape.pgf\"))"
   ]
  },
  {
   "cell_type": "code",
   "execution_count": 71,
   "id": "1d27ddbf",
   "metadata": {},
   "outputs": [],
   "source": [
    "maskFINK = maskFINK_union\n",
    "\n",
    "fig, ax = plt.subplots(\n",
    "    figsize=fs.figsize(0.5), gridspec_kw={\"right\": 0.975, \"top\": 0.95, \"bottom\": 0.15}\n",
    ")\n",
    "\n",
    "# Plot FINK Sample\n",
    "r = [0, 15]\n",
    "b = 50\n",
    "\n",
    "\n",
    "# Histogram FINK\n",
    "ax.hist(\n",
    "    data.loc[maskFINK, \"SHG1G2_chi2red\"],\n",
    "    range=r,\n",
    "    bins=b,\n",
    "    color=color_fink,\n",
    "    density=True,\n",
    "    alpha=0.8,\n",
    "    label=f\"FINK ({len(data[maskFINK]):,d})\",\n",
    ")\n",
    "\n",
    "\n",
    "# Histogram 3dShape\n",
    "cond = maskFINK & data.sso_name.isin(damit.sso_name)\n",
    "ax.hist(\n",
    "    data.loc[cond, \"SHG1G2_chi2red\"],\n",
    "    range=r,\n",
    "    bins=b,\n",
    "    color=\"slategray\",\n",
    "    density=True,\n",
    "    alpha=0.8,\n",
    "    label=f\"With 3D ({len(data[cond]):,d})\",\n",
    ")\n",
    "\n",
    "# Axes\n",
    "ax.legend(loc=\"upper right\")\n",
    "\n",
    "fig.savefig(os.path.join(\"..\", \"gfx\", \"chi2_shape.png\"), facecolor=\"white\", dpi=150)\n",
    "fig.savefig(os.path.join(\"..\", \"gfx\", \"chi2_shape.pgf\"))"
   ]
  },
  {
   "cell_type": "code",
   "execution_count": 72,
   "id": "09c9ed12",
   "metadata": {},
   "outputs": [
    {
     "data": {
      "text/html": [
       "<div>\n",
       "<style scoped>\n",
       "    .dataframe tbody tr th:only-of-type {\n",
       "        vertical-align: middle;\n",
       "    }\n",
       "\n",
       "    .dataframe tbody tr th {\n",
       "        vertical-align: top;\n",
       "    }\n",
       "\n",
       "    .dataframe thead th {\n",
       "        text-align: right;\n",
       "    }\n",
       "</style>\n",
       "<table border=\"1\" class=\"dataframe\">\n",
       "  <thead>\n",
       "    <tr style=\"text-align: right;\">\n",
       "      <th></th>\n",
       "      <th>ssnamenr</th>\n",
       "      <th>SHG1G2_R</th>\n",
       "      <th>SHG1G2_obliquity</th>\n",
       "      <th>SHG1G2_chi2red</th>\n",
       "      <th>SHG1G2_rms</th>\n",
       "    </tr>\n",
       "  </thead>\n",
       "  <tbody>\n",
       "    <tr>\n",
       "      <th>3000</th>\n",
       "      <td>49820</td>\n",
       "      <td>0.402635</td>\n",
       "      <td>149.005098</td>\n",
       "      <td>5.584586</td>\n",
       "      <td>0.183478</td>\n",
       "    </tr>\n",
       "    <tr>\n",
       "      <th>3001</th>\n",
       "      <td>93239</td>\n",
       "      <td>0.748642</td>\n",
       "      <td>8.171180</td>\n",
       "      <td>5.586797</td>\n",
       "      <td>0.223177</td>\n",
       "    </tr>\n",
       "    <tr>\n",
       "      <th>3002</th>\n",
       "      <td>55946</td>\n",
       "      <td>0.628452</td>\n",
       "      <td>168.171621</td>\n",
       "      <td>5.587711</td>\n",
       "      <td>0.141211</td>\n",
       "    </tr>\n",
       "    <tr>\n",
       "      <th>3003</th>\n",
       "      <td>140437</td>\n",
       "      <td>0.732720</td>\n",
       "      <td>154.733855</td>\n",
       "      <td>5.592798</td>\n",
       "      <td>0.233650</td>\n",
       "    </tr>\n",
       "    <tr>\n",
       "      <th>3004</th>\n",
       "      <td>26128</td>\n",
       "      <td>0.615057</td>\n",
       "      <td>13.409706</td>\n",
       "      <td>5.593288</td>\n",
       "      <td>0.162524</td>\n",
       "    </tr>\n",
       "    <tr>\n",
       "      <th>3005</th>\n",
       "      <td>3827</td>\n",
       "      <td>0.943088</td>\n",
       "      <td>103.688345</td>\n",
       "      <td>5.593608</td>\n",
       "      <td>0.126558</td>\n",
       "    </tr>\n",
       "    <tr>\n",
       "      <th>3006</th>\n",
       "      <td>10226</td>\n",
       "      <td>0.697809</td>\n",
       "      <td>145.385949</td>\n",
       "      <td>5.594495</td>\n",
       "      <td>0.125789</td>\n",
       "    </tr>\n",
       "    <tr>\n",
       "      <th>3007</th>\n",
       "      <td>16270</td>\n",
       "      <td>0.484784</td>\n",
       "      <td>149.075460</td>\n",
       "      <td>5.595002</td>\n",
       "      <td>0.104835</td>\n",
       "    </tr>\n",
       "    <tr>\n",
       "      <th>3008</th>\n",
       "      <td>13460</td>\n",
       "      <td>0.920232</td>\n",
       "      <td>41.138961</td>\n",
       "      <td>5.595395</td>\n",
       "      <td>0.133526</td>\n",
       "    </tr>\n",
       "    <tr>\n",
       "      <th>3009</th>\n",
       "      <td>67333</td>\n",
       "      <td>0.320074</td>\n",
       "      <td>155.941659</td>\n",
       "      <td>5.595478</td>\n",
       "      <td>0.204004</td>\n",
       "    </tr>\n",
       "    <tr>\n",
       "      <th>3010</th>\n",
       "      <td>4746</td>\n",
       "      <td>0.857715</td>\n",
       "      <td>86.327519</td>\n",
       "      <td>5.595802</td>\n",
       "      <td>0.120219</td>\n",
       "    </tr>\n",
       "  </tbody>\n",
       "</table>\n",
       "</div>"
      ],
      "text/plain": [
       "     ssnamenr  SHG1G2_R  SHG1G2_obliquity  SHG1G2_chi2red  SHG1G2_rms\n",
       "3000    49820  0.402635        149.005098        5.584586    0.183478\n",
       "3001    93239  0.748642          8.171180        5.586797    0.223177\n",
       "3002    55946  0.628452        168.171621        5.587711    0.141211\n",
       "3003   140437  0.732720        154.733855        5.592798    0.233650\n",
       "3004    26128  0.615057         13.409706        5.593288    0.162524\n",
       "3005     3827  0.943088        103.688345        5.593608    0.126558\n",
       "3006    10226  0.697809        145.385949        5.594495    0.125789\n",
       "3007    16270  0.484784        149.075460        5.595002    0.104835\n",
       "3008    13460  0.920232         41.138961        5.595395    0.133526\n",
       "3009    67333  0.320074        155.941659        5.595478    0.204004\n",
       "3010     4746  0.857715         86.327519        5.595802    0.120219"
      ]
     },
     "execution_count": 72,
     "metadata": {},
     "output_type": "execute_result"
    }
   ],
   "source": [
    "s = 3000\n",
    "data[cond].sort_values(\"SHG1G2_chi2red\").reset_index().loc[\n",
    "    s : s + 10,\n",
    "    [\"ssnamenr\", \"SHG1G2_R\", \"SHG1G2_obliquity\", \"SHG1G2_chi2red\", \"SHG1G2_rms\"],\n",
    "]"
   ]
  },
  {
   "cell_type": "markdown",
   "id": "55899490",
   "metadata": {},
   "source": [
    "Some LC signature I think\n",
    "- 9241\n"
   ]
  },
  {
   "cell_type": "code",
   "execution_count": 59,
   "id": "fc78948d",
   "metadata": {},
   "outputs": [
    {
     "ename": "RuntimeError",
     "evalue": "The command\n    xelatex -interaction=nonstopmode -halt-on-error figure.tex\nfailed and generated the following output:\nThis is XeTeX, Version 3.141592653-2.6-0.999993 (TeX Live 2022/dev/Debian) (preloaded format=xelatex)\n restricted \\write18 enabled.\nentering extended mode\n(./figure.tex\nLaTeX2e <2021-11-15> patch level 1\nL3 programming layer <2022-01-21>\n(/usr/share/texlive/texmf-dist/tex/latex/base/article.cls\nDocument Class: article 2021/10/04 v1.4n Standard LaTeX document class\n(/usr/share/texlive/texmf-dist/tex/latex/base/size12.clo))\n(/usr/share/texlive/texmf-dist/tex/latex/hyperref/hyperref.sty\n(/usr/share/texlive/texmf-dist/tex/generic/ltxcmds/ltxcmds.sty)\n(/usr/share/texlive/texmf-dist/tex/generic/iftex/iftex.sty)\n(/usr/share/texlive/texmf-dist/tex/generic/pdftexcmds/pdftexcmds.sty\n(/usr/share/texlive/texmf-dist/tex/generic/infwarerr/infwarerr.sty))\n(/usr/share/texlive/texmf-dist/tex/latex/graphics/keyval.sty)\n(/usr/share/texlive/texmf-dist/tex/generic/kvsetkeys/kvsetkeys.sty)\n(/usr/share/texlive/texmf-dist/tex/generic/kvdefinekeys/kvdefinekeys.sty)\n(/usr/share/texlive/texmf-dist/tex/generic/pdfescape/pdfescape.sty)\n(/usr/share/texlive/texmf-dist/tex/latex/hycolor/hycolor.sty)\n(/usr/share/texlive/texmf-dist/tex/latex/letltxmacro/letltxmacro.sty)\n(/usr/share/texlive/texmf-dist/tex/latex/auxhook/auxhook.sty)\n(/usr/share/texlive/texmf-dist/tex/latex/kvoptions/kvoptions.sty)\n(/usr/share/texlive/texmf-dist/tex/latex/hyperref/pd1enc.def)\n(/usr/share/texlive/texmf-dist/tex/latex/hyperref/hyperref-langpatches.def)\n(/usr/share/texlive/texmf-dist/tex/generic/intcalc/intcalc.sty)\n(/usr/share/texlive/texmf-dist/tex/generic/etexcmds/etexcmds.sty)\n(/usr/share/texlive/texmf-dist/tex/latex/hyperref/puenc.def)\n(/usr/share/texlive/texmf-dist/tex/latex/url/url.sty)\n(/usr/share/texlive/texmf-dist/tex/generic/bitset/bitset.sty\n(/usr/share/texlive/texmf-dist/tex/generic/bigintcalc/bigintcalc.sty))\n(/usr/share/texlive/texmf-dist/tex/latex/base/atbegshi-ltx.sty))\n(/usr/share/texlive/texmf-dist/tex/latex/hyperref/hxetex.def\n(/usr/share/texlive/texmf-dist/tex/generic/stringenc/stringenc.sty)\n(/usr/share/texlive/texmf-dist/tex/latex/rerunfilecheck/rerunfilecheck.sty\n(/usr/share/texlive/texmf-dist/tex/latex/base/atveryend-ltx.sty)\n(/usr/share/texlive/texmf-dist/tex/generic/uniquecounter/uniquecounter.sty)))\n(/usr/share/texlive/texmf-dist/tex/latex/geometry/geometry.sty\n(/usr/share/texlive/texmf-dist/tex/generic/iftex/ifvtex.sty))\n(/usr/share/texlive/texmf-dist/tex/latex/pgf/basiclayer/pgf.sty\n(/usr/share/texlive/texmf-dist/tex/latex/pgf/utilities/pgfrcs.sty\n(/usr/share/texlive/texmf-dist/tex/generic/pgf/utilities/pgfutil-common.tex\n(/usr/share/texlive/texmf-dist/tex/generic/pgf/utilities/pgfutil-common-lists.t\nex)) (/usr/share/texlive/texmf-dist/tex/generic/pgf/utilities/pgfutil-latex.def\n) (/usr/share/texlive/texmf-dist/tex/generic/pgf/utilities/pgfrcs.code.tex\n(/usr/share/texlive/texmf-dist/tex/generic/pgf/pgf.revision.tex)))\n(/usr/share/texlive/texmf-dist/tex/latex/pgf/basiclayer/pgfcore.sty\n(/usr/share/texlive/texmf-dist/tex/latex/graphics/graphicx.sty\n(/usr/share/texlive/texmf-dist/tex/latex/graphics/graphics.sty\n(/usr/share/texlive/texmf-dist/tex/latex/graphics/trig.sty)\n(/usr/share/texlive/texmf-dist/tex/latex/graphics-cfg/graphics.cfg)\n(/usr/share/texlive/texmf-dist/tex/latex/graphics-def/xetex.def)))\n(/usr/share/texlive/texmf-dist/tex/latex/pgf/systemlayer/pgfsys.sty\n(/usr/share/texlive/texmf-dist/tex/generic/pgf/systemlayer/pgfsys.code.tex\n(/usr/share/texlive/texmf-dist/tex/generic/pgf/utilities/pgfkeys.code.tex\n(/usr/share/texlive/texmf-dist/tex/generic/pgf/utilities/pgfkeysfiltered.code.t\nex)) (/usr/share/texlive/texmf-dist/tex/generic/pgf/systemlayer/pgf.cfg)\n(/usr/share/texlive/texmf-dist/tex/generic/pgf/systemlayer/pgfsys-xetex.def\n(/usr/share/texlive/texmf-dist/tex/generic/pgf/systemlayer/pgfsys-dvipdfmx.def\n(/usr/share/texlive/texmf-dist/tex/generic/pgf/systemlayer/pgfsys-common-pdf.de\nf))))\n(/usr/share/texlive/texmf-dist/tex/generic/pgf/systemlayer/pgfsyssoftpath.code.\ntex)\n(/usr/share/texlive/texmf-dist/tex/generic/pgf/systemlayer/pgfsysprotocol.code.\ntex)) (/usr/share/texlive/texmf-dist/tex/latex/xcolor/xcolor.sty\n(/usr/share/texlive/texmf-dist/tex/latex/graphics-cfg/color.cfg))\n(/usr/share/texlive/texmf-dist/tex/generic/pgf/basiclayer/pgfcore.code.tex\n(/usr/share/texlive/texmf-dist/tex/generic/pgf/math/pgfmath.code.tex\n(/usr/share/texlive/texmf-dist/tex/generic/pgf/math/pgfmathcalc.code.tex\n(/usr/share/texlive/texmf-dist/tex/generic/pgf/math/pgfmathutil.code.tex)\n(/usr/share/texlive/texmf-dist/tex/generic/pgf/math/pgfmathparser.code.tex)\n(/usr/share/texlive/texmf-dist/tex/generic/pgf/math/pgfmathfunctions.code.tex\n(/usr/share/texlive/texmf-dist/tex/generic/pgf/math/pgfmathfunctions.basic.code\n.tex)\n(/usr/share/texlive/texmf-dist/tex/generic/pgf/math/pgfmathfunctions.trigonomet\nric.code.tex)\n(/usr/share/texlive/texmf-dist/tex/generic/pgf/math/pgfmathfunctions.random.cod\ne.tex)\n(/usr/share/texlive/texmf-dist/tex/generic/pgf/math/pgfmathfunctions.comparison\n.code.tex)\n(/usr/share/texlive/texmf-dist/tex/generic/pgf/math/pgfmathfunctions.base.code.\ntex)\n(/usr/share/texlive/texmf-dist/tex/generic/pgf/math/pgfmathfunctions.round.code\n.tex)\n(/usr/share/texlive/texmf-dist/tex/generic/pgf/math/pgfmathfunctions.misc.code.\ntex)\n(/usr/share/texlive/texmf-dist/tex/generic/pgf/math/pgfmathfunctions.integerari\nthmetics.code.tex)))\n(/usr/share/texlive/texmf-dist/tex/generic/pgf/math/pgfmathfloat.code.tex))\n(/usr/share/texlive/texmf-dist/tex/generic/pgf/math/pgfint.code.tex)\n(/usr/share/texlive/texmf-dist/tex/generic/pgf/basiclayer/pgfcorepoints.code.te\nx)\n(/usr/share/texlive/texmf-dist/tex/generic/pgf/basiclayer/pgfcorepathconstruct.\ncode.tex)\n(/usr/share/texlive/texmf-dist/tex/generic/pgf/basiclayer/pgfcorepathusage.code\n.tex)\n(/usr/share/texlive/texmf-dist/tex/generic/pgf/basiclayer/pgfcorescopes.code.te\nx)\n(/usr/share/texlive/texmf-dist/tex/generic/pgf/basiclayer/pgfcoregraphicstate.c\node.tex)\n(/usr/share/texlive/texmf-dist/tex/generic/pgf/basiclayer/pgfcoretransformation\ns.code.tex)\n(/usr/share/texlive/texmf-dist/tex/generic/pgf/basiclayer/pgfcorequick.code.tex\n)\n(/usr/share/texlive/texmf-dist/tex/generic/pgf/basiclayer/pgfcoreobjects.code.t\nex)\n(/usr/share/texlive/texmf-dist/tex/generic/pgf/basiclayer/pgfcorepathprocessing\n.code.tex)\n(/usr/share/texlive/texmf-dist/tex/generic/pgf/basiclayer/pgfcorearrows.code.te\nx)\n(/usr/share/texlive/texmf-dist/tex/generic/pgf/basiclayer/pgfcoreshade.code.tex\n)\n(/usr/share/texlive/texmf-dist/tex/generic/pgf/basiclayer/pgfcoreimage.code.tex\n\n(/usr/share/texlive/texmf-dist/tex/generic/pgf/basiclayer/pgfcoreexternal.code.\ntex))\n(/usr/share/texlive/texmf-dist/tex/generic/pgf/basiclayer/pgfcorelayers.code.te\nx)\n(/usr/share/texlive/texmf-dist/tex/generic/pgf/basiclayer/pgfcoretransparency.c\node.tex)\n(/usr/share/texlive/texmf-dist/tex/generic/pgf/basiclayer/pgfcorepatterns.code.\ntex)\n(/usr/share/texlive/texmf-dist/tex/generic/pgf/basiclayer/pgfcorerdf.code.tex))\n)\n(/usr/share/texlive/texmf-dist/tex/generic/pgf/modules/pgfmoduleshapes.code.tex\n) (/usr/share/texlive/texmf-dist/tex/generic/pgf/modules/pgfmoduleplot.code.tex\n)\n(/usr/share/texlive/texmf-dist/tex/latex/pgf/compatibility/pgfcomp-version-0-65\n.sty)\n(/usr/share/texlive/texmf-dist/tex/latex/pgf/compatibility/pgfcomp-version-1-18\n.sty)) (/usr/share/texlive/texmf-dist/tex/latex/amsmath/amsmath.sty\nFor additional information on amsmath, use the `?' option.\n(/usr/share/texlive/texmf-dist/tex/latex/amsmath/amstext.sty\n(/usr/share/texlive/texmf-dist/tex/latex/amsmath/amsgen.sty))\n(/usr/share/texlive/texmf-dist/tex/latex/amsmath/amsbsy.sty)\n(/usr/share/texlive/texmf-dist/tex/latex/amsmath/amsopn.sty))\n(/usr/share/texlive/texmf-dist/tex/latex/base/inputenc.sty\n\nPackage inputenc Warning: inputenc package ignored with utf8 based engines.\n\n) (/usr/share/texlive/texmf-dist/tex/latex/base/fontenc.sty\n\nLaTeX Font Warning: Font shape `T1/lmr/m/n' undefined\n(Font)              using `T1/cmr/m/n' instead on input line 112.\n\n) (/usr/share/texlive/texmf-dist/tex/latex/txfonts/txfonts.sty)\n(/usr/share/texlive/texmf-dist/tex/latex/sourcesanspro/sourcesanspro.sty\n(/usr/share/texlive/texmf-dist/tex/generic/iftex/ifxetex.sty)\n(/usr/share/texlive/texmf-dist/tex/generic/iftex/ifluatex.sty)\n(/usr/share/texlive/texmf-dist/tex/latex/xkeyval/xkeyval.sty\n(/usr/share/texlive/texmf-dist/tex/generic/xkeyval/xkeyval.tex\n(/usr/share/texlive/texmf-dist/tex/generic/xkeyval/xkvutils.tex)))\n(/usr/share/texlive/texmf-dist/tex/latex/fontspec/fontspec.sty\n(/usr/share/texlive/texmf-dist/tex/latex/l3packages/xparse/xparse.sty\n(/usr/share/texlive/texmf-dist/tex/latex/l3kernel/expl3.sty\n(/usr/share/texlive/texmf-dist/tex/latex/l3backend/l3backend-xetex.def\n(|extractbb --version))))\n(/usr/share/texlive/texmf-dist/tex/latex/fontspec/fontspec-xetex.sty\n(/usr/share/texlive/texmf-dist/tex/latex/base/fontenc.sty)\n(/usr/share/texlive/texmf-dist/tex/latex/fontspec/fontspec.cfg))))\n(/usr/share/texlive/texmf-dist/tex/latex/pgfplots/pgfplots.sty\n(/usr/share/texlive/texmf-dist/tex/generic/pgfplots/pgfplots.revision.tex)\n(/usr/share/texlive/texmf-dist/tex/latex/pgf/frontendlayer/tikz.sty\n(/usr/share/texlive/texmf-dist/tex/latex/pgf/utilities/pgffor.sty\n(/usr/share/texlive/texmf-dist/tex/latex/pgf/utilities/pgfkeys.sty\n(/usr/share/texlive/texmf-dist/tex/generic/pgf/utilities/pgfkeys.code.tex))\n(/usr/share/texlive/texmf-dist/tex/latex/pgf/math/pgfmath.sty\n(/usr/share/texlive/texmf-dist/tex/generic/pgf/math/pgfmath.code.tex))\n(/usr/share/texlive/texmf-dist/tex/generic/pgf/utilities/pgffor.code.tex\n(/usr/share/texlive/texmf-dist/tex/generic/pgf/math/pgfmath.code.tex)))\n(/usr/share/texlive/texmf-dist/tex/generic/pgf/frontendlayer/tikz/tikz.code.tex\n\n(/usr/share/texlive/texmf-dist/tex/generic/pgf/libraries/pgflibraryplothandlers\n.code.tex)\n(/usr/share/texlive/texmf-dist/tex/generic/pgf/modules/pgfmodulematrix.code.tex\n)\n(/usr/share/texlive/texmf-dist/tex/generic/pgf/frontendlayer/tikz/libraries/tik\nzlibrarytopaths.code.tex)))\n(/usr/share/texlive/texmf-dist/tex/generic/pgfplots/pgfplots.code.tex\n(/usr/share/texlive/texmf-dist/tex/generic/pgfplots/pgfplotscore.code.tex\n(/usr/share/texlive/texmf-dist/tex/generic/pgfplots/sys/pgfplotssysgeneric.code\n.tex))\n(/usr/share/texlive/texmf-dist/tex/generic/pgfplots/libs/pgfplotslibrary.code.t\nex)\n(/usr/share/texlive/texmf-dist/tex/generic/pgfplots/oldpgfcompatib/pgfplotsoldp\ngfsupp_loader.code.tex\n(/usr/share/texlive/texmf-dist/tex/generic/pgf/libraries/pgflibraryfpu.code.tex\n))\n(/usr/share/texlive/texmf-dist/tex/generic/pgfplots/util/pgfplotsutil.code.tex\n(/usr/share/texlive/texmf-dist/tex/generic/pgfplots/liststructure/pgfplotslists\ntructure.code.tex)\n(/usr/share/texlive/texmf-dist/tex/generic/pgfplots/liststructure/pgfplotslists\ntructureext.code.tex)\n(/usr/share/texlive/texmf-dist/tex/generic/pgfplots/liststructure/pgfplotsarray\n.code.tex)\n(/usr/share/texlive/texmf-dist/tex/generic/pgfplots/liststructure/pgfplotsmatri\nx.code.tex)\n(/usr/share/texlive/texmf-dist/tex/generic/pgfplots/numtable/pgfplotstableshare\nd.code.tex)\n(/usr/share/texlive/texmf-dist/tex/generic/pgfplots/liststructure/pgfplotsdeque\n.code.tex)\n(/usr/share/texlive/texmf-dist/tex/generic/pgfplots/util/pgfplotsbinary.code.te\nx\n(/usr/share/texlive/texmf-dist/tex/generic/pgfplots/util/pgfplotsbinary.data.co\nde.tex))\n(/usr/share/texlive/texmf-dist/tex/generic/pgfplots/util/pgfplotsutil.verb.code\n.tex)\n(/usr/share/texlive/texmf-dist/tex/generic/pgfplots/libs/pgflibrarypgfplots.sur\nfshading.code.tex\n(/usr/share/texlive/texmf-dist/tex/generic/pgfplots/sys/pgflibrarypgfplots.surf\nshading.pgfsys-xetex.def\n(/usr/share/texlive/texmf-dist/tex/generic/pgfplots/sys/pgflibrarypgfplots.surf\nshading.pgfsys-dvipdfmx.def))))\n(/usr/share/texlive/texmf-dist/tex/generic/pgfplots/util/pgfplotscolormap.code.\ntex\n(/usr/share/texlive/texmf-dist/tex/generic/pgfplots/util/pgfplotscolor.code.tex\n))\n(/usr/share/texlive/texmf-dist/tex/generic/pgfplots/pgfplotsstackedplots.code.t\nex)\n(/usr/share/texlive/texmf-dist/tex/generic/pgfplots/pgfplotsplothandlers.code.t\nex\n(/usr/share/texlive/texmf-dist/tex/generic/pgfplots/pgfplotsmeshplothandler.cod\ne.tex\n(/usr/share/texlive/texmf-dist/tex/generic/pgfplots/pgfplotsmeshplotimage.code.\ntex)))\n(/usr/share/texlive/texmf-dist/tex/generic/pgfplots/pgfplots.scaling.code.tex)\n(/usr/share/texlive/texmf-dist/tex/generic/pgfplots/pgfplotscoordprocessing.cod\ne.tex)\n(/usr/share/texlive/texmf-dist/tex/generic/pgfplots/pgfplots.errorbars.code.tex\n) (/usr/share/texlive/texmf-dist/tex/generic/pgfplots/pgfplots.markers.code.tex\n) (/usr/share/texlive/texmf-dist/tex/generic/pgfplots/pgfplotsticks.code.tex)\n(/usr/share/texlive/texmf-dist/tex/generic/pgfplots/pgfplots.paths.code.tex)\n(/usr/share/texlive/texmf-dist/tex/generic/pgf/frontendlayer/tikz/libraries/tik\nzlibrarydecorations.code.tex\n(/usr/share/texlive/texmf-dist/tex/generic/pgf/modules/pgfmoduledecorations.cod\ne.tex))\n(/usr/share/texlive/texmf-dist/tex/generic/pgf/frontendlayer/tikz/libraries/tik\nzlibrarydecorations.pathmorphing.code.tex\n(/usr/share/texlive/texmf-dist/tex/generic/pgf/libraries/decorations/pgflibrary\ndecorations.pathmorphing.code.tex))\n(/usr/share/texlive/texmf-dist/tex/generic/pgf/frontendlayer/tikz/libraries/tik\nzlibrarydecorations.pathreplacing.code.tex\n(/usr/share/texlive/texmf-dist/tex/generic/pgf/libraries/decorations/pgflibrary\ndecorations.pathreplacing.code.tex))\n(/usr/share/texlive/texmf-dist/tex/generic/pgfplots/libs/tikzlibrarypgfplots.co\nntourlua.code.tex))\n(/usr/share/texlive/texmf-dist/tex/generic/pgf/frontendlayer/tikz/libraries/tik\nzlibraryplotmarks.code.tex\n(/usr/share/texlive/texmf-dist/tex/generic/pgf/libraries/pgflibraryplotmarks.co\nde.tex)))\n(/usr/share/texlive/texmf-dist/tex/generic/pgfplots/libs/tikzlibrarypgfplots.ex\nternal.code.tex\n(/usr/share/texlive/texmf-dist/tex/latex/pgf/frontendlayer/libraries/tikzlibrar\nyexternal.code.tex\n(/usr/share/texlive/texmf-dist/tex/generic/pgf/frontendlayer/tikz/libraries/tik\nzexternalshared.code.tex)))\n(/usr/share/texlive/texmf-dist/tex/latex/underscore/underscore.sty)\nNo file figure.aux.\n(/usr/share/texlive/texmf-dist/tex/latex/txfonts/omltxmi.fd)\n(/usr/share/texlive/texmf-dist/tex/latex/txfonts/omstxsy.fd)\n(/usr/share/texlive/texmf-dist/tex/latex/base/ts1cmr.fd)\n(/usr/share/texlive/texmf-dist/tex/latex/txfonts/omxtxex.fd)\n(/usr/share/texlive/texmf-dist/tex/latex/txfonts/utxexa.fd)\n(/usr/share/texlive/texmf-dist/tex/latex/hyperref/nameref.sty\n(/usr/share/texlive/texmf-dist/tex/latex/refcount/refcount.sty)\n(/usr/share/texlive/texmf-dist/tex/generic/gettitlestring/gettitlestring.sty))\n\nPackage hyperref Warning: Rerun to get /PageLabels entry.\n\n*geometry* driver: auto-detecting\n*geometry* detected driver: xetex\n\nPackage pgfplots Warning: running in backwards compatibility mode (unsuitable t\nick labels; missing features). Consider writing \\pgfplotsset{compat=1.18} into \nyour preamble.\n on input line 8.\n\n(./figure.pgf (/usr/share/texlive/texmf-dist/tex/latex/txfonts/ot1txr.fd)\n(/usr/share/texlive/texmf-dist/tex/latex/txfonts/utxmia.fd)\n(/usr/share/texlive/texmf-dist/tex/latex/txfonts/utxsya.fd)\n(/usr/share/texlive/texmf-dist/tex/latex/txfonts/utxsyb.fd)\n(/usr/share/texlive/texmf-dist/tex/latex/txfonts/utxsyc.fd)\nRunaway text?\npdf:code q 0.0 -0.49986 m 0.13292 -0.49986 0.25926 -0.44713 0.35374 -\\ETC.\n! TeX capacity exceeded, sorry [main memory size=5000000].\n<argument> ...6 0.13292 0.44713 0.25926 0.35374 0.\n                                                  35374 c 0.25926 0.44713 0....\nl.30689 \\pgfsys@useobject{currentmarker}{}\n                                          %\nNo pages of output.\nTranscript written on figure.log.\n\nand the following error:\n",
     "output_type": "error",
     "traceback": [
      "\u001b[0;31m---------------------------------------------------------------------------\u001b[0m",
      "\u001b[0;31mRuntimeError\u001b[0m                              Traceback (most recent call last)",
      "Cell \u001b[0;32mIn[59], line 13\u001b[0m\n\u001b[1;32m     10\u001b[0m ax\u001b[38;5;241m.\u001b[39mset_xlabel(\u001b[38;5;124m\"\u001b[39m\u001b[38;5;124ma/b\u001b[39m\u001b[38;5;124m\"\u001b[39m)\n\u001b[1;32m     11\u001b[0m ax\u001b[38;5;241m.\u001b[39mset_ylabel(\u001b[38;5;124m\"\u001b[39m\u001b[38;5;124mRMS\u001b[39m\u001b[38;5;124m\"\u001b[39m)\n\u001b[0;32m---> 13\u001b[0m \u001b[43mfig\u001b[49m\u001b[38;5;241;43m.\u001b[39;49m\u001b[43msavefig\u001b[49m\u001b[43m(\u001b[49m\u001b[43mos\u001b[49m\u001b[38;5;241;43m.\u001b[39;49m\u001b[43mpath\u001b[49m\u001b[38;5;241;43m.\u001b[39;49m\u001b[43mjoin\u001b[49m\u001b[43m(\u001b[49m\u001b[38;5;124;43m\"\u001b[39;49m\u001b[38;5;124;43m..\u001b[39;49m\u001b[38;5;124;43m\"\u001b[39;49m\u001b[43m,\u001b[49m\u001b[43m \u001b[49m\u001b[38;5;124;43m\"\u001b[39;49m\u001b[38;5;124;43mgfx\u001b[39;49m\u001b[38;5;124;43m\"\u001b[39;49m\u001b[43m,\u001b[49m\u001b[43m \u001b[49m\u001b[38;5;124;43m\"\u001b[39;49m\u001b[38;5;124;43mrms_vs_ab.png\u001b[39;49m\u001b[38;5;124;43m\"\u001b[39;49m\u001b[43m)\u001b[49m\u001b[43m,\u001b[49m\u001b[43m \u001b[49m\u001b[43mfacecolor\u001b[49m\u001b[38;5;241;43m=\u001b[39;49m\u001b[38;5;124;43m\"\u001b[39;49m\u001b[38;5;124;43mwhite\u001b[39;49m\u001b[38;5;124;43m\"\u001b[39;49m\u001b[43m,\u001b[49m\u001b[43m \u001b[49m\u001b[43mdpi\u001b[49m\u001b[38;5;241;43m=\u001b[39;49m\u001b[38;5;241;43m150\u001b[39;49m\u001b[43m)\u001b[49m\n\u001b[1;32m     16\u001b[0m fig, ax \u001b[38;5;241m=\u001b[39m plt\u001b[38;5;241m.\u001b[39msubplots(\n\u001b[1;32m     17\u001b[0m     figsize\u001b[38;5;241m=\u001b[39mfs\u001b[38;5;241m.\u001b[39mfigsize(\u001b[38;5;241m0.5\u001b[39m), gridspec_kw\u001b[38;5;241m=\u001b[39m{\u001b[38;5;124m\"\u001b[39m\u001b[38;5;124mright\u001b[39m\u001b[38;5;124m\"\u001b[39m: \u001b[38;5;241m0.975\u001b[39m, \u001b[38;5;124m\"\u001b[39m\u001b[38;5;124mtop\u001b[39m\u001b[38;5;124m\"\u001b[39m: \u001b[38;5;241m0.95\u001b[39m, \u001b[38;5;124m\"\u001b[39m\u001b[38;5;124mbottom\u001b[39m\u001b[38;5;124m\"\u001b[39m: \u001b[38;5;241m0.15\u001b[39m}\n\u001b[1;32m     18\u001b[0m )\n\u001b[1;32m     20\u001b[0m ax\u001b[38;5;241m.\u001b[39mscatter(\u001b[38;5;28mall\u001b[39m\u001b[38;5;241m.\u001b[39mR, \u001b[38;5;28mall\u001b[39m\u001b[38;5;241m.\u001b[39mSHG1G2_rms, s\u001b[38;5;241m=\u001b[39m\u001b[38;5;241m1\u001b[39m, alpha\u001b[38;5;241m=\u001b[39m\u001b[38;5;241m0.5\u001b[39m)\n",
      "File \u001b[0;32m~/anaconda3/lib/python3.9/site-packages/matplotlib/figure.py:3274\u001b[0m, in \u001b[0;36mFigure.savefig\u001b[0;34m(self, fname, transparent, **kwargs)\u001b[0m\n\u001b[1;32m   3270\u001b[0m     \u001b[38;5;28;01mfor\u001b[39;00m ax \u001b[38;5;129;01min\u001b[39;00m \u001b[38;5;28mself\u001b[39m\u001b[38;5;241m.\u001b[39maxes:\n\u001b[1;32m   3271\u001b[0m         stack\u001b[38;5;241m.\u001b[39menter_context(\n\u001b[1;32m   3272\u001b[0m             ax\u001b[38;5;241m.\u001b[39mpatch\u001b[38;5;241m.\u001b[39m_cm_set(facecolor\u001b[38;5;241m=\u001b[39m\u001b[38;5;124m'\u001b[39m\u001b[38;5;124mnone\u001b[39m\u001b[38;5;124m'\u001b[39m, edgecolor\u001b[38;5;241m=\u001b[39m\u001b[38;5;124m'\u001b[39m\u001b[38;5;124mnone\u001b[39m\u001b[38;5;124m'\u001b[39m))\n\u001b[0;32m-> 3274\u001b[0m \u001b[38;5;28;43mself\u001b[39;49m\u001b[38;5;241;43m.\u001b[39;49m\u001b[43mcanvas\u001b[49m\u001b[38;5;241;43m.\u001b[39;49m\u001b[43mprint_figure\u001b[49m\u001b[43m(\u001b[49m\u001b[43mfname\u001b[49m\u001b[43m,\u001b[49m\u001b[43m \u001b[49m\u001b[38;5;241;43m*\u001b[39;49m\u001b[38;5;241;43m*\u001b[39;49m\u001b[43mkwargs\u001b[49m\u001b[43m)\u001b[49m\n",
      "File \u001b[0;32m~/anaconda3/lib/python3.9/site-packages/matplotlib/backend_bases.py:2338\u001b[0m, in \u001b[0;36mFigureCanvasBase.print_figure\u001b[0;34m(self, filename, dpi, facecolor, edgecolor, orientation, format, bbox_inches, pad_inches, bbox_extra_artists, backend, **kwargs)\u001b[0m\n\u001b[1;32m   2334\u001b[0m \u001b[38;5;28;01mtry\u001b[39;00m:\n\u001b[1;32m   2335\u001b[0m     \u001b[38;5;66;03m# _get_renderer may change the figure dpi (as vector formats\u001b[39;00m\n\u001b[1;32m   2336\u001b[0m     \u001b[38;5;66;03m# force the figure dpi to 72), so we need to set it again here.\u001b[39;00m\n\u001b[1;32m   2337\u001b[0m     \u001b[38;5;28;01mwith\u001b[39;00m cbook\u001b[38;5;241m.\u001b[39m_setattr_cm(\u001b[38;5;28mself\u001b[39m\u001b[38;5;241m.\u001b[39mfigure, dpi\u001b[38;5;241m=\u001b[39mdpi):\n\u001b[0;32m-> 2338\u001b[0m         result \u001b[38;5;241m=\u001b[39m \u001b[43mprint_method\u001b[49m\u001b[43m(\u001b[49m\n\u001b[1;32m   2339\u001b[0m \u001b[43m            \u001b[49m\u001b[43mfilename\u001b[49m\u001b[43m,\u001b[49m\n\u001b[1;32m   2340\u001b[0m \u001b[43m            \u001b[49m\u001b[43mfacecolor\u001b[49m\u001b[38;5;241;43m=\u001b[39;49m\u001b[43mfacecolor\u001b[49m\u001b[43m,\u001b[49m\n\u001b[1;32m   2341\u001b[0m \u001b[43m            \u001b[49m\u001b[43medgecolor\u001b[49m\u001b[38;5;241;43m=\u001b[39;49m\u001b[43medgecolor\u001b[49m\u001b[43m,\u001b[49m\n\u001b[1;32m   2342\u001b[0m \u001b[43m            \u001b[49m\u001b[43morientation\u001b[49m\u001b[38;5;241;43m=\u001b[39;49m\u001b[43morientation\u001b[49m\u001b[43m,\u001b[49m\n\u001b[1;32m   2343\u001b[0m \u001b[43m            \u001b[49m\u001b[43mbbox_inches_restore\u001b[49m\u001b[38;5;241;43m=\u001b[39;49m\u001b[43m_bbox_inches_restore\u001b[49m\u001b[43m,\u001b[49m\n\u001b[1;32m   2344\u001b[0m \u001b[43m            \u001b[49m\u001b[38;5;241;43m*\u001b[39;49m\u001b[38;5;241;43m*\u001b[39;49m\u001b[43mkwargs\u001b[49m\u001b[43m)\u001b[49m\n\u001b[1;32m   2345\u001b[0m \u001b[38;5;28;01mfinally\u001b[39;00m:\n\u001b[1;32m   2346\u001b[0m     \u001b[38;5;28;01mif\u001b[39;00m bbox_inches \u001b[38;5;129;01mand\u001b[39;00m restore_bbox:\n",
      "File \u001b[0;32m~/anaconda3/lib/python3.9/site-packages/matplotlib/backend_bases.py:2204\u001b[0m, in \u001b[0;36mFigureCanvasBase._switch_canvas_and_return_print_method.<locals>.<lambda>\u001b[0;34m(*args, **kwargs)\u001b[0m\n\u001b[1;32m   2200\u001b[0m     optional_kws \u001b[38;5;241m=\u001b[39m {  \u001b[38;5;66;03m# Passed by print_figure for other renderers.\u001b[39;00m\n\u001b[1;32m   2201\u001b[0m         \u001b[38;5;124m\"\u001b[39m\u001b[38;5;124mdpi\u001b[39m\u001b[38;5;124m\"\u001b[39m, \u001b[38;5;124m\"\u001b[39m\u001b[38;5;124mfacecolor\u001b[39m\u001b[38;5;124m\"\u001b[39m, \u001b[38;5;124m\"\u001b[39m\u001b[38;5;124medgecolor\u001b[39m\u001b[38;5;124m\"\u001b[39m, \u001b[38;5;124m\"\u001b[39m\u001b[38;5;124morientation\u001b[39m\u001b[38;5;124m\"\u001b[39m,\n\u001b[1;32m   2202\u001b[0m         \u001b[38;5;124m\"\u001b[39m\u001b[38;5;124mbbox_inches_restore\u001b[39m\u001b[38;5;124m\"\u001b[39m}\n\u001b[1;32m   2203\u001b[0m     skip \u001b[38;5;241m=\u001b[39m optional_kws \u001b[38;5;241m-\u001b[39m {\u001b[38;5;241m*\u001b[39minspect\u001b[38;5;241m.\u001b[39msignature(meth)\u001b[38;5;241m.\u001b[39mparameters}\n\u001b[0;32m-> 2204\u001b[0m     print_method \u001b[38;5;241m=\u001b[39m functools\u001b[38;5;241m.\u001b[39mwraps(meth)(\u001b[38;5;28;01mlambda\u001b[39;00m \u001b[38;5;241m*\u001b[39margs, \u001b[38;5;241m*\u001b[39m\u001b[38;5;241m*\u001b[39mkwargs: \u001b[43mmeth\u001b[49m\u001b[43m(\u001b[49m\n\u001b[1;32m   2205\u001b[0m \u001b[43m        \u001b[49m\u001b[38;5;241;43m*\u001b[39;49m\u001b[43margs\u001b[49m\u001b[43m,\u001b[49m\u001b[43m \u001b[49m\u001b[38;5;241;43m*\u001b[39;49m\u001b[38;5;241;43m*\u001b[39;49m\u001b[43m{\u001b[49m\u001b[43mk\u001b[49m\u001b[43m:\u001b[49m\u001b[43m \u001b[49m\u001b[43mv\u001b[49m\u001b[43m \u001b[49m\u001b[38;5;28;43;01mfor\u001b[39;49;00m\u001b[43m \u001b[49m\u001b[43mk\u001b[49m\u001b[43m,\u001b[49m\u001b[43m \u001b[49m\u001b[43mv\u001b[49m\u001b[43m \u001b[49m\u001b[38;5;129;43;01min\u001b[39;49;00m\u001b[43m \u001b[49m\u001b[43mkwargs\u001b[49m\u001b[38;5;241;43m.\u001b[39;49m\u001b[43mitems\u001b[49m\u001b[43m(\u001b[49m\u001b[43m)\u001b[49m\u001b[43m \u001b[49m\u001b[38;5;28;43;01mif\u001b[39;49;00m\u001b[43m \u001b[49m\u001b[43mk\u001b[49m\u001b[43m \u001b[49m\u001b[38;5;129;43;01mnot\u001b[39;49;00m\u001b[43m \u001b[49m\u001b[38;5;129;43;01min\u001b[39;49;00m\u001b[43m \u001b[49m\u001b[43mskip\u001b[49m\u001b[43m}\u001b[49m\u001b[43m)\u001b[49m)\n\u001b[1;32m   2206\u001b[0m \u001b[38;5;28;01melse\u001b[39;00m:  \u001b[38;5;66;03m# Let third-parties do as they see fit.\u001b[39;00m\n\u001b[1;32m   2207\u001b[0m     print_method \u001b[38;5;241m=\u001b[39m meth\n",
      "File \u001b[0;32m~/anaconda3/lib/python3.9/site-packages/matplotlib/backends/backend_pgf.py:886\u001b[0m, in \u001b[0;36mFigureCanvasPgf.print_png\u001b[0;34m(self, fname_or_fh, **kwargs)\u001b[0m\n\u001b[1;32m    884\u001b[0m pdf_path \u001b[38;5;241m=\u001b[39m tmppath \u001b[38;5;241m/\u001b[39m \u001b[38;5;124m\"\u001b[39m\u001b[38;5;124mfigure.pdf\u001b[39m\u001b[38;5;124m\"\u001b[39m\n\u001b[1;32m    885\u001b[0m png_path \u001b[38;5;241m=\u001b[39m tmppath \u001b[38;5;241m/\u001b[39m \u001b[38;5;124m\"\u001b[39m\u001b[38;5;124mfigure.png\u001b[39m\u001b[38;5;124m\"\u001b[39m\n\u001b[0;32m--> 886\u001b[0m \u001b[38;5;28;43mself\u001b[39;49m\u001b[38;5;241;43m.\u001b[39;49m\u001b[43mprint_pdf\u001b[49m\u001b[43m(\u001b[49m\u001b[43mpdf_path\u001b[49m\u001b[43m,\u001b[49m\u001b[43m \u001b[49m\u001b[38;5;241;43m*\u001b[39;49m\u001b[38;5;241;43m*\u001b[39;49m\u001b[43mkwargs\u001b[49m\u001b[43m)\u001b[49m\n\u001b[1;32m    887\u001b[0m converter(pdf_path, png_path, dpi\u001b[38;5;241m=\u001b[39m\u001b[38;5;28mself\u001b[39m\u001b[38;5;241m.\u001b[39mfigure\u001b[38;5;241m.\u001b[39mdpi)\n\u001b[1;32m    888\u001b[0m \u001b[38;5;28;01mwith\u001b[39;00m png_path\u001b[38;5;241m.\u001b[39mopen(\u001b[38;5;124m\"\u001b[39m\u001b[38;5;124mrb\u001b[39m\u001b[38;5;124m\"\u001b[39m) \u001b[38;5;28;01mas\u001b[39;00m orig, \\\n\u001b[1;32m    889\u001b[0m      cbook\u001b[38;5;241m.\u001b[39mopen_file_cm(fname_or_fh, \u001b[38;5;124m\"\u001b[39m\u001b[38;5;124mwb\u001b[39m\u001b[38;5;124m\"\u001b[39m) \u001b[38;5;28;01mas\u001b[39;00m dest:\n",
      "File \u001b[0;32m~/anaconda3/lib/python3.9/site-packages/matplotlib/backends/backend_pgf.py:872\u001b[0m, in \u001b[0;36mFigureCanvasPgf.print_pdf\u001b[0;34m(self, fname_or_fh, metadata, **kwargs)\u001b[0m\n\u001b[1;32m    858\u001b[0m (tmppath \u001b[38;5;241m/\u001b[39m \u001b[38;5;124m\"\u001b[39m\u001b[38;5;124mfigure.tex\u001b[39m\u001b[38;5;124m\"\u001b[39m)\u001b[38;5;241m.\u001b[39mwrite_text(\n\u001b[1;32m    859\u001b[0m     \u001b[38;5;124m\"\u001b[39m\u001b[38;5;130;01m\\n\u001b[39;00m\u001b[38;5;124m\"\u001b[39m\u001b[38;5;241m.\u001b[39mjoin([\n\u001b[1;32m    860\u001b[0m         \u001b[38;5;124mr\u001b[39m\u001b[38;5;124m\"\u001b[39m\u001b[38;5;124m\\\u001b[39m\u001b[38;5;124mdocumentclass[12pt]\u001b[39m\u001b[38;5;132;01m{article}\u001b[39;00m\u001b[38;5;124m\"\u001b[39m,\n\u001b[0;32m   (...)\u001b[0m\n\u001b[1;32m    869\u001b[0m         \u001b[38;5;124mr\u001b[39m\u001b[38;5;124m\"\u001b[39m\u001b[38;5;124m\\\u001b[39m\u001b[38;5;124mend\u001b[39m\u001b[38;5;132;01m{document}\u001b[39;00m\u001b[38;5;124m\"\u001b[39m,\n\u001b[1;32m    870\u001b[0m     ]), encoding\u001b[38;5;241m=\u001b[39m\u001b[38;5;124m\"\u001b[39m\u001b[38;5;124mutf-8\u001b[39m\u001b[38;5;124m\"\u001b[39m)\n\u001b[1;32m    871\u001b[0m texcommand \u001b[38;5;241m=\u001b[39m mpl\u001b[38;5;241m.\u001b[39mrcParams[\u001b[38;5;124m\"\u001b[39m\u001b[38;5;124mpgf.texsystem\u001b[39m\u001b[38;5;124m\"\u001b[39m]\n\u001b[0;32m--> 872\u001b[0m \u001b[43mcbook\u001b[49m\u001b[38;5;241;43m.\u001b[39;49m\u001b[43m_check_and_log_subprocess\u001b[49m\u001b[43m(\u001b[49m\n\u001b[1;32m    873\u001b[0m \u001b[43m    \u001b[49m\u001b[43m[\u001b[49m\u001b[43mtexcommand\u001b[49m\u001b[43m,\u001b[49m\u001b[43m \u001b[49m\u001b[38;5;124;43m\"\u001b[39;49m\u001b[38;5;124;43m-interaction=nonstopmode\u001b[39;49m\u001b[38;5;124;43m\"\u001b[39;49m\u001b[43m,\u001b[49m\u001b[43m \u001b[49m\u001b[38;5;124;43m\"\u001b[39;49m\u001b[38;5;124;43m-halt-on-error\u001b[39;49m\u001b[38;5;124;43m\"\u001b[39;49m\u001b[43m,\u001b[49m\n\u001b[1;32m    874\u001b[0m \u001b[43m     \u001b[49m\u001b[38;5;124;43m\"\u001b[39;49m\u001b[38;5;124;43mfigure.tex\u001b[39;49m\u001b[38;5;124;43m\"\u001b[39;49m\u001b[43m]\u001b[49m\u001b[43m,\u001b[49m\u001b[43m \u001b[49m\u001b[43m_log\u001b[49m\u001b[43m,\u001b[49m\u001b[43m \u001b[49m\u001b[43mcwd\u001b[49m\u001b[38;5;241;43m=\u001b[39;49m\u001b[43mtmpdir\u001b[49m\u001b[43m)\u001b[49m\n\u001b[1;32m    875\u001b[0m \u001b[38;5;28;01mwith\u001b[39;00m (tmppath \u001b[38;5;241m/\u001b[39m \u001b[38;5;124m\"\u001b[39m\u001b[38;5;124mfigure.pdf\u001b[39m\u001b[38;5;124m\"\u001b[39m)\u001b[38;5;241m.\u001b[39mopen(\u001b[38;5;124m\"\u001b[39m\u001b[38;5;124mrb\u001b[39m\u001b[38;5;124m\"\u001b[39m) \u001b[38;5;28;01mas\u001b[39;00m orig, \\\n\u001b[1;32m    876\u001b[0m      cbook\u001b[38;5;241m.\u001b[39mopen_file_cm(fname_or_fh, \u001b[38;5;124m\"\u001b[39m\u001b[38;5;124mwb\u001b[39m\u001b[38;5;124m\"\u001b[39m) \u001b[38;5;28;01mas\u001b[39;00m dest:\n\u001b[1;32m    877\u001b[0m     shutil\u001b[38;5;241m.\u001b[39mcopyfileobj(orig, dest)\n",
      "File \u001b[0;32m~/anaconda3/lib/python3.9/site-packages/matplotlib/cbook/__init__.py:2179\u001b[0m, in \u001b[0;36m_check_and_log_subprocess\u001b[0;34m(command, logger, **kwargs)\u001b[0m\n\u001b[1;32m   2177\u001b[0m     \u001b[38;5;28;01mif\u001b[39;00m \u001b[38;5;28misinstance\u001b[39m(stderr, \u001b[38;5;28mbytes\u001b[39m):\n\u001b[1;32m   2178\u001b[0m         stderr \u001b[38;5;241m=\u001b[39m stderr\u001b[38;5;241m.\u001b[39mdecode()\n\u001b[0;32m-> 2179\u001b[0m     \u001b[38;5;28;01mraise\u001b[39;00m \u001b[38;5;167;01mRuntimeError\u001b[39;00m(\n\u001b[1;32m   2180\u001b[0m         \u001b[38;5;124mf\u001b[39m\u001b[38;5;124m\"\u001b[39m\u001b[38;5;124mThe command\u001b[39m\u001b[38;5;130;01m\\n\u001b[39;00m\u001b[38;5;124m\"\u001b[39m\n\u001b[1;32m   2181\u001b[0m         \u001b[38;5;124mf\u001b[39m\u001b[38;5;124m\"\u001b[39m\u001b[38;5;124m    \u001b[39m\u001b[38;5;132;01m{\u001b[39;00m_pformat_subprocess(command)\u001b[38;5;132;01m}\u001b[39;00m\u001b[38;5;130;01m\\n\u001b[39;00m\u001b[38;5;124m\"\u001b[39m\n\u001b[1;32m   2182\u001b[0m         \u001b[38;5;124mf\u001b[39m\u001b[38;5;124m\"\u001b[39m\u001b[38;5;124mfailed and generated the following output:\u001b[39m\u001b[38;5;130;01m\\n\u001b[39;00m\u001b[38;5;124m\"\u001b[39m\n\u001b[1;32m   2183\u001b[0m         \u001b[38;5;124mf\u001b[39m\u001b[38;5;124m\"\u001b[39m\u001b[38;5;132;01m{\u001b[39;00mstdout\u001b[38;5;132;01m}\u001b[39;00m\u001b[38;5;130;01m\\n\u001b[39;00m\u001b[38;5;124m\"\u001b[39m\n\u001b[1;32m   2184\u001b[0m         \u001b[38;5;124mf\u001b[39m\u001b[38;5;124m\"\u001b[39m\u001b[38;5;124mand the following error:\u001b[39m\u001b[38;5;130;01m\\n\u001b[39;00m\u001b[38;5;124m\"\u001b[39m\n\u001b[1;32m   2185\u001b[0m         \u001b[38;5;124mf\u001b[39m\u001b[38;5;124m\"\u001b[39m\u001b[38;5;132;01m{\u001b[39;00mstderr\u001b[38;5;132;01m}\u001b[39;00m\u001b[38;5;124m\"\u001b[39m)\n\u001b[1;32m   2186\u001b[0m \u001b[38;5;28;01mif\u001b[39;00m proc\u001b[38;5;241m.\u001b[39mstdout:\n\u001b[1;32m   2187\u001b[0m     logger\u001b[38;5;241m.\u001b[39mdebug(\u001b[38;5;124m\"\u001b[39m\u001b[38;5;124mstdout:\u001b[39m\u001b[38;5;130;01m\\n\u001b[39;00m\u001b[38;5;132;01m%s\u001b[39;00m\u001b[38;5;124m\"\u001b[39m, proc\u001b[38;5;241m.\u001b[39mstdout)\n",
      "\u001b[0;31mRuntimeError\u001b[0m: The command\n    xelatex -interaction=nonstopmode -halt-on-error figure.tex\nfailed and generated the following output:\nThis is XeTeX, Version 3.141592653-2.6-0.999993 (TeX Live 2022/dev/Debian) (preloaded format=xelatex)\n restricted \\write18 enabled.\nentering extended mode\n(./figure.tex\nLaTeX2e <2021-11-15> patch level 1\nL3 programming layer <2022-01-21>\n(/usr/share/texlive/texmf-dist/tex/latex/base/article.cls\nDocument Class: article 2021/10/04 v1.4n Standard LaTeX document class\n(/usr/share/texlive/texmf-dist/tex/latex/base/size12.clo))\n(/usr/share/texlive/texmf-dist/tex/latex/hyperref/hyperref.sty\n(/usr/share/texlive/texmf-dist/tex/generic/ltxcmds/ltxcmds.sty)\n(/usr/share/texlive/texmf-dist/tex/generic/iftex/iftex.sty)\n(/usr/share/texlive/texmf-dist/tex/generic/pdftexcmds/pdftexcmds.sty\n(/usr/share/texlive/texmf-dist/tex/generic/infwarerr/infwarerr.sty))\n(/usr/share/texlive/texmf-dist/tex/latex/graphics/keyval.sty)\n(/usr/share/texlive/texmf-dist/tex/generic/kvsetkeys/kvsetkeys.sty)\n(/usr/share/texlive/texmf-dist/tex/generic/kvdefinekeys/kvdefinekeys.sty)\n(/usr/share/texlive/texmf-dist/tex/generic/pdfescape/pdfescape.sty)\n(/usr/share/texlive/texmf-dist/tex/latex/hycolor/hycolor.sty)\n(/usr/share/texlive/texmf-dist/tex/latex/letltxmacro/letltxmacro.sty)\n(/usr/share/texlive/texmf-dist/tex/latex/auxhook/auxhook.sty)\n(/usr/share/texlive/texmf-dist/tex/latex/kvoptions/kvoptions.sty)\n(/usr/share/texlive/texmf-dist/tex/latex/hyperref/pd1enc.def)\n(/usr/share/texlive/texmf-dist/tex/latex/hyperref/hyperref-langpatches.def)\n(/usr/share/texlive/texmf-dist/tex/generic/intcalc/intcalc.sty)\n(/usr/share/texlive/texmf-dist/tex/generic/etexcmds/etexcmds.sty)\n(/usr/share/texlive/texmf-dist/tex/latex/hyperref/puenc.def)\n(/usr/share/texlive/texmf-dist/tex/latex/url/url.sty)\n(/usr/share/texlive/texmf-dist/tex/generic/bitset/bitset.sty\n(/usr/share/texlive/texmf-dist/tex/generic/bigintcalc/bigintcalc.sty))\n(/usr/share/texlive/texmf-dist/tex/latex/base/atbegshi-ltx.sty))\n(/usr/share/texlive/texmf-dist/tex/latex/hyperref/hxetex.def\n(/usr/share/texlive/texmf-dist/tex/generic/stringenc/stringenc.sty)\n(/usr/share/texlive/texmf-dist/tex/latex/rerunfilecheck/rerunfilecheck.sty\n(/usr/share/texlive/texmf-dist/tex/latex/base/atveryend-ltx.sty)\n(/usr/share/texlive/texmf-dist/tex/generic/uniquecounter/uniquecounter.sty)))\n(/usr/share/texlive/texmf-dist/tex/latex/geometry/geometry.sty\n(/usr/share/texlive/texmf-dist/tex/generic/iftex/ifvtex.sty))\n(/usr/share/texlive/texmf-dist/tex/latex/pgf/basiclayer/pgf.sty\n(/usr/share/texlive/texmf-dist/tex/latex/pgf/utilities/pgfrcs.sty\n(/usr/share/texlive/texmf-dist/tex/generic/pgf/utilities/pgfutil-common.tex\n(/usr/share/texlive/texmf-dist/tex/generic/pgf/utilities/pgfutil-common-lists.t\nex)) (/usr/share/texlive/texmf-dist/tex/generic/pgf/utilities/pgfutil-latex.def\n) (/usr/share/texlive/texmf-dist/tex/generic/pgf/utilities/pgfrcs.code.tex\n(/usr/share/texlive/texmf-dist/tex/generic/pgf/pgf.revision.tex)))\n(/usr/share/texlive/texmf-dist/tex/latex/pgf/basiclayer/pgfcore.sty\n(/usr/share/texlive/texmf-dist/tex/latex/graphics/graphicx.sty\n(/usr/share/texlive/texmf-dist/tex/latex/graphics/graphics.sty\n(/usr/share/texlive/texmf-dist/tex/latex/graphics/trig.sty)\n(/usr/share/texlive/texmf-dist/tex/latex/graphics-cfg/graphics.cfg)\n(/usr/share/texlive/texmf-dist/tex/latex/graphics-def/xetex.def)))\n(/usr/share/texlive/texmf-dist/tex/latex/pgf/systemlayer/pgfsys.sty\n(/usr/share/texlive/texmf-dist/tex/generic/pgf/systemlayer/pgfsys.code.tex\n(/usr/share/texlive/texmf-dist/tex/generic/pgf/utilities/pgfkeys.code.tex\n(/usr/share/texlive/texmf-dist/tex/generic/pgf/utilities/pgfkeysfiltered.code.t\nex)) (/usr/share/texlive/texmf-dist/tex/generic/pgf/systemlayer/pgf.cfg)\n(/usr/share/texlive/texmf-dist/tex/generic/pgf/systemlayer/pgfsys-xetex.def\n(/usr/share/texlive/texmf-dist/tex/generic/pgf/systemlayer/pgfsys-dvipdfmx.def\n(/usr/share/texlive/texmf-dist/tex/generic/pgf/systemlayer/pgfsys-common-pdf.de\nf))))\n(/usr/share/texlive/texmf-dist/tex/generic/pgf/systemlayer/pgfsyssoftpath.code.\ntex)\n(/usr/share/texlive/texmf-dist/tex/generic/pgf/systemlayer/pgfsysprotocol.code.\ntex)) (/usr/share/texlive/texmf-dist/tex/latex/xcolor/xcolor.sty\n(/usr/share/texlive/texmf-dist/tex/latex/graphics-cfg/color.cfg))\n(/usr/share/texlive/texmf-dist/tex/generic/pgf/basiclayer/pgfcore.code.tex\n(/usr/share/texlive/texmf-dist/tex/generic/pgf/math/pgfmath.code.tex\n(/usr/share/texlive/texmf-dist/tex/generic/pgf/math/pgfmathcalc.code.tex\n(/usr/share/texlive/texmf-dist/tex/generic/pgf/math/pgfmathutil.code.tex)\n(/usr/share/texlive/texmf-dist/tex/generic/pgf/math/pgfmathparser.code.tex)\n(/usr/share/texlive/texmf-dist/tex/generic/pgf/math/pgfmathfunctions.code.tex\n(/usr/share/texlive/texmf-dist/tex/generic/pgf/math/pgfmathfunctions.basic.code\n.tex)\n(/usr/share/texlive/texmf-dist/tex/generic/pgf/math/pgfmathfunctions.trigonomet\nric.code.tex)\n(/usr/share/texlive/texmf-dist/tex/generic/pgf/math/pgfmathfunctions.random.cod\ne.tex)\n(/usr/share/texlive/texmf-dist/tex/generic/pgf/math/pgfmathfunctions.comparison\n.code.tex)\n(/usr/share/texlive/texmf-dist/tex/generic/pgf/math/pgfmathfunctions.base.code.\ntex)\n(/usr/share/texlive/texmf-dist/tex/generic/pgf/math/pgfmathfunctions.round.code\n.tex)\n(/usr/share/texlive/texmf-dist/tex/generic/pgf/math/pgfmathfunctions.misc.code.\ntex)\n(/usr/share/texlive/texmf-dist/tex/generic/pgf/math/pgfmathfunctions.integerari\nthmetics.code.tex)))\n(/usr/share/texlive/texmf-dist/tex/generic/pgf/math/pgfmathfloat.code.tex))\n(/usr/share/texlive/texmf-dist/tex/generic/pgf/math/pgfint.code.tex)\n(/usr/share/texlive/texmf-dist/tex/generic/pgf/basiclayer/pgfcorepoints.code.te\nx)\n(/usr/share/texlive/texmf-dist/tex/generic/pgf/basiclayer/pgfcorepathconstruct.\ncode.tex)\n(/usr/share/texlive/texmf-dist/tex/generic/pgf/basiclayer/pgfcorepathusage.code\n.tex)\n(/usr/share/texlive/texmf-dist/tex/generic/pgf/basiclayer/pgfcorescopes.code.te\nx)\n(/usr/share/texlive/texmf-dist/tex/generic/pgf/basiclayer/pgfcoregraphicstate.c\node.tex)\n(/usr/share/texlive/texmf-dist/tex/generic/pgf/basiclayer/pgfcoretransformation\ns.code.tex)\n(/usr/share/texlive/texmf-dist/tex/generic/pgf/basiclayer/pgfcorequick.code.tex\n)\n(/usr/share/texlive/texmf-dist/tex/generic/pgf/basiclayer/pgfcoreobjects.code.t\nex)\n(/usr/share/texlive/texmf-dist/tex/generic/pgf/basiclayer/pgfcorepathprocessing\n.code.tex)\n(/usr/share/texlive/texmf-dist/tex/generic/pgf/basiclayer/pgfcorearrows.code.te\nx)\n(/usr/share/texlive/texmf-dist/tex/generic/pgf/basiclayer/pgfcoreshade.code.tex\n)\n(/usr/share/texlive/texmf-dist/tex/generic/pgf/basiclayer/pgfcoreimage.code.tex\n\n(/usr/share/texlive/texmf-dist/tex/generic/pgf/basiclayer/pgfcoreexternal.code.\ntex))\n(/usr/share/texlive/texmf-dist/tex/generic/pgf/basiclayer/pgfcorelayers.code.te\nx)\n(/usr/share/texlive/texmf-dist/tex/generic/pgf/basiclayer/pgfcoretransparency.c\node.tex)\n(/usr/share/texlive/texmf-dist/tex/generic/pgf/basiclayer/pgfcorepatterns.code.\ntex)\n(/usr/share/texlive/texmf-dist/tex/generic/pgf/basiclayer/pgfcorerdf.code.tex))\n)\n(/usr/share/texlive/texmf-dist/tex/generic/pgf/modules/pgfmoduleshapes.code.tex\n) (/usr/share/texlive/texmf-dist/tex/generic/pgf/modules/pgfmoduleplot.code.tex\n)\n(/usr/share/texlive/texmf-dist/tex/latex/pgf/compatibility/pgfcomp-version-0-65\n.sty)\n(/usr/share/texlive/texmf-dist/tex/latex/pgf/compatibility/pgfcomp-version-1-18\n.sty)) (/usr/share/texlive/texmf-dist/tex/latex/amsmath/amsmath.sty\nFor additional information on amsmath, use the `?' option.\n(/usr/share/texlive/texmf-dist/tex/latex/amsmath/amstext.sty\n(/usr/share/texlive/texmf-dist/tex/latex/amsmath/amsgen.sty))\n(/usr/share/texlive/texmf-dist/tex/latex/amsmath/amsbsy.sty)\n(/usr/share/texlive/texmf-dist/tex/latex/amsmath/amsopn.sty))\n(/usr/share/texlive/texmf-dist/tex/latex/base/inputenc.sty\n\nPackage inputenc Warning: inputenc package ignored with utf8 based engines.\n\n) (/usr/share/texlive/texmf-dist/tex/latex/base/fontenc.sty\n\nLaTeX Font Warning: Font shape `T1/lmr/m/n' undefined\n(Font)              using `T1/cmr/m/n' instead on input line 112.\n\n) (/usr/share/texlive/texmf-dist/tex/latex/txfonts/txfonts.sty)\n(/usr/share/texlive/texmf-dist/tex/latex/sourcesanspro/sourcesanspro.sty\n(/usr/share/texlive/texmf-dist/tex/generic/iftex/ifxetex.sty)\n(/usr/share/texlive/texmf-dist/tex/generic/iftex/ifluatex.sty)\n(/usr/share/texlive/texmf-dist/tex/latex/xkeyval/xkeyval.sty\n(/usr/share/texlive/texmf-dist/tex/generic/xkeyval/xkeyval.tex\n(/usr/share/texlive/texmf-dist/tex/generic/xkeyval/xkvutils.tex)))\n(/usr/share/texlive/texmf-dist/tex/latex/fontspec/fontspec.sty\n(/usr/share/texlive/texmf-dist/tex/latex/l3packages/xparse/xparse.sty\n(/usr/share/texlive/texmf-dist/tex/latex/l3kernel/expl3.sty\n(/usr/share/texlive/texmf-dist/tex/latex/l3backend/l3backend-xetex.def\n(|extractbb --version))))\n(/usr/share/texlive/texmf-dist/tex/latex/fontspec/fontspec-xetex.sty\n(/usr/share/texlive/texmf-dist/tex/latex/base/fontenc.sty)\n(/usr/share/texlive/texmf-dist/tex/latex/fontspec/fontspec.cfg))))\n(/usr/share/texlive/texmf-dist/tex/latex/pgfplots/pgfplots.sty\n(/usr/share/texlive/texmf-dist/tex/generic/pgfplots/pgfplots.revision.tex)\n(/usr/share/texlive/texmf-dist/tex/latex/pgf/frontendlayer/tikz.sty\n(/usr/share/texlive/texmf-dist/tex/latex/pgf/utilities/pgffor.sty\n(/usr/share/texlive/texmf-dist/tex/latex/pgf/utilities/pgfkeys.sty\n(/usr/share/texlive/texmf-dist/tex/generic/pgf/utilities/pgfkeys.code.tex))\n(/usr/share/texlive/texmf-dist/tex/latex/pgf/math/pgfmath.sty\n(/usr/share/texlive/texmf-dist/tex/generic/pgf/math/pgfmath.code.tex))\n(/usr/share/texlive/texmf-dist/tex/generic/pgf/utilities/pgffor.code.tex\n(/usr/share/texlive/texmf-dist/tex/generic/pgf/math/pgfmath.code.tex)))\n(/usr/share/texlive/texmf-dist/tex/generic/pgf/frontendlayer/tikz/tikz.code.tex\n\n(/usr/share/texlive/texmf-dist/tex/generic/pgf/libraries/pgflibraryplothandlers\n.code.tex)\n(/usr/share/texlive/texmf-dist/tex/generic/pgf/modules/pgfmodulematrix.code.tex\n)\n(/usr/share/texlive/texmf-dist/tex/generic/pgf/frontendlayer/tikz/libraries/tik\nzlibrarytopaths.code.tex)))\n(/usr/share/texlive/texmf-dist/tex/generic/pgfplots/pgfplots.code.tex\n(/usr/share/texlive/texmf-dist/tex/generic/pgfplots/pgfplotscore.code.tex\n(/usr/share/texlive/texmf-dist/tex/generic/pgfplots/sys/pgfplotssysgeneric.code\n.tex))\n(/usr/share/texlive/texmf-dist/tex/generic/pgfplots/libs/pgfplotslibrary.code.t\nex)\n(/usr/share/texlive/texmf-dist/tex/generic/pgfplots/oldpgfcompatib/pgfplotsoldp\ngfsupp_loader.code.tex\n(/usr/share/texlive/texmf-dist/tex/generic/pgf/libraries/pgflibraryfpu.code.tex\n))\n(/usr/share/texlive/texmf-dist/tex/generic/pgfplots/util/pgfplotsutil.code.tex\n(/usr/share/texlive/texmf-dist/tex/generic/pgfplots/liststructure/pgfplotslists\ntructure.code.tex)\n(/usr/share/texlive/texmf-dist/tex/generic/pgfplots/liststructure/pgfplotslists\ntructureext.code.tex)\n(/usr/share/texlive/texmf-dist/tex/generic/pgfplots/liststructure/pgfplotsarray\n.code.tex)\n(/usr/share/texlive/texmf-dist/tex/generic/pgfplots/liststructure/pgfplotsmatri\nx.code.tex)\n(/usr/share/texlive/texmf-dist/tex/generic/pgfplots/numtable/pgfplotstableshare\nd.code.tex)\n(/usr/share/texlive/texmf-dist/tex/generic/pgfplots/liststructure/pgfplotsdeque\n.code.tex)\n(/usr/share/texlive/texmf-dist/tex/generic/pgfplots/util/pgfplotsbinary.code.te\nx\n(/usr/share/texlive/texmf-dist/tex/generic/pgfplots/util/pgfplotsbinary.data.co\nde.tex))\n(/usr/share/texlive/texmf-dist/tex/generic/pgfplots/util/pgfplotsutil.verb.code\n.tex)\n(/usr/share/texlive/texmf-dist/tex/generic/pgfplots/libs/pgflibrarypgfplots.sur\nfshading.code.tex\n(/usr/share/texlive/texmf-dist/tex/generic/pgfplots/sys/pgflibrarypgfplots.surf\nshading.pgfsys-xetex.def\n(/usr/share/texlive/texmf-dist/tex/generic/pgfplots/sys/pgflibrarypgfplots.surf\nshading.pgfsys-dvipdfmx.def))))\n(/usr/share/texlive/texmf-dist/tex/generic/pgfplots/util/pgfplotscolormap.code.\ntex\n(/usr/share/texlive/texmf-dist/tex/generic/pgfplots/util/pgfplotscolor.code.tex\n))\n(/usr/share/texlive/texmf-dist/tex/generic/pgfplots/pgfplotsstackedplots.code.t\nex)\n(/usr/share/texlive/texmf-dist/tex/generic/pgfplots/pgfplotsplothandlers.code.t\nex\n(/usr/share/texlive/texmf-dist/tex/generic/pgfplots/pgfplotsmeshplothandler.cod\ne.tex\n(/usr/share/texlive/texmf-dist/tex/generic/pgfplots/pgfplotsmeshplotimage.code.\ntex)))\n(/usr/share/texlive/texmf-dist/tex/generic/pgfplots/pgfplots.scaling.code.tex)\n(/usr/share/texlive/texmf-dist/tex/generic/pgfplots/pgfplotscoordprocessing.cod\ne.tex)\n(/usr/share/texlive/texmf-dist/tex/generic/pgfplots/pgfplots.errorbars.code.tex\n) (/usr/share/texlive/texmf-dist/tex/generic/pgfplots/pgfplots.markers.code.tex\n) (/usr/share/texlive/texmf-dist/tex/generic/pgfplots/pgfplotsticks.code.tex)\n(/usr/share/texlive/texmf-dist/tex/generic/pgfplots/pgfplots.paths.code.tex)\n(/usr/share/texlive/texmf-dist/tex/generic/pgf/frontendlayer/tikz/libraries/tik\nzlibrarydecorations.code.tex\n(/usr/share/texlive/texmf-dist/tex/generic/pgf/modules/pgfmoduledecorations.cod\ne.tex))\n(/usr/share/texlive/texmf-dist/tex/generic/pgf/frontendlayer/tikz/libraries/tik\nzlibrarydecorations.pathmorphing.code.tex\n(/usr/share/texlive/texmf-dist/tex/generic/pgf/libraries/decorations/pgflibrary\ndecorations.pathmorphing.code.tex))\n(/usr/share/texlive/texmf-dist/tex/generic/pgf/frontendlayer/tikz/libraries/tik\nzlibrarydecorations.pathreplacing.code.tex\n(/usr/share/texlive/texmf-dist/tex/generic/pgf/libraries/decorations/pgflibrary\ndecorations.pathreplacing.code.tex))\n(/usr/share/texlive/texmf-dist/tex/generic/pgfplots/libs/tikzlibrarypgfplots.co\nntourlua.code.tex))\n(/usr/share/texlive/texmf-dist/tex/generic/pgf/frontendlayer/tikz/libraries/tik\nzlibraryplotmarks.code.tex\n(/usr/share/texlive/texmf-dist/tex/generic/pgf/libraries/pgflibraryplotmarks.co\nde.tex)))\n(/usr/share/texlive/texmf-dist/tex/generic/pgfplots/libs/tikzlibrarypgfplots.ex\nternal.code.tex\n(/usr/share/texlive/texmf-dist/tex/latex/pgf/frontendlayer/libraries/tikzlibrar\nyexternal.code.tex\n(/usr/share/texlive/texmf-dist/tex/generic/pgf/frontendlayer/tikz/libraries/tik\nzexternalshared.code.tex)))\n(/usr/share/texlive/texmf-dist/tex/latex/underscore/underscore.sty)\nNo file figure.aux.\n(/usr/share/texlive/texmf-dist/tex/latex/txfonts/omltxmi.fd)\n(/usr/share/texlive/texmf-dist/tex/latex/txfonts/omstxsy.fd)\n(/usr/share/texlive/texmf-dist/tex/latex/base/ts1cmr.fd)\n(/usr/share/texlive/texmf-dist/tex/latex/txfonts/omxtxex.fd)\n(/usr/share/texlive/texmf-dist/tex/latex/txfonts/utxexa.fd)\n(/usr/share/texlive/texmf-dist/tex/latex/hyperref/nameref.sty\n(/usr/share/texlive/texmf-dist/tex/latex/refcount/refcount.sty)\n(/usr/share/texlive/texmf-dist/tex/generic/gettitlestring/gettitlestring.sty))\n\nPackage hyperref Warning: Rerun to get /PageLabels entry.\n\n*geometry* driver: auto-detecting\n*geometry* detected driver: xetex\n\nPackage pgfplots Warning: running in backwards compatibility mode (unsuitable t\nick labels; missing features). Consider writing \\pgfplotsset{compat=1.18} into \nyour preamble.\n on input line 8.\n\n(./figure.pgf (/usr/share/texlive/texmf-dist/tex/latex/txfonts/ot1txr.fd)\n(/usr/share/texlive/texmf-dist/tex/latex/txfonts/utxmia.fd)\n(/usr/share/texlive/texmf-dist/tex/latex/txfonts/utxsya.fd)\n(/usr/share/texlive/texmf-dist/tex/latex/txfonts/utxsyb.fd)\n(/usr/share/texlive/texmf-dist/tex/latex/txfonts/utxsyc.fd)\nRunaway text?\npdf:code q 0.0 -0.49986 m 0.13292 -0.49986 0.25926 -0.44713 0.35374 -\\ETC.\n! TeX capacity exceeded, sorry [main memory size=5000000].\n<argument> ...6 0.13292 0.44713 0.25926 0.35374 0.\n                                                  35374 c 0.25926 0.44713 0....\nl.30689 \\pgfsys@useobject{currentmarker}{}\n                                          %\nNo pages of output.\nTranscript written on figure.log.\n\nand the following error:\n"
     ]
    }
   ],
   "source": [
    "maskFINK = maskFINK_union\n",
    "\n",
    "all = data[maskFINK].merge(damit, on=\"sso_name\", how=\"left\")\n",
    "\n",
    "fig, ax = plt.subplots(\n",
    "    figsize=fs.figsize(0.5), gridspec_kw={\"right\": 0.975, \"top\": 0.95, \"bottom\": 0.15}\n",
    ")\n",
    "\n",
    "ax.scatter(all.a / all.b, all.SHG1G2_rms, s=1, alpha=0.5)\n",
    "ax.set_xlabel(\"a/b\")\n",
    "ax.set_ylabel(\"RMS\")\n",
    "\n",
    "fig.savefig(os.path.join(\"..\", \"gfx\", \"rms_vs_ab.png\"), facecolor=\"white\", dpi=150)\n",
    "\n",
    "\n",
    "fig, ax = plt.subplots(\n",
    "    figsize=fs.figsize(0.5), gridspec_kw={\"right\": 0.975, \"top\": 0.95, \"bottom\": 0.15}\n",
    ")\n",
    "\n",
    "ax.scatter(all.R, all.SHG1G2_rms, s=1, alpha=0.5)\n",
    "ax.set_xlabel(\"R\")\n",
    "ax.set_ylabel(\"RMS\")\n",
    "\n",
    "fig.savefig(os.path.join(\"..\", \"gfx\", \"rms_vs_R.png\"), facecolor=\"white\", dpi=150)"
   ]
  },
  {
   "cell_type": "markdown",
   "id": "ede94fcf",
   "metadata": {},
   "source": [
    "# Test scatter DAMIT.R vs FINK.R"
   ]
  },
  {
   "cell_type": "code",
   "execution_count": 47,
   "id": "b51a837b",
   "metadata": {},
   "outputs": [
    {
     "ename": "RuntimeError",
     "evalue": "The command\n    xelatex -interaction=nonstopmode -halt-on-error figure.tex\nfailed and generated the following output:\nThis is XeTeX, Version 3.141592653-2.6-0.999993 (TeX Live 2022/dev/Debian) (preloaded format=xelatex)\n restricted \\write18 enabled.\nentering extended mode\n(./figure.tex\nLaTeX2e <2021-11-15> patch level 1\nL3 programming layer <2022-01-21>\n(/usr/share/texlive/texmf-dist/tex/latex/base/article.cls\nDocument Class: article 2021/10/04 v1.4n Standard LaTeX document class\n(/usr/share/texlive/texmf-dist/tex/latex/base/size12.clo))\n(/usr/share/texlive/texmf-dist/tex/latex/hyperref/hyperref.sty\n(/usr/share/texlive/texmf-dist/tex/generic/ltxcmds/ltxcmds.sty)\n(/usr/share/texlive/texmf-dist/tex/generic/iftex/iftex.sty)\n(/usr/share/texlive/texmf-dist/tex/generic/pdftexcmds/pdftexcmds.sty\n(/usr/share/texlive/texmf-dist/tex/generic/infwarerr/infwarerr.sty))\n(/usr/share/texlive/texmf-dist/tex/latex/graphics/keyval.sty)\n(/usr/share/texlive/texmf-dist/tex/generic/kvsetkeys/kvsetkeys.sty)\n(/usr/share/texlive/texmf-dist/tex/generic/kvdefinekeys/kvdefinekeys.sty)\n(/usr/share/texlive/texmf-dist/tex/generic/pdfescape/pdfescape.sty)\n(/usr/share/texlive/texmf-dist/tex/latex/hycolor/hycolor.sty)\n(/usr/share/texlive/texmf-dist/tex/latex/letltxmacro/letltxmacro.sty)\n(/usr/share/texlive/texmf-dist/tex/latex/auxhook/auxhook.sty)\n(/usr/share/texlive/texmf-dist/tex/latex/kvoptions/kvoptions.sty)\n(/usr/share/texlive/texmf-dist/tex/latex/hyperref/pd1enc.def)\n(/usr/share/texlive/texmf-dist/tex/latex/hyperref/hyperref-langpatches.def)\n(/usr/share/texlive/texmf-dist/tex/generic/intcalc/intcalc.sty)\n(/usr/share/texlive/texmf-dist/tex/generic/etexcmds/etexcmds.sty)\n(/usr/share/texlive/texmf-dist/tex/latex/hyperref/puenc.def)\n(/usr/share/texlive/texmf-dist/tex/latex/url/url.sty)\n(/usr/share/texlive/texmf-dist/tex/generic/bitset/bitset.sty\n(/usr/share/texlive/texmf-dist/tex/generic/bigintcalc/bigintcalc.sty))\n(/usr/share/texlive/texmf-dist/tex/latex/base/atbegshi-ltx.sty))\n(/usr/share/texlive/texmf-dist/tex/latex/hyperref/hxetex.def\n(/usr/share/texlive/texmf-dist/tex/generic/stringenc/stringenc.sty)\n(/usr/share/texlive/texmf-dist/tex/latex/rerunfilecheck/rerunfilecheck.sty\n(/usr/share/texlive/texmf-dist/tex/latex/base/atveryend-ltx.sty)\n(/usr/share/texlive/texmf-dist/tex/generic/uniquecounter/uniquecounter.sty)))\n(/usr/share/texlive/texmf-dist/tex/latex/geometry/geometry.sty\n(/usr/share/texlive/texmf-dist/tex/generic/iftex/ifvtex.sty))\n(/usr/share/texlive/texmf-dist/tex/latex/pgf/basiclayer/pgf.sty\n(/usr/share/texlive/texmf-dist/tex/latex/pgf/utilities/pgfrcs.sty\n(/usr/share/texlive/texmf-dist/tex/generic/pgf/utilities/pgfutil-common.tex\n(/usr/share/texlive/texmf-dist/tex/generic/pgf/utilities/pgfutil-common-lists.t\nex)) (/usr/share/texlive/texmf-dist/tex/generic/pgf/utilities/pgfutil-latex.def\n) (/usr/share/texlive/texmf-dist/tex/generic/pgf/utilities/pgfrcs.code.tex\n(/usr/share/texlive/texmf-dist/tex/generic/pgf/pgf.revision.tex)))\n(/usr/share/texlive/texmf-dist/tex/latex/pgf/basiclayer/pgfcore.sty\n(/usr/share/texlive/texmf-dist/tex/latex/graphics/graphicx.sty\n(/usr/share/texlive/texmf-dist/tex/latex/graphics/graphics.sty\n(/usr/share/texlive/texmf-dist/tex/latex/graphics/trig.sty)\n(/usr/share/texlive/texmf-dist/tex/latex/graphics-cfg/graphics.cfg)\n(/usr/share/texlive/texmf-dist/tex/latex/graphics-def/xetex.def)))\n(/usr/share/texlive/texmf-dist/tex/latex/pgf/systemlayer/pgfsys.sty\n(/usr/share/texlive/texmf-dist/tex/generic/pgf/systemlayer/pgfsys.code.tex\n(/usr/share/texlive/texmf-dist/tex/generic/pgf/utilities/pgfkeys.code.tex\n(/usr/share/texlive/texmf-dist/tex/generic/pgf/utilities/pgfkeysfiltered.code.t\nex)) (/usr/share/texlive/texmf-dist/tex/generic/pgf/systemlayer/pgf.cfg)\n(/usr/share/texlive/texmf-dist/tex/generic/pgf/systemlayer/pgfsys-xetex.def\n(/usr/share/texlive/texmf-dist/tex/generic/pgf/systemlayer/pgfsys-dvipdfmx.def\n(/usr/share/texlive/texmf-dist/tex/generic/pgf/systemlayer/pgfsys-common-pdf.de\nf))))\n(/usr/share/texlive/texmf-dist/tex/generic/pgf/systemlayer/pgfsyssoftpath.code.\ntex)\n(/usr/share/texlive/texmf-dist/tex/generic/pgf/systemlayer/pgfsysprotocol.code.\ntex)) (/usr/share/texlive/texmf-dist/tex/latex/xcolor/xcolor.sty\n(/usr/share/texlive/texmf-dist/tex/latex/graphics-cfg/color.cfg))\n(/usr/share/texlive/texmf-dist/tex/generic/pgf/basiclayer/pgfcore.code.tex\n(/usr/share/texlive/texmf-dist/tex/generic/pgf/math/pgfmath.code.tex\n(/usr/share/texlive/texmf-dist/tex/generic/pgf/math/pgfmathcalc.code.tex\n(/usr/share/texlive/texmf-dist/tex/generic/pgf/math/pgfmathutil.code.tex)\n(/usr/share/texlive/texmf-dist/tex/generic/pgf/math/pgfmathparser.code.tex)\n(/usr/share/texlive/texmf-dist/tex/generic/pgf/math/pgfmathfunctions.code.tex\n(/usr/share/texlive/texmf-dist/tex/generic/pgf/math/pgfmathfunctions.basic.code\n.tex)\n(/usr/share/texlive/texmf-dist/tex/generic/pgf/math/pgfmathfunctions.trigonomet\nric.code.tex)\n(/usr/share/texlive/texmf-dist/tex/generic/pgf/math/pgfmathfunctions.random.cod\ne.tex)\n(/usr/share/texlive/texmf-dist/tex/generic/pgf/math/pgfmathfunctions.comparison\n.code.tex)\n(/usr/share/texlive/texmf-dist/tex/generic/pgf/math/pgfmathfunctions.base.code.\ntex)\n(/usr/share/texlive/texmf-dist/tex/generic/pgf/math/pgfmathfunctions.round.code\n.tex)\n(/usr/share/texlive/texmf-dist/tex/generic/pgf/math/pgfmathfunctions.misc.code.\ntex)\n(/usr/share/texlive/texmf-dist/tex/generic/pgf/math/pgfmathfunctions.integerari\nthmetics.code.tex)))\n(/usr/share/texlive/texmf-dist/tex/generic/pgf/math/pgfmathfloat.code.tex))\n(/usr/share/texlive/texmf-dist/tex/generic/pgf/math/pgfint.code.tex)\n(/usr/share/texlive/texmf-dist/tex/generic/pgf/basiclayer/pgfcorepoints.code.te\nx)\n(/usr/share/texlive/texmf-dist/tex/generic/pgf/basiclayer/pgfcorepathconstruct.\ncode.tex)\n(/usr/share/texlive/texmf-dist/tex/generic/pgf/basiclayer/pgfcorepathusage.code\n.tex)\n(/usr/share/texlive/texmf-dist/tex/generic/pgf/basiclayer/pgfcorescopes.code.te\nx)\n(/usr/share/texlive/texmf-dist/tex/generic/pgf/basiclayer/pgfcoregraphicstate.c\node.tex)\n(/usr/share/texlive/texmf-dist/tex/generic/pgf/basiclayer/pgfcoretransformation\ns.code.tex)\n(/usr/share/texlive/texmf-dist/tex/generic/pgf/basiclayer/pgfcorequick.code.tex\n)\n(/usr/share/texlive/texmf-dist/tex/generic/pgf/basiclayer/pgfcoreobjects.code.t\nex)\n(/usr/share/texlive/texmf-dist/tex/generic/pgf/basiclayer/pgfcorepathprocessing\n.code.tex)\n(/usr/share/texlive/texmf-dist/tex/generic/pgf/basiclayer/pgfcorearrows.code.te\nx)\n(/usr/share/texlive/texmf-dist/tex/generic/pgf/basiclayer/pgfcoreshade.code.tex\n)\n(/usr/share/texlive/texmf-dist/tex/generic/pgf/basiclayer/pgfcoreimage.code.tex\n\n(/usr/share/texlive/texmf-dist/tex/generic/pgf/basiclayer/pgfcoreexternal.code.\ntex))\n(/usr/share/texlive/texmf-dist/tex/generic/pgf/basiclayer/pgfcorelayers.code.te\nx)\n(/usr/share/texlive/texmf-dist/tex/generic/pgf/basiclayer/pgfcoretransparency.c\node.tex)\n(/usr/share/texlive/texmf-dist/tex/generic/pgf/basiclayer/pgfcorepatterns.code.\ntex)\n(/usr/share/texlive/texmf-dist/tex/generic/pgf/basiclayer/pgfcorerdf.code.tex))\n)\n(/usr/share/texlive/texmf-dist/tex/generic/pgf/modules/pgfmoduleshapes.code.tex\n) (/usr/share/texlive/texmf-dist/tex/generic/pgf/modules/pgfmoduleplot.code.tex\n)\n(/usr/share/texlive/texmf-dist/tex/latex/pgf/compatibility/pgfcomp-version-0-65\n.sty)\n(/usr/share/texlive/texmf-dist/tex/latex/pgf/compatibility/pgfcomp-version-1-18\n.sty)) (/usr/share/texlive/texmf-dist/tex/latex/amsmath/amsmath.sty\nFor additional information on amsmath, use the `?' option.\n(/usr/share/texlive/texmf-dist/tex/latex/amsmath/amstext.sty\n(/usr/share/texlive/texmf-dist/tex/latex/amsmath/amsgen.sty))\n(/usr/share/texlive/texmf-dist/tex/latex/amsmath/amsbsy.sty)\n(/usr/share/texlive/texmf-dist/tex/latex/amsmath/amsopn.sty))\n(/usr/share/texlive/texmf-dist/tex/latex/base/inputenc.sty\n\nPackage inputenc Warning: inputenc package ignored with utf8 based engines.\n\n) (/usr/share/texlive/texmf-dist/tex/latex/base/fontenc.sty\n\nLaTeX Font Warning: Font shape `T1/lmr/m/n' undefined\n(Font)              using `T1/cmr/m/n' instead on input line 112.\n\n) (/usr/share/texlive/texmf-dist/tex/latex/txfonts/txfonts.sty)\n(/usr/share/texlive/texmf-dist/tex/latex/sourcesanspro/sourcesanspro.sty\n(/usr/share/texlive/texmf-dist/tex/generic/iftex/ifxetex.sty)\n(/usr/share/texlive/texmf-dist/tex/generic/iftex/ifluatex.sty)\n(/usr/share/texlive/texmf-dist/tex/latex/xkeyval/xkeyval.sty\n(/usr/share/texlive/texmf-dist/tex/generic/xkeyval/xkeyval.tex\n(/usr/share/texlive/texmf-dist/tex/generic/xkeyval/xkvutils.tex)))\n(/usr/share/texlive/texmf-dist/tex/latex/fontspec/fontspec.sty\n(/usr/share/texlive/texmf-dist/tex/latex/l3packages/xparse/xparse.sty\n(/usr/share/texlive/texmf-dist/tex/latex/l3kernel/expl3.sty\n(/usr/share/texlive/texmf-dist/tex/latex/l3backend/l3backend-xetex.def\n(|extractbb --version))))\n(/usr/share/texlive/texmf-dist/tex/latex/fontspec/fontspec-xetex.sty\n(/usr/share/texlive/texmf-dist/tex/latex/base/fontenc.sty)\n(/usr/share/texlive/texmf-dist/tex/latex/fontspec/fontspec.cfg))))\n(/usr/share/texlive/texmf-dist/tex/latex/pgfplots/pgfplots.sty\n(/usr/share/texlive/texmf-dist/tex/generic/pgfplots/pgfplots.revision.tex)\n(/usr/share/texlive/texmf-dist/tex/latex/pgf/frontendlayer/tikz.sty\n(/usr/share/texlive/texmf-dist/tex/latex/pgf/utilities/pgffor.sty\n(/usr/share/texlive/texmf-dist/tex/latex/pgf/utilities/pgfkeys.sty\n(/usr/share/texlive/texmf-dist/tex/generic/pgf/utilities/pgfkeys.code.tex))\n(/usr/share/texlive/texmf-dist/tex/latex/pgf/math/pgfmath.sty\n(/usr/share/texlive/texmf-dist/tex/generic/pgf/math/pgfmath.code.tex))\n(/usr/share/texlive/texmf-dist/tex/generic/pgf/utilities/pgffor.code.tex\n(/usr/share/texlive/texmf-dist/tex/generic/pgf/math/pgfmath.code.tex)))\n(/usr/share/texlive/texmf-dist/tex/generic/pgf/frontendlayer/tikz/tikz.code.tex\n\n(/usr/share/texlive/texmf-dist/tex/generic/pgf/libraries/pgflibraryplothandlers\n.code.tex)\n(/usr/share/texlive/texmf-dist/tex/generic/pgf/modules/pgfmodulematrix.code.tex\n)\n(/usr/share/texlive/texmf-dist/tex/generic/pgf/frontendlayer/tikz/libraries/tik\nzlibrarytopaths.code.tex)))\n(/usr/share/texlive/texmf-dist/tex/generic/pgfplots/pgfplots.code.tex\n(/usr/share/texlive/texmf-dist/tex/generic/pgfplots/pgfplotscore.code.tex\n(/usr/share/texlive/texmf-dist/tex/generic/pgfplots/sys/pgfplotssysgeneric.code\n.tex))\n(/usr/share/texlive/texmf-dist/tex/generic/pgfplots/libs/pgfplotslibrary.code.t\nex)\n(/usr/share/texlive/texmf-dist/tex/generic/pgfplots/oldpgfcompatib/pgfplotsoldp\ngfsupp_loader.code.tex\n(/usr/share/texlive/texmf-dist/tex/generic/pgf/libraries/pgflibraryfpu.code.tex\n))\n(/usr/share/texlive/texmf-dist/tex/generic/pgfplots/util/pgfplotsutil.code.tex\n(/usr/share/texlive/texmf-dist/tex/generic/pgfplots/liststructure/pgfplotslists\ntructure.code.tex)\n(/usr/share/texlive/texmf-dist/tex/generic/pgfplots/liststructure/pgfplotslists\ntructureext.code.tex)\n(/usr/share/texlive/texmf-dist/tex/generic/pgfplots/liststructure/pgfplotsarray\n.code.tex)\n(/usr/share/texlive/texmf-dist/tex/generic/pgfplots/liststructure/pgfplotsmatri\nx.code.tex)\n(/usr/share/texlive/texmf-dist/tex/generic/pgfplots/numtable/pgfplotstableshare\nd.code.tex)\n(/usr/share/texlive/texmf-dist/tex/generic/pgfplots/liststructure/pgfplotsdeque\n.code.tex)\n(/usr/share/texlive/texmf-dist/tex/generic/pgfplots/util/pgfplotsbinary.code.te\nx\n(/usr/share/texlive/texmf-dist/tex/generic/pgfplots/util/pgfplotsbinary.data.co\nde.tex))\n(/usr/share/texlive/texmf-dist/tex/generic/pgfplots/util/pgfplotsutil.verb.code\n.tex)\n(/usr/share/texlive/texmf-dist/tex/generic/pgfplots/libs/pgflibrarypgfplots.sur\nfshading.code.tex\n(/usr/share/texlive/texmf-dist/tex/generic/pgfplots/sys/pgflibrarypgfplots.surf\nshading.pgfsys-xetex.def\n(/usr/share/texlive/texmf-dist/tex/generic/pgfplots/sys/pgflibrarypgfplots.surf\nshading.pgfsys-dvipdfmx.def))))\n(/usr/share/texlive/texmf-dist/tex/generic/pgfplots/util/pgfplotscolormap.code.\ntex\n(/usr/share/texlive/texmf-dist/tex/generic/pgfplots/util/pgfplotscolor.code.tex\n))\n(/usr/share/texlive/texmf-dist/tex/generic/pgfplots/pgfplotsstackedplots.code.t\nex)\n(/usr/share/texlive/texmf-dist/tex/generic/pgfplots/pgfplotsplothandlers.code.t\nex\n(/usr/share/texlive/texmf-dist/tex/generic/pgfplots/pgfplotsmeshplothandler.cod\ne.tex\n(/usr/share/texlive/texmf-dist/tex/generic/pgfplots/pgfplotsmeshplotimage.code.\ntex)))\n(/usr/share/texlive/texmf-dist/tex/generic/pgfplots/pgfplots.scaling.code.tex)\n(/usr/share/texlive/texmf-dist/tex/generic/pgfplots/pgfplotscoordprocessing.cod\ne.tex)\n(/usr/share/texlive/texmf-dist/tex/generic/pgfplots/pgfplots.errorbars.code.tex\n) (/usr/share/texlive/texmf-dist/tex/generic/pgfplots/pgfplots.markers.code.tex\n) (/usr/share/texlive/texmf-dist/tex/generic/pgfplots/pgfplotsticks.code.tex)\n(/usr/share/texlive/texmf-dist/tex/generic/pgfplots/pgfplots.paths.code.tex)\n(/usr/share/texlive/texmf-dist/tex/generic/pgf/frontendlayer/tikz/libraries/tik\nzlibrarydecorations.code.tex\n(/usr/share/texlive/texmf-dist/tex/generic/pgf/modules/pgfmoduledecorations.cod\ne.tex))\n(/usr/share/texlive/texmf-dist/tex/generic/pgf/frontendlayer/tikz/libraries/tik\nzlibrarydecorations.pathmorphing.code.tex\n(/usr/share/texlive/texmf-dist/tex/generic/pgf/libraries/decorations/pgflibrary\ndecorations.pathmorphing.code.tex))\n(/usr/share/texlive/texmf-dist/tex/generic/pgf/frontendlayer/tikz/libraries/tik\nzlibrarydecorations.pathreplacing.code.tex\n(/usr/share/texlive/texmf-dist/tex/generic/pgf/libraries/decorations/pgflibrary\ndecorations.pathreplacing.code.tex))\n(/usr/share/texlive/texmf-dist/tex/generic/pgfplots/libs/tikzlibrarypgfplots.co\nntourlua.code.tex))\n(/usr/share/texlive/texmf-dist/tex/generic/pgf/frontendlayer/tikz/libraries/tik\nzlibraryplotmarks.code.tex\n(/usr/share/texlive/texmf-dist/tex/generic/pgf/libraries/pgflibraryplotmarks.co\nde.tex)))\n(/usr/share/texlive/texmf-dist/tex/generic/pgfplots/libs/tikzlibrarypgfplots.ex\nternal.code.tex\n(/usr/share/texlive/texmf-dist/tex/latex/pgf/frontendlayer/libraries/tikzlibrar\nyexternal.code.tex\n(/usr/share/texlive/texmf-dist/tex/generic/pgf/frontendlayer/tikz/libraries/tik\nzexternalshared.code.tex)))\n(/usr/share/texlive/texmf-dist/tex/latex/underscore/underscore.sty)\nNo file figure.aux.\n(/usr/share/texlive/texmf-dist/tex/latex/txfonts/omltxmi.fd)\n(/usr/share/texlive/texmf-dist/tex/latex/txfonts/omstxsy.fd)\n(/usr/share/texlive/texmf-dist/tex/latex/base/ts1cmr.fd)\n(/usr/share/texlive/texmf-dist/tex/latex/txfonts/omxtxex.fd)\n(/usr/share/texlive/texmf-dist/tex/latex/txfonts/utxexa.fd)\n(/usr/share/texlive/texmf-dist/tex/latex/hyperref/nameref.sty\n(/usr/share/texlive/texmf-dist/tex/latex/refcount/refcount.sty)\n(/usr/share/texlive/texmf-dist/tex/generic/gettitlestring/gettitlestring.sty))\n\nPackage hyperref Warning: Rerun to get /PageLabels entry.\n\n*geometry* driver: auto-detecting\n*geometry* detected driver: xetex\n\nPackage pgfplots Warning: running in backwards compatibility mode (unsuitable t\nick labels; missing features). Consider writing \\pgfplotsset{compat=1.18} into \nyour preamble.\n on input line 8.\n\n(./figure.pgf (/usr/share/texlive/texmf-dist/tex/latex/txfonts/ot1txr.fd)\n(/usr/share/texlive/texmf-dist/tex/latex/txfonts/utxmia.fd)\n(/usr/share/texlive/texmf-dist/tex/latex/txfonts/utxsya.fd)\n(/usr/share/texlive/texmf-dist/tex/latex/txfonts/utxsyb.fd)\n(/usr/share/texlive/texmf-dist/tex/latex/txfonts/utxsyc.fd)\nRunaway text?\npdf:code q 0.0 -0.25047 m 0.0659 -0.25047 0.12962 -0.22412 0.17686 -0\\ETC.\n! TeX capacity exceeded, sorry [main memory size=5000000].\n<argument> ...686 c 0.12962 0.22412 0.0659 0.25047\n                                                   0.0 0.25047 c -0.0659 0.2...\nl.31921 \\pgfsys@useobject{currentmarker}{}\n                                          %\nNo pages of output.\nTranscript written on figure.log.\n\nand the following error:\n",
     "output_type": "error",
     "traceback": [
      "\u001b[0;31m---------------------------------------------------------------------------\u001b[0m",
      "\u001b[0;31mRuntimeError\u001b[0m                              Traceback (most recent call last)",
      "Cell \u001b[0;32mIn[47], line 26\u001b[0m\n\u001b[1;32m     13\u001b[0m \u001b[38;5;66;03m# Histogram\u001b[39;00m\n\u001b[1;32m     14\u001b[0m ax\u001b[38;5;241m.\u001b[39mscatter(\n\u001b[1;32m     15\u001b[0m     \u001b[38;5;28mall\u001b[39m[\u001b[38;5;124m\"\u001b[39m\u001b[38;5;124mSHG1G2_R\u001b[39m\u001b[38;5;124m\"\u001b[39m],\n\u001b[1;32m     16\u001b[0m     \u001b[38;5;28mall\u001b[39m\u001b[38;5;241m.\u001b[39mR,\n\u001b[0;32m   (...)\u001b[0m\n\u001b[1;32m     22\u001b[0m     \u001b[38;5;66;03m# label=f\"DAMIT ({len(damit):,d})\",\u001b[39;00m\n\u001b[1;32m     23\u001b[0m )\n\u001b[0;32m---> 26\u001b[0m \u001b[43mfig\u001b[49m\u001b[38;5;241;43m.\u001b[39;49m\u001b[43msavefig\u001b[49m\u001b[43m(\u001b[49m\n\u001b[1;32m     27\u001b[0m \u001b[43m    \u001b[49m\u001b[43mos\u001b[49m\u001b[38;5;241;43m.\u001b[39;49m\u001b[43mpath\u001b[49m\u001b[38;5;241;43m.\u001b[39;49m\u001b[43mjoin\u001b[49m\u001b[43m(\u001b[49m\u001b[38;5;124;43m\"\u001b[39;49m\u001b[38;5;124;43m..\u001b[39;49m\u001b[38;5;124;43m\"\u001b[39;49m\u001b[43m,\u001b[49m\u001b[43m \u001b[49m\u001b[38;5;124;43m\"\u001b[39;49m\u001b[38;5;124;43mgfx\u001b[39;49m\u001b[38;5;124;43m\"\u001b[39;49m\u001b[43m,\u001b[49m\u001b[43m \u001b[49m\u001b[38;5;124;43m\"\u001b[39;49m\u001b[38;5;124;43moblateness-scatter.png\u001b[39;49m\u001b[38;5;124;43m\"\u001b[39;49m\u001b[43m)\u001b[49m\u001b[43m,\u001b[49m\u001b[43m \u001b[49m\u001b[43mfacecolor\u001b[49m\u001b[38;5;241;43m=\u001b[39;49m\u001b[38;5;124;43m\"\u001b[39;49m\u001b[38;5;124;43mwhite\u001b[39;49m\u001b[38;5;124;43m\"\u001b[39;49m\u001b[43m,\u001b[49m\u001b[43m \u001b[49m\u001b[43mdpi\u001b[49m\u001b[38;5;241;43m=\u001b[39;49m\u001b[38;5;241;43m150\u001b[39;49m\n\u001b[1;32m     28\u001b[0m \u001b[43m)\u001b[49m\n",
      "File \u001b[0;32m~/anaconda3/lib/python3.9/site-packages/matplotlib/figure.py:3274\u001b[0m, in \u001b[0;36mFigure.savefig\u001b[0;34m(self, fname, transparent, **kwargs)\u001b[0m\n\u001b[1;32m   3270\u001b[0m     \u001b[38;5;28;01mfor\u001b[39;00m ax \u001b[38;5;129;01min\u001b[39;00m \u001b[38;5;28mself\u001b[39m\u001b[38;5;241m.\u001b[39maxes:\n\u001b[1;32m   3271\u001b[0m         stack\u001b[38;5;241m.\u001b[39menter_context(\n\u001b[1;32m   3272\u001b[0m             ax\u001b[38;5;241m.\u001b[39mpatch\u001b[38;5;241m.\u001b[39m_cm_set(facecolor\u001b[38;5;241m=\u001b[39m\u001b[38;5;124m'\u001b[39m\u001b[38;5;124mnone\u001b[39m\u001b[38;5;124m'\u001b[39m, edgecolor\u001b[38;5;241m=\u001b[39m\u001b[38;5;124m'\u001b[39m\u001b[38;5;124mnone\u001b[39m\u001b[38;5;124m'\u001b[39m))\n\u001b[0;32m-> 3274\u001b[0m \u001b[38;5;28;43mself\u001b[39;49m\u001b[38;5;241;43m.\u001b[39;49m\u001b[43mcanvas\u001b[49m\u001b[38;5;241;43m.\u001b[39;49m\u001b[43mprint_figure\u001b[49m\u001b[43m(\u001b[49m\u001b[43mfname\u001b[49m\u001b[43m,\u001b[49m\u001b[43m \u001b[49m\u001b[38;5;241;43m*\u001b[39;49m\u001b[38;5;241;43m*\u001b[39;49m\u001b[43mkwargs\u001b[49m\u001b[43m)\u001b[49m\n",
      "File \u001b[0;32m~/anaconda3/lib/python3.9/site-packages/matplotlib/backend_bases.py:2338\u001b[0m, in \u001b[0;36mFigureCanvasBase.print_figure\u001b[0;34m(self, filename, dpi, facecolor, edgecolor, orientation, format, bbox_inches, pad_inches, bbox_extra_artists, backend, **kwargs)\u001b[0m\n\u001b[1;32m   2334\u001b[0m \u001b[38;5;28;01mtry\u001b[39;00m:\n\u001b[1;32m   2335\u001b[0m     \u001b[38;5;66;03m# _get_renderer may change the figure dpi (as vector formats\u001b[39;00m\n\u001b[1;32m   2336\u001b[0m     \u001b[38;5;66;03m# force the figure dpi to 72), so we need to set it again here.\u001b[39;00m\n\u001b[1;32m   2337\u001b[0m     \u001b[38;5;28;01mwith\u001b[39;00m cbook\u001b[38;5;241m.\u001b[39m_setattr_cm(\u001b[38;5;28mself\u001b[39m\u001b[38;5;241m.\u001b[39mfigure, dpi\u001b[38;5;241m=\u001b[39mdpi):\n\u001b[0;32m-> 2338\u001b[0m         result \u001b[38;5;241m=\u001b[39m \u001b[43mprint_method\u001b[49m\u001b[43m(\u001b[49m\n\u001b[1;32m   2339\u001b[0m \u001b[43m            \u001b[49m\u001b[43mfilename\u001b[49m\u001b[43m,\u001b[49m\n\u001b[1;32m   2340\u001b[0m \u001b[43m            \u001b[49m\u001b[43mfacecolor\u001b[49m\u001b[38;5;241;43m=\u001b[39;49m\u001b[43mfacecolor\u001b[49m\u001b[43m,\u001b[49m\n\u001b[1;32m   2341\u001b[0m \u001b[43m            \u001b[49m\u001b[43medgecolor\u001b[49m\u001b[38;5;241;43m=\u001b[39;49m\u001b[43medgecolor\u001b[49m\u001b[43m,\u001b[49m\n\u001b[1;32m   2342\u001b[0m \u001b[43m            \u001b[49m\u001b[43morientation\u001b[49m\u001b[38;5;241;43m=\u001b[39;49m\u001b[43morientation\u001b[49m\u001b[43m,\u001b[49m\n\u001b[1;32m   2343\u001b[0m \u001b[43m            \u001b[49m\u001b[43mbbox_inches_restore\u001b[49m\u001b[38;5;241;43m=\u001b[39;49m\u001b[43m_bbox_inches_restore\u001b[49m\u001b[43m,\u001b[49m\n\u001b[1;32m   2344\u001b[0m \u001b[43m            \u001b[49m\u001b[38;5;241;43m*\u001b[39;49m\u001b[38;5;241;43m*\u001b[39;49m\u001b[43mkwargs\u001b[49m\u001b[43m)\u001b[49m\n\u001b[1;32m   2345\u001b[0m \u001b[38;5;28;01mfinally\u001b[39;00m:\n\u001b[1;32m   2346\u001b[0m     \u001b[38;5;28;01mif\u001b[39;00m bbox_inches \u001b[38;5;129;01mand\u001b[39;00m restore_bbox:\n",
      "File \u001b[0;32m~/anaconda3/lib/python3.9/site-packages/matplotlib/backend_bases.py:2204\u001b[0m, in \u001b[0;36mFigureCanvasBase._switch_canvas_and_return_print_method.<locals>.<lambda>\u001b[0;34m(*args, **kwargs)\u001b[0m\n\u001b[1;32m   2200\u001b[0m     optional_kws \u001b[38;5;241m=\u001b[39m {  \u001b[38;5;66;03m# Passed by print_figure for other renderers.\u001b[39;00m\n\u001b[1;32m   2201\u001b[0m         \u001b[38;5;124m\"\u001b[39m\u001b[38;5;124mdpi\u001b[39m\u001b[38;5;124m\"\u001b[39m, \u001b[38;5;124m\"\u001b[39m\u001b[38;5;124mfacecolor\u001b[39m\u001b[38;5;124m\"\u001b[39m, \u001b[38;5;124m\"\u001b[39m\u001b[38;5;124medgecolor\u001b[39m\u001b[38;5;124m\"\u001b[39m, \u001b[38;5;124m\"\u001b[39m\u001b[38;5;124morientation\u001b[39m\u001b[38;5;124m\"\u001b[39m,\n\u001b[1;32m   2202\u001b[0m         \u001b[38;5;124m\"\u001b[39m\u001b[38;5;124mbbox_inches_restore\u001b[39m\u001b[38;5;124m\"\u001b[39m}\n\u001b[1;32m   2203\u001b[0m     skip \u001b[38;5;241m=\u001b[39m optional_kws \u001b[38;5;241m-\u001b[39m {\u001b[38;5;241m*\u001b[39minspect\u001b[38;5;241m.\u001b[39msignature(meth)\u001b[38;5;241m.\u001b[39mparameters}\n\u001b[0;32m-> 2204\u001b[0m     print_method \u001b[38;5;241m=\u001b[39m functools\u001b[38;5;241m.\u001b[39mwraps(meth)(\u001b[38;5;28;01mlambda\u001b[39;00m \u001b[38;5;241m*\u001b[39margs, \u001b[38;5;241m*\u001b[39m\u001b[38;5;241m*\u001b[39mkwargs: \u001b[43mmeth\u001b[49m\u001b[43m(\u001b[49m\n\u001b[1;32m   2205\u001b[0m \u001b[43m        \u001b[49m\u001b[38;5;241;43m*\u001b[39;49m\u001b[43margs\u001b[49m\u001b[43m,\u001b[49m\u001b[43m \u001b[49m\u001b[38;5;241;43m*\u001b[39;49m\u001b[38;5;241;43m*\u001b[39;49m\u001b[43m{\u001b[49m\u001b[43mk\u001b[49m\u001b[43m:\u001b[49m\u001b[43m \u001b[49m\u001b[43mv\u001b[49m\u001b[43m \u001b[49m\u001b[38;5;28;43;01mfor\u001b[39;49;00m\u001b[43m \u001b[49m\u001b[43mk\u001b[49m\u001b[43m,\u001b[49m\u001b[43m \u001b[49m\u001b[43mv\u001b[49m\u001b[43m \u001b[49m\u001b[38;5;129;43;01min\u001b[39;49;00m\u001b[43m \u001b[49m\u001b[43mkwargs\u001b[49m\u001b[38;5;241;43m.\u001b[39;49m\u001b[43mitems\u001b[49m\u001b[43m(\u001b[49m\u001b[43m)\u001b[49m\u001b[43m \u001b[49m\u001b[38;5;28;43;01mif\u001b[39;49;00m\u001b[43m \u001b[49m\u001b[43mk\u001b[49m\u001b[43m \u001b[49m\u001b[38;5;129;43;01mnot\u001b[39;49;00m\u001b[43m \u001b[49m\u001b[38;5;129;43;01min\u001b[39;49;00m\u001b[43m \u001b[49m\u001b[43mskip\u001b[49m\u001b[43m}\u001b[49m\u001b[43m)\u001b[49m)\n\u001b[1;32m   2206\u001b[0m \u001b[38;5;28;01melse\u001b[39;00m:  \u001b[38;5;66;03m# Let third-parties do as they see fit.\u001b[39;00m\n\u001b[1;32m   2207\u001b[0m     print_method \u001b[38;5;241m=\u001b[39m meth\n",
      "File \u001b[0;32m~/anaconda3/lib/python3.9/site-packages/matplotlib/backends/backend_pgf.py:886\u001b[0m, in \u001b[0;36mFigureCanvasPgf.print_png\u001b[0;34m(self, fname_or_fh, **kwargs)\u001b[0m\n\u001b[1;32m    884\u001b[0m pdf_path \u001b[38;5;241m=\u001b[39m tmppath \u001b[38;5;241m/\u001b[39m \u001b[38;5;124m\"\u001b[39m\u001b[38;5;124mfigure.pdf\u001b[39m\u001b[38;5;124m\"\u001b[39m\n\u001b[1;32m    885\u001b[0m png_path \u001b[38;5;241m=\u001b[39m tmppath \u001b[38;5;241m/\u001b[39m \u001b[38;5;124m\"\u001b[39m\u001b[38;5;124mfigure.png\u001b[39m\u001b[38;5;124m\"\u001b[39m\n\u001b[0;32m--> 886\u001b[0m \u001b[38;5;28;43mself\u001b[39;49m\u001b[38;5;241;43m.\u001b[39;49m\u001b[43mprint_pdf\u001b[49m\u001b[43m(\u001b[49m\u001b[43mpdf_path\u001b[49m\u001b[43m,\u001b[49m\u001b[43m \u001b[49m\u001b[38;5;241;43m*\u001b[39;49m\u001b[38;5;241;43m*\u001b[39;49m\u001b[43mkwargs\u001b[49m\u001b[43m)\u001b[49m\n\u001b[1;32m    887\u001b[0m converter(pdf_path, png_path, dpi\u001b[38;5;241m=\u001b[39m\u001b[38;5;28mself\u001b[39m\u001b[38;5;241m.\u001b[39mfigure\u001b[38;5;241m.\u001b[39mdpi)\n\u001b[1;32m    888\u001b[0m \u001b[38;5;28;01mwith\u001b[39;00m png_path\u001b[38;5;241m.\u001b[39mopen(\u001b[38;5;124m\"\u001b[39m\u001b[38;5;124mrb\u001b[39m\u001b[38;5;124m\"\u001b[39m) \u001b[38;5;28;01mas\u001b[39;00m orig, \\\n\u001b[1;32m    889\u001b[0m      cbook\u001b[38;5;241m.\u001b[39mopen_file_cm(fname_or_fh, \u001b[38;5;124m\"\u001b[39m\u001b[38;5;124mwb\u001b[39m\u001b[38;5;124m\"\u001b[39m) \u001b[38;5;28;01mas\u001b[39;00m dest:\n",
      "File \u001b[0;32m~/anaconda3/lib/python3.9/site-packages/matplotlib/backends/backend_pgf.py:872\u001b[0m, in \u001b[0;36mFigureCanvasPgf.print_pdf\u001b[0;34m(self, fname_or_fh, metadata, **kwargs)\u001b[0m\n\u001b[1;32m    858\u001b[0m (tmppath \u001b[38;5;241m/\u001b[39m \u001b[38;5;124m\"\u001b[39m\u001b[38;5;124mfigure.tex\u001b[39m\u001b[38;5;124m\"\u001b[39m)\u001b[38;5;241m.\u001b[39mwrite_text(\n\u001b[1;32m    859\u001b[0m     \u001b[38;5;124m\"\u001b[39m\u001b[38;5;130;01m\\n\u001b[39;00m\u001b[38;5;124m\"\u001b[39m\u001b[38;5;241m.\u001b[39mjoin([\n\u001b[1;32m    860\u001b[0m         \u001b[38;5;124mr\u001b[39m\u001b[38;5;124m\"\u001b[39m\u001b[38;5;124m\\\u001b[39m\u001b[38;5;124mdocumentclass[12pt]\u001b[39m\u001b[38;5;132;01m{article}\u001b[39;00m\u001b[38;5;124m\"\u001b[39m,\n\u001b[0;32m   (...)\u001b[0m\n\u001b[1;32m    869\u001b[0m         \u001b[38;5;124mr\u001b[39m\u001b[38;5;124m\"\u001b[39m\u001b[38;5;124m\\\u001b[39m\u001b[38;5;124mend\u001b[39m\u001b[38;5;132;01m{document}\u001b[39;00m\u001b[38;5;124m\"\u001b[39m,\n\u001b[1;32m    870\u001b[0m     ]), encoding\u001b[38;5;241m=\u001b[39m\u001b[38;5;124m\"\u001b[39m\u001b[38;5;124mutf-8\u001b[39m\u001b[38;5;124m\"\u001b[39m)\n\u001b[1;32m    871\u001b[0m texcommand \u001b[38;5;241m=\u001b[39m mpl\u001b[38;5;241m.\u001b[39mrcParams[\u001b[38;5;124m\"\u001b[39m\u001b[38;5;124mpgf.texsystem\u001b[39m\u001b[38;5;124m\"\u001b[39m]\n\u001b[0;32m--> 872\u001b[0m \u001b[43mcbook\u001b[49m\u001b[38;5;241;43m.\u001b[39;49m\u001b[43m_check_and_log_subprocess\u001b[49m\u001b[43m(\u001b[49m\n\u001b[1;32m    873\u001b[0m \u001b[43m    \u001b[49m\u001b[43m[\u001b[49m\u001b[43mtexcommand\u001b[49m\u001b[43m,\u001b[49m\u001b[43m \u001b[49m\u001b[38;5;124;43m\"\u001b[39;49m\u001b[38;5;124;43m-interaction=nonstopmode\u001b[39;49m\u001b[38;5;124;43m\"\u001b[39;49m\u001b[43m,\u001b[49m\u001b[43m \u001b[49m\u001b[38;5;124;43m\"\u001b[39;49m\u001b[38;5;124;43m-halt-on-error\u001b[39;49m\u001b[38;5;124;43m\"\u001b[39;49m\u001b[43m,\u001b[49m\n\u001b[1;32m    874\u001b[0m \u001b[43m     \u001b[49m\u001b[38;5;124;43m\"\u001b[39;49m\u001b[38;5;124;43mfigure.tex\u001b[39;49m\u001b[38;5;124;43m\"\u001b[39;49m\u001b[43m]\u001b[49m\u001b[43m,\u001b[49m\u001b[43m \u001b[49m\u001b[43m_log\u001b[49m\u001b[43m,\u001b[49m\u001b[43m \u001b[49m\u001b[43mcwd\u001b[49m\u001b[38;5;241;43m=\u001b[39;49m\u001b[43mtmpdir\u001b[49m\u001b[43m)\u001b[49m\n\u001b[1;32m    875\u001b[0m \u001b[38;5;28;01mwith\u001b[39;00m (tmppath \u001b[38;5;241m/\u001b[39m \u001b[38;5;124m\"\u001b[39m\u001b[38;5;124mfigure.pdf\u001b[39m\u001b[38;5;124m\"\u001b[39m)\u001b[38;5;241m.\u001b[39mopen(\u001b[38;5;124m\"\u001b[39m\u001b[38;5;124mrb\u001b[39m\u001b[38;5;124m\"\u001b[39m) \u001b[38;5;28;01mas\u001b[39;00m orig, \\\n\u001b[1;32m    876\u001b[0m      cbook\u001b[38;5;241m.\u001b[39mopen_file_cm(fname_or_fh, \u001b[38;5;124m\"\u001b[39m\u001b[38;5;124mwb\u001b[39m\u001b[38;5;124m\"\u001b[39m) \u001b[38;5;28;01mas\u001b[39;00m dest:\n\u001b[1;32m    877\u001b[0m     shutil\u001b[38;5;241m.\u001b[39mcopyfileobj(orig, dest)\n",
      "File \u001b[0;32m~/anaconda3/lib/python3.9/site-packages/matplotlib/cbook/__init__.py:2179\u001b[0m, in \u001b[0;36m_check_and_log_subprocess\u001b[0;34m(command, logger, **kwargs)\u001b[0m\n\u001b[1;32m   2177\u001b[0m     \u001b[38;5;28;01mif\u001b[39;00m \u001b[38;5;28misinstance\u001b[39m(stderr, \u001b[38;5;28mbytes\u001b[39m):\n\u001b[1;32m   2178\u001b[0m         stderr \u001b[38;5;241m=\u001b[39m stderr\u001b[38;5;241m.\u001b[39mdecode()\n\u001b[0;32m-> 2179\u001b[0m     \u001b[38;5;28;01mraise\u001b[39;00m \u001b[38;5;167;01mRuntimeError\u001b[39;00m(\n\u001b[1;32m   2180\u001b[0m         \u001b[38;5;124mf\u001b[39m\u001b[38;5;124m\"\u001b[39m\u001b[38;5;124mThe command\u001b[39m\u001b[38;5;130;01m\\n\u001b[39;00m\u001b[38;5;124m\"\u001b[39m\n\u001b[1;32m   2181\u001b[0m         \u001b[38;5;124mf\u001b[39m\u001b[38;5;124m\"\u001b[39m\u001b[38;5;124m    \u001b[39m\u001b[38;5;132;01m{\u001b[39;00m_pformat_subprocess(command)\u001b[38;5;132;01m}\u001b[39;00m\u001b[38;5;130;01m\\n\u001b[39;00m\u001b[38;5;124m\"\u001b[39m\n\u001b[1;32m   2182\u001b[0m         \u001b[38;5;124mf\u001b[39m\u001b[38;5;124m\"\u001b[39m\u001b[38;5;124mfailed and generated the following output:\u001b[39m\u001b[38;5;130;01m\\n\u001b[39;00m\u001b[38;5;124m\"\u001b[39m\n\u001b[1;32m   2183\u001b[0m         \u001b[38;5;124mf\u001b[39m\u001b[38;5;124m\"\u001b[39m\u001b[38;5;132;01m{\u001b[39;00mstdout\u001b[38;5;132;01m}\u001b[39;00m\u001b[38;5;130;01m\\n\u001b[39;00m\u001b[38;5;124m\"\u001b[39m\n\u001b[1;32m   2184\u001b[0m         \u001b[38;5;124mf\u001b[39m\u001b[38;5;124m\"\u001b[39m\u001b[38;5;124mand the following error:\u001b[39m\u001b[38;5;130;01m\\n\u001b[39;00m\u001b[38;5;124m\"\u001b[39m\n\u001b[1;32m   2185\u001b[0m         \u001b[38;5;124mf\u001b[39m\u001b[38;5;124m\"\u001b[39m\u001b[38;5;132;01m{\u001b[39;00mstderr\u001b[38;5;132;01m}\u001b[39;00m\u001b[38;5;124m\"\u001b[39m)\n\u001b[1;32m   2186\u001b[0m \u001b[38;5;28;01mif\u001b[39;00m proc\u001b[38;5;241m.\u001b[39mstdout:\n\u001b[1;32m   2187\u001b[0m     logger\u001b[38;5;241m.\u001b[39mdebug(\u001b[38;5;124m\"\u001b[39m\u001b[38;5;124mstdout:\u001b[39m\u001b[38;5;130;01m\\n\u001b[39;00m\u001b[38;5;132;01m%s\u001b[39;00m\u001b[38;5;124m\"\u001b[39m, proc\u001b[38;5;241m.\u001b[39mstdout)\n",
      "\u001b[0;31mRuntimeError\u001b[0m: The command\n    xelatex -interaction=nonstopmode -halt-on-error figure.tex\nfailed and generated the following output:\nThis is XeTeX, Version 3.141592653-2.6-0.999993 (TeX Live 2022/dev/Debian) (preloaded format=xelatex)\n restricted \\write18 enabled.\nentering extended mode\n(./figure.tex\nLaTeX2e <2021-11-15> patch level 1\nL3 programming layer <2022-01-21>\n(/usr/share/texlive/texmf-dist/tex/latex/base/article.cls\nDocument Class: article 2021/10/04 v1.4n Standard LaTeX document class\n(/usr/share/texlive/texmf-dist/tex/latex/base/size12.clo))\n(/usr/share/texlive/texmf-dist/tex/latex/hyperref/hyperref.sty\n(/usr/share/texlive/texmf-dist/tex/generic/ltxcmds/ltxcmds.sty)\n(/usr/share/texlive/texmf-dist/tex/generic/iftex/iftex.sty)\n(/usr/share/texlive/texmf-dist/tex/generic/pdftexcmds/pdftexcmds.sty\n(/usr/share/texlive/texmf-dist/tex/generic/infwarerr/infwarerr.sty))\n(/usr/share/texlive/texmf-dist/tex/latex/graphics/keyval.sty)\n(/usr/share/texlive/texmf-dist/tex/generic/kvsetkeys/kvsetkeys.sty)\n(/usr/share/texlive/texmf-dist/tex/generic/kvdefinekeys/kvdefinekeys.sty)\n(/usr/share/texlive/texmf-dist/tex/generic/pdfescape/pdfescape.sty)\n(/usr/share/texlive/texmf-dist/tex/latex/hycolor/hycolor.sty)\n(/usr/share/texlive/texmf-dist/tex/latex/letltxmacro/letltxmacro.sty)\n(/usr/share/texlive/texmf-dist/tex/latex/auxhook/auxhook.sty)\n(/usr/share/texlive/texmf-dist/tex/latex/kvoptions/kvoptions.sty)\n(/usr/share/texlive/texmf-dist/tex/latex/hyperref/pd1enc.def)\n(/usr/share/texlive/texmf-dist/tex/latex/hyperref/hyperref-langpatches.def)\n(/usr/share/texlive/texmf-dist/tex/generic/intcalc/intcalc.sty)\n(/usr/share/texlive/texmf-dist/tex/generic/etexcmds/etexcmds.sty)\n(/usr/share/texlive/texmf-dist/tex/latex/hyperref/puenc.def)\n(/usr/share/texlive/texmf-dist/tex/latex/url/url.sty)\n(/usr/share/texlive/texmf-dist/tex/generic/bitset/bitset.sty\n(/usr/share/texlive/texmf-dist/tex/generic/bigintcalc/bigintcalc.sty))\n(/usr/share/texlive/texmf-dist/tex/latex/base/atbegshi-ltx.sty))\n(/usr/share/texlive/texmf-dist/tex/latex/hyperref/hxetex.def\n(/usr/share/texlive/texmf-dist/tex/generic/stringenc/stringenc.sty)\n(/usr/share/texlive/texmf-dist/tex/latex/rerunfilecheck/rerunfilecheck.sty\n(/usr/share/texlive/texmf-dist/tex/latex/base/atveryend-ltx.sty)\n(/usr/share/texlive/texmf-dist/tex/generic/uniquecounter/uniquecounter.sty)))\n(/usr/share/texlive/texmf-dist/tex/latex/geometry/geometry.sty\n(/usr/share/texlive/texmf-dist/tex/generic/iftex/ifvtex.sty))\n(/usr/share/texlive/texmf-dist/tex/latex/pgf/basiclayer/pgf.sty\n(/usr/share/texlive/texmf-dist/tex/latex/pgf/utilities/pgfrcs.sty\n(/usr/share/texlive/texmf-dist/tex/generic/pgf/utilities/pgfutil-common.tex\n(/usr/share/texlive/texmf-dist/tex/generic/pgf/utilities/pgfutil-common-lists.t\nex)) (/usr/share/texlive/texmf-dist/tex/generic/pgf/utilities/pgfutil-latex.def\n) (/usr/share/texlive/texmf-dist/tex/generic/pgf/utilities/pgfrcs.code.tex\n(/usr/share/texlive/texmf-dist/tex/generic/pgf/pgf.revision.tex)))\n(/usr/share/texlive/texmf-dist/tex/latex/pgf/basiclayer/pgfcore.sty\n(/usr/share/texlive/texmf-dist/tex/latex/graphics/graphicx.sty\n(/usr/share/texlive/texmf-dist/tex/latex/graphics/graphics.sty\n(/usr/share/texlive/texmf-dist/tex/latex/graphics/trig.sty)\n(/usr/share/texlive/texmf-dist/tex/latex/graphics-cfg/graphics.cfg)\n(/usr/share/texlive/texmf-dist/tex/latex/graphics-def/xetex.def)))\n(/usr/share/texlive/texmf-dist/tex/latex/pgf/systemlayer/pgfsys.sty\n(/usr/share/texlive/texmf-dist/tex/generic/pgf/systemlayer/pgfsys.code.tex\n(/usr/share/texlive/texmf-dist/tex/generic/pgf/utilities/pgfkeys.code.tex\n(/usr/share/texlive/texmf-dist/tex/generic/pgf/utilities/pgfkeysfiltered.code.t\nex)) (/usr/share/texlive/texmf-dist/tex/generic/pgf/systemlayer/pgf.cfg)\n(/usr/share/texlive/texmf-dist/tex/generic/pgf/systemlayer/pgfsys-xetex.def\n(/usr/share/texlive/texmf-dist/tex/generic/pgf/systemlayer/pgfsys-dvipdfmx.def\n(/usr/share/texlive/texmf-dist/tex/generic/pgf/systemlayer/pgfsys-common-pdf.de\nf))))\n(/usr/share/texlive/texmf-dist/tex/generic/pgf/systemlayer/pgfsyssoftpath.code.\ntex)\n(/usr/share/texlive/texmf-dist/tex/generic/pgf/systemlayer/pgfsysprotocol.code.\ntex)) (/usr/share/texlive/texmf-dist/tex/latex/xcolor/xcolor.sty\n(/usr/share/texlive/texmf-dist/tex/latex/graphics-cfg/color.cfg))\n(/usr/share/texlive/texmf-dist/tex/generic/pgf/basiclayer/pgfcore.code.tex\n(/usr/share/texlive/texmf-dist/tex/generic/pgf/math/pgfmath.code.tex\n(/usr/share/texlive/texmf-dist/tex/generic/pgf/math/pgfmathcalc.code.tex\n(/usr/share/texlive/texmf-dist/tex/generic/pgf/math/pgfmathutil.code.tex)\n(/usr/share/texlive/texmf-dist/tex/generic/pgf/math/pgfmathparser.code.tex)\n(/usr/share/texlive/texmf-dist/tex/generic/pgf/math/pgfmathfunctions.code.tex\n(/usr/share/texlive/texmf-dist/tex/generic/pgf/math/pgfmathfunctions.basic.code\n.tex)\n(/usr/share/texlive/texmf-dist/tex/generic/pgf/math/pgfmathfunctions.trigonomet\nric.code.tex)\n(/usr/share/texlive/texmf-dist/tex/generic/pgf/math/pgfmathfunctions.random.cod\ne.tex)\n(/usr/share/texlive/texmf-dist/tex/generic/pgf/math/pgfmathfunctions.comparison\n.code.tex)\n(/usr/share/texlive/texmf-dist/tex/generic/pgf/math/pgfmathfunctions.base.code.\ntex)\n(/usr/share/texlive/texmf-dist/tex/generic/pgf/math/pgfmathfunctions.round.code\n.tex)\n(/usr/share/texlive/texmf-dist/tex/generic/pgf/math/pgfmathfunctions.misc.code.\ntex)\n(/usr/share/texlive/texmf-dist/tex/generic/pgf/math/pgfmathfunctions.integerari\nthmetics.code.tex)))\n(/usr/share/texlive/texmf-dist/tex/generic/pgf/math/pgfmathfloat.code.tex))\n(/usr/share/texlive/texmf-dist/tex/generic/pgf/math/pgfint.code.tex)\n(/usr/share/texlive/texmf-dist/tex/generic/pgf/basiclayer/pgfcorepoints.code.te\nx)\n(/usr/share/texlive/texmf-dist/tex/generic/pgf/basiclayer/pgfcorepathconstruct.\ncode.tex)\n(/usr/share/texlive/texmf-dist/tex/generic/pgf/basiclayer/pgfcorepathusage.code\n.tex)\n(/usr/share/texlive/texmf-dist/tex/generic/pgf/basiclayer/pgfcorescopes.code.te\nx)\n(/usr/share/texlive/texmf-dist/tex/generic/pgf/basiclayer/pgfcoregraphicstate.c\node.tex)\n(/usr/share/texlive/texmf-dist/tex/generic/pgf/basiclayer/pgfcoretransformation\ns.code.tex)\n(/usr/share/texlive/texmf-dist/tex/generic/pgf/basiclayer/pgfcorequick.code.tex\n)\n(/usr/share/texlive/texmf-dist/tex/generic/pgf/basiclayer/pgfcoreobjects.code.t\nex)\n(/usr/share/texlive/texmf-dist/tex/generic/pgf/basiclayer/pgfcorepathprocessing\n.code.tex)\n(/usr/share/texlive/texmf-dist/tex/generic/pgf/basiclayer/pgfcorearrows.code.te\nx)\n(/usr/share/texlive/texmf-dist/tex/generic/pgf/basiclayer/pgfcoreshade.code.tex\n)\n(/usr/share/texlive/texmf-dist/tex/generic/pgf/basiclayer/pgfcoreimage.code.tex\n\n(/usr/share/texlive/texmf-dist/tex/generic/pgf/basiclayer/pgfcoreexternal.code.\ntex))\n(/usr/share/texlive/texmf-dist/tex/generic/pgf/basiclayer/pgfcorelayers.code.te\nx)\n(/usr/share/texlive/texmf-dist/tex/generic/pgf/basiclayer/pgfcoretransparency.c\node.tex)\n(/usr/share/texlive/texmf-dist/tex/generic/pgf/basiclayer/pgfcorepatterns.code.\ntex)\n(/usr/share/texlive/texmf-dist/tex/generic/pgf/basiclayer/pgfcorerdf.code.tex))\n)\n(/usr/share/texlive/texmf-dist/tex/generic/pgf/modules/pgfmoduleshapes.code.tex\n) (/usr/share/texlive/texmf-dist/tex/generic/pgf/modules/pgfmoduleplot.code.tex\n)\n(/usr/share/texlive/texmf-dist/tex/latex/pgf/compatibility/pgfcomp-version-0-65\n.sty)\n(/usr/share/texlive/texmf-dist/tex/latex/pgf/compatibility/pgfcomp-version-1-18\n.sty)) (/usr/share/texlive/texmf-dist/tex/latex/amsmath/amsmath.sty\nFor additional information on amsmath, use the `?' option.\n(/usr/share/texlive/texmf-dist/tex/latex/amsmath/amstext.sty\n(/usr/share/texlive/texmf-dist/tex/latex/amsmath/amsgen.sty))\n(/usr/share/texlive/texmf-dist/tex/latex/amsmath/amsbsy.sty)\n(/usr/share/texlive/texmf-dist/tex/latex/amsmath/amsopn.sty))\n(/usr/share/texlive/texmf-dist/tex/latex/base/inputenc.sty\n\nPackage inputenc Warning: inputenc package ignored with utf8 based engines.\n\n) (/usr/share/texlive/texmf-dist/tex/latex/base/fontenc.sty\n\nLaTeX Font Warning: Font shape `T1/lmr/m/n' undefined\n(Font)              using `T1/cmr/m/n' instead on input line 112.\n\n) (/usr/share/texlive/texmf-dist/tex/latex/txfonts/txfonts.sty)\n(/usr/share/texlive/texmf-dist/tex/latex/sourcesanspro/sourcesanspro.sty\n(/usr/share/texlive/texmf-dist/tex/generic/iftex/ifxetex.sty)\n(/usr/share/texlive/texmf-dist/tex/generic/iftex/ifluatex.sty)\n(/usr/share/texlive/texmf-dist/tex/latex/xkeyval/xkeyval.sty\n(/usr/share/texlive/texmf-dist/tex/generic/xkeyval/xkeyval.tex\n(/usr/share/texlive/texmf-dist/tex/generic/xkeyval/xkvutils.tex)))\n(/usr/share/texlive/texmf-dist/tex/latex/fontspec/fontspec.sty\n(/usr/share/texlive/texmf-dist/tex/latex/l3packages/xparse/xparse.sty\n(/usr/share/texlive/texmf-dist/tex/latex/l3kernel/expl3.sty\n(/usr/share/texlive/texmf-dist/tex/latex/l3backend/l3backend-xetex.def\n(|extractbb --version))))\n(/usr/share/texlive/texmf-dist/tex/latex/fontspec/fontspec-xetex.sty\n(/usr/share/texlive/texmf-dist/tex/latex/base/fontenc.sty)\n(/usr/share/texlive/texmf-dist/tex/latex/fontspec/fontspec.cfg))))\n(/usr/share/texlive/texmf-dist/tex/latex/pgfplots/pgfplots.sty\n(/usr/share/texlive/texmf-dist/tex/generic/pgfplots/pgfplots.revision.tex)\n(/usr/share/texlive/texmf-dist/tex/latex/pgf/frontendlayer/tikz.sty\n(/usr/share/texlive/texmf-dist/tex/latex/pgf/utilities/pgffor.sty\n(/usr/share/texlive/texmf-dist/tex/latex/pgf/utilities/pgfkeys.sty\n(/usr/share/texlive/texmf-dist/tex/generic/pgf/utilities/pgfkeys.code.tex))\n(/usr/share/texlive/texmf-dist/tex/latex/pgf/math/pgfmath.sty\n(/usr/share/texlive/texmf-dist/tex/generic/pgf/math/pgfmath.code.tex))\n(/usr/share/texlive/texmf-dist/tex/generic/pgf/utilities/pgffor.code.tex\n(/usr/share/texlive/texmf-dist/tex/generic/pgf/math/pgfmath.code.tex)))\n(/usr/share/texlive/texmf-dist/tex/generic/pgf/frontendlayer/tikz/tikz.code.tex\n\n(/usr/share/texlive/texmf-dist/tex/generic/pgf/libraries/pgflibraryplothandlers\n.code.tex)\n(/usr/share/texlive/texmf-dist/tex/generic/pgf/modules/pgfmodulematrix.code.tex\n)\n(/usr/share/texlive/texmf-dist/tex/generic/pgf/frontendlayer/tikz/libraries/tik\nzlibrarytopaths.code.tex)))\n(/usr/share/texlive/texmf-dist/tex/generic/pgfplots/pgfplots.code.tex\n(/usr/share/texlive/texmf-dist/tex/generic/pgfplots/pgfplotscore.code.tex\n(/usr/share/texlive/texmf-dist/tex/generic/pgfplots/sys/pgfplotssysgeneric.code\n.tex))\n(/usr/share/texlive/texmf-dist/tex/generic/pgfplots/libs/pgfplotslibrary.code.t\nex)\n(/usr/share/texlive/texmf-dist/tex/generic/pgfplots/oldpgfcompatib/pgfplotsoldp\ngfsupp_loader.code.tex\n(/usr/share/texlive/texmf-dist/tex/generic/pgf/libraries/pgflibraryfpu.code.tex\n))\n(/usr/share/texlive/texmf-dist/tex/generic/pgfplots/util/pgfplotsutil.code.tex\n(/usr/share/texlive/texmf-dist/tex/generic/pgfplots/liststructure/pgfplotslists\ntructure.code.tex)\n(/usr/share/texlive/texmf-dist/tex/generic/pgfplots/liststructure/pgfplotslists\ntructureext.code.tex)\n(/usr/share/texlive/texmf-dist/tex/generic/pgfplots/liststructure/pgfplotsarray\n.code.tex)\n(/usr/share/texlive/texmf-dist/tex/generic/pgfplots/liststructure/pgfplotsmatri\nx.code.tex)\n(/usr/share/texlive/texmf-dist/tex/generic/pgfplots/numtable/pgfplotstableshare\nd.code.tex)\n(/usr/share/texlive/texmf-dist/tex/generic/pgfplots/liststructure/pgfplotsdeque\n.code.tex)\n(/usr/share/texlive/texmf-dist/tex/generic/pgfplots/util/pgfplotsbinary.code.te\nx\n(/usr/share/texlive/texmf-dist/tex/generic/pgfplots/util/pgfplotsbinary.data.co\nde.tex))\n(/usr/share/texlive/texmf-dist/tex/generic/pgfplots/util/pgfplotsutil.verb.code\n.tex)\n(/usr/share/texlive/texmf-dist/tex/generic/pgfplots/libs/pgflibrarypgfplots.sur\nfshading.code.tex\n(/usr/share/texlive/texmf-dist/tex/generic/pgfplots/sys/pgflibrarypgfplots.surf\nshading.pgfsys-xetex.def\n(/usr/share/texlive/texmf-dist/tex/generic/pgfplots/sys/pgflibrarypgfplots.surf\nshading.pgfsys-dvipdfmx.def))))\n(/usr/share/texlive/texmf-dist/tex/generic/pgfplots/util/pgfplotscolormap.code.\ntex\n(/usr/share/texlive/texmf-dist/tex/generic/pgfplots/util/pgfplotscolor.code.tex\n))\n(/usr/share/texlive/texmf-dist/tex/generic/pgfplots/pgfplotsstackedplots.code.t\nex)\n(/usr/share/texlive/texmf-dist/tex/generic/pgfplots/pgfplotsplothandlers.code.t\nex\n(/usr/share/texlive/texmf-dist/tex/generic/pgfplots/pgfplotsmeshplothandler.cod\ne.tex\n(/usr/share/texlive/texmf-dist/tex/generic/pgfplots/pgfplotsmeshplotimage.code.\ntex)))\n(/usr/share/texlive/texmf-dist/tex/generic/pgfplots/pgfplots.scaling.code.tex)\n(/usr/share/texlive/texmf-dist/tex/generic/pgfplots/pgfplotscoordprocessing.cod\ne.tex)\n(/usr/share/texlive/texmf-dist/tex/generic/pgfplots/pgfplots.errorbars.code.tex\n) (/usr/share/texlive/texmf-dist/tex/generic/pgfplots/pgfplots.markers.code.tex\n) (/usr/share/texlive/texmf-dist/tex/generic/pgfplots/pgfplotsticks.code.tex)\n(/usr/share/texlive/texmf-dist/tex/generic/pgfplots/pgfplots.paths.code.tex)\n(/usr/share/texlive/texmf-dist/tex/generic/pgf/frontendlayer/tikz/libraries/tik\nzlibrarydecorations.code.tex\n(/usr/share/texlive/texmf-dist/tex/generic/pgf/modules/pgfmoduledecorations.cod\ne.tex))\n(/usr/share/texlive/texmf-dist/tex/generic/pgf/frontendlayer/tikz/libraries/tik\nzlibrarydecorations.pathmorphing.code.tex\n(/usr/share/texlive/texmf-dist/tex/generic/pgf/libraries/decorations/pgflibrary\ndecorations.pathmorphing.code.tex))\n(/usr/share/texlive/texmf-dist/tex/generic/pgf/frontendlayer/tikz/libraries/tik\nzlibrarydecorations.pathreplacing.code.tex\n(/usr/share/texlive/texmf-dist/tex/generic/pgf/libraries/decorations/pgflibrary\ndecorations.pathreplacing.code.tex))\n(/usr/share/texlive/texmf-dist/tex/generic/pgfplots/libs/tikzlibrarypgfplots.co\nntourlua.code.tex))\n(/usr/share/texlive/texmf-dist/tex/generic/pgf/frontendlayer/tikz/libraries/tik\nzlibraryplotmarks.code.tex\n(/usr/share/texlive/texmf-dist/tex/generic/pgf/libraries/pgflibraryplotmarks.co\nde.tex)))\n(/usr/share/texlive/texmf-dist/tex/generic/pgfplots/libs/tikzlibrarypgfplots.ex\nternal.code.tex\n(/usr/share/texlive/texmf-dist/tex/latex/pgf/frontendlayer/libraries/tikzlibrar\nyexternal.code.tex\n(/usr/share/texlive/texmf-dist/tex/generic/pgf/frontendlayer/tikz/libraries/tik\nzexternalshared.code.tex)))\n(/usr/share/texlive/texmf-dist/tex/latex/underscore/underscore.sty)\nNo file figure.aux.\n(/usr/share/texlive/texmf-dist/tex/latex/txfonts/omltxmi.fd)\n(/usr/share/texlive/texmf-dist/tex/latex/txfonts/omstxsy.fd)\n(/usr/share/texlive/texmf-dist/tex/latex/base/ts1cmr.fd)\n(/usr/share/texlive/texmf-dist/tex/latex/txfonts/omxtxex.fd)\n(/usr/share/texlive/texmf-dist/tex/latex/txfonts/utxexa.fd)\n(/usr/share/texlive/texmf-dist/tex/latex/hyperref/nameref.sty\n(/usr/share/texlive/texmf-dist/tex/latex/refcount/refcount.sty)\n(/usr/share/texlive/texmf-dist/tex/generic/gettitlestring/gettitlestring.sty))\n\nPackage hyperref Warning: Rerun to get /PageLabels entry.\n\n*geometry* driver: auto-detecting\n*geometry* detected driver: xetex\n\nPackage pgfplots Warning: running in backwards compatibility mode (unsuitable t\nick labels; missing features). Consider writing \\pgfplotsset{compat=1.18} into \nyour preamble.\n on input line 8.\n\n(./figure.pgf (/usr/share/texlive/texmf-dist/tex/latex/txfonts/ot1txr.fd)\n(/usr/share/texlive/texmf-dist/tex/latex/txfonts/utxmia.fd)\n(/usr/share/texlive/texmf-dist/tex/latex/txfonts/utxsya.fd)\n(/usr/share/texlive/texmf-dist/tex/latex/txfonts/utxsyb.fd)\n(/usr/share/texlive/texmf-dist/tex/latex/txfonts/utxsyc.fd)\nRunaway text?\npdf:code q 0.0 -0.25047 m 0.0659 -0.25047 0.12962 -0.22412 0.17686 -0\\ETC.\n! TeX capacity exceeded, sorry [main memory size=5000000].\n<argument> ...686 c 0.12962 0.22412 0.0659 0.25047\n                                                   0.0 0.25047 c -0.0659 0.2...\nl.31921 \\pgfsys@useobject{currentmarker}{}\n                                          %\nNo pages of output.\nTranscript written on figure.log.\n\nand the following error:\n"
     ]
    }
   ],
   "source": [
    "maskFINK = maskFINK_union\n",
    "\n",
    "fig, ax = plt.subplots(\n",
    "    figsize=fs.figsize(0.5), gridspec_kw={\"right\": 0.975, \"top\": 0.95, \"bottom\": 0.15}\n",
    ")\n",
    "\n",
    "# Plot FINK Sample\n",
    "r = [0, 1]\n",
    "b = 50\n",
    "\n",
    "all = data[maskFINK].merge(damit, on=\"sso_name\", how=\"left\")\n",
    "\n",
    "# Histogram\n",
    "ax.scatter(\n",
    "    all[\"SHG1G2_R\"],\n",
    "    all.R,\n",
    "    s=1,\n",
    "    marker=\".\",\n",
    "    # color=\"slategray\",\n",
    "    # density=True,\n",
    "    alpha=0.5,\n",
    "    # label=f\"DAMIT ({len(damit):,d})\",\n",
    ")\n",
    "\n",
    "\n",
    "fig.savefig(\n",
    "    os.path.join(\"..\", \"gfx\", \"oblateness-scatter.png\"), facecolor=\"white\", dpi=150\n",
    ")\n",
    "# fig.savefig(os.path.join(\"..\",\"gfx\",\"oblateness-scatter.pgf\"))"
   ]
  },
  {
   "cell_type": "markdown",
   "id": "ae57e93a",
   "metadata": {},
   "source": [
    "# R vs obliquity and range lambda"
   ]
  },
  {
   "cell_type": "code",
   "execution_count": 73,
   "id": "7b07ce09",
   "metadata": {},
   "outputs": [],
   "source": [
    "maskFINK = maskFINK_union\n",
    "\n",
    "fig, ax = plt.subplots(\n",
    "    1,\n",
    "    2,\n",
    "    figsize=fs.figsize(0.5),\n",
    "    gridspec_kw={\n",
    "        \"right\": 0.98,\n",
    "        \"top\": 0.95,\n",
    "        \"bottom\": 0.15,\n",
    "        \"left\": 0.1,\n",
    "        \"wspace\": 0.02,\n",
    "    },\n",
    "    sharey=True,\n",
    ")\n",
    "\n",
    "# Histogram ranges and bins\n",
    "r_R = [0.3, 1]\n",
    "r_Lambda = [0, 90]\n",
    "r_obliquity = [0, 90]\n",
    "\n",
    "b_R = 35\n",
    "b_Lambda = 36\n",
    "b_obliquity = 36\n",
    "\n",
    "vmin, vmax = 0, 200\n",
    "\n",
    "# --------------------------------------------------------------------------------\n",
    "# R vs Lambda\n",
    "Lambda = np.degrees(\n",
    "    np.arccos(data.loc[maskFINK, \"SHG1G2_min_cos_lambda\"])\n",
    "    - np.arccos(data.loc[maskFINK, \"SHG1G2_max_cos_lambda\"])\n",
    ")\n",
    "_,_,_, im0 = ax[0].hist2d(\n",
    "    Lambda,\n",
    "    data.loc[maskFINK, \"SHG1G2_R\"],\n",
    "    range=[r_Lambda, r_R],\n",
    "    bins=[b_Lambda, b_R],\n",
    "    cmap=\"Blues\",\n",
    "    norm=\"linear\",\n",
    "    rasterized=True,\n",
    "    vmin=vmin, vmax=vmax,\n",
    "    # label=f\"DAMIT ({len(damit):,d})\",\n",
    ")\n",
    "\n",
    "\n",
    "# --------------------------------------------------------------------------------\n",
    "# Color bar\n",
    "axinsr = inset_axes(\n",
    "    ax[0],\n",
    "    width=\"50%\",  # width: 50% of parent_bbox width\n",
    "    height=\"5%\",  # height: 5%\n",
    "    loc=\"lower right\",\n",
    ")\n",
    "cbar_r = fig.colorbar(im0, cax=axinsr, orientation=\"horizontal\")\n",
    "cbar_r.ax.set_xticks([0,50,100,150,200])\n",
    "cbar_r.ax.tick_params(top=True, labeltop=True, bottom=False, labelbottom=False)\n",
    "# cbar_r.ax.set_xticklabels([\"1\", \"10\", \"100\", \"1000\"], fontsize=\"small\")\n",
    "\n",
    "\n",
    "\n",
    "# --------------------------------------------------------------------------------\n",
    "# R vs obliquity\n",
    "obli = data.loc[maskFINK, \"SHG1G2_obliquity\"]\n",
    "obli[obli > 90] = 180 - obli[obli > 90]\n",
    "\n",
    "ax[1].hist2d(\n",
    "    obli,\n",
    "    data.loc[maskFINK, \"SHG1G2_R\"],\n",
    "    range=[r_obliquity, r_R],\n",
    "    bins=[b_obliquity, b_R],\n",
    "    cmap=\"Blues\",\n",
    "    norm=\"linear\",\n",
    "    rasterized=True,\n",
    "    # vmin=vmin, vmax=vmax,\n",
    "\n",
    ")\n",
    "\n",
    "\n",
    "# --------------------------------------------------------------------------------\n",
    "# Axes\n",
    "ax[0].set_ylabel(\"Oblateness R\")\n",
    "ax[0].set_xlabel(r\"$\\Delta \\Lambda$ ($^{\\circ}$)\")\n",
    "ax[1].set_xlabel(r\"Obliquity ($^{\\circ}$)\")\n",
    "\n",
    "ax[0].set_xticks(range(0, 91, 30))\n",
    "ax[1].set_xticks(range(0, 91, 30))\n",
    "\n",
    "\n",
    "# --------------------------------------------------------------------------------\n",
    "fig.savefig(\n",
    "    os.path.join(\"..\", \"gfx\", \"article\", \"oblateness-issues.png\"),\n",
    "    facecolor=\"white\",\n",
    "    dpi=150,\n",
    ")\n",
    "fig.savefig(os.path.join(\"..\", \"gfx\", \"article\", \"oblateness-issues.pgf\"))"
   ]
  },
  {
   "cell_type": "code",
   "execution_count": null,
   "id": "7da877b4",
   "metadata": {},
   "outputs": [],
   "source": []
  },
  {
   "cell_type": "code",
   "execution_count": null,
   "id": "760bac3e",
   "metadata": {},
   "outputs": [],
   "source": []
  },
  {
   "cell_type": "code",
   "execution_count": 74,
   "id": "942e20c3",
   "metadata": {},
   "outputs": [],
   "source": [
    "cols = [\n",
    "    \"sso_number\",\n",
    "    \"sso_name\",\n",
    "    \"sso_class\",\n",
    "    \"orbital_elements.semi_major_axis.value\",\n",
    "    \"orbital_elements.eccentricity.value\",\n",
    "    \"orbital_elements.inclination.value\",\n",
    "    \"orbital_elements.node_longitude.value\",\n",
    "    \"orbital_elements.perihelion_argument.value\",\n",
    "    \"orbital_elements.mean_anomaly.value\",\n",
    "    \"orbital_elements.mean_motion.value\",\n",
    "    \"family.family_number\",\n",
    "    \"family.family_name\",\n",
    "    \"proper_elements.proper_semi_major_axis.value\",\n",
    "    \"proper_elements.proper_eccentricity.value\",\n",
    "    \"proper_elements.proper_inclination.value\",\n",
    "    \"proper_elements.proper_sine_inclination.value\",\n",
    "    \"tisserand_parameters.Jupiter.value\",\n",
    "    \"albedo.value\",\n",
    "    \"absolute_magnitude.value\",\n",
    "    \"diameter.value\",\n",
    "    \"taxonomy.class\",\n",
    "    \"taxonomy.complex\",\n",
    "    \"taxonomy.waverange\",\n",
    "    \"taxonomy.scheme\",\n",
    "    \"taxonomy.technique\",\n",
    "    \"colors.g-r.color.value\",\n",
    "    \"colors.g-r.color.error.min\",\n",
    "    \"colors.g-r.color.error.max\",\n",
    "    \"colors.g-r.facility\",\n",
    "    \"colors.g-r.observer\",\n",
    "    \"colors.g-r.epoch\",\n",
    "    \"colors.g-r.delta_time\",\n",
    "    \"colors.g-r.id_filter_1\",\n",
    "    \"colors.g-r.id_filter_2\",\n",
    "    \"colors.g-r.phot_sys\",\n",
    "    \"colors.g-r.technique\",\n",
    "    \"spins.1.obliquity\",\n",
    "    \"spins.1.RA0.value\",\n",
    "    \"spins.1.DEC0.value\",\n",
    "    \"spins.1.RA0.error.max\",\n",
    "    \"spins.1.DEC0.error.max\",\n",
    "    \"spins.1.long.value\",\n",
    "    \"spins.1.lat.value\",\n",
    "    \"spins.1.technique\",\n",
    "    \"spins.2.obliquity\",\n",
    "    \"spins.2.RA0.value\",\n",
    "    \"spins.2.DEC0.value\",\n",
    "    \"spins.2.RA0.error.max\",\n",
    "    \"spins.2.DEC0.error.max\",\n",
    "    \"spins.2.long.value\",\n",
    "    \"spins.2.lat.value\",\n",
    "    \"spins.2.technique\",\n",
    "    \"spins.3.obliquity\",\n",
    "    \"spins.3.RA0.value\",\n",
    "    \"spins.3.DEC0.value\",\n",
    "    \"spins.3.RA0.error.max\",\n",
    "    \"spins.3.DEC0.error.max\",\n",
    "    \"spins.3.long.value\",\n",
    "    \"spins.3.lat.value\",\n",
    "    \"spins.3.technique\",\n",
    "    \"spins.4.obliquity\",\n",
    "    \"spins.4.RA0.value\",\n",
    "    \"spins.4.DEC0.value\",\n",
    "    \"spins.4.RA0.error.max\",\n",
    "    \"spins.4.DEC0.error.max\",\n",
    "    \"spins.4.long.value\",\n",
    "    \"spins.4.lat.value\",\n",
    "    \"spins.4.technique\",\n",
    "]\n",
    "bft = pd.read_parquet(bft_file, columns=cols)"
   ]
  },
  {
   "cell_type": "code",
   "execution_count": 75,
   "id": "59fd449e",
   "metadata": {},
   "outputs": [],
   "source": [
    "all_bft = all.merge(bft, left_on=\"sso_name\", right_on=\"sso_name\", how=\"left\")"
   ]
  },
  {
   "cell_type": "code",
   "execution_count": 76,
   "id": "ab2a5473",
   "metadata": {},
   "outputs": [
    {
     "name": "stderr",
     "output_type": "stream",
     "text": [
      "/tmp/ipykernel_642503/1227003582.py:1: RuntimeWarning: More than 20 figures have been opened. Figures created through the pyplot interface (`matplotlib.pyplot.figure`) are retained until explicitly closed and may consume too much memory. (To control this warning, see the rcParam `figure.max_open_warning`). Consider using `matplotlib.pyplot.close()`.\n",
      "  fig, ax = plt.subplots()\n"
     ]
    }
   ],
   "source": [
    "fig, ax = plt.subplots()\n",
    "\n",
    "vmin=0\n",
    "vmax=500\n",
    "\n",
    "r_H = [12,18]\n",
    "b_H = 12\n",
    "\n",
    "ax.hist2d( all_bft[\"SHG1G2_R\"], all_bft[\"absolute_magnitude.value\"],  rasterized=True,\n",
    "          range=[r_R, r_H], bins=[b_R, b_H], cmap=\"Blues\", norm=\"linear\", vmin=vmin, vmax=vmax,)\n",
    "\n",
    "\n",
    "# --------------------------------------------------------------------------------\n",
    "fig.savefig(\n",
    "    os.path.join(\"..\", \"gfx\", \"test-R.png\"),\n",
    "    facecolor=\"white\",\n",
    "    dpi=180,\n",
    ")"
   ]
  },
  {
   "cell_type": "code",
   "execution_count": null,
   "id": "85bc7610",
   "metadata": {},
   "outputs": [],
   "source": []
  },
  {
   "cell_type": "code",
   "execution_count": null,
   "id": "cb8b09f5",
   "metadata": {},
   "outputs": [],
   "source": []
  }
 ],
 "metadata": {
  "kernelspec": {
   "display_name": "Python 3 (ipykernel)",
   "language": "python",
   "name": "python3"
  },
  "language_info": {
   "codemirror_mode": {
    "name": "ipython",
    "version": 3
   },
   "file_extension": ".py",
   "mimetype": "text/x-python",
   "name": "python",
   "nbconvert_exporter": "python",
   "pygments_lexer": "ipython3",
   "version": "3.9.12"
  }
 },
 "nbformat": 4,
 "nbformat_minor": 5
}
