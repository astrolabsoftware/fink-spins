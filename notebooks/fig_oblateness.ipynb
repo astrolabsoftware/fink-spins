{
 "cells": [
  {
   "cell_type": "code",
   "execution_count": 1,
   "id": "c67cc7b8-e6e2-44d4-9be9-ddafd36bca34",
   "metadata": {},
   "outputs": [],
   "source": [
    "import os\n",
    "import sys\n",
    "import numpy as np\n",
    "import pandas as pd\n",
    "\n",
    "import rocks\n",
    "\n",
    "rocks.set_log_level(\"error\")\n",
    "\n",
    "import matplotlib.pyplot as plt\n",
    "from mpl_toolkits.axes_grid1.inset_locator import inset_axes"
   ]
  },
  {
   "cell_type": "code",
   "execution_count": 2,
   "id": "30842b91",
   "metadata": {},
   "outputs": [],
   "source": [
    "import figure_setup as fs"
   ]
  },
  {
   "cell_type": "markdown",
   "id": "6198a3d1-286c-4c4b-806e-5c085aabc386",
   "metadata": {},
   "source": [
    "# Get ZTF fit"
   ]
  },
  {
   "cell_type": "code",
   "execution_count": 3,
   "id": "b76b0d15-20ce-4b38-907d-6ce100dfd15f",
   "metadata": {},
   "outputs": [],
   "source": [
    "# Local Configuration\n",
    "data_fink = \"../\"\n",
    "bft_file = os.path.join(data_fink, \"data\", \"ssoBFT-latest.parquet\")\n",
    "damit_file = os.path.join(data_fink, \"data\", \"damit_abc.csv\")\n"
   ]
  },
  {
   "cell_type": "code",
   "execution_count": 4,
   "id": "ca033440-e54f-4997-a212-e419f377ed07",
   "metadata": {},
   "outputs": [],
   "source": [
    "# Threshold for selection (of non-zero values)\n",
    "thres = 1e-3\n",
    "\n",
    "# Minimum phase angle to consider\n",
    "min_phase = 3"
   ]
  },
  {
   "cell_type": "code",
   "execution_count": 5,
   "id": "5ea808c9-ac69-4b19-9c98-8e41113a8fd6",
   "metadata": {},
   "outputs": [],
   "source": [
    "# ZTF filters 1: g, 2: r\n",
    "filters = {\"1\": \"g\", \"2\": \"r\"}\n",
    "\n",
    "fink_colors = [\"#15284F\", \"#F5622E\"]\n",
    "\n",
    "color_fink = \"#15284F\"\n",
    "\n"
   ]
  },
  {
   "cell_type": "code",
   "execution_count": 6,
   "id": "ced7ade3",
   "metadata": {},
   "outputs": [],
   "source": [
    "damit = pd.read_csv(damit_file)\n",
    "# damit.head(5)"
   ]
  },
  {
   "cell_type": "code",
   "execution_count": 7,
   "id": "6b4db0c1-36bc-4db9-b2d2-751e97ba0d35",
   "metadata": {},
   "outputs": [],
   "source": [
    "data = pd.read_parquet(os.path.join(data_fink, \"data\", \"ztf\", \"sso_ZTF.parquet\"))"
   ]
  },
  {
   "cell_type": "code",
   "execution_count": 8,
   "id": "1ab224d6",
   "metadata": {},
   "outputs": [
    {
     "data": {
      "text/plain": [
       "Index(['ssnamenr', 'HG_chi2red', 'HG_status', 'HG_fit', 'HG_rms', 'HG_rms_g',\n",
       "       'HG_rms_r', 'HG_median_error_phot', 'HG_median_error_phot_1',\n",
       "       'HG_median_error_phot_2', 'HG_H_g', 'HG_dH_g', 'HG_G_g', 'HG_dG_g',\n",
       "       'HG_H_r', 'HG_dH_r', 'HG_G_r', 'HG_dG_r', 'HG_flag', 'HG1G2_chi2red',\n",
       "       'HG1G2_status', 'HG1G2_fit', 'HG1G2_rms', 'HG1G2_rms_g', 'HG1G2_rms_r',\n",
       "       'HG1G2_median_error_phot', 'HG1G2_median_error_phot_1',\n",
       "       'HG1G2_median_error_phot_2', 'HG1G2_H_g', 'HG1G2_dH_g', 'HG1G2_G1_g',\n",
       "       'HG1G2_dG1_g', 'HG1G2_G2_g', 'HG1G2_dG2_g', 'HG1G2_H_r', 'HG1G2_dH_r',\n",
       "       'HG1G2_G1_r', 'HG1G2_dG1_r', 'HG1G2_G2_r', 'HG1G2_dG2_r', 'HG1G2_flag',\n",
       "       'SHG1G2_chi2red', 'SHG1G2_min_cos_lambda', 'SHG1G2_mean_cos_lambda',\n",
       "       'SHG1G2_max_cos_lambda', 'SHG1G2_status', 'SHG1G2_fit', 'SHG1G2_rms',\n",
       "       'SHG1G2_rms_g', 'SHG1G2_rms_r', 'SHG1G2_median_error_phot',\n",
       "       'SHG1G2_median_error_phot_1', 'SHG1G2_median_error_phot_2', 'n_obs',\n",
       "       'n_obs_g', 'n_obs_r', 'min_phase', 'min_phase_g', 'min_phase_r',\n",
       "       'max_phase', 'max_phase_g', 'max_phase_r', 'SHG1G2_R', 'SHG1G2_dR',\n",
       "       'SHG1G2_alpha0', 'SHG1G2_dalpha0', 'SHG1G2_delta0', 'SHG1G2_ddelta0',\n",
       "       'SHG1G2_H_g', 'SHG1G2_dH_g', 'SHG1G2_G1_g', 'SHG1G2_dG1_g',\n",
       "       'SHG1G2_G2_g', 'SHG1G2_dG2_g', 'SHG1G2_H_r', 'SHG1G2_dH_r',\n",
       "       'SHG1G2_G1_r', 'SHG1G2_dG1_r', 'SHG1G2_G2_r', 'SHG1G2_dG2_r',\n",
       "       'mean_astrometry', 'std_astrometry', 'skew_astrometry',\n",
       "       'kurt_astrometry', 'n_days', 'n_days_g', 'n_days_r', 'last_jd', 'name',\n",
       "       'number', 'SHG1G2_obliquity', 'SHG1G2_alpha0_alt', 'SHG1G2_delta0_alt',\n",
       "       'version', 'SHG1G2_flag'],\n",
       "      dtype='object')"
      ]
     },
     "execution_count": 8,
     "metadata": {},
     "output_type": "execute_result"
    }
   ],
   "source": [
    "data.columns"
   ]
  },
  {
   "cell_type": "code",
   "execution_count": 9,
   "id": "7506e32d-fccc-4007-b27a-6bda182f0989",
   "metadata": {},
   "outputs": [
    {
     "name": "stdout",
     "output_type": "stream",
     "text": [
      "above 90: 0 \n",
      "below 90: 0 \n"
     ]
    }
   ],
   "source": [
    "data[\"SHG1G2_dSpin\"] = np.sqrt(\n",
    "    (data[\"SHG1G2_dalpha0\"] * np.cos(np.radians(data[\"SHG1G2_delta0\"]))) ** 2\n",
    "    + data[\"SHG1G2_ddelta0\"] ** 2\n",
    ")\n",
    "\n",
    "\n",
    "# # Remove solutions above 90 deg of latitude\n",
    "cond = data.SHG1G2_delta0 > 90\n",
    "data.loc[cond, \"SHG1G2_delta0\"] = 90\n",
    "print(f\"above 90: {len(data[cond])} \")\n",
    "\n",
    "cond = data.SHG1G2_delta0 < -90\n",
    "data.loc[cond, \"SHG1G2_delta0\"] = -90\n",
    "print(f\"below 90: {len(data[cond])} \")"
   ]
  },
  {
   "cell_type": "code",
   "execution_count": 10,
   "id": "9a2e63c8-6e42-41aa-86bf-6c3ded183f6b",
   "metadata": {},
   "outputs": [
    {
     "name": "stdout",
     "output_type": "stream",
     "text": [
      " All data       : 122675  (100.00%)\n",
      "\n",
      "  Mask HG g      : 122371  ( 99.75%)\n",
      "  Mask HG r      : 122373  ( 99.75%)\n",
      "  Mask HG g+r    : 120010  ( 97.83%)\n",
      "\n",
      "  Mask HG1G2 g   :  63922  ( 52.11%)\n",
      "  Mask HG1G2 r   :  68956  ( 56.21%)\n",
      "  Mask HG1G2 g+r :  47175  ( 38.46%)\n",
      "\n",
      "  Mask SHG1G2 g  :  79912  ( 65.14%)\n",
      "  Mask SHG1G2 r  :  84779  ( 69.11%)\n",
      "  Mask SHG1G2 g+r:  64209  ( 52.34%)\n",
      "\n",
      "  Mask Oblateness:  91745  ( 74.79%)\n",
      "  Mask Spin      : 118811  ( 96.85%)\n",
      "\n",
      "  Mask FINK      :  50163  ( 40.89%)\n",
      "\n",
      "  Mask (both)    :  40935  ( 33.37%)\n",
      "  Mask phase 2  :  62923  ( 51.29%)\n",
      "  Mask phase 3  :  86161  ( 70.24%)\n",
      "  Mask phase 4  : 100699  ( 82.09%)\n",
      "  Mask phase 5  : 109011  ( 88.86%)\n"
     ]
    }
   ],
   "source": [
    "thres = 1e-3\n",
    "\n",
    "# HG Parameeter\n",
    "mask_HG_g = (data.HG_H_g.notna()) & (data.HG_G_g.notna())\n",
    "mask_HG_r = (data.HG_H_r.notna()) & (data.HG_G_r.notna())\n",
    "mask_HG_fit = (data.HG_fit == 0) & (data.HG_status >= 2)\n",
    "mask_HG = mask_HG_g & mask_HG_r & mask_HG_fit\n",
    "\n",
    "# HG1G2 parameters\n",
    "mask_HG1G2_g = (\n",
    "    (data.HG1G2_G1_g > thres)\n",
    "    & (data.HG1G2_G2_g > thres)\n",
    "    & ((1 - data.HG1G2_G1_g - data.HG1G2_G2_g) > thres)\n",
    ")\n",
    "mask_HG1G2_r = (\n",
    "    (data.HG1G2_G1_r > thres)\n",
    "    & (data.HG1G2_G2_r > thres)\n",
    "    & ((1 - data.HG1G2_G1_r - data.HG1G2_G2_r) > thres)\n",
    ")\n",
    "mask_HG1G2_fit = (data.HG1G2_fit == 0) & (data.HG1G2_status >= 2)\n",
    "mask_HG1G2 = mask_HG1G2_fit & mask_HG1G2_g & mask_HG1G2_r\n",
    "\n",
    "# SHG1G2 ZTF\n",
    "mask_SHG1G2_g = (\n",
    "    (data.SHG1G2_G1_g > thres)\n",
    "    & (data.SHG1G2_G2_g > thres)\n",
    "    & ((1 - data.SHG1G2_G1_g - data.SHG1G2_G2_g) > thres)\n",
    ")\n",
    "mask_SHG1G2_r = (\n",
    "    (data.SHG1G2_G1_r > thres)\n",
    "    & (data.SHG1G2_G2_r > thres)\n",
    "    & ((1 - data.SHG1G2_G1_r - data.SHG1G2_G2_r) > thres)\n",
    ")\n",
    "mask_SHG1G2_ZTF = mask_SHG1G2_g & mask_SHG1G2_r\n",
    "mask_SHG1G2_fit = (data.SHG1G2_fit == 0) & (data.SHG1G2_status >= 2)\n",
    "mask_SHG1G2 = mask_SHG1G2_fit & mask_SHG1G2_ZTF\n",
    "\n",
    "# Oblateness\n",
    "mask_R = (data.SHG1G2_R>0.3)\n",
    "\n",
    "# Spin solution suspicous: RA=={0,180,360}, DEC==0\n",
    "maskSpin = (\n",
    "    (data.SHG1G2_alpha0 > thres)\n",
    "    & (np.abs(360 - data.SHG1G2_alpha0) > thres)\n",
    "    & (np.abs(data.SHG1G2_alpha0 - 180) > thres)\n",
    "    & (np.abs(data.SHG1G2_delta0) > thres)\n",
    ")\n",
    "\n",
    "# FINK Sample\n",
    "maskFINK = mask_SHG1G2 & mask_R & maskSpin\n",
    "\n",
    "# Phase coverage\n",
    "maskPhase = data.min_phase < 2.5\n",
    "\n",
    "# Global mask\n",
    "mask = mask_HG1G2 & mask_SHG1G2\n",
    "\n",
    "\n",
    "print(f\" All data       : {len(data):6d}  ({100:>6.2f}%)\")\n",
    "print()\n",
    "print(\n",
    "    f\"  Mask HG g      : {len(data[mask_HG_g]):6d}  ({100.*len(data[mask_HG_g])/len(data):>6.2f}%)\"\n",
    ")\n",
    "print(\n",
    "    f\"  Mask HG r      : {len(data[mask_HG_r]):6d}  ({100.*len(data[mask_HG_r])/len(data):>6.2f}%)\"\n",
    ")\n",
    "print(\n",
    "    f\"  Mask HG g+r    : {len(data[mask_HG]):6d}  ({100.*len(data[mask_HG])/len(data):>6.2f}%)\"\n",
    ")\n",
    "print()\n",
    "print(\n",
    "    f\"  Mask HG1G2 g   : {len(data[mask_HG1G2_g]):6d}  ({100.*len(data[mask_HG1G2_g])/len(data):>6.2f}%)\"\n",
    ")\n",
    "print(\n",
    "    f\"  Mask HG1G2 r   : {len(data[mask_HG1G2_r]):6d}  ({100.*len(data[mask_HG1G2_r])/len(data):>6.2f}%)\"\n",
    ")\n",
    "print(\n",
    "    f\"  Mask HG1G2 g+r : {len(data[mask_HG1G2]):6d}  ({100.*len(data[mask_HG1G2])/len(data):>6.2f}%)\"\n",
    ")\n",
    "print()\n",
    "print(\n",
    "    f\"  Mask SHG1G2 g  : {len(data[mask_SHG1G2_g]):6d}  ({100.*len(data[mask_SHG1G2_g])/len(data):>6.2f}%)\"\n",
    ")\n",
    "print(\n",
    "    f\"  Mask SHG1G2 r  : {len(data[mask_SHG1G2_r]):6d}  ({100.*len(data[mask_SHG1G2_r])/len(data):>6.2f}%)\"\n",
    ")\n",
    "print(\n",
    "    f\"  Mask SHG1G2 g+r: {len(data[mask_SHG1G2]):6d}  ({100.*len(data[mask_SHG1G2])/len(data):>6.2f}%)\"\n",
    ")\n",
    "print()\n",
    "print(\n",
    "    f\"  Mask Oblateness: {len(data[mask_R]):6d}  ({100.*len(data[mask_R])/len(data):>6.2f}%)\"\n",
    ")\n",
    "print(\n",
    "    f\"  Mask Spin      : {len(data[maskSpin]):6d}  ({100.*len(data[maskSpin])/len(data):>6.2f}%)\"\n",
    ")\n",
    "print()\n",
    "print(\n",
    "    f\"  Mask FINK      : {len(data[maskFINK]):6d}  ({100.*len(data[maskFINK])/len(data):>6.2f}%)\"\n",
    ")\n",
    "print()\n",
    "print(\n",
    "    f\"  Mask (both)    : {len(data[mask]):6d}  ({100.*len(data[mask])/len(data):>6.2f}%)\"\n",
    ")\n",
    "for minphase in [2, 3, 4, 5]:\n",
    "    maskPhase = data.min_phase < minphase\n",
    "    print(\n",
    "        f\"  Mask phase {minphase}  : {len(data[maskPhase]):6d}  ({100.*len(data[maskPhase])/len(data):>6.2f}%)\"\n",
    "    )\n",
    "\n",
    "\n",
    "# len(data), len(data[mask]), len(data[mask_HG1G2]), len(data[mask_HG1G2sp]), len(data[mask_SHG1G2_g]), len(data[mask_SHG1G2_r]), len(data[mask_SHG1G2])"
   ]
  },
  {
   "cell_type": "markdown",
   "id": "46518399-41ee-49f2-a94a-04776d3053ca",
   "metadata": {},
   "source": [
    "# Histogram of oblateness R"
   ]
  },
  {
   "cell_type": "code",
   "execution_count": 11,
   "id": "e4d471b8",
   "metadata": {},
   "outputs": [],
   "source": [
    "# --------------------------------------------------------------------------------\n",
    "fig, ax = plt.subplots(\n",
    "    figsize=fs.figsize(0.5),\n",
    "    gridspec_kw={\n",
    "        \"hspace\": 0.02,\n",
    "        \"wspace\": 0.02,\n",
    "        \"top\": 0.98,\n",
    "        \"bottom\": 0.13,\n",
    "        \"left\": 0.10,\n",
    "        \"right\": 0.98,\n",
    "    },\n",
    ")\n",
    "\n",
    "# --------------------------------------------------------------------------------\n",
    "# FINK R\n",
    "r = [0.3, 1]\n",
    "b = 50\n",
    "\n",
    "\n",
    "ax.hist(\n",
    "    damit[\"R\"],\n",
    "    range=r,\n",
    "    bins=b,\n",
    "    density=True,\n",
    "    label=f\"DAMIT ({len(damit):,d})\",\n",
    "    color=\"slategray\",\n",
    "    alpha=0.8,\n",
    "    rasterized=True,\n",
    ")\n",
    "\n",
    "\n",
    "ax.hist(\n",
    "    data.loc[maskFINK, \"SHG1G2_R\"],\n",
    "    range=r,\n",
    "    bins=b,\n",
    "    density=True,\n",
    "    label=f\"FINK ({len(data[maskFINK]):,d})\",\n",
    "    color=color_fink,\n",
    "    alpha=0.8,\n",
    "    rasterized=True,\n",
    ")\n",
    "\n",
    "\n",
    "# --------------------------------------------------------------------------------\n",
    "# Axes\n",
    "ax.set_xlabel(\"Oblateness R\")\n",
    "ax.set_ylabel(\"Density count\")\n",
    "\n",
    "ax.set_ylim(0, 5)\n",
    "ax.legend(loc=\"upper left\")\n",
    "\n",
    "# --------------------------------------------------------------------------------\n",
    "fig.savefig(\n",
    "    os.path.join(data_fink, \"gfx\", \"article\", \"distrib_R.png\"),\n",
    "    facecolor=\"white\",\n",
    ")\n",
    "\n",
    "fig.savefig(\n",
    "    os.path.join(data_fink, \"gfx\", \"article\", \"distrib_R.pgf\"),\n",
    ")\n",
    "plt.close()"
   ]
  },
  {
   "cell_type": "code",
   "execution_count": 12,
   "id": "cb5c8ca7",
   "metadata": {},
   "outputs": [
    {
     "name": "stdout",
     "output_type": "stream",
     "text": [
      "\\newcommand{\\damitSSO}{10,743\\xspace}\n",
      "\\newcommand{\\damitModel}{16,317\\xspace}\n"
     ]
    }
   ],
   "source": [
    "print( f\"\\\\newcommand{{\\damitSSO}}{{{damit['asteroid_id'].nunique():,d}\\\\xspace}}\")\n",
    "print( f\"\\\\newcommand{{\\damitModel}}{{{len(damit):,d}\\\\xspace}}\")\n"
   ]
  },
  {
   "cell_type": "markdown",
   "id": "33836b7d",
   "metadata": {},
   "source": [
    "below is exploratory"
   ]
  },
  {
   "cell_type": "markdown",
   "id": "576e8adb",
   "metadata": {},
   "source": [
    "# Check RMS of SSOs with shape models"
   ]
  },
  {
   "cell_type": "code",
   "execution_count": 13,
   "id": "d186116a",
   "metadata": {},
   "outputs": [
    {
     "data": {
      "text/html": [
       "<pre style=\"white-space:pre;overflow-x:auto;line-height:normal;font-family:Menlo,'DejaVu Sans Mono',consolas,'Courier New',monospace\"><span style=\"color: #800000; text-decoration-color: #800000; font-weight: bold\">ERROR   </span> <span style=\"font-weight: bold\">[</span>rocks<span style=\"font-weight: bold\">]</span> Could not identify <span style=\"color: #008000; text-decoration-color: #008000\">'2020 JQ00'</span>.                                                                   \n",
       "</pre>\n"
      ],
      "text/plain": [
       "\u001b[1;31mERROR   \u001b[0m \u001b[1m[\u001b[0mrocks\u001b[1m]\u001b[0m Could not identify \u001b[32m'2020 JQ00'\u001b[0m.                                                                   \n"
      ]
     },
     "metadata": {},
     "output_type": "display_data"
    },
    {
     "data": {
      "text/html": [
       "<pre style=\"white-space:pre;overflow-x:auto;line-height:normal;font-family:Menlo,'DejaVu Sans Mono',consolas,'Courier New',monospace\"><span style=\"color: #800000; text-decoration-color: #800000; font-weight: bold\">ERROR   </span> <span style=\"font-weight: bold\">[</span>rocks<span style=\"font-weight: bold\">]</span> Could not identify <span style=\"color: #008000; text-decoration-color: #008000\">'2020 NA00'</span>.                                                                   \n",
       "</pre>\n"
      ],
      "text/plain": [
       "\u001b[1;31mERROR   \u001b[0m \u001b[1m[\u001b[0mrocks\u001b[1m]\u001b[0m Could not identify \u001b[32m'2020 NA00'\u001b[0m.                                                                   \n"
      ]
     },
     "metadata": {},
     "output_type": "display_data"
    },
    {
     "data": {
      "text/html": [
       "<pre style=\"white-space:pre;overflow-x:auto;line-height:normal;font-family:Menlo,'DejaVu Sans Mono',consolas,'Courier New',monospace\"><span style=\"color: #800000; text-decoration-color: #800000; font-weight: bold\">ERROR   </span> <span style=\"font-weight: bold\">[</span>rocks<span style=\"font-weight: bold\">]</span> Could not identify <span style=\"color: #008000; text-decoration-color: #008000\">'1999 UK05'</span>.                                                                   \n",
       "</pre>\n"
      ],
      "text/plain": [
       "\u001b[1;31mERROR   \u001b[0m \u001b[1m[\u001b[0mrocks\u001b[1m]\u001b[0m Could not identify \u001b[32m'1999 UK05'\u001b[0m.                                                                   \n"
      ]
     },
     "metadata": {},
     "output_type": "display_data"
    },
    {
     "data": {
      "text/html": [
       "<pre style=\"white-space:pre;overflow-x:auto;line-height:normal;font-family:Menlo,'DejaVu Sans Mono',consolas,'Courier New',monospace\"><span style=\"color: #800000; text-decoration-color: #800000; font-weight: bold\">ERROR   </span> <span style=\"font-weight: bold\">[</span>rocks<span style=\"font-weight: bold\">]</span> Could not identify <span style=\"color: #008000; text-decoration-color: #008000\">'2016 XE01'</span>.                                                                   \n",
       "</pre>\n"
      ],
      "text/plain": [
       "\u001b[1;31mERROR   \u001b[0m \u001b[1m[\u001b[0mrocks\u001b[1m]\u001b[0m Could not identify \u001b[32m'2016 XE01'\u001b[0m.                                                                   \n"
      ]
     },
     "metadata": {},
     "output_type": "display_data"
    },
    {
     "data": {
      "text/html": [
       "<pre style=\"white-space:pre;overflow-x:auto;line-height:normal;font-family:Menlo,'DejaVu Sans Mono',consolas,'Courier New',monospace\"><span style=\"color: #800000; text-decoration-color: #800000; font-weight: bold\">ERROR   </span> <span style=\"font-weight: bold\">[</span>rocks<span style=\"font-weight: bold\">]</span> Could not identify <span style=\"color: #008000; text-decoration-color: #008000\">'2007 UT07'</span>.                                                                   \n",
       "</pre>\n"
      ],
      "text/plain": [
       "\u001b[1;31mERROR   \u001b[0m \u001b[1m[\u001b[0mrocks\u001b[1m]\u001b[0m Could not identify \u001b[32m'2007 UT07'\u001b[0m.                                                                   \n"
      ]
     },
     "metadata": {},
     "output_type": "display_data"
    },
    {
     "data": {
      "text/html": [
       "<pre style=\"white-space:pre;overflow-x:auto;line-height:normal;font-family:Menlo,'DejaVu Sans Mono',consolas,'Courier New',monospace\"><span style=\"color: #800000; text-decoration-color: #800000; font-weight: bold\">ERROR   </span> <span style=\"font-weight: bold\">[</span>rocks<span style=\"font-weight: bold\">]</span> Could not identify <span style=\"color: #008000; text-decoration-color: #008000\">'2021 NX07'</span>.                                                                   \n",
       "</pre>\n"
      ],
      "text/plain": [
       "\u001b[1;31mERROR   \u001b[0m \u001b[1m[\u001b[0mrocks\u001b[1m]\u001b[0m Could not identify \u001b[32m'2021 NX07'\u001b[0m.                                                                   \n"
      ]
     },
     "metadata": {},
     "output_type": "display_data"
    },
    {
     "data": {
      "text/html": [
       "<pre style=\"white-space:pre;overflow-x:auto;line-height:normal;font-family:Menlo,'DejaVu Sans Mono',consolas,'Courier New',monospace\"><span style=\"color: #800000; text-decoration-color: #800000; font-weight: bold\">ERROR   </span> <span style=\"font-weight: bold\">[</span>rocks<span style=\"font-weight: bold\">]</span> Could not identify <span style=\"color: #008000; text-decoration-color: #008000\">'2003 RK07'</span>.                                                                   \n",
       "</pre>\n"
      ],
      "text/plain": [
       "\u001b[1;31mERROR   \u001b[0m \u001b[1m[\u001b[0mrocks\u001b[1m]\u001b[0m Could not identify \u001b[32m'2003 RK07'\u001b[0m.                                                                   \n"
      ]
     },
     "metadata": {},
     "output_type": "display_data"
    },
    {
     "data": {
      "text/html": [
       "<pre style=\"white-space:pre;overflow-x:auto;line-height:normal;font-family:Menlo,'DejaVu Sans Mono',consolas,'Courier New',monospace\"><span style=\"color: #800000; text-decoration-color: #800000; font-weight: bold\">ERROR   </span> <span style=\"font-weight: bold\">[</span>rocks<span style=\"font-weight: bold\">]</span> Could not identify <span style=\"color: #008000; text-decoration-color: #008000\">'2016 VM04'</span>.                                                                   \n",
       "</pre>\n"
      ],
      "text/plain": [
       "\u001b[1;31mERROR   \u001b[0m \u001b[1m[\u001b[0mrocks\u001b[1m]\u001b[0m Could not identify \u001b[32m'2016 VM04'\u001b[0m.                                                                   \n"
      ]
     },
     "metadata": {},
     "output_type": "display_data"
    },
    {
     "data": {
      "text/html": [
       "<pre style=\"white-space:pre;overflow-x:auto;line-height:normal;font-family:Menlo,'DejaVu Sans Mono',consolas,'Courier New',monospace\"><span style=\"color: #800000; text-decoration-color: #800000; font-weight: bold\">ERROR   </span> <span style=\"font-weight: bold\">[</span>rocks<span style=\"font-weight: bold\">]</span> Could not identify <span style=\"color: #008000; text-decoration-color: #008000\">'2020 FW03'</span>.                                                                   \n",
       "</pre>\n"
      ],
      "text/plain": [
       "\u001b[1;31mERROR   \u001b[0m \u001b[1m[\u001b[0mrocks\u001b[1m]\u001b[0m Could not identify \u001b[32m'2020 FW03'\u001b[0m.                                                                   \n"
      ]
     },
     "metadata": {},
     "output_type": "display_data"
    },
    {
     "data": {
      "text/html": [
       "<pre style=\"white-space:pre;overflow-x:auto;line-height:normal;font-family:Menlo,'DejaVu Sans Mono',consolas,'Courier New',monospace\"><span style=\"color: #800000; text-decoration-color: #800000; font-weight: bold\">ERROR   </span> <span style=\"font-weight: bold\">[</span>rocks<span style=\"font-weight: bold\">]</span> Could not identify <span style=\"color: #008000; text-decoration-color: #008000\">'2007 WJ07'</span>.                                                                   \n",
       "</pre>\n"
      ],
      "text/plain": [
       "\u001b[1;31mERROR   \u001b[0m \u001b[1m[\u001b[0mrocks\u001b[1m]\u001b[0m Could not identify \u001b[32m'2007 WJ07'\u001b[0m.                                                                   \n"
      ]
     },
     "metadata": {},
     "output_type": "display_data"
    },
    {
     "data": {
      "text/html": [
       "<pre style=\"white-space:pre;overflow-x:auto;line-height:normal;font-family:Menlo,'DejaVu Sans Mono',consolas,'Courier New',monospace\"><span style=\"color: #800000; text-decoration-color: #800000; font-weight: bold\">ERROR   </span> <span style=\"font-weight: bold\">[</span>rocks<span style=\"font-weight: bold\">]</span> Could not identify <span style=\"color: #008000; text-decoration-color: #008000\">'2016 OF02'</span>.                                                                   \n",
       "</pre>\n"
      ],
      "text/plain": [
       "\u001b[1;31mERROR   \u001b[0m \u001b[1m[\u001b[0mrocks\u001b[1m]\u001b[0m Could not identify \u001b[32m'2016 OF02'\u001b[0m.                                                                   \n"
      ]
     },
     "metadata": {},
     "output_type": "display_data"
    },
    {
     "data": {
      "text/html": [
       "<pre style=\"white-space:pre;overflow-x:auto;line-height:normal;font-family:Menlo,'DejaVu Sans Mono',consolas,'Courier New',monospace\"><span style=\"color: #800000; text-decoration-color: #800000; font-weight: bold\">ERROR   </span> <span style=\"font-weight: bold\">[</span>rocks<span style=\"font-weight: bold\">]</span> Could not identify <span style=\"color: #008000; text-decoration-color: #008000\">'2004 XM00'</span>.                                                                   \n",
       "</pre>\n"
      ],
      "text/plain": [
       "\u001b[1;31mERROR   \u001b[0m \u001b[1m[\u001b[0mrocks\u001b[1m]\u001b[0m Could not identify \u001b[32m'2004 XM00'\u001b[0m.                                                                   \n"
      ]
     },
     "metadata": {},
     "output_type": "display_data"
    },
    {
     "data": {
      "text/html": [
       "<pre style=\"white-space:pre;overflow-x:auto;line-height:normal;font-family:Menlo,'DejaVu Sans Mono',consolas,'Courier New',monospace\"><span style=\"color: #800000; text-decoration-color: #800000; font-weight: bold\">ERROR   </span> <span style=\"font-weight: bold\">[</span>rocks<span style=\"font-weight: bold\">]</span> Could not identify <span style=\"color: #008000; text-decoration-color: #008000\">'2007 OR01'</span>.                                                                   \n",
       "</pre>\n"
      ],
      "text/plain": [
       "\u001b[1;31mERROR   \u001b[0m \u001b[1m[\u001b[0mrocks\u001b[1m]\u001b[0m Could not identify \u001b[32m'2007 OR01'\u001b[0m.                                                                   \n"
      ]
     },
     "metadata": {},
     "output_type": "display_data"
    },
    {
     "data": {
      "text/html": [
       "<pre style=\"white-space:pre;overflow-x:auto;line-height:normal;font-family:Menlo,'DejaVu Sans Mono',consolas,'Courier New',monospace\"><span style=\"color: #800000; text-decoration-color: #800000; font-weight: bold\">ERROR   </span> <span style=\"font-weight: bold\">[</span>rocks<span style=\"font-weight: bold\">]</span> Could not identify <span style=\"color: #008000; text-decoration-color: #008000\">'2007 AS01'</span>.                                                                   \n",
       "</pre>\n"
      ],
      "text/plain": [
       "\u001b[1;31mERROR   \u001b[0m \u001b[1m[\u001b[0mrocks\u001b[1m]\u001b[0m Could not identify \u001b[32m'2007 AS01'\u001b[0m.                                                                   \n"
      ]
     },
     "metadata": {},
     "output_type": "display_data"
    },
    {
     "data": {
      "text/html": [
       "<pre style=\"white-space:pre;overflow-x:auto;line-height:normal;font-family:Menlo,'DejaVu Sans Mono',consolas,'Courier New',monospace\"><span style=\"color: #800000; text-decoration-color: #800000; font-weight: bold\">ERROR   </span> <span style=\"font-weight: bold\">[</span>rocks<span style=\"font-weight: bold\">]</span> Could not identify <span style=\"color: #008000; text-decoration-color: #008000\">'2018 LM04'</span>.                                                                   \n",
       "</pre>\n"
      ],
      "text/plain": [
       "\u001b[1;31mERROR   \u001b[0m \u001b[1m[\u001b[0mrocks\u001b[1m]\u001b[0m Could not identify \u001b[32m'2018 LM04'\u001b[0m.                                                                   \n"
      ]
     },
     "metadata": {},
     "output_type": "display_data"
    },
    {
     "data": {
      "text/html": [
       "<pre style=\"white-space:pre;overflow-x:auto;line-height:normal;font-family:Menlo,'DejaVu Sans Mono',consolas,'Courier New',monospace\"><span style=\"color: #800000; text-decoration-color: #800000; font-weight: bold\">ERROR   </span> <span style=\"font-weight: bold\">[</span>rocks<span style=\"font-weight: bold\">]</span> Could not identify <span style=\"color: #008000; text-decoration-color: #008000\">'2013 WJ00'</span>.                                                                   \n",
       "</pre>\n"
      ],
      "text/plain": [
       "\u001b[1;31mERROR   \u001b[0m \u001b[1m[\u001b[0mrocks\u001b[1m]\u001b[0m Could not identify \u001b[32m'2013 WJ00'\u001b[0m.                                                                   \n"
      ]
     },
     "metadata": {},
     "output_type": "display_data"
    },
    {
     "data": {
      "text/html": [
       "<pre style=\"white-space:pre;overflow-x:auto;line-height:normal;font-family:Menlo,'DejaVu Sans Mono',consolas,'Courier New',monospace\"><span style=\"color: #800000; text-decoration-color: #800000; font-weight: bold\">ERROR   </span> <span style=\"font-weight: bold\">[</span>rocks<span style=\"font-weight: bold\">]</span> Could not identify <span style=\"color: #008000; text-decoration-color: #008000\">'2006 QB03'</span>.                                                                   \n",
       "</pre>\n"
      ],
      "text/plain": [
       "\u001b[1;31mERROR   \u001b[0m \u001b[1m[\u001b[0mrocks\u001b[1m]\u001b[0m Could not identify \u001b[32m'2006 QB03'\u001b[0m.                                                                   \n"
      ]
     },
     "metadata": {},
     "output_type": "display_data"
    },
    {
     "data": {
      "text/html": [
       "<pre style=\"white-space:pre;overflow-x:auto;line-height:normal;font-family:Menlo,'DejaVu Sans Mono',consolas,'Courier New',monospace\"><span style=\"color: #800000; text-decoration-color: #800000; font-weight: bold\">ERROR   </span> <span style=\"font-weight: bold\">[</span>rocks<span style=\"font-weight: bold\">]</span> Could not identify <span style=\"color: #008000; text-decoration-color: #008000\">'1998 UQ01'</span>.                                                                   \n",
       "</pre>\n"
      ],
      "text/plain": [
       "\u001b[1;31mERROR   \u001b[0m \u001b[1m[\u001b[0mrocks\u001b[1m]\u001b[0m Could not identify \u001b[32m'1998 UQ01'\u001b[0m.                                                                   \n"
      ]
     },
     "metadata": {},
     "output_type": "display_data"
    },
    {
     "data": {
      "text/html": [
       "<pre style=\"white-space:pre;overflow-x:auto;line-height:normal;font-family:Menlo,'DejaVu Sans Mono',consolas,'Courier New',monospace\"><span style=\"color: #800000; text-decoration-color: #800000; font-weight: bold\">ERROR   </span> <span style=\"font-weight: bold\">[</span>rocks<span style=\"font-weight: bold\">]</span> Could not identify <span style=\"color: #008000; text-decoration-color: #008000\">'2016 QP01'</span>.                                                                   \n",
       "</pre>\n"
      ],
      "text/plain": [
       "\u001b[1;31mERROR   \u001b[0m \u001b[1m[\u001b[0mrocks\u001b[1m]\u001b[0m Could not identify \u001b[32m'2016 QP01'\u001b[0m.                                                                   \n"
      ]
     },
     "metadata": {},
     "output_type": "display_data"
    },
    {
     "data": {
      "text/html": [
       "<pre style=\"white-space:pre;overflow-x:auto;line-height:normal;font-family:Menlo,'DejaVu Sans Mono',consolas,'Courier New',monospace\"><span style=\"color: #800000; text-decoration-color: #800000; font-weight: bold\">ERROR   </span> <span style=\"font-weight: bold\">[</span>rocks<span style=\"font-weight: bold\">]</span> Could not identify <span style=\"color: #008000; text-decoration-color: #008000\">'2020 PD01'</span>.                                                                   \n",
       "</pre>\n"
      ],
      "text/plain": [
       "\u001b[1;31mERROR   \u001b[0m \u001b[1m[\u001b[0mrocks\u001b[1m]\u001b[0m Could not identify \u001b[32m'2020 PD01'\u001b[0m.                                                                   \n"
      ]
     },
     "metadata": {},
     "output_type": "display_data"
    },
    {
     "data": {
      "text/html": [
       "<pre style=\"white-space:pre;overflow-x:auto;line-height:normal;font-family:Menlo,'DejaVu Sans Mono',consolas,'Courier New',monospace\"><span style=\"color: #800000; text-decoration-color: #800000; font-weight: bold\">ERROR   </span> <span style=\"font-weight: bold\">[</span>rocks<span style=\"font-weight: bold\">]</span> Could not identify <span style=\"color: #008000; text-decoration-color: #008000\">'2020 AV02'</span>.                                                                   \n",
       "</pre>\n"
      ],
      "text/plain": [
       "\u001b[1;31mERROR   \u001b[0m \u001b[1m[\u001b[0mrocks\u001b[1m]\u001b[0m Could not identify \u001b[32m'2020 AV02'\u001b[0m.                                                                   \n"
      ]
     },
     "metadata": {},
     "output_type": "display_data"
    },
    {
     "data": {
      "text/html": [
       "<pre style=\"white-space:pre;overflow-x:auto;line-height:normal;font-family:Menlo,'DejaVu Sans Mono',consolas,'Courier New',monospace\"><span style=\"color: #800000; text-decoration-color: #800000; font-weight: bold\">ERROR   </span> <span style=\"font-weight: bold\">[</span>rocks<span style=\"font-weight: bold\">]</span> Could not identify <span style=\"color: #008000; text-decoration-color: #008000\">'2016 XB07'</span>.                                                                   \n",
       "</pre>\n"
      ],
      "text/plain": [
       "\u001b[1;31mERROR   \u001b[0m \u001b[1m[\u001b[0mrocks\u001b[1m]\u001b[0m Could not identify \u001b[32m'2016 XB07'\u001b[0m.                                                                   \n"
      ]
     },
     "metadata": {},
     "output_type": "display_data"
    },
    {
     "data": {
      "text/html": [
       "<pre style=\"white-space:pre;overflow-x:auto;line-height:normal;font-family:Menlo,'DejaVu Sans Mono',consolas,'Courier New',monospace\"><span style=\"color: #800000; text-decoration-color: #800000; font-weight: bold\">ERROR   </span> <span style=\"font-weight: bold\">[</span>rocks<span style=\"font-weight: bold\">]</span> Could not identify <span style=\"color: #008000; text-decoration-color: #008000\">'2015 MO01'</span>.                                                                   \n",
       "</pre>\n"
      ],
      "text/plain": [
       "\u001b[1;31mERROR   \u001b[0m \u001b[1m[\u001b[0mrocks\u001b[1m]\u001b[0m Could not identify \u001b[32m'2015 MO01'\u001b[0m.                                                                   \n"
      ]
     },
     "metadata": {},
     "output_type": "display_data"
    },
    {
     "data": {
      "text/html": [
       "<pre style=\"white-space:pre;overflow-x:auto;line-height:normal;font-family:Menlo,'DejaVu Sans Mono',consolas,'Courier New',monospace\"><span style=\"color: #800000; text-decoration-color: #800000; font-weight: bold\">ERROR   </span> <span style=\"font-weight: bold\">[</span>rocks<span style=\"font-weight: bold\">]</span> Could not identify <span style=\"color: #008000; text-decoration-color: #008000\">'2020 OW03'</span>.                                                                   \n",
       "</pre>\n"
      ],
      "text/plain": [
       "\u001b[1;31mERROR   \u001b[0m \u001b[1m[\u001b[0mrocks\u001b[1m]\u001b[0m Could not identify \u001b[32m'2020 OW03'\u001b[0m.                                                                   \n"
      ]
     },
     "metadata": {},
     "output_type": "display_data"
    },
    {
     "data": {
      "text/html": [
       "<pre style=\"white-space:pre;overflow-x:auto;line-height:normal;font-family:Menlo,'DejaVu Sans Mono',consolas,'Courier New',monospace\"><span style=\"color: #800000; text-decoration-color: #800000; font-weight: bold\">ERROR   </span> <span style=\"font-weight: bold\">[</span>rocks<span style=\"font-weight: bold\">]</span> Could not identify <span style=\"color: #008000; text-decoration-color: #008000\">'2013 PY06'</span>.                                                                   \n",
       "</pre>\n"
      ],
      "text/plain": [
       "\u001b[1;31mERROR   \u001b[0m \u001b[1m[\u001b[0mrocks\u001b[1m]\u001b[0m Could not identify \u001b[32m'2013 PY06'\u001b[0m.                                                                   \n"
      ]
     },
     "metadata": {},
     "output_type": "display_data"
    },
    {
     "data": {
      "text/html": [
       "<pre style=\"white-space:pre;overflow-x:auto;line-height:normal;font-family:Menlo,'DejaVu Sans Mono',consolas,'Courier New',monospace\"><span style=\"color: #800000; text-decoration-color: #800000; font-weight: bold\">ERROR   </span> <span style=\"font-weight: bold\">[</span>rocks<span style=\"font-weight: bold\">]</span> Could not identify <span style=\"color: #008000; text-decoration-color: #008000\">'2005 YV02'</span>.                                                                   \n",
       "</pre>\n"
      ],
      "text/plain": [
       "\u001b[1;31mERROR   \u001b[0m \u001b[1m[\u001b[0mrocks\u001b[1m]\u001b[0m Could not identify \u001b[32m'2005 YV02'\u001b[0m.                                                                   \n"
      ]
     },
     "metadata": {},
     "output_type": "display_data"
    },
    {
     "data": {
      "text/html": [
       "<pre style=\"white-space:pre;overflow-x:auto;line-height:normal;font-family:Menlo,'DejaVu Sans Mono',consolas,'Courier New',monospace\"><span style=\"color: #800000; text-decoration-color: #800000; font-weight: bold\">ERROR   </span> <span style=\"font-weight: bold\">[</span>rocks<span style=\"font-weight: bold\">]</span> Could not identify <span style=\"color: #008000; text-decoration-color: #008000\">'2010 WQ07'</span>.                                                                   \n",
       "</pre>\n"
      ],
      "text/plain": [
       "\u001b[1;31mERROR   \u001b[0m \u001b[1m[\u001b[0mrocks\u001b[1m]\u001b[0m Could not identify \u001b[32m'2010 WQ07'\u001b[0m.                                                                   \n"
      ]
     },
     "metadata": {},
     "output_type": "display_data"
    },
    {
     "data": {
      "text/html": [
       "<pre style=\"white-space:pre;overflow-x:auto;line-height:normal;font-family:Menlo,'DejaVu Sans Mono',consolas,'Courier New',monospace\"><span style=\"color: #800000; text-decoration-color: #800000; font-weight: bold\">ERROR   </span> <span style=\"font-weight: bold\">[</span>rocks<span style=\"font-weight: bold\">]</span> Could not identify <span style=\"color: #008000; text-decoration-color: #008000\">'2007 XC03'</span>.                                                                   \n",
       "</pre>\n"
      ],
      "text/plain": [
       "\u001b[1;31mERROR   \u001b[0m \u001b[1m[\u001b[0mrocks\u001b[1m]\u001b[0m Could not identify \u001b[32m'2007 XC03'\u001b[0m.                                                                   \n"
      ]
     },
     "metadata": {},
     "output_type": "display_data"
    },
    {
     "data": {
      "text/html": [
       "<pre style=\"white-space:pre;overflow-x:auto;line-height:normal;font-family:Menlo,'DejaVu Sans Mono',consolas,'Courier New',monospace\"><span style=\"color: #800000; text-decoration-color: #800000; font-weight: bold\">ERROR   </span> <span style=\"font-weight: bold\">[</span>rocks<span style=\"font-weight: bold\">]</span> Could not identify <span style=\"color: #008000; text-decoration-color: #008000\">'2017 RM00'</span>.                                                                   \n",
       "</pre>\n"
      ],
      "text/plain": [
       "\u001b[1;31mERROR   \u001b[0m \u001b[1m[\u001b[0mrocks\u001b[1m]\u001b[0m Could not identify \u001b[32m'2017 RM00'\u001b[0m.                                                                   \n"
      ]
     },
     "metadata": {},
     "output_type": "display_data"
    },
    {
     "data": {
      "text/html": [
       "<pre style=\"white-space:pre;overflow-x:auto;line-height:normal;font-family:Menlo,'DejaVu Sans Mono',consolas,'Courier New',monospace\"><span style=\"color: #800000; text-decoration-color: #800000; font-weight: bold\">ERROR   </span> <span style=\"font-weight: bold\">[</span>rocks<span style=\"font-weight: bold\">]</span> Could not identify <span style=\"color: #008000; text-decoration-color: #008000\">'2010 VH95'</span>.                                                                   \n",
       "</pre>\n"
      ],
      "text/plain": [
       "\u001b[1;31mERROR   \u001b[0m \u001b[1m[\u001b[0mrocks\u001b[1m]\u001b[0m Could not identify \u001b[32m'2010 VH95'\u001b[0m.                                                                   \n"
      ]
     },
     "metadata": {},
     "output_type": "display_data"
    },
    {
     "data": {
      "text/html": [
       "<pre style=\"white-space:pre;overflow-x:auto;line-height:normal;font-family:Menlo,'DejaVu Sans Mono',consolas,'Courier New',monospace\"><span style=\"color: #800000; text-decoration-color: #800000; font-weight: bold\">ERROR   </span> <span style=\"font-weight: bold\">[</span>rocks<span style=\"font-weight: bold\">]</span> Could not identify <span style=\"color: #008000; text-decoration-color: #008000\">'2018 KG02'</span>.                                                                   \n",
       "</pre>\n"
      ],
      "text/plain": [
       "\u001b[1;31mERROR   \u001b[0m \u001b[1m[\u001b[0mrocks\u001b[1m]\u001b[0m Could not identify \u001b[32m'2018 KG02'\u001b[0m.                                                                   \n"
      ]
     },
     "metadata": {},
     "output_type": "display_data"
    },
    {
     "data": {
      "text/html": [
       "<pre style=\"white-space:pre;overflow-x:auto;line-height:normal;font-family:Menlo,'DejaVu Sans Mono',consolas,'Courier New',monospace\"><span style=\"color: #800000; text-decoration-color: #800000; font-weight: bold\">ERROR   </span> <span style=\"font-weight: bold\">[</span>rocks<span style=\"font-weight: bold\">]</span> Could not identify <span style=\"color: #008000; text-decoration-color: #008000\">'28P'</span>.                                                                         \n",
       "</pre>\n"
      ],
      "text/plain": [
       "\u001b[1;31mERROR   \u001b[0m \u001b[1m[\u001b[0mrocks\u001b[1m]\u001b[0m Could not identify \u001b[32m'28P'\u001b[0m.                                                                         \n"
      ]
     },
     "metadata": {},
     "output_type": "display_data"
    },
    {
     "data": {
      "text/html": [
       "<pre style=\"white-space:pre;overflow-x:auto;line-height:normal;font-family:Menlo,'DejaVu Sans Mono',consolas,'Courier New',monospace\"><span style=\"color: #800000; text-decoration-color: #800000; font-weight: bold\">ERROR   </span> <span style=\"font-weight: bold\">[</span>rocks<span style=\"font-weight: bold\">]</span> Could not identify <span style=\"color: #008000; text-decoration-color: #008000\">'2002 TA09'</span>.                                                                   \n",
       "</pre>\n"
      ],
      "text/plain": [
       "\u001b[1;31mERROR   \u001b[0m \u001b[1m[\u001b[0mrocks\u001b[1m]\u001b[0m Could not identify \u001b[32m'2002 TA09'\u001b[0m.                                                                   \n"
      ]
     },
     "metadata": {},
     "output_type": "display_data"
    },
    {
     "data": {
      "text/html": [
       "<pre style=\"white-space:pre;overflow-x:auto;line-height:normal;font-family:Menlo,'DejaVu Sans Mono',consolas,'Courier New',monospace\"><span style=\"color: #800000; text-decoration-color: #800000; font-weight: bold\">ERROR   </span> <span style=\"font-weight: bold\">[</span>rocks<span style=\"font-weight: bold\">]</span> Could not identify <span style=\"color: #008000; text-decoration-color: #008000\">'2011 LZ05'</span>.                                                                   \n",
       "</pre>\n"
      ],
      "text/plain": [
       "\u001b[1;31mERROR   \u001b[0m \u001b[1m[\u001b[0mrocks\u001b[1m]\u001b[0m Could not identify \u001b[32m'2011 LZ05'\u001b[0m.                                                                   \n"
      ]
     },
     "metadata": {},
     "output_type": "display_data"
    },
    {
     "data": {
      "text/html": [
       "<pre style=\"white-space:pre;overflow-x:auto;line-height:normal;font-family:Menlo,'DejaVu Sans Mono',consolas,'Courier New',monospace\"><span style=\"color: #800000; text-decoration-color: #800000; font-weight: bold\">ERROR   </span> <span style=\"font-weight: bold\">[</span>rocks<span style=\"font-weight: bold\">]</span> Could not identify <span style=\"color: #008000; text-decoration-color: #008000\">'2016 VW01'</span>.                                                                   \n",
       "</pre>\n"
      ],
      "text/plain": [
       "\u001b[1;31mERROR   \u001b[0m \u001b[1m[\u001b[0mrocks\u001b[1m]\u001b[0m Could not identify \u001b[32m'2016 VW01'\u001b[0m.                                                                   \n"
      ]
     },
     "metadata": {},
     "output_type": "display_data"
    },
    {
     "data": {
      "text/html": [
       "<pre style=\"white-space:pre;overflow-x:auto;line-height:normal;font-family:Menlo,'DejaVu Sans Mono',consolas,'Courier New',monospace\"><span style=\"color: #800000; text-decoration-color: #800000; font-weight: bold\">ERROR   </span> <span style=\"font-weight: bold\">[</span>rocks<span style=\"font-weight: bold\">]</span> Could not identify <span style=\"color: #008000; text-decoration-color: #008000\">'2008 YF02'</span>.                                                                   \n",
       "</pre>\n"
      ],
      "text/plain": [
       "\u001b[1;31mERROR   \u001b[0m \u001b[1m[\u001b[0mrocks\u001b[1m]\u001b[0m Could not identify \u001b[32m'2008 YF02'\u001b[0m.                                                                   \n"
      ]
     },
     "metadata": {},
     "output_type": "display_data"
    },
    {
     "data": {
      "text/html": [
       "<pre style=\"white-space:pre;overflow-x:auto;line-height:normal;font-family:Menlo,'DejaVu Sans Mono',consolas,'Courier New',monospace\"><span style=\"color: #800000; text-decoration-color: #800000; font-weight: bold\">ERROR   </span> <span style=\"font-weight: bold\">[</span>rocks<span style=\"font-weight: bold\">]</span> Could not identify <span style=\"color: #008000; text-decoration-color: #008000\">'2002 NS07'</span>.                                                                   \n",
       "</pre>\n"
      ],
      "text/plain": [
       "\u001b[1;31mERROR   \u001b[0m \u001b[1m[\u001b[0mrocks\u001b[1m]\u001b[0m Could not identify \u001b[32m'2002 NS07'\u001b[0m.                                                                   \n"
      ]
     },
     "metadata": {},
     "output_type": "display_data"
    },
    {
     "data": {
      "text/html": [
       "<pre style=\"white-space:pre;overflow-x:auto;line-height:normal;font-family:Menlo,'DejaVu Sans Mono',consolas,'Courier New',monospace\"><span style=\"color: #800000; text-decoration-color: #800000; font-weight: bold\">ERROR   </span> <span style=\"font-weight: bold\">[</span>rocks<span style=\"font-weight: bold\">]</span> Could not identify <span style=\"color: #008000; text-decoration-color: #008000\">'2020 PC05'</span>.                                                                   \n",
       "</pre>\n"
      ],
      "text/plain": [
       "\u001b[1;31mERROR   \u001b[0m \u001b[1m[\u001b[0mrocks\u001b[1m]\u001b[0m Could not identify \u001b[32m'2020 PC05'\u001b[0m.                                                                   \n"
      ]
     },
     "metadata": {},
     "output_type": "display_data"
    },
    {
     "data": {
      "text/html": [
       "<pre style=\"white-space:pre;overflow-x:auto;line-height:normal;font-family:Menlo,'DejaVu Sans Mono',consolas,'Courier New',monospace\"><span style=\"color: #800000; text-decoration-color: #800000; font-weight: bold\">ERROR   </span> <span style=\"font-weight: bold\">[</span>rocks<span style=\"font-weight: bold\">]</span> Could not identify <span style=\"color: #008000; text-decoration-color: #008000\">'2003 VD01'</span>.                                                                   \n",
       "</pre>\n"
      ],
      "text/plain": [
       "\u001b[1;31mERROR   \u001b[0m \u001b[1m[\u001b[0mrocks\u001b[1m]\u001b[0m Could not identify \u001b[32m'2003 VD01'\u001b[0m.                                                                   \n"
      ]
     },
     "metadata": {},
     "output_type": "display_data"
    },
    {
     "data": {
      "text/html": [
       "<pre style=\"white-space:pre;overflow-x:auto;line-height:normal;font-family:Menlo,'DejaVu Sans Mono',consolas,'Courier New',monospace\"><span style=\"color: #800000; text-decoration-color: #800000; font-weight: bold\">ERROR   </span> <span style=\"font-weight: bold\">[</span>rocks<span style=\"font-weight: bold\">]</span> Could not identify <span style=\"color: #008000; text-decoration-color: #008000\">'2016 OK00'</span>.                                                                   \n",
       "</pre>\n"
      ],
      "text/plain": [
       "\u001b[1;31mERROR   \u001b[0m \u001b[1m[\u001b[0mrocks\u001b[1m]\u001b[0m Could not identify \u001b[32m'2016 OK00'\u001b[0m.                                                                   \n"
      ]
     },
     "metadata": {},
     "output_type": "display_data"
    },
    {
     "data": {
      "text/html": [
       "<pre style=\"white-space:pre;overflow-x:auto;line-height:normal;font-family:Menlo,'DejaVu Sans Mono',consolas,'Courier New',monospace\"><span style=\"color: #800000; text-decoration-color: #800000; font-weight: bold\">ERROR   </span> <span style=\"font-weight: bold\">[</span>rocks<span style=\"font-weight: bold\">]</span> Could not identify <span style=\"color: #008000; text-decoration-color: #008000\">'2014 RP00'</span>.                                                                   \n",
       "</pre>\n"
      ],
      "text/plain": [
       "\u001b[1;31mERROR   \u001b[0m \u001b[1m[\u001b[0mrocks\u001b[1m]\u001b[0m Could not identify \u001b[32m'2014 RP00'\u001b[0m.                                                                   \n"
      ]
     },
     "metadata": {},
     "output_type": "display_data"
    },
    {
     "data": {
      "text/html": [
       "<pre style=\"white-space:pre;overflow-x:auto;line-height:normal;font-family:Menlo,'DejaVu Sans Mono',consolas,'Courier New',monospace\"><span style=\"color: #800000; text-decoration-color: #800000; font-weight: bold\">ERROR   </span> <span style=\"font-weight: bold\">[</span>rocks<span style=\"font-weight: bold\">]</span> Could not identify <span style=\"color: #008000; text-decoration-color: #008000\">'2011 YQ04'</span>.                                                                   \n",
       "</pre>\n"
      ],
      "text/plain": [
       "\u001b[1;31mERROR   \u001b[0m \u001b[1m[\u001b[0mrocks\u001b[1m]\u001b[0m Could not identify \u001b[32m'2011 YQ04'\u001b[0m.                                                                   \n"
      ]
     },
     "metadata": {},
     "output_type": "display_data"
    },
    {
     "data": {
      "text/html": [
       "<pre style=\"white-space:pre;overflow-x:auto;line-height:normal;font-family:Menlo,'DejaVu Sans Mono',consolas,'Courier New',monospace\"><span style=\"color: #800000; text-decoration-color: #800000; font-weight: bold\">ERROR   </span> <span style=\"font-weight: bold\">[</span>rocks<span style=\"font-weight: bold\">]</span> Could not identify <span style=\"color: #008000; text-decoration-color: #008000\">'2015 WV01'</span>.                                                                   \n",
       "</pre>\n"
      ],
      "text/plain": [
       "\u001b[1;31mERROR   \u001b[0m \u001b[1m[\u001b[0mrocks\u001b[1m]\u001b[0m Could not identify \u001b[32m'2015 WV01'\u001b[0m.                                                                   \n"
      ]
     },
     "metadata": {},
     "output_type": "display_data"
    },
    {
     "data": {
      "text/html": [
       "<pre style=\"white-space:pre;overflow-x:auto;line-height:normal;font-family:Menlo,'DejaVu Sans Mono',consolas,'Courier New',monospace\"><span style=\"color: #800000; text-decoration-color: #800000; font-weight: bold\">ERROR   </span> <span style=\"font-weight: bold\">[</span>rocks<span style=\"font-weight: bold\">]</span> Could not identify <span style=\"color: #008000; text-decoration-color: #008000\">'2003 YM01'</span>.                                                                   \n",
       "</pre>\n"
      ],
      "text/plain": [
       "\u001b[1;31mERROR   \u001b[0m \u001b[1m[\u001b[0mrocks\u001b[1m]\u001b[0m Could not identify \u001b[32m'2003 YM01'\u001b[0m.                                                                   \n"
      ]
     },
     "metadata": {},
     "output_type": "display_data"
    },
    {
     "data": {
      "text/html": [
       "<pre style=\"white-space:pre;overflow-x:auto;line-height:normal;font-family:Menlo,'DejaVu Sans Mono',consolas,'Courier New',monospace\"><span style=\"color: #800000; text-decoration-color: #800000; font-weight: bold\">ERROR   </span> <span style=\"font-weight: bold\">[</span>rocks<span style=\"font-weight: bold\">]</span> Could not identify <span style=\"color: #008000; text-decoration-color: #008000\">'2004 MJ03'</span>.                                                                   \n",
       "</pre>\n"
      ],
      "text/plain": [
       "\u001b[1;31mERROR   \u001b[0m \u001b[1m[\u001b[0mrocks\u001b[1m]\u001b[0m Could not identify \u001b[32m'2004 MJ03'\u001b[0m.                                                                   \n"
      ]
     },
     "metadata": {},
     "output_type": "display_data"
    },
    {
     "data": {
      "text/html": [
       "<pre style=\"white-space:pre;overflow-x:auto;line-height:normal;font-family:Menlo,'DejaVu Sans Mono',consolas,'Courier New',monospace\"><span style=\"color: #800000; text-decoration-color: #800000; font-weight: bold\">ERROR   </span> <span style=\"font-weight: bold\">[</span>rocks<span style=\"font-weight: bold\">]</span> Could not identify <span style=\"color: #008000; text-decoration-color: #008000\">'2016 WQ05'</span>.                                                                   \n",
       "</pre>\n"
      ],
      "text/plain": [
       "\u001b[1;31mERROR   \u001b[0m \u001b[1m[\u001b[0mrocks\u001b[1m]\u001b[0m Could not identify \u001b[32m'2016 WQ05'\u001b[0m.                                                                   \n"
      ]
     },
     "metadata": {},
     "output_type": "display_data"
    },
    {
     "data": {
      "text/html": [
       "<pre style=\"white-space:pre;overflow-x:auto;line-height:normal;font-family:Menlo,'DejaVu Sans Mono',consolas,'Courier New',monospace\"><span style=\"color: #800000; text-decoration-color: #800000; font-weight: bold\">ERROR   </span> <span style=\"font-weight: bold\">[</span>rocks<span style=\"font-weight: bold\">]</span> Could not identify <span style=\"color: #008000; text-decoration-color: #008000\">'2001 YU03'</span>.                                                                   \n",
       "</pre>\n"
      ],
      "text/plain": [
       "\u001b[1;31mERROR   \u001b[0m \u001b[1m[\u001b[0mrocks\u001b[1m]\u001b[0m Could not identify \u001b[32m'2001 YU03'\u001b[0m.                                                                   \n"
      ]
     },
     "metadata": {},
     "output_type": "display_data"
    },
    {
     "data": {
      "text/html": [
       "<pre style=\"white-space:pre;overflow-x:auto;line-height:normal;font-family:Menlo,'DejaVu Sans Mono',consolas,'Courier New',monospace\"><span style=\"color: #800000; text-decoration-color: #800000; font-weight: bold\">ERROR   </span> <span style=\"font-weight: bold\">[</span>rocks<span style=\"font-weight: bold\">]</span> Could not identify <span style=\"color: #008000; text-decoration-color: #008000\">'2016 OQ02'</span>.                                                                   \n",
       "</pre>\n"
      ],
      "text/plain": [
       "\u001b[1;31mERROR   \u001b[0m \u001b[1m[\u001b[0mrocks\u001b[1m]\u001b[0m Could not identify \u001b[32m'2016 OQ02'\u001b[0m.                                                                   \n"
      ]
     },
     "metadata": {},
     "output_type": "display_data"
    },
    {
     "data": {
      "text/html": [
       "<pre style=\"white-space:pre;overflow-x:auto;line-height:normal;font-family:Menlo,'DejaVu Sans Mono',consolas,'Courier New',monospace\"><span style=\"color: #800000; text-decoration-color: #800000; font-weight: bold\">ERROR   </span> <span style=\"font-weight: bold\">[</span>rocks<span style=\"font-weight: bold\">]</span> Could not identify <span style=\"color: #008000; text-decoration-color: #008000\">'2014 KL05'</span>.                                                                   \n",
       "</pre>\n"
      ],
      "text/plain": [
       "\u001b[1;31mERROR   \u001b[0m \u001b[1m[\u001b[0mrocks\u001b[1m]\u001b[0m Could not identify \u001b[32m'2014 KL05'\u001b[0m.                                                                   \n"
      ]
     },
     "metadata": {},
     "output_type": "display_data"
    },
    {
     "data": {
      "text/html": [
       "<pre style=\"white-space:pre;overflow-x:auto;line-height:normal;font-family:Menlo,'DejaVu Sans Mono',consolas,'Courier New',monospace\"><span style=\"color: #800000; text-decoration-color: #800000; font-weight: bold\">ERROR   </span> <span style=\"font-weight: bold\">[</span>rocks<span style=\"font-weight: bold\">]</span> Could not identify <span style=\"color: #008000; text-decoration-color: #008000\">'2011 AJ05'</span>.                                                                   \n",
       "</pre>\n"
      ],
      "text/plain": [
       "\u001b[1;31mERROR   \u001b[0m \u001b[1m[\u001b[0mrocks\u001b[1m]\u001b[0m Could not identify \u001b[32m'2011 AJ05'\u001b[0m.                                                                   \n"
      ]
     },
     "metadata": {},
     "output_type": "display_data"
    },
    {
     "data": {
      "text/html": [
       "<pre style=\"white-space:pre;overflow-x:auto;line-height:normal;font-family:Menlo,'DejaVu Sans Mono',consolas,'Courier New',monospace\"><span style=\"color: #800000; text-decoration-color: #800000; font-weight: bold\">ERROR   </span> <span style=\"font-weight: bold\">[</span>rocks<span style=\"font-weight: bold\">]</span> Could not identify <span style=\"color: #008000; text-decoration-color: #008000\">'2003 NM03'</span>.                                                                   \n",
       "</pre>\n"
      ],
      "text/plain": [
       "\u001b[1;31mERROR   \u001b[0m \u001b[1m[\u001b[0mrocks\u001b[1m]\u001b[0m Could not identify \u001b[32m'2003 NM03'\u001b[0m.                                                                   \n"
      ]
     },
     "metadata": {},
     "output_type": "display_data"
    },
    {
     "data": {
      "text/html": [
       "<pre style=\"white-space:pre;overflow-x:auto;line-height:normal;font-family:Menlo,'DejaVu Sans Mono',consolas,'Courier New',monospace\"><span style=\"color: #800000; text-decoration-color: #800000; font-weight: bold\">ERROR   </span> <span style=\"font-weight: bold\">[</span>rocks<span style=\"font-weight: bold\">]</span> Could not identify <span style=\"color: #008000; text-decoration-color: #008000\">'2014 RH00'</span>.                                                                   \n",
       "</pre>\n"
      ],
      "text/plain": [
       "\u001b[1;31mERROR   \u001b[0m \u001b[1m[\u001b[0mrocks\u001b[1m]\u001b[0m Could not identify \u001b[32m'2014 RH00'\u001b[0m.                                                                   \n"
      ]
     },
     "metadata": {},
     "output_type": "display_data"
    },
    {
     "data": {
      "text/html": [
       "<pre style=\"white-space:pre;overflow-x:auto;line-height:normal;font-family:Menlo,'DejaVu Sans Mono',consolas,'Courier New',monospace\"><span style=\"color: #800000; text-decoration-color: #800000; font-weight: bold\">ERROR   </span> <span style=\"font-weight: bold\">[</span>rocks<span style=\"font-weight: bold\">]</span> Could not identify <span style=\"color: #008000; text-decoration-color: #008000\">'2001 BO02'</span>.                                                                   \n",
       "</pre>\n"
      ],
      "text/plain": [
       "\u001b[1;31mERROR   \u001b[0m \u001b[1m[\u001b[0mrocks\u001b[1m]\u001b[0m Could not identify \u001b[32m'2001 BO02'\u001b[0m.                                                                   \n"
      ]
     },
     "metadata": {},
     "output_type": "display_data"
    },
    {
     "data": {
      "text/html": [
       "<pre style=\"white-space:pre;overflow-x:auto;line-height:normal;font-family:Menlo,'DejaVu Sans Mono',consolas,'Courier New',monospace\"><span style=\"color: #800000; text-decoration-color: #800000; font-weight: bold\">ERROR   </span> <span style=\"font-weight: bold\">[</span>rocks<span style=\"font-weight: bold\">]</span> Could not identify <span style=\"color: #008000; text-decoration-color: #008000\">'2017 HJ04'</span>.                                                                   \n",
       "</pre>\n"
      ],
      "text/plain": [
       "\u001b[1;31mERROR   \u001b[0m \u001b[1m[\u001b[0mrocks\u001b[1m]\u001b[0m Could not identify \u001b[32m'2017 HJ04'\u001b[0m.                                                                   \n"
      ]
     },
     "metadata": {},
     "output_type": "display_data"
    },
    {
     "data": {
      "text/html": [
       "<pre style=\"white-space:pre;overflow-x:auto;line-height:normal;font-family:Menlo,'DejaVu Sans Mono',consolas,'Courier New',monospace\"><span style=\"color: #800000; text-decoration-color: #800000; font-weight: bold\">ERROR   </span> <span style=\"font-weight: bold\">[</span>rocks<span style=\"font-weight: bold\">]</span> Could not identify <span style=\"color: #008000; text-decoration-color: #008000\">'2003 VA03'</span>.                                                                   \n",
       "</pre>\n"
      ],
      "text/plain": [
       "\u001b[1;31mERROR   \u001b[0m \u001b[1m[\u001b[0mrocks\u001b[1m]\u001b[0m Could not identify \u001b[32m'2003 VA03'\u001b[0m.                                                                   \n"
      ]
     },
     "metadata": {},
     "output_type": "display_data"
    },
    {
     "data": {
      "text/html": [
       "<pre style=\"white-space:pre;overflow-x:auto;line-height:normal;font-family:Menlo,'DejaVu Sans Mono',consolas,'Courier New',monospace\"><span style=\"color: #800000; text-decoration-color: #800000; font-weight: bold\">ERROR   </span> <span style=\"font-weight: bold\">[</span>rocks<span style=\"font-weight: bold\">]</span> Could not identify <span style=\"color: #008000; text-decoration-color: #008000\">'2020 KU04'</span>.                                                                   \n",
       "</pre>\n"
      ],
      "text/plain": [
       "\u001b[1;31mERROR   \u001b[0m \u001b[1m[\u001b[0mrocks\u001b[1m]\u001b[0m Could not identify \u001b[32m'2020 KU04'\u001b[0m.                                                                   \n"
      ]
     },
     "metadata": {},
     "output_type": "display_data"
    },
    {
     "data": {
      "text/html": [
       "<pre style=\"white-space:pre;overflow-x:auto;line-height:normal;font-family:Menlo,'DejaVu Sans Mono',consolas,'Courier New',monospace\"><span style=\"color: #800000; text-decoration-color: #800000; font-weight: bold\">ERROR   </span> <span style=\"font-weight: bold\">[</span>rocks<span style=\"font-weight: bold\">]</span> Could not identify <span style=\"color: #008000; text-decoration-color: #008000\">'2003 UR00'</span>.                                                                   \n",
       "</pre>\n"
      ],
      "text/plain": [
       "\u001b[1;31mERROR   \u001b[0m \u001b[1m[\u001b[0mrocks\u001b[1m]\u001b[0m Could not identify \u001b[32m'2003 UR00'\u001b[0m.                                                                   \n"
      ]
     },
     "metadata": {},
     "output_type": "display_data"
    },
    {
     "data": {
      "text/html": [
       "<pre style=\"white-space:pre;overflow-x:auto;line-height:normal;font-family:Menlo,'DejaVu Sans Mono',consolas,'Courier New',monospace\"><span style=\"color: #800000; text-decoration-color: #800000; font-weight: bold\">ERROR   </span> <span style=\"font-weight: bold\">[</span>rocks<span style=\"font-weight: bold\">]</span> Could not identify <span style=\"color: #008000; text-decoration-color: #008000\">'2009 CC03'</span>.                                                                   \n",
       "</pre>\n"
      ],
      "text/plain": [
       "\u001b[1;31mERROR   \u001b[0m \u001b[1m[\u001b[0mrocks\u001b[1m]\u001b[0m Could not identify \u001b[32m'2009 CC03'\u001b[0m.                                                                   \n"
      ]
     },
     "metadata": {},
     "output_type": "display_data"
    },
    {
     "data": {
      "text/html": [
       "<pre style=\"white-space:pre;overflow-x:auto;line-height:normal;font-family:Menlo,'DejaVu Sans Mono',consolas,'Courier New',monospace\"><span style=\"color: #800000; text-decoration-color: #800000; font-weight: bold\">ERROR   </span> <span style=\"font-weight: bold\">[</span>rocks<span style=\"font-weight: bold\">]</span> Could not identify <span style=\"color: #008000; text-decoration-color: #008000\">'2002 XZ04'</span>.                                                                   \n",
       "</pre>\n"
      ],
      "text/plain": [
       "\u001b[1;31mERROR   \u001b[0m \u001b[1m[\u001b[0mrocks\u001b[1m]\u001b[0m Could not identify \u001b[32m'2002 XZ04'\u001b[0m.                                                                   \n"
      ]
     },
     "metadata": {},
     "output_type": "display_data"
    },
    {
     "data": {
      "text/html": [
       "<pre style=\"white-space:pre;overflow-x:auto;line-height:normal;font-family:Menlo,'DejaVu Sans Mono',consolas,'Courier New',monospace\"><span style=\"color: #800000; text-decoration-color: #800000; font-weight: bold\">ERROR   </span> <span style=\"font-weight: bold\">[</span>rocks<span style=\"font-weight: bold\">]</span> Could not identify <span style=\"color: #008000; text-decoration-color: #008000\">'2015 JO05'</span>.                                                                   \n",
       "</pre>\n"
      ],
      "text/plain": [
       "\u001b[1;31mERROR   \u001b[0m \u001b[1m[\u001b[0mrocks\u001b[1m]\u001b[0m Could not identify \u001b[32m'2015 JO05'\u001b[0m.                                                                   \n"
      ]
     },
     "metadata": {},
     "output_type": "display_data"
    },
    {
     "data": {
      "text/html": [
       "<pre style=\"white-space:pre;overflow-x:auto;line-height:normal;font-family:Menlo,'DejaVu Sans Mono',consolas,'Courier New',monospace\"><span style=\"color: #800000; text-decoration-color: #800000; font-weight: bold\">ERROR   </span> <span style=\"font-weight: bold\">[</span>rocks<span style=\"font-weight: bold\">]</span> Could not identify <span style=\"color: #008000; text-decoration-color: #008000\">'2001 RD02'</span>.                                                                   \n",
       "</pre>\n"
      ],
      "text/plain": [
       "\u001b[1;31mERROR   \u001b[0m \u001b[1m[\u001b[0mrocks\u001b[1m]\u001b[0m Could not identify \u001b[32m'2001 RD02'\u001b[0m.                                                                   \n"
      ]
     },
     "metadata": {},
     "output_type": "display_data"
    },
    {
     "data": {
      "text/html": [
       "<pre style=\"white-space:pre;overflow-x:auto;line-height:normal;font-family:Menlo,'DejaVu Sans Mono',consolas,'Courier New',monospace\"><span style=\"color: #800000; text-decoration-color: #800000; font-weight: bold\">ERROR   </span> <span style=\"font-weight: bold\">[</span>rocks<span style=\"font-weight: bold\">]</span> Could not identify <span style=\"color: #008000; text-decoration-color: #008000\">'2020 OL03'</span>.                                                                   \n",
       "</pre>\n"
      ],
      "text/plain": [
       "\u001b[1;31mERROR   \u001b[0m \u001b[1m[\u001b[0mrocks\u001b[1m]\u001b[0m Could not identify \u001b[32m'2020 OL03'\u001b[0m.                                                                   \n"
      ]
     },
     "metadata": {},
     "output_type": "display_data"
    },
    {
     "data": {
      "text/html": [
       "<pre style=\"white-space:pre;overflow-x:auto;line-height:normal;font-family:Menlo,'DejaVu Sans Mono',consolas,'Courier New',monospace\"><span style=\"color: #800000; text-decoration-color: #800000; font-weight: bold\">ERROR   </span> <span style=\"font-weight: bold\">[</span>rocks<span style=\"font-weight: bold\">]</span> Could not identify <span style=\"color: #008000; text-decoration-color: #008000\">'2018 XV05'</span>.                                                                   \n",
       "</pre>\n"
      ],
      "text/plain": [
       "\u001b[1;31mERROR   \u001b[0m \u001b[1m[\u001b[0mrocks\u001b[1m]\u001b[0m Could not identify \u001b[32m'2018 XV05'\u001b[0m.                                                                   \n"
      ]
     },
     "metadata": {},
     "output_type": "display_data"
    },
    {
     "data": {
      "text/html": [
       "<pre style=\"white-space:pre;overflow-x:auto;line-height:normal;font-family:Menlo,'DejaVu Sans Mono',consolas,'Courier New',monospace\"><span style=\"color: #800000; text-decoration-color: #800000; font-weight: bold\">ERROR   </span> <span style=\"font-weight: bold\">[</span>rocks<span style=\"font-weight: bold\">]</span> Could not identify <span style=\"color: #008000; text-decoration-color: #008000\">'2007 TG08'</span>.                                                                   \n",
       "</pre>\n"
      ],
      "text/plain": [
       "\u001b[1;31mERROR   \u001b[0m \u001b[1m[\u001b[0mrocks\u001b[1m]\u001b[0m Could not identify \u001b[32m'2007 TG08'\u001b[0m.                                                                   \n"
      ]
     },
     "metadata": {},
     "output_type": "display_data"
    },
    {
     "data": {
      "text/html": [
       "<pre style=\"white-space:pre;overflow-x:auto;line-height:normal;font-family:Menlo,'DejaVu Sans Mono',consolas,'Courier New',monospace\"><span style=\"color: #800000; text-decoration-color: #800000; font-weight: bold\">ERROR   </span> <span style=\"font-weight: bold\">[</span>rocks<span style=\"font-weight: bold\">]</span> Could not identify <span style=\"color: #008000; text-decoration-color: #008000\">'2012 UA00'</span>.                                                                   \n",
       "</pre>\n"
      ],
      "text/plain": [
       "\u001b[1;31mERROR   \u001b[0m \u001b[1m[\u001b[0mrocks\u001b[1m]\u001b[0m Could not identify \u001b[32m'2012 UA00'\u001b[0m.                                                                   \n"
      ]
     },
     "metadata": {},
     "output_type": "display_data"
    },
    {
     "data": {
      "text/html": [
       "<pre style=\"white-space:pre;overflow-x:auto;line-height:normal;font-family:Menlo,'DejaVu Sans Mono',consolas,'Courier New',monospace\"><span style=\"color: #800000; text-decoration-color: #800000; font-weight: bold\">ERROR   </span> <span style=\"font-weight: bold\">[</span>rocks<span style=\"font-weight: bold\">]</span> Could not identify <span style=\"color: #008000; text-decoration-color: #008000\">'2017 YH03'</span>.                                                                   \n",
       "</pre>\n"
      ],
      "text/plain": [
       "\u001b[1;31mERROR   \u001b[0m \u001b[1m[\u001b[0mrocks\u001b[1m]\u001b[0m Could not identify \u001b[32m'2017 YH03'\u001b[0m.                                                                   \n"
      ]
     },
     "metadata": {},
     "output_type": "display_data"
    },
    {
     "data": {
      "text/html": [
       "<pre style=\"white-space:pre;overflow-x:auto;line-height:normal;font-family:Menlo,'DejaVu Sans Mono',consolas,'Courier New',monospace\"><span style=\"color: #800000; text-decoration-color: #800000; font-weight: bold\">ERROR   </span> <span style=\"font-weight: bold\">[</span>rocks<span style=\"font-weight: bold\">]</span> Could not identify <span style=\"color: #008000; text-decoration-color: #008000\">'2007 LX00'</span>.                                                                   \n",
       "</pre>\n"
      ],
      "text/plain": [
       "\u001b[1;31mERROR   \u001b[0m \u001b[1m[\u001b[0mrocks\u001b[1m]\u001b[0m Could not identify \u001b[32m'2007 LX00'\u001b[0m.                                                                   \n"
      ]
     },
     "metadata": {},
     "output_type": "display_data"
    },
    {
     "data": {
      "text/html": [
       "<pre style=\"white-space:pre;overflow-x:auto;line-height:normal;font-family:Menlo,'DejaVu Sans Mono',consolas,'Courier New',monospace\"><span style=\"color: #800000; text-decoration-color: #800000; font-weight: bold\">ERROR   </span> <span style=\"font-weight: bold\">[</span>rocks<span style=\"font-weight: bold\">]</span> Could not identify <span style=\"color: #008000; text-decoration-color: #008000\">'2020 ML03'</span>.                                                                   \n",
       "</pre>\n"
      ],
      "text/plain": [
       "\u001b[1;31mERROR   \u001b[0m \u001b[1m[\u001b[0mrocks\u001b[1m]\u001b[0m Could not identify \u001b[32m'2020 ML03'\u001b[0m.                                                                   \n"
      ]
     },
     "metadata": {},
     "output_type": "display_data"
    },
    {
     "data": {
      "text/html": [
       "<pre style=\"white-space:pre;overflow-x:auto;line-height:normal;font-family:Menlo,'DejaVu Sans Mono',consolas,'Courier New',monospace\"><span style=\"color: #800000; text-decoration-color: #800000; font-weight: bold\">ERROR   </span> <span style=\"font-weight: bold\">[</span>rocks<span style=\"font-weight: bold\">]</span> Could not identify <span style=\"color: #008000; text-decoration-color: #008000\">'2009 CD04'</span>.                                                                   \n",
       "</pre>\n"
      ],
      "text/plain": [
       "\u001b[1;31mERROR   \u001b[0m \u001b[1m[\u001b[0mrocks\u001b[1m]\u001b[0m Could not identify \u001b[32m'2009 CD04'\u001b[0m.                                                                   \n"
      ]
     },
     "metadata": {},
     "output_type": "display_data"
    },
    {
     "data": {
      "text/html": [
       "<pre style=\"white-space:pre;overflow-x:auto;line-height:normal;font-family:Menlo,'DejaVu Sans Mono',consolas,'Courier New',monospace\"><span style=\"color: #800000; text-decoration-color: #800000; font-weight: bold\">ERROR   </span> <span style=\"font-weight: bold\">[</span>rocks<span style=\"font-weight: bold\">]</span> Could not identify <span style=\"color: #008000; text-decoration-color: #008000\">'2020 KJ06'</span>.                                                                   \n",
       "</pre>\n"
      ],
      "text/plain": [
       "\u001b[1;31mERROR   \u001b[0m \u001b[1m[\u001b[0mrocks\u001b[1m]\u001b[0m Could not identify \u001b[32m'2020 KJ06'\u001b[0m.                                                                   \n"
      ]
     },
     "metadata": {},
     "output_type": "display_data"
    },
    {
     "data": {
      "text/html": [
       "<pre style=\"white-space:pre;overflow-x:auto;line-height:normal;font-family:Menlo,'DejaVu Sans Mono',consolas,'Courier New',monospace\"><span style=\"color: #800000; text-decoration-color: #800000; font-weight: bold\">ERROR   </span> <span style=\"font-weight: bold\">[</span>rocks<span style=\"font-weight: bold\">]</span> Could not identify <span style=\"color: #008000; text-decoration-color: #008000\">'2019 AQ03'</span>.                                                                   \n",
       "</pre>\n"
      ],
      "text/plain": [
       "\u001b[1;31mERROR   \u001b[0m \u001b[1m[\u001b[0mrocks\u001b[1m]\u001b[0m Could not identify \u001b[32m'2019 AQ03'\u001b[0m.                                                                   \n"
      ]
     },
     "metadata": {},
     "output_type": "display_data"
    },
    {
     "data": {
      "text/html": [
       "<pre style=\"white-space:pre;overflow-x:auto;line-height:normal;font-family:Menlo,'DejaVu Sans Mono',consolas,'Courier New',monospace\"><span style=\"color: #800000; text-decoration-color: #800000; font-weight: bold\">ERROR   </span> <span style=\"font-weight: bold\">[</span>rocks<span style=\"font-weight: bold\">]</span> Could not identify <span style=\"color: #008000; text-decoration-color: #008000\">'2010 LS00'</span>.                                                                   \n",
       "</pre>\n"
      ],
      "text/plain": [
       "\u001b[1;31mERROR   \u001b[0m \u001b[1m[\u001b[0mrocks\u001b[1m]\u001b[0m Could not identify \u001b[32m'2010 LS00'\u001b[0m.                                                                   \n"
      ]
     },
     "metadata": {},
     "output_type": "display_data"
    },
    {
     "data": {
      "text/html": [
       "<pre style=\"white-space:pre;overflow-x:auto;line-height:normal;font-family:Menlo,'DejaVu Sans Mono',consolas,'Courier New',monospace\"><span style=\"color: #800000; text-decoration-color: #800000; font-weight: bold\">ERROR   </span> <span style=\"font-weight: bold\">[</span>rocks<span style=\"font-weight: bold\">]</span> Could not identify <span style=\"color: #008000; text-decoration-color: #008000\">'2002 GZ08'</span>.                                                                   \n",
       "</pre>\n"
      ],
      "text/plain": [
       "\u001b[1;31mERROR   \u001b[0m \u001b[1m[\u001b[0mrocks\u001b[1m]\u001b[0m Could not identify \u001b[32m'2002 GZ08'\u001b[0m.                                                                   \n"
      ]
     },
     "metadata": {},
     "output_type": "display_data"
    },
    {
     "data": {
      "text/html": [
       "<pre style=\"white-space:pre;overflow-x:auto;line-height:normal;font-family:Menlo,'DejaVu Sans Mono',consolas,'Courier New',monospace\"><span style=\"color: #800000; text-decoration-color: #800000; font-weight: bold\">ERROR   </span> <span style=\"font-weight: bold\">[</span>rocks<span style=\"font-weight: bold\">]</span> Could not identify <span style=\"color: #008000; text-decoration-color: #008000\">'2009 PA09'</span>.                                                                   \n",
       "</pre>\n"
      ],
      "text/plain": [
       "\u001b[1;31mERROR   \u001b[0m \u001b[1m[\u001b[0mrocks\u001b[1m]\u001b[0m Could not identify \u001b[32m'2009 PA09'\u001b[0m.                                                                   \n"
      ]
     },
     "metadata": {},
     "output_type": "display_data"
    }
   ],
   "source": [
    "nn = rocks.id(data.ssnamenr)\n",
    "data['sso_name'] = [n[0] for n in nn]"
   ]
  },
  {
   "cell_type": "code",
   "execution_count": 14,
   "id": "000e8b6d",
   "metadata": {},
   "outputs": [],
   "source": [
    "nn = rocks.id(damit.number)\n",
    "damit['sso_name'] = [n[0] for n in nn]"
   ]
  },
  {
   "cell_type": "code",
   "execution_count": 15,
   "id": "8768d4f0",
   "metadata": {},
   "outputs": [],
   "source": [
    "fig, ax = plt.subplots(\n",
    "    figsize=fs.figsize(0.5), gridspec_kw={\"right\": 0.975, \"top\": 0.95, \"bottom\": 0.15}\n",
    ")\n",
    "\n",
    "# Plot FINK Sample\n",
    "r = [0, 0.5]\n",
    "b = 50\n",
    "\n",
    "# all = data[maskFINK].merge(damit, on=\"sso_name\", how=\"left\")\n",
    "\n",
    "\n",
    "# Histogram FINK\n",
    "ax.hist(\n",
    "    data.loc[maskFINK,\"SHG1G2_rms\"],\n",
    "    range=r, \n",
    "    bins=b, \n",
    "    color=color_fink,\n",
    "    density=True,\n",
    "    alpha=0.8,\n",
    "    label=f\"FINK ({len(data[maskFINK]):,d})\"\n",
    ")\n",
    "\n",
    "\n",
    "# Histogram 3dShape\n",
    "cond = maskFINK & data.sso_name.isin(damit.sso_name)\n",
    "ax.hist(\n",
    "    data.loc[cond,\"SHG1G2_rms\"],\n",
    "    range=r, \n",
    "    bins=b, \n",
    "    color=\"slategray\",\n",
    "    density=True,\n",
    "    alpha=0.8,\n",
    "    label=f\"With 3D ({len(data[cond]):,d})\"\n",
    ")\n",
    "\n",
    "# Axes\n",
    "ax.legend(loc=\"upper right\")\n",
    "\n",
    "fig.savefig(os.path.join(\"..\",\"gfx\",\"rms_shape.png\"), facecolor=\"white\", dpi=150)\n",
    "fig.savefig(os.path.join(\"..\",\"gfx\",\"rms_shape.pgf\"))\n",
    "\n"
   ]
  },
  {
   "cell_type": "code",
   "execution_count": 16,
   "id": "1d27ddbf",
   "metadata": {},
   "outputs": [],
   "source": [
    "fig, ax = plt.subplots(\n",
    "    figsize=fs.figsize(0.5), gridspec_kw={\"right\": 0.975, \"top\": 0.95, \"bottom\": 0.15}\n",
    ")\n",
    "\n",
    "# Plot FINK Sample\n",
    "r = [0, 15]\n",
    "b = 50\n",
    "\n",
    "\n",
    "\n",
    "# Histogram FINK\n",
    "ax.hist(\n",
    "    data.loc[maskFINK,\"SHG1G2_chi2red\"],\n",
    "    range=r, \n",
    "    bins=b, \n",
    "    color=color_fink,\n",
    "    density=True,\n",
    "    alpha=0.8,\n",
    "    label=f\"FINK ({len(data[maskFINK]):,d})\"\n",
    ")\n",
    "\n",
    "\n",
    "# Histogram 3dShape\n",
    "cond = maskFINK & data.sso_name.isin(damit.sso_name)\n",
    "ax.hist(\n",
    "    data.loc[cond,\"SHG1G2_chi2red\"],\n",
    "    range=r, \n",
    "    bins=b, \n",
    "    color=\"slategray\",\n",
    "    density=True,\n",
    "    alpha=0.8,\n",
    "    label=f\"With 3D ({len(data[cond]):,d})\"\n",
    ")\n",
    "\n",
    "# Axes\n",
    "ax.legend(loc=\"upper right\")\n",
    "\n",
    "fig.savefig(os.path.join(\"..\",\"gfx\",\"chi2_shape.png\"), facecolor=\"white\", dpi=150)\n",
    "fig.savefig(os.path.join(\"..\",\"gfx\",\"chi2_shape.pgf\"))\n",
    "\n"
   ]
  },
  {
   "cell_type": "code",
   "execution_count": 17,
   "id": "09c9ed12",
   "metadata": {},
   "outputs": [
    {
     "data": {
      "text/html": [
       "<div>\n",
       "<style scoped>\n",
       "    .dataframe tbody tr th:only-of-type {\n",
       "        vertical-align: middle;\n",
       "    }\n",
       "\n",
       "    .dataframe tbody tr th {\n",
       "        vertical-align: top;\n",
       "    }\n",
       "\n",
       "    .dataframe thead th {\n",
       "        text-align: right;\n",
       "    }\n",
       "</style>\n",
       "<table border=\"1\" class=\"dataframe\">\n",
       "  <thead>\n",
       "    <tr style=\"text-align: right;\">\n",
       "      <th></th>\n",
       "      <th>ssnamenr</th>\n",
       "      <th>SHG1G2_R</th>\n",
       "      <th>SHG1G2_obliquity</th>\n",
       "      <th>SHG1G2_chi2red</th>\n",
       "      <th>SHG1G2_rms</th>\n",
       "    </tr>\n",
       "  </thead>\n",
       "  <tbody>\n",
       "    <tr>\n",
       "      <th>3000</th>\n",
       "      <td>28954</td>\n",
       "      <td>0.705206</td>\n",
       "      <td>65.652350</td>\n",
       "      <td>10.851988</td>\n",
       "      <td>0.336959</td>\n",
       "    </tr>\n",
       "    <tr>\n",
       "      <th>3001</th>\n",
       "      <td>2115</td>\n",
       "      <td>0.522816</td>\n",
       "      <td>8.763524</td>\n",
       "      <td>10.857574</td>\n",
       "      <td>0.110782</td>\n",
       "    </tr>\n",
       "    <tr>\n",
       "      <th>3002</th>\n",
       "      <td>15954</td>\n",
       "      <td>0.876663</td>\n",
       "      <td>128.797611</td>\n",
       "      <td>10.859661</td>\n",
       "      <td>0.211466</td>\n",
       "    </tr>\n",
       "    <tr>\n",
       "      <th>3003</th>\n",
       "      <td>16018</td>\n",
       "      <td>0.614215</td>\n",
       "      <td>74.456650</td>\n",
       "      <td>10.869347</td>\n",
       "      <td>0.177837</td>\n",
       "    </tr>\n",
       "    <tr>\n",
       "      <th>3004</th>\n",
       "      <td>65887</td>\n",
       "      <td>0.347097</td>\n",
       "      <td>165.027607</td>\n",
       "      <td>10.869720</td>\n",
       "      <td>0.256636</td>\n",
       "    </tr>\n",
       "    <tr>\n",
       "      <th>3005</th>\n",
       "      <td>1281</td>\n",
       "      <td>0.793595</td>\n",
       "      <td>112.695920</td>\n",
       "      <td>10.876826</td>\n",
       "      <td>0.116011</td>\n",
       "    </tr>\n",
       "    <tr>\n",
       "      <th>3006</th>\n",
       "      <td>9241</td>\n",
       "      <td>0.887491</td>\n",
       "      <td>77.028008</td>\n",
       "      <td>10.898327</td>\n",
       "      <td>0.183928</td>\n",
       "    </tr>\n",
       "    <tr>\n",
       "      <th>3007</th>\n",
       "      <td>2504</td>\n",
       "      <td>0.425269</td>\n",
       "      <td>170.677484</td>\n",
       "      <td>10.900497</td>\n",
       "      <td>0.104986</td>\n",
       "    </tr>\n",
       "    <tr>\n",
       "      <th>3008</th>\n",
       "      <td>4790</td>\n",
       "      <td>0.915747</td>\n",
       "      <td>151.790663</td>\n",
       "      <td>10.901915</td>\n",
       "      <td>0.150934</td>\n",
       "    </tr>\n",
       "    <tr>\n",
       "      <th>3009</th>\n",
       "      <td>4669</td>\n",
       "      <td>0.836119</td>\n",
       "      <td>42.481741</td>\n",
       "      <td>10.911373</td>\n",
       "      <td>0.144542</td>\n",
       "    </tr>\n",
       "    <tr>\n",
       "      <th>3010</th>\n",
       "      <td>8180</td>\n",
       "      <td>0.434624</td>\n",
       "      <td>138.226912</td>\n",
       "      <td>10.911559</td>\n",
       "      <td>0.147800</td>\n",
       "    </tr>\n",
       "  </tbody>\n",
       "</table>\n",
       "</div>"
      ],
      "text/plain": [
       "     ssnamenr  SHG1G2_R  SHG1G2_obliquity  SHG1G2_chi2red  SHG1G2_rms\n",
       "3000    28954  0.705206         65.652350       10.851988    0.336959\n",
       "3001     2115  0.522816          8.763524       10.857574    0.110782\n",
       "3002    15954  0.876663        128.797611       10.859661    0.211466\n",
       "3003    16018  0.614215         74.456650       10.869347    0.177837\n",
       "3004    65887  0.347097        165.027607       10.869720    0.256636\n",
       "3005     1281  0.793595        112.695920       10.876826    0.116011\n",
       "3006     9241  0.887491         77.028008       10.898327    0.183928\n",
       "3007     2504  0.425269        170.677484       10.900497    0.104986\n",
       "3008     4790  0.915747        151.790663       10.901915    0.150934\n",
       "3009     4669  0.836119         42.481741       10.911373    0.144542\n",
       "3010     8180  0.434624        138.226912       10.911559    0.147800"
      ]
     },
     "execution_count": 17,
     "metadata": {},
     "output_type": "execute_result"
    }
   ],
   "source": [
    "s=3000\n",
    "data[cond].sort_values('SHG1G2_chi2red').reset_index().loc[s:s+10, ['ssnamenr','SHG1G2_R','SHG1G2_obliquity','SHG1G2_chi2red','SHG1G2_rms']]"
   ]
  },
  {
   "cell_type": "markdown",
   "id": "55899490",
   "metadata": {},
   "source": [
    "Some LC signature I think\n",
    "- 9241\n"
   ]
  },
  {
   "cell_type": "code",
   "execution_count": 24,
   "id": "fc78948d",
   "metadata": {},
   "outputs": [],
   "source": [
    "all = data[maskFINK].merge(damit, on=\"sso_name\", how=\"left\")\n",
    "\n",
    "fig, ax = plt.subplots(\n",
    "        figsize=fs.figsize(0.5), gridspec_kw={\"right\": 0.975, \"top\": 0.95, \"bottom\": 0.15}\n",
    ")\n",
    "\n",
    "ax.scatter( all.a/all.b, all.SHG1G2_rms, s=1, alpha=0.5)\n",
    "ax.set_xlabel(\"a/b\")\n",
    "ax.set_ylabel(\"RMS\")\n",
    "\n",
    "fig.savefig(os.path.join(\"..\",\"gfx\",\"rms_vs_ab.png\"), facecolor=\"white\", dpi=150)\n",
    "\n",
    "\n",
    "fig, ax = plt.subplots(\n",
    "        figsize=fs.figsize(0.5), gridspec_kw={\"right\": 0.975, \"top\": 0.95, \"bottom\": 0.15}\n",
    ")\n",
    "\n",
    "ax.scatter( all.R, all.SHG1G2_rms, s=1, alpha=0.5)\n",
    "ax.set_xlabel(\"R\")\n",
    "ax.set_ylabel(\"RMS\")\n",
    "\n",
    "fig.savefig(os.path.join(\"..\",\"gfx\",\"rms_vs_R.png\"), facecolor=\"white\", dpi=150)"
   ]
  },
  {
   "cell_type": "markdown",
   "id": "ede94fcf",
   "metadata": {},
   "source": [
    "# Test scatter DAMIT.R vs FINK.R"
   ]
  },
  {
   "cell_type": "code",
   "execution_count": null,
   "id": "b51a837b",
   "metadata": {},
   "outputs": [],
   "source": [
    "fig, ax = plt.subplots(\n",
    "    figsize=fs.figsize(0.5), gridspec_kw={\"right\": 0.975, \"top\": 0.95, \"bottom\": 0.15}\n",
    ")\n",
    "\n",
    "# Plot FINK Sample\n",
    "r = [0, 1]\n",
    "b = 50\n",
    "\n",
    "all = data[maskFINK].merge(damit, on=\"sso_name\", how=\"left\")\n",
    "\n",
    "# Histogram\n",
    "ax.scatter(\n",
    "    all[\"SHG1G2_R\"],\n",
    "    all.R,\n",
    "    s=1, \n",
    "    marker=\".\",\n",
    "    # color=\"slategray\",\n",
    "    # density=True,\n",
    "    alpha=0.5,\n",
    "    # label=f\"DAMIT ({len(damit):,d})\",\n",
    ")\n",
    "\n",
    "\n",
    "fig.savefig(os.path.join(\"..\",\"gfx\",\"oblateness-scatter.png\"), facecolor=\"white\", dpi=150)\n",
    "# fig.savefig(os.path.join(\"..\",\"gfx\",\"oblateness-scatter.pgf\"))\n",
    "\n"
   ]
  },
  {
   "cell_type": "code",
   "execution_count": null,
   "id": "7da877b4",
   "metadata": {},
   "outputs": [],
   "source": []
  }
 ],
 "metadata": {
  "kernelspec": {
   "display_name": "Python 3 (ipykernel)",
   "language": "python",
   "name": "python3"
  },
  "language_info": {
   "codemirror_mode": {
    "name": "ipython",
    "version": 3
   },
   "file_extension": ".py",
   "mimetype": "text/x-python",
   "name": "python",
   "nbconvert_exporter": "python",
   "pygments_lexer": "ipython3",
   "version": "3.9.12"
  }
 },
 "nbformat": 4,
 "nbformat_minor": 5
}
