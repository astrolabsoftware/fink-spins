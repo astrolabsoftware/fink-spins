{
 "cells": [
  {
   "cell_type": "code",
   "execution_count": 37,
   "id": "c67cc7b8-e6e2-44d4-9be9-ddafd36bca34",
   "metadata": {},
   "outputs": [],
   "source": [
    "import numpy as np\n",
    "import pandas as pd\n",
    "\n",
    "import rocks\n",
    "rocks.set_log_level(\"error\")"
   ]
  },
  {
   "attachments": {},
   "cell_type": "markdown",
   "id": "6198a3d1-286c-4c4b-806e-5c085aabc386",
   "metadata": {},
   "source": [
    "# Get ZTF fit"
   ]
  },
  {
   "cell_type": "code",
   "execution_count": 19,
   "id": "b76b0d15-20ce-4b38-907d-6ce100dfd15f",
   "metadata": {},
   "outputs": [],
   "source": [
    "# Local Configuration\n",
    "data_fink = '../data/ztf/'"
   ]
  },
  {
   "cell_type": "code",
   "execution_count": 20,
   "id": "97ca23d0-f509-45ca-8cf0-0b427ef6c6d6",
   "metadata": {},
   "outputs": [],
   "source": [
    "# ZTF filters 1: g, 2: r\n",
    "filters = {'1': 'g', '2': 'r'}"
   ]
  },
  {
   "cell_type": "code",
   "execution_count": 21,
   "id": "6b4db0c1-36bc-4db9-b2d2-751e97ba0d35",
   "metadata": {},
   "outputs": [],
   "source": [
    "data_hg1g2hyb = pd.read_parquet(f'{data_fink}sso_fink_SHG1G2.parquet') # All\n",
    "data_hg1g2 = pd.read_parquet(f'{data_fink}sso_fink_HG1G2.parquet')\n",
    "data_hg = pd.read_parquet(f'{data_fink}sso_fink_HG.parquet')"
   ]
  },
  {
   "cell_type": "code",
   "execution_count": 22,
   "id": "a470701b-ffd0-41b3-8a6f-a94977303d12",
   "metadata": {},
   "outputs": [
    {
     "data": {
      "text/plain": [
       "{'G1_1': 0.8134157061576843,\n",
       " 'G1_2': 0.5166602730751038,\n",
       " 'G2_1': 0.17281629145145416,\n",
       " 'G2_2': 0.2626616060733795,\n",
       " 'H_1': 15.445298194885254,\n",
       " 'H_2': 14.625930786132812,\n",
       " 'chi2red': 1.8131904602050781,\n",
       " 'errG1_1': 0.26331207156181335,\n",
       " 'errG1_2': 0.20545722544193268,\n",
       " 'errG2_1': 0.06861889362335205,\n",
       " 'errG2_2': 0.046739429235458374,\n",
       " 'errH_1': 0.16449691355228424,\n",
       " 'errH_2': 0.1682967245578766,\n",
       " 'fit': 0.0,\n",
       " 'maxphase': 0.4936143159866333,\n",
       " 'minphase': 0.02395608089864254,\n",
       " 'rms': 0.0790422111749649,\n",
       " 'rms_1': 0.06988099962472916,\n",
       " 'rms_2': 0.08530883491039276,\n",
       " 'status': 2.0}"
      ]
     },
     "execution_count": 22,
     "metadata": {},
     "output_type": "execute_result"
    }
   ],
   "source": [
    "data_hg1g2.loc[0,'params']"
   ]
  },
  {
   "cell_type": "code",
   "execution_count": 23,
   "id": "08b33276-79b7-4a6e-b9f3-9780be262f6f",
   "metadata": {},
   "outputs": [
    {
     "data": {
      "text/plain": [
       "(115238, 115238, 115238)"
      ]
     },
     "execution_count": 23,
     "metadata": {},
     "output_type": "execute_result"
    }
   ],
   "source": [
    "len(data_hg), len(data_hg1g2), len(data_hg1g2hyb)"
   ]
  },
  {
   "cell_type": "code",
   "execution_count": 24,
   "id": "7e15d295-3a65-4d2e-9c00-0fc7d9608479",
   "metadata": {},
   "outputs": [
    {
     "data": {
      "text/plain": [
       "Index(['ssnamenr', 'nmeasurements', 'ndays', 'params'], dtype='object')"
      ]
     },
     "execution_count": 24,
     "metadata": {},
     "output_type": "execute_result"
    }
   ],
   "source": [
    "data_hg1g2hyb.columns"
   ]
  },
  {
   "cell_type": "code",
   "execution_count": 25,
   "id": "be610d64-9c1d-4c94-88ad-2819a8f994d9",
   "metadata": {},
   "outputs": [
    {
     "data": {
      "text/plain": [
       "{'G1_1': 0.6859115362167358,\n",
       " 'G1_2': 0.4637981951236725,\n",
       " 'G2_1': 0.001725436537526548,\n",
       " 'G2_2': 0.0735737755894661,\n",
       " 'H_1': 14.191803932189941,\n",
       " 'H_2': 13.580851554870605,\n",
       " 'R': 0.8703248500823975,\n",
       " 'alpha0': 1.3911526203155518,\n",
       " 'chi2red': 4.832531929016113,\n",
       " 'delta0': -1.1554640531539917,\n",
       " 'errG1_1': 0.6654443144798279,\n",
       " 'errG1_2': 0.4265346825122833,\n",
       " 'errG2_1': 0.21528935432434082,\n",
       " 'errG2_2': 0.14112797379493713,\n",
       " 'errH_1': 0.4686225652694702,\n",
       " 'errH_2': 0.34959638118743896,\n",
       " 'errR': 0.51173335313797,\n",
       " 'erralpha0': 1.1884618997573853,\n",
       " 'errdelta0': 0.7696920037269592,\n",
       " 'fit': 0.0,\n",
       " 'maxCosLambda': 0.2662152349948883,\n",
       " 'maxphase': 0.42834874987602234,\n",
       " 'meanCosLambda': 0.19120392203330994,\n",
       " 'minCosLambda': 6.568335493284394e-07,\n",
       " 'minphase': 0.05220196396112442,\n",
       " 'rms': 0.1726798266172409,\n",
       " 'rms_1': 0.17637817561626434,\n",
       " 'rms_2': 0.1699395626783371,\n",
       " 'status': 2.0}"
      ]
     },
     "execution_count": 25,
     "metadata": {},
     "output_type": "execute_result"
    }
   ],
   "source": [
    "# print(data_hg1g2hyb.loc[0,'params'])\n",
    "# data_hg1g2hyb\n",
    "data_hg1g2hyb.loc[0,'params']"
   ]
  },
  {
   "attachments": {},
   "cell_type": "markdown",
   "id": "cf0502d9-96ac-47fd-81e8-117536a18681",
   "metadata": {},
   "source": [
    "# Reformat solutions"
   ]
  },
  {
   "cell_type": "code",
   "execution_count": 26,
   "id": "07e17835-8b81-4846-b2f8-f60660475ea0",
   "metadata": {},
   "outputs": [
    {
     "data": {
      "text/html": [
       "<pre style=\"white-space:pre;overflow-x:auto;line-height:normal;font-family:Menlo,'DejaVu Sans Mono',consolas,'Courier New',monospace\"><span style=\"color: #800000; text-decoration-color: #800000; font-weight: bold\">ERROR   </span> <span style=\"font-weight: bold\">[</span>rocks<span style=\"font-weight: bold\">]</span> Could not find match for id <span style=\"color: #008080; text-decoration-color: #008080; font-weight: bold\">2016</span> OQ02.                                                            \n",
       "</pre>\n"
      ],
      "text/plain": [
       "\u001b[1;31mERROR   \u001b[0m \u001b[1m[\u001b[0mrocks\u001b[1m]\u001b[0m Could not find match for id \u001b[1;36m2016\u001b[0m OQ02.                                                            \n"
      ]
     },
     "metadata": {},
     "output_type": "display_data"
    },
    {
     "data": {
      "text/html": [
       "<pre style=\"white-space:pre;overflow-x:auto;line-height:normal;font-family:Menlo,'DejaVu Sans Mono',consolas,'Courier New',monospace\"><span style=\"color: #800000; text-decoration-color: #800000; font-weight: bold\">ERROR   </span> <span style=\"font-weight: bold\">[</span>rocks<span style=\"font-weight: bold\">]</span> Could not find match for id <span style=\"color: #008080; text-decoration-color: #008080; font-weight: bold\">2020</span> FW03.                                                            \n",
       "</pre>\n"
      ],
      "text/plain": [
       "\u001b[1;31mERROR   \u001b[0m \u001b[1m[\u001b[0mrocks\u001b[1m]\u001b[0m Could not find match for id \u001b[1;36m2020\u001b[0m FW03.                                                            \n"
      ]
     },
     "metadata": {},
     "output_type": "display_data"
    },
    {
     "data": {
      "text/html": [
       "<pre style=\"white-space:pre;overflow-x:auto;line-height:normal;font-family:Menlo,'DejaVu Sans Mono',consolas,'Courier New',monospace\"><span style=\"color: #800000; text-decoration-color: #800000; font-weight: bold\">ERROR   </span> <span style=\"font-weight: bold\">[</span>rocks<span style=\"font-weight: bold\">]</span> Could not find match for id <span style=\"color: #008080; text-decoration-color: #008080; font-weight: bold\">2019</span> XG01.                                                            \n",
       "</pre>\n"
      ],
      "text/plain": [
       "\u001b[1;31mERROR   \u001b[0m \u001b[1m[\u001b[0mrocks\u001b[1m]\u001b[0m Could not find match for id \u001b[1;36m2019\u001b[0m XG01.                                                            \n"
      ]
     },
     "metadata": {},
     "output_type": "display_data"
    },
    {
     "data": {
      "text/html": [
       "<pre style=\"white-space:pre;overflow-x:auto;line-height:normal;font-family:Menlo,'DejaVu Sans Mono',consolas,'Courier New',monospace\"><span style=\"color: #800000; text-decoration-color: #800000; font-weight: bold\">ERROR   </span> <span style=\"font-weight: bold\">[</span>rocks<span style=\"font-weight: bold\">]</span> Could not find match for id <span style=\"color: #008080; text-decoration-color: #008080; font-weight: bold\">2005</span> CD07.                                                            \n",
       "</pre>\n"
      ],
      "text/plain": [
       "\u001b[1;31mERROR   \u001b[0m \u001b[1m[\u001b[0mrocks\u001b[1m]\u001b[0m Could not find match for id \u001b[1;36m2005\u001b[0m CD07.                                                            \n"
      ]
     },
     "metadata": {},
     "output_type": "display_data"
    },
    {
     "data": {
      "text/html": [
       "<pre style=\"white-space:pre;overflow-x:auto;line-height:normal;font-family:Menlo,'DejaVu Sans Mono',consolas,'Courier New',monospace\"><span style=\"color: #800000; text-decoration-color: #800000; font-weight: bold\">ERROR   </span> <span style=\"font-weight: bold\">[</span>rocks<span style=\"font-weight: bold\">]</span> Could not find match for id <span style=\"color: #008080; text-decoration-color: #008080; font-weight: bold\">2017</span> HJ04.                                                            \n",
       "</pre>\n"
      ],
      "text/plain": [
       "\u001b[1;31mERROR   \u001b[0m \u001b[1m[\u001b[0mrocks\u001b[1m]\u001b[0m Could not find match for id \u001b[1;36m2017\u001b[0m HJ04.                                                            \n"
      ]
     },
     "metadata": {},
     "output_type": "display_data"
    },
    {
     "data": {
      "text/html": [
       "<pre style=\"white-space:pre;overflow-x:auto;line-height:normal;font-family:Menlo,'DejaVu Sans Mono',consolas,'Courier New',monospace\"><span style=\"color: #800000; text-decoration-color: #800000; font-weight: bold\">ERROR   </span> <span style=\"font-weight: bold\">[</span>rocks<span style=\"font-weight: bold\">]</span> Could not find match for id <span style=\"color: #008080; text-decoration-color: #008080; font-weight: bold\">2017</span> RM00.                                                            \n",
       "</pre>\n"
      ],
      "text/plain": [
       "\u001b[1;31mERROR   \u001b[0m \u001b[1m[\u001b[0mrocks\u001b[1m]\u001b[0m Could not find match for id \u001b[1;36m2017\u001b[0m RM00.                                                            \n"
      ]
     },
     "metadata": {},
     "output_type": "display_data"
    },
    {
     "data": {
      "text/html": [
       "<pre style=\"white-space:pre;overflow-x:auto;line-height:normal;font-family:Menlo,'DejaVu Sans Mono',consolas,'Courier New',monospace\"><span style=\"color: #800000; text-decoration-color: #800000; font-weight: bold\">ERROR   </span> <span style=\"font-weight: bold\">[</span>rocks<span style=\"font-weight: bold\">]</span> Could not find match for id <span style=\"color: #008080; text-decoration-color: #008080; font-weight: bold\">2017</span> LO01.                                                            \n",
       "</pre>\n"
      ],
      "text/plain": [
       "\u001b[1;31mERROR   \u001b[0m \u001b[1m[\u001b[0mrocks\u001b[1m]\u001b[0m Could not find match for id \u001b[1;36m2017\u001b[0m LO01.                                                            \n"
      ]
     },
     "metadata": {},
     "output_type": "display_data"
    },
    {
     "data": {
      "text/html": [
       "<pre style=\"white-space:pre;overflow-x:auto;line-height:normal;font-family:Menlo,'DejaVu Sans Mono',consolas,'Courier New',monospace\"><span style=\"color: #800000; text-decoration-color: #800000; font-weight: bold\">ERROR   </span> <span style=\"font-weight: bold\">[</span>rocks<span style=\"font-weight: bold\">]</span> Could not find match for id <span style=\"color: #008080; text-decoration-color: #008080; font-weight: bold\">2009</span> CD04.                                                            \n",
       "</pre>\n"
      ],
      "text/plain": [
       "\u001b[1;31mERROR   \u001b[0m \u001b[1m[\u001b[0mrocks\u001b[1m]\u001b[0m Could not find match for id \u001b[1;36m2009\u001b[0m CD04.                                                            \n"
      ]
     },
     "metadata": {},
     "output_type": "display_data"
    },
    {
     "data": {
      "text/html": [
       "<pre style=\"white-space:pre;overflow-x:auto;line-height:normal;font-family:Menlo,'DejaVu Sans Mono',consolas,'Courier New',monospace\"><span style=\"color: #800000; text-decoration-color: #800000; font-weight: bold\">ERROR   </span> <span style=\"font-weight: bold\">[</span>rocks<span style=\"font-weight: bold\">]</span> Could not find match for id <span style=\"color: #008080; text-decoration-color: #008080; font-weight: bold\">2018</span> LM04.                                                            \n",
       "</pre>\n"
      ],
      "text/plain": [
       "\u001b[1;31mERROR   \u001b[0m \u001b[1m[\u001b[0mrocks\u001b[1m]\u001b[0m Could not find match for id \u001b[1;36m2018\u001b[0m LM04.                                                            \n"
      ]
     },
     "metadata": {},
     "output_type": "display_data"
    },
    {
     "data": {
      "text/html": [
       "<pre style=\"white-space:pre;overflow-x:auto;line-height:normal;font-family:Menlo,'DejaVu Sans Mono',consolas,'Courier New',monospace\"><span style=\"color: #800000; text-decoration-color: #800000; font-weight: bold\">ERROR   </span> <span style=\"font-weight: bold\">[</span>rocks<span style=\"font-weight: bold\">]</span> Could not find match for id <span style=\"color: #008080; text-decoration-color: #008080; font-weight: bold\">2003</span> VA03.                                                            \n",
       "</pre>\n"
      ],
      "text/plain": [
       "\u001b[1;31mERROR   \u001b[0m \u001b[1m[\u001b[0mrocks\u001b[1m]\u001b[0m Could not find match for id \u001b[1;36m2003\u001b[0m VA03.                                                            \n"
      ]
     },
     "metadata": {},
     "output_type": "display_data"
    },
    {
     "data": {
      "text/html": [
       "<pre style=\"white-space:pre;overflow-x:auto;line-height:normal;font-family:Menlo,'DejaVu Sans Mono',consolas,'Courier New',monospace\"><span style=\"color: #800000; text-decoration-color: #800000; font-weight: bold\">ERROR   </span> <span style=\"font-weight: bold\">[</span>rocks<span style=\"font-weight: bold\">]</span> Could not find match for id <span style=\"color: #008080; text-decoration-color: #008080; font-weight: bold\">2020</span> KZ05.                                                            \n",
       "</pre>\n"
      ],
      "text/plain": [
       "\u001b[1;31mERROR   \u001b[0m \u001b[1m[\u001b[0mrocks\u001b[1m]\u001b[0m Could not find match for id \u001b[1;36m2020\u001b[0m KZ05.                                                            \n"
      ]
     },
     "metadata": {},
     "output_type": "display_data"
    },
    {
     "data": {
      "text/html": [
       "<pre style=\"white-space:pre;overflow-x:auto;line-height:normal;font-family:Menlo,'DejaVu Sans Mono',consolas,'Courier New',monospace\"><span style=\"color: #800000; text-decoration-color: #800000; font-weight: bold\">ERROR   </span> <span style=\"font-weight: bold\">[</span>rocks<span style=\"font-weight: bold\">]</span> Could not find match for id <span style=\"color: #008080; text-decoration-color: #008080; font-weight: bold\">2011</span> LZ05.                                                            \n",
       "</pre>\n"
      ],
      "text/plain": [
       "\u001b[1;31mERROR   \u001b[0m \u001b[1m[\u001b[0mrocks\u001b[1m]\u001b[0m Could not find match for id \u001b[1;36m2011\u001b[0m LZ05.                                                            \n"
      ]
     },
     "metadata": {},
     "output_type": "display_data"
    },
    {
     "data": {
      "text/html": [
       "<pre style=\"white-space:pre;overflow-x:auto;line-height:normal;font-family:Menlo,'DejaVu Sans Mono',consolas,'Courier New',monospace\"><span style=\"color: #800000; text-decoration-color: #800000; font-weight: bold\">ERROR   </span> <span style=\"font-weight: bold\">[</span>rocks<span style=\"font-weight: bold\">]</span> Could not find match for id <span style=\"color: #008080; text-decoration-color: #008080; font-weight: bold\">2006</span> QB03.                                                            \n",
       "</pre>\n"
      ],
      "text/plain": [
       "\u001b[1;31mERROR   \u001b[0m \u001b[1m[\u001b[0mrocks\u001b[1m]\u001b[0m Could not find match for id \u001b[1;36m2006\u001b[0m QB03.                                                            \n"
      ]
     },
     "metadata": {},
     "output_type": "display_data"
    },
    {
     "data": {
      "text/html": [
       "<pre style=\"white-space:pre;overflow-x:auto;line-height:normal;font-family:Menlo,'DejaVu Sans Mono',consolas,'Courier New',monospace\"><span style=\"color: #800000; text-decoration-color: #800000; font-weight: bold\">ERROR   </span> <span style=\"font-weight: bold\">[</span>rocks<span style=\"font-weight: bold\">]</span> Could not find match for id <span style=\"color: #008080; text-decoration-color: #008080; font-weight: bold\">2020</span> ML03.                                                            \n",
       "</pre>\n"
      ],
      "text/plain": [
       "\u001b[1;31mERROR   \u001b[0m \u001b[1m[\u001b[0mrocks\u001b[1m]\u001b[0m Could not find match for id \u001b[1;36m2020\u001b[0m ML03.                                                            \n"
      ]
     },
     "metadata": {},
     "output_type": "display_data"
    },
    {
     "data": {
      "text/html": [
       "<pre style=\"white-space:pre;overflow-x:auto;line-height:normal;font-family:Menlo,'DejaVu Sans Mono',consolas,'Courier New',monospace\"><span style=\"color: #800000; text-decoration-color: #800000; font-weight: bold\">ERROR   </span> <span style=\"font-weight: bold\">[</span>rocks<span style=\"font-weight: bold\">]</span> Could not find match for id <span style=\"color: #008080; text-decoration-color: #008080; font-weight: bold\">2020</span> OL03.                                                            \n",
       "</pre>\n"
      ],
      "text/plain": [
       "\u001b[1;31mERROR   \u001b[0m \u001b[1m[\u001b[0mrocks\u001b[1m]\u001b[0m Could not find match for id \u001b[1;36m2020\u001b[0m OL03.                                                            \n"
      ]
     },
     "metadata": {},
     "output_type": "display_data"
    },
    {
     "data": {
      "text/html": [
       "<pre style=\"white-space:pre;overflow-x:auto;line-height:normal;font-family:Menlo,'DejaVu Sans Mono',consolas,'Courier New',monospace\"><span style=\"color: #800000; text-decoration-color: #800000; font-weight: bold\">ERROR   </span> <span style=\"font-weight: bold\">[</span>rocks<span style=\"font-weight: bold\">]</span> Could not find match for id <span style=\"color: #008080; text-decoration-color: #008080; font-weight: bold\">2002</span> GZ08.                                                            \n",
       "</pre>\n"
      ],
      "text/plain": [
       "\u001b[1;31mERROR   \u001b[0m \u001b[1m[\u001b[0mrocks\u001b[1m]\u001b[0m Could not find match for id \u001b[1;36m2002\u001b[0m GZ08.                                                            \n"
      ]
     },
     "metadata": {},
     "output_type": "display_data"
    },
    {
     "data": {
      "text/html": [
       "<pre style=\"white-space:pre;overflow-x:auto;line-height:normal;font-family:Menlo,'DejaVu Sans Mono',consolas,'Courier New',monospace\"><span style=\"color: #800000; text-decoration-color: #800000; font-weight: bold\">ERROR   </span> <span style=\"font-weight: bold\">[</span>rocks<span style=\"font-weight: bold\">]</span> Could not find match for id <span style=\"color: #008080; text-decoration-color: #008080; font-weight: bold\">2020</span> KU04.                                                            \n",
       "</pre>\n"
      ],
      "text/plain": [
       "\u001b[1;31mERROR   \u001b[0m \u001b[1m[\u001b[0mrocks\u001b[1m]\u001b[0m Could not find match for id \u001b[1;36m2020\u001b[0m KU04.                                                            \n"
      ]
     },
     "metadata": {},
     "output_type": "display_data"
    },
    {
     "data": {
      "text/html": [
       "<pre style=\"white-space:pre;overflow-x:auto;line-height:normal;font-family:Menlo,'DejaVu Sans Mono',consolas,'Courier New',monospace\"><span style=\"color: #800000; text-decoration-color: #800000; font-weight: bold\">ERROR   </span> <span style=\"font-weight: bold\">[</span>rocks<span style=\"font-weight: bold\">]</span> Could not find match for id <span style=\"color: #008080; text-decoration-color: #008080; font-weight: bold\">2005</span> YV02.                                                            \n",
       "</pre>\n"
      ],
      "text/plain": [
       "\u001b[1;31mERROR   \u001b[0m \u001b[1m[\u001b[0mrocks\u001b[1m]\u001b[0m Could not find match for id \u001b[1;36m2005\u001b[0m YV02.                                                            \n"
      ]
     },
     "metadata": {},
     "output_type": "display_data"
    },
    {
     "data": {
      "text/html": [
       "<pre style=\"white-space:pre;overflow-x:auto;line-height:normal;font-family:Menlo,'DejaVu Sans Mono',consolas,'Courier New',monospace\"><span style=\"color: #800000; text-decoration-color: #800000; font-weight: bold\">ERROR   </span> <span style=\"font-weight: bold\">[</span>rocks<span style=\"font-weight: bold\">]</span> Could not find match for id <span style=\"color: #008080; text-decoration-color: #008080; font-weight: bold\">2011</span> AJ05.                                                            \n",
       "</pre>\n"
      ],
      "text/plain": [
       "\u001b[1;31mERROR   \u001b[0m \u001b[1m[\u001b[0mrocks\u001b[1m]\u001b[0m Could not find match for id \u001b[1;36m2011\u001b[0m AJ05.                                                            \n"
      ]
     },
     "metadata": {},
     "output_type": "display_data"
    },
    {
     "data": {
      "text/html": [
       "<pre style=\"white-space:pre;overflow-x:auto;line-height:normal;font-family:Menlo,'DejaVu Sans Mono',consolas,'Courier New',monospace\"><span style=\"color: #800000; text-decoration-color: #800000; font-weight: bold\">ERROR   </span> <span style=\"font-weight: bold\">[</span>rocks<span style=\"font-weight: bold\">]</span> Could not find match for id <span style=\"color: #008080; text-decoration-color: #008080; font-weight: bold\">2020</span> HP08.                                                            \n",
       "</pre>\n"
      ],
      "text/plain": [
       "\u001b[1;31mERROR   \u001b[0m \u001b[1m[\u001b[0mrocks\u001b[1m]\u001b[0m Could not find match for id \u001b[1;36m2020\u001b[0m HP08.                                                            \n"
      ]
     },
     "metadata": {},
     "output_type": "display_data"
    },
    {
     "data": {
      "text/html": [
       "<pre style=\"white-space:pre;overflow-x:auto;line-height:normal;font-family:Menlo,'DejaVu Sans Mono',consolas,'Courier New',monospace\"><span style=\"color: #800000; text-decoration-color: #800000; font-weight: bold\">ERROR   </span> <span style=\"font-weight: bold\">[</span>rocks<span style=\"font-weight: bold\">]</span> Could not find match for id <span style=\"color: #008080; text-decoration-color: #008080; font-weight: bold\">2016</span> XB07.                                                            \n",
       "</pre>\n"
      ],
      "text/plain": [
       "\u001b[1;31mERROR   \u001b[0m \u001b[1m[\u001b[0mrocks\u001b[1m]\u001b[0m Could not find match for id \u001b[1;36m2016\u001b[0m XB07.                                                            \n"
      ]
     },
     "metadata": {},
     "output_type": "display_data"
    },
    {
     "data": {
      "text/html": [
       "<pre style=\"white-space:pre;overflow-x:auto;line-height:normal;font-family:Menlo,'DejaVu Sans Mono',consolas,'Courier New',monospace\"><span style=\"color: #800000; text-decoration-color: #800000; font-weight: bold\">ERROR   </span> <span style=\"font-weight: bold\">[</span>rocks<span style=\"font-weight: bold\">]</span> Could not find match for id <span style=\"color: #008080; text-decoration-color: #008080; font-weight: bold\">2020</span> PD01.                                                            \n",
       "</pre>\n"
      ],
      "text/plain": [
       "\u001b[1;31mERROR   \u001b[0m \u001b[1m[\u001b[0mrocks\u001b[1m]\u001b[0m Could not find match for id \u001b[1;36m2020\u001b[0m PD01.                                                            \n"
      ]
     },
     "metadata": {},
     "output_type": "display_data"
    },
    {
     "data": {
      "text/html": [
       "<pre style=\"white-space:pre;overflow-x:auto;line-height:normal;font-family:Menlo,'DejaVu Sans Mono',consolas,'Courier New',monospace\"><span style=\"color: #800000; text-decoration-color: #800000; font-weight: bold\">ERROR   </span> <span style=\"font-weight: bold\">[</span>rocks<span style=\"font-weight: bold\">]</span> Could not find match for id <span style=\"color: #008080; text-decoration-color: #008080; font-weight: bold\">2003</span> NM03.                                                            \n",
       "</pre>\n"
      ],
      "text/plain": [
       "\u001b[1;31mERROR   \u001b[0m \u001b[1m[\u001b[0mrocks\u001b[1m]\u001b[0m Could not find match for id \u001b[1;36m2003\u001b[0m NM03.                                                            \n"
      ]
     },
     "metadata": {},
     "output_type": "display_data"
    },
    {
     "data": {
      "text/html": [
       "<pre style=\"white-space:pre;overflow-x:auto;line-height:normal;font-family:Menlo,'DejaVu Sans Mono',consolas,'Courier New',monospace\"><span style=\"color: #800000; text-decoration-color: #800000; font-weight: bold\">ERROR   </span> <span style=\"font-weight: bold\">[</span>rocks<span style=\"font-weight: bold\">]</span> Could not find match for id <span style=\"color: #008080; text-decoration-color: #008080; font-weight: bold\">2007</span> TG08.                                                            \n",
       "</pre>\n"
      ],
      "text/plain": [
       "\u001b[1;31mERROR   \u001b[0m \u001b[1m[\u001b[0mrocks\u001b[1m]\u001b[0m Could not find match for id \u001b[1;36m2007\u001b[0m TG08.                                                            \n"
      ]
     },
     "metadata": {},
     "output_type": "display_data"
    },
    {
     "data": {
      "text/html": [
       "<pre style=\"white-space:pre;overflow-x:auto;line-height:normal;font-family:Menlo,'DejaVu Sans Mono',consolas,'Courier New',monospace\"><span style=\"color: #800000; text-decoration-color: #800000; font-weight: bold\">ERROR   </span> <span style=\"font-weight: bold\">[</span>rocks<span style=\"font-weight: bold\">]</span> Could not find match for id <span style=\"color: #008080; text-decoration-color: #008080; font-weight: bold\">1999</span> UK05.                                                            \n",
       "</pre>\n"
      ],
      "text/plain": [
       "\u001b[1;31mERROR   \u001b[0m \u001b[1m[\u001b[0mrocks\u001b[1m]\u001b[0m Could not find match for id \u001b[1;36m1999\u001b[0m UK05.                                                            \n"
      ]
     },
     "metadata": {},
     "output_type": "display_data"
    },
    {
     "data": {
      "text/html": [
       "<pre style=\"white-space:pre;overflow-x:auto;line-height:normal;font-family:Menlo,'DejaVu Sans Mono',consolas,'Courier New',monospace\"><span style=\"color: #800000; text-decoration-color: #800000; font-weight: bold\">ERROR   </span> <span style=\"font-weight: bold\">[</span>rocks<span style=\"font-weight: bold\">]</span> Could not find match for id <span style=\"color: #008080; text-decoration-color: #008080; font-weight: bold\">2020</span> AV02.                                                            \n",
       "</pre>\n"
      ],
      "text/plain": [
       "\u001b[1;31mERROR   \u001b[0m \u001b[1m[\u001b[0mrocks\u001b[1m]\u001b[0m Could not find match for id \u001b[1;36m2020\u001b[0m AV02.                                                            \n"
      ]
     },
     "metadata": {},
     "output_type": "display_data"
    },
    {
     "data": {
      "text/html": [
       "<pre style=\"white-space:pre;overflow-x:auto;line-height:normal;font-family:Menlo,'DejaVu Sans Mono',consolas,'Courier New',monospace\"><span style=\"color: #800000; text-decoration-color: #800000; font-weight: bold\">ERROR   </span> <span style=\"font-weight: bold\">[</span>rocks<span style=\"font-weight: bold\">]</span> Could not find match for id <span style=\"color: #008080; text-decoration-color: #008080; font-weight: bold\">2017</span> YH03.                                                            \n",
       "</pre>\n"
      ],
      "text/plain": [
       "\u001b[1;31mERROR   \u001b[0m \u001b[1m[\u001b[0mrocks\u001b[1m]\u001b[0m Could not find match for id \u001b[1;36m2017\u001b[0m YH03.                                                            \n"
      ]
     },
     "metadata": {},
     "output_type": "display_data"
    },
    {
     "data": {
      "text/html": [
       "<pre style=\"white-space:pre;overflow-x:auto;line-height:normal;font-family:Menlo,'DejaVu Sans Mono',consolas,'Courier New',monospace\"><span style=\"color: #800000; text-decoration-color: #800000; font-weight: bold\">ERROR   </span> <span style=\"font-weight: bold\">[</span>rocks<span style=\"font-weight: bold\">]</span> Could not find match for id <span style=\"color: #008080; text-decoration-color: #008080; font-weight: bold\">2011</span> YQ04.                                                            \n",
       "</pre>\n"
      ],
      "text/plain": [
       "\u001b[1;31mERROR   \u001b[0m \u001b[1m[\u001b[0mrocks\u001b[1m]\u001b[0m Could not find match for id \u001b[1;36m2011\u001b[0m YQ04.                                                            \n"
      ]
     },
     "metadata": {},
     "output_type": "display_data"
    },
    {
     "data": {
      "text/html": [
       "<pre style=\"white-space:pre;overflow-x:auto;line-height:normal;font-family:Menlo,'DejaVu Sans Mono',consolas,'Courier New',monospace\"><span style=\"color: #800000; text-decoration-color: #800000; font-weight: bold\">ERROR   </span> <span style=\"font-weight: bold\">[</span>rocks<span style=\"font-weight: bold\">]</span> Could not find match for id <span style=\"color: #008080; text-decoration-color: #008080; font-weight: bold\">2003</span> RK07.                                                            \n",
       "</pre>\n"
      ],
      "text/plain": [
       "\u001b[1;31mERROR   \u001b[0m \u001b[1m[\u001b[0mrocks\u001b[1m]\u001b[0m Could not find match for id \u001b[1;36m2003\u001b[0m RK07.                                                            \n"
      ]
     },
     "metadata": {},
     "output_type": "display_data"
    },
    {
     "data": {
      "text/html": [
       "<pre style=\"white-space:pre;overflow-x:auto;line-height:normal;font-family:Menlo,'DejaVu Sans Mono',consolas,'Courier New',monospace\"><span style=\"color: #800000; text-decoration-color: #800000; font-weight: bold\">ERROR   </span> <span style=\"font-weight: bold\">[</span>rocks<span style=\"font-weight: bold\">]</span> Could not find match for id <span style=\"color: #008080; text-decoration-color: #008080; font-weight: bold\">2007</span> NX01.                                                            \n",
       "</pre>\n"
      ],
      "text/plain": [
       "\u001b[1;31mERROR   \u001b[0m \u001b[1m[\u001b[0mrocks\u001b[1m]\u001b[0m Could not find match for id \u001b[1;36m2007\u001b[0m NX01.                                                            \n"
      ]
     },
     "metadata": {},
     "output_type": "display_data"
    },
    {
     "data": {
      "text/html": [
       "<pre style=\"white-space:pre;overflow-x:auto;line-height:normal;font-family:Menlo,'DejaVu Sans Mono',consolas,'Courier New',monospace\"><span style=\"color: #800000; text-decoration-color: #800000; font-weight: bold\">ERROR   </span> <span style=\"font-weight: bold\">[</span>rocks<span style=\"font-weight: bold\">]</span> Could not find match for id <span style=\"color: #008080; text-decoration-color: #008080; font-weight: bold\">2014</span> KL05.                                                            \n",
       "</pre>\n"
      ],
      "text/plain": [
       "\u001b[1;31mERROR   \u001b[0m \u001b[1m[\u001b[0mrocks\u001b[1m]\u001b[0m Could not find match for id \u001b[1;36m2014\u001b[0m KL05.                                                            \n"
      ]
     },
     "metadata": {},
     "output_type": "display_data"
    },
    {
     "data": {
      "text/html": [
       "<pre style=\"white-space:pre;overflow-x:auto;line-height:normal;font-family:Menlo,'DejaVu Sans Mono',consolas,'Courier New',monospace\"><span style=\"color: #800000; text-decoration-color: #800000; font-weight: bold\">ERROR   </span> <span style=\"font-weight: bold\">[</span>rocks<span style=\"font-weight: bold\">]</span> Could not find match for id <span style=\"color: #008080; text-decoration-color: #008080; font-weight: bold\">2020</span> OC08.                                                            \n",
       "</pre>\n"
      ],
      "text/plain": [
       "\u001b[1;31mERROR   \u001b[0m \u001b[1m[\u001b[0mrocks\u001b[1m]\u001b[0m Could not find match for id \u001b[1;36m2020\u001b[0m OC08.                                                            \n"
      ]
     },
     "metadata": {},
     "output_type": "display_data"
    },
    {
     "data": {
      "text/html": [
       "<pre style=\"white-space:pre;overflow-x:auto;line-height:normal;font-family:Menlo,'DejaVu Sans Mono',consolas,'Courier New',monospace\"><span style=\"color: #800000; text-decoration-color: #800000; font-weight: bold\">ERROR   </span> <span style=\"font-weight: bold\">[</span>rocks<span style=\"font-weight: bold\">]</span> Could not find match for id <span style=\"color: #008080; text-decoration-color: #008080; font-weight: bold\">2020</span> NA00.                                                            \n",
       "</pre>\n"
      ],
      "text/plain": [
       "\u001b[1;31mERROR   \u001b[0m \u001b[1m[\u001b[0mrocks\u001b[1m]\u001b[0m Could not find match for id \u001b[1;36m2020\u001b[0m NA00.                                                            \n"
      ]
     },
     "metadata": {},
     "output_type": "display_data"
    },
    {
     "data": {
      "text/html": [
       "<pre style=\"white-space:pre;overflow-x:auto;line-height:normal;font-family:Menlo,'DejaVu Sans Mono',consolas,'Courier New',monospace\"><span style=\"color: #800000; text-decoration-color: #800000; font-weight: bold\">ERROR   </span> <span style=\"font-weight: bold\">[</span>rocks<span style=\"font-weight: bold\">]</span> Could not find match for id <span style=\"color: #008080; text-decoration-color: #008080; font-weight: bold\">2016</span> OK00.                                                            \n",
       "</pre>\n"
      ],
      "text/plain": [
       "\u001b[1;31mERROR   \u001b[0m \u001b[1m[\u001b[0mrocks\u001b[1m]\u001b[0m Could not find match for id \u001b[1;36m2016\u001b[0m OK00.                                                            \n"
      ]
     },
     "metadata": {},
     "output_type": "display_data"
    },
    {
     "data": {
      "text/html": [
       "<pre style=\"white-space:pre;overflow-x:auto;line-height:normal;font-family:Menlo,'DejaVu Sans Mono',consolas,'Courier New',monospace\"><span style=\"color: #800000; text-decoration-color: #800000; font-weight: bold\">ERROR   </span> <span style=\"font-weight: bold\">[</span>rocks<span style=\"font-weight: bold\">]</span> Could not find match for id <span style=\"color: #008080; text-decoration-color: #008080; font-weight: bold\">2007</span> WJ07.                                                            \n",
       "</pre>\n"
      ],
      "text/plain": [
       "\u001b[1;31mERROR   \u001b[0m \u001b[1m[\u001b[0mrocks\u001b[1m]\u001b[0m Could not find match for id \u001b[1;36m2007\u001b[0m WJ07.                                                            \n"
      ]
     },
     "metadata": {},
     "output_type": "display_data"
    },
    {
     "data": {
      "text/html": [
       "<pre style=\"white-space:pre;overflow-x:auto;line-height:normal;font-family:Menlo,'DejaVu Sans Mono',consolas,'Courier New',monospace\"><span style=\"color: #800000; text-decoration-color: #800000; font-weight: bold\">ERROR   </span> <span style=\"font-weight: bold\">[</span>rocks<span style=\"font-weight: bold\">]</span> Could not find match for id <span style=\"color: #008080; text-decoration-color: #008080; font-weight: bold\">2012</span> UA00.                                                            \n",
       "</pre>\n"
      ],
      "text/plain": [
       "\u001b[1;31mERROR   \u001b[0m \u001b[1m[\u001b[0mrocks\u001b[1m]\u001b[0m Could not find match for id \u001b[1;36m2012\u001b[0m UA00.                                                            \n"
      ]
     },
     "metadata": {},
     "output_type": "display_data"
    },
    {
     "data": {
      "text/html": [
       "<pre style=\"white-space:pre;overflow-x:auto;line-height:normal;font-family:Menlo,'DejaVu Sans Mono',consolas,'Courier New',monospace\"><span style=\"color: #800000; text-decoration-color: #800000; font-weight: bold\">ERROR   </span> <span style=\"font-weight: bold\">[</span>rocks<span style=\"font-weight: bold\">]</span> Could not find match for id <span style=\"color: #008080; text-decoration-color: #008080; font-weight: bold\">2013</span> WJ00.                                                            \n",
       "</pre>\n"
      ],
      "text/plain": [
       "\u001b[1;31mERROR   \u001b[0m \u001b[1m[\u001b[0mrocks\u001b[1m]\u001b[0m Could not find match for id \u001b[1;36m2013\u001b[0m WJ00.                                                            \n"
      ]
     },
     "metadata": {},
     "output_type": "display_data"
    },
    {
     "data": {
      "text/html": [
       "<pre style=\"white-space:pre;overflow-x:auto;line-height:normal;font-family:Menlo,'DejaVu Sans Mono',consolas,'Courier New',monospace\"><span style=\"color: #800000; text-decoration-color: #800000; font-weight: bold\">ERROR   </span> <span style=\"font-weight: bold\">[</span>rocks<span style=\"font-weight: bold\">]</span> Could not find match for id <span style=\"color: #008080; text-decoration-color: #008080; font-weight: bold\">2013</span> PY06.                                                            \n",
       "</pre>\n"
      ],
      "text/plain": [
       "\u001b[1;31mERROR   \u001b[0m \u001b[1m[\u001b[0mrocks\u001b[1m]\u001b[0m Could not find match for id \u001b[1;36m2013\u001b[0m PY06.                                                            \n"
      ]
     },
     "metadata": {},
     "output_type": "display_data"
    },
    {
     "data": {
      "text/html": [
       "<pre style=\"white-space:pre;overflow-x:auto;line-height:normal;font-family:Menlo,'DejaVu Sans Mono',consolas,'Courier New',monospace\"><span style=\"color: #800000; text-decoration-color: #800000; font-weight: bold\">ERROR   </span> <span style=\"font-weight: bold\">[</span>rocks<span style=\"font-weight: bold\">]</span> Could not find match for id <span style=\"color: #008080; text-decoration-color: #008080; font-weight: bold\">2020</span> VF01.                                                            \n",
       "</pre>\n"
      ],
      "text/plain": [
       "\u001b[1;31mERROR   \u001b[0m \u001b[1m[\u001b[0mrocks\u001b[1m]\u001b[0m Could not find match for id \u001b[1;36m2020\u001b[0m VF01.                                                            \n"
      ]
     },
     "metadata": {},
     "output_type": "display_data"
    },
    {
     "data": {
      "text/html": [
       "<pre style=\"white-space:pre;overflow-x:auto;line-height:normal;font-family:Menlo,'DejaVu Sans Mono',consolas,'Courier New',monospace\"><span style=\"color: #800000; text-decoration-color: #800000; font-weight: bold\">ERROR   </span> <span style=\"font-weight: bold\">[</span>rocks<span style=\"font-weight: bold\">]</span> Could not find match for id <span style=\"color: #008080; text-decoration-color: #008080; font-weight: bold\">2014</span> RH00.                                                            \n",
       "</pre>\n"
      ],
      "text/plain": [
       "\u001b[1;31mERROR   \u001b[0m \u001b[1m[\u001b[0mrocks\u001b[1m]\u001b[0m Could not find match for id \u001b[1;36m2014\u001b[0m RH00.                                                            \n"
      ]
     },
     "metadata": {},
     "output_type": "display_data"
    },
    {
     "data": {
      "text/html": [
       "<pre style=\"white-space:pre;overflow-x:auto;line-height:normal;font-family:Menlo,'DejaVu Sans Mono',consolas,'Courier New',monospace\"><span style=\"color: #800000; text-decoration-color: #800000; font-weight: bold\">ERROR   </span> <span style=\"font-weight: bold\">[</span>rocks<span style=\"font-weight: bold\">]</span> Could not find match for id <span style=\"color: #008080; text-decoration-color: #008080; font-weight: bold\">2016</span> QP01.                                                            \n",
       "</pre>\n"
      ],
      "text/plain": [
       "\u001b[1;31mERROR   \u001b[0m \u001b[1m[\u001b[0mrocks\u001b[1m]\u001b[0m Could not find match for id \u001b[1;36m2016\u001b[0m QP01.                                                            \n"
      ]
     },
     "metadata": {},
     "output_type": "display_data"
    },
    {
     "data": {
      "text/html": [
       "<pre style=\"white-space:pre;overflow-x:auto;line-height:normal;font-family:Menlo,'DejaVu Sans Mono',consolas,'Courier New',monospace\"><span style=\"color: #800000; text-decoration-color: #800000; font-weight: bold\">ERROR   </span> <span style=\"font-weight: bold\">[</span>rocks<span style=\"font-weight: bold\">]</span> Could not find match for id <span style=\"color: #008080; text-decoration-color: #008080; font-weight: bold\">2007</span> AS01.                                                            \n",
       "</pre>\n"
      ],
      "text/plain": [
       "\u001b[1;31mERROR   \u001b[0m \u001b[1m[\u001b[0mrocks\u001b[1m]\u001b[0m Could not find match for id \u001b[1;36m2007\u001b[0m AS01.                                                            \n"
      ]
     },
     "metadata": {},
     "output_type": "display_data"
    },
    {
     "data": {
      "text/html": [
       "<pre style=\"white-space:pre;overflow-x:auto;line-height:normal;font-family:Menlo,'DejaVu Sans Mono',consolas,'Courier New',monospace\"><span style=\"color: #800000; text-decoration-color: #800000; font-weight: bold\">ERROR   </span> <span style=\"font-weight: bold\">[</span>rocks<span style=\"font-weight: bold\">]</span> Could not find match for id <span style=\"color: #008080; text-decoration-color: #008080; font-weight: bold\">1998</span> UQ01.                                                            \n",
       "</pre>\n"
      ],
      "text/plain": [
       "\u001b[1;31mERROR   \u001b[0m \u001b[1m[\u001b[0mrocks\u001b[1m]\u001b[0m Could not find match for id \u001b[1;36m1998\u001b[0m UQ01.                                                            \n"
      ]
     },
     "metadata": {},
     "output_type": "display_data"
    },
    {
     "data": {
      "text/html": [
       "<pre style=\"white-space:pre;overflow-x:auto;line-height:normal;font-family:Menlo,'DejaVu Sans Mono',consolas,'Courier New',monospace\"><span style=\"color: #800000; text-decoration-color: #800000; font-weight: bold\">ERROR   </span> <span style=\"font-weight: bold\">[</span>rocks<span style=\"font-weight: bold\">]</span> Could not find match for id <span style=\"color: #008080; text-decoration-color: #008080; font-weight: bold\">2004</span> MJ03.                                                            \n",
       "</pre>\n"
      ],
      "text/plain": [
       "\u001b[1;31mERROR   \u001b[0m \u001b[1m[\u001b[0mrocks\u001b[1m]\u001b[0m Could not find match for id \u001b[1;36m2004\u001b[0m MJ03.                                                            \n"
      ]
     },
     "metadata": {},
     "output_type": "display_data"
    },
    {
     "data": {
      "text/html": [
       "<pre style=\"white-space:pre;overflow-x:auto;line-height:normal;font-family:Menlo,'DejaVu Sans Mono',consolas,'Courier New',monospace\"><span style=\"color: #800000; text-decoration-color: #800000; font-weight: bold\">ERROR   </span> <span style=\"font-weight: bold\">[</span>rocks<span style=\"font-weight: bold\">]</span> Could not find match for id <span style=\"color: #008080; text-decoration-color: #008080; font-weight: bold\">2003</span> UR00.                                                            \n",
       "</pre>\n"
      ],
      "text/plain": [
       "\u001b[1;31mERROR   \u001b[0m \u001b[1m[\u001b[0mrocks\u001b[1m]\u001b[0m Could not find match for id \u001b[1;36m2003\u001b[0m UR00.                                                            \n"
      ]
     },
     "metadata": {},
     "output_type": "display_data"
    },
    {
     "data": {
      "text/html": [
       "<pre style=\"white-space:pre;overflow-x:auto;line-height:normal;font-family:Menlo,'DejaVu Sans Mono',consolas,'Courier New',monospace\"><span style=\"color: #800000; text-decoration-color: #800000; font-weight: bold\">ERROR   </span> <span style=\"font-weight: bold\">[</span>rocks<span style=\"font-weight: bold\">]</span> Could not find match for id <span style=\"color: #008080; text-decoration-color: #008080; font-weight: bold\">2007</span> OR01.                                                            \n",
       "</pre>\n"
      ],
      "text/plain": [
       "\u001b[1;31mERROR   \u001b[0m \u001b[1m[\u001b[0mrocks\u001b[1m]\u001b[0m Could not find match for id \u001b[1;36m2007\u001b[0m OR01.                                                            \n"
      ]
     },
     "metadata": {},
     "output_type": "display_data"
    },
    {
     "data": {
      "text/html": [
       "<pre style=\"white-space:pre;overflow-x:auto;line-height:normal;font-family:Menlo,'DejaVu Sans Mono',consolas,'Courier New',monospace\"><span style=\"color: #800000; text-decoration-color: #800000; font-weight: bold\">ERROR   </span> <span style=\"font-weight: bold\">[</span>rocks<span style=\"font-weight: bold\">]</span> Could not find match for id <span style=\"color: #008080; text-decoration-color: #008080; font-weight: bold\">2019</span> AQ03.                                                            \n",
       "</pre>\n"
      ],
      "text/plain": [
       "\u001b[1;31mERROR   \u001b[0m \u001b[1m[\u001b[0mrocks\u001b[1m]\u001b[0m Could not find match for id \u001b[1;36m2019\u001b[0m AQ03.                                                            \n"
      ]
     },
     "metadata": {},
     "output_type": "display_data"
    },
    {
     "data": {
      "text/html": [
       "<pre style=\"white-space:pre;overflow-x:auto;line-height:normal;font-family:Menlo,'DejaVu Sans Mono',consolas,'Courier New',monospace\"><span style=\"color: #800000; text-decoration-color: #800000; font-weight: bold\">ERROR   </span> <span style=\"font-weight: bold\">[</span>rocks<span style=\"font-weight: bold\">]</span> Could not find match for id <span style=\"color: #008080; text-decoration-color: #008080; font-weight: bold\">2010</span> WQ07.                                                            \n",
       "</pre>\n"
      ],
      "text/plain": [
       "\u001b[1;31mERROR   \u001b[0m \u001b[1m[\u001b[0mrocks\u001b[1m]\u001b[0m Could not find match for id \u001b[1;36m2010\u001b[0m WQ07.                                                            \n"
      ]
     },
     "metadata": {},
     "output_type": "display_data"
    },
    {
     "data": {
      "text/html": [
       "<pre style=\"white-space:pre;overflow-x:auto;line-height:normal;font-family:Menlo,'DejaVu Sans Mono',consolas,'Courier New',monospace\"><span style=\"color: #800000; text-decoration-color: #800000; font-weight: bold\">ERROR   </span> <span style=\"font-weight: bold\">[</span>rocks<span style=\"font-weight: bold\">]</span> Could not find match for id <span style=\"color: #008080; text-decoration-color: #008080; font-weight: bold\">2002</span> TA09.                                                            \n",
       "</pre>\n"
      ],
      "text/plain": [
       "\u001b[1;31mERROR   \u001b[0m \u001b[1m[\u001b[0mrocks\u001b[1m]\u001b[0m Could not find match for id \u001b[1;36m2002\u001b[0m TA09.                                                            \n"
      ]
     },
     "metadata": {},
     "output_type": "display_data"
    },
    {
     "data": {
      "text/html": [
       "<pre style=\"white-space:pre;overflow-x:auto;line-height:normal;font-family:Menlo,'DejaVu Sans Mono',consolas,'Courier New',monospace\"><span style=\"color: #800000; text-decoration-color: #800000; font-weight: bold\">ERROR   </span> <span style=\"font-weight: bold\">[</span>rocks<span style=\"font-weight: bold\">]</span> Could not find match for id <span style=\"color: #008080; text-decoration-color: #008080; font-weight: bold\">2020</span> OW03.                                                            \n",
       "</pre>\n"
      ],
      "text/plain": [
       "\u001b[1;31mERROR   \u001b[0m \u001b[1m[\u001b[0mrocks\u001b[1m]\u001b[0m Could not find match for id \u001b[1;36m2020\u001b[0m OW03.                                                            \n"
      ]
     },
     "metadata": {},
     "output_type": "display_data"
    },
    {
     "data": {
      "text/html": [
       "<pre style=\"white-space:pre;overflow-x:auto;line-height:normal;font-family:Menlo,'DejaVu Sans Mono',consolas,'Courier New',monospace\"><span style=\"color: #800000; text-decoration-color: #800000; font-weight: bold\">ERROR   </span> <span style=\"font-weight: bold\">[</span>rocks<span style=\"font-weight: bold\">]</span> Could not find match for id <span style=\"color: #008080; text-decoration-color: #008080; font-weight: bold\">2016</span> VW01.                                                            \n",
       "</pre>\n"
      ],
      "text/plain": [
       "\u001b[1;31mERROR   \u001b[0m \u001b[1m[\u001b[0mrocks\u001b[1m]\u001b[0m Could not find match for id \u001b[1;36m2016\u001b[0m VW01.                                                            \n"
      ]
     },
     "metadata": {},
     "output_type": "display_data"
    },
    {
     "data": {
      "text/html": [
       "<pre style=\"white-space:pre;overflow-x:auto;line-height:normal;font-family:Menlo,'DejaVu Sans Mono',consolas,'Courier New',monospace\"><span style=\"color: #800000; text-decoration-color: #800000; font-weight: bold\">ERROR   </span> <span style=\"font-weight: bold\">[</span>rocks<span style=\"font-weight: bold\">]</span> Could not find match for id <span style=\"color: #008080; text-decoration-color: #008080; font-weight: bold\">2001</span> BO02.                                                            \n",
       "</pre>\n"
      ],
      "text/plain": [
       "\u001b[1;31mERROR   \u001b[0m \u001b[1m[\u001b[0mrocks\u001b[1m]\u001b[0m Could not find match for id \u001b[1;36m2001\u001b[0m BO02.                                                            \n"
      ]
     },
     "metadata": {},
     "output_type": "display_data"
    },
    {
     "data": {
      "text/html": [
       "<pre style=\"white-space:pre;overflow-x:auto;line-height:normal;font-family:Menlo,'DejaVu Sans Mono',consolas,'Courier New',monospace\"><span style=\"color: #800000; text-decoration-color: #800000; font-weight: bold\">ERROR   </span> <span style=\"font-weight: bold\">[</span>rocks<span style=\"font-weight: bold\">]</span> Could not find match for id 28P.                                                                  \n",
       "</pre>\n"
      ],
      "text/plain": [
       "\u001b[1;31mERROR   \u001b[0m \u001b[1m[\u001b[0mrocks\u001b[1m]\u001b[0m Could not find match for id 28P.                                                                  \n"
      ]
     },
     "metadata": {},
     "output_type": "display_data"
    },
    {
     "data": {
      "text/html": [
       "<pre style=\"white-space:pre;overflow-x:auto;line-height:normal;font-family:Menlo,'DejaVu Sans Mono',consolas,'Courier New',monospace\"><span style=\"color: #800000; text-decoration-color: #800000; font-weight: bold\">ERROR   </span> <span style=\"font-weight: bold\">[</span>rocks<span style=\"font-weight: bold\">]</span> Could not find match for id <span style=\"color: #008080; text-decoration-color: #008080; font-weight: bold\">2020</span> KJ06.                                                            \n",
       "</pre>\n"
      ],
      "text/plain": [
       "\u001b[1;31mERROR   \u001b[0m \u001b[1m[\u001b[0mrocks\u001b[1m]\u001b[0m Could not find match for id \u001b[1;36m2020\u001b[0m KJ06.                                                            \n"
      ]
     },
     "metadata": {},
     "output_type": "display_data"
    },
    {
     "data": {
      "text/html": [
       "<pre style=\"white-space:pre;overflow-x:auto;line-height:normal;font-family:Menlo,'DejaVu Sans Mono',consolas,'Courier New',monospace\"><span style=\"color: #800000; text-decoration-color: #800000; font-weight: bold\">ERROR   </span> <span style=\"font-weight: bold\">[</span>rocks<span style=\"font-weight: bold\">]</span> Could not find match for id <span style=\"color: #008080; text-decoration-color: #008080; font-weight: bold\">2016</span> OF02.                                                            \n",
       "</pre>\n"
      ],
      "text/plain": [
       "\u001b[1;31mERROR   \u001b[0m \u001b[1m[\u001b[0mrocks\u001b[1m]\u001b[0m Could not find match for id \u001b[1;36m2016\u001b[0m OF02.                                                            \n"
      ]
     },
     "metadata": {},
     "output_type": "display_data"
    },
    {
     "data": {
      "text/html": [
       "<pre style=\"white-space:pre;overflow-x:auto;line-height:normal;font-family:Menlo,'DejaVu Sans Mono',consolas,'Courier New',monospace\"><span style=\"color: #800000; text-decoration-color: #800000; font-weight: bold\">ERROR   </span> <span style=\"font-weight: bold\">[</span>rocks<span style=\"font-weight: bold\">]</span> Could not find match for id <span style=\"color: #008080; text-decoration-color: #008080; font-weight: bold\">2015</span> JO05.                                                            \n",
       "</pre>\n"
      ],
      "text/plain": [
       "\u001b[1;31mERROR   \u001b[0m \u001b[1m[\u001b[0mrocks\u001b[1m]\u001b[0m Could not find match for id \u001b[1;36m2015\u001b[0m JO05.                                                            \n"
      ]
     },
     "metadata": {},
     "output_type": "display_data"
    },
    {
     "data": {
      "text/html": [
       "<pre style=\"white-space:pre;overflow-x:auto;line-height:normal;font-family:Menlo,'DejaVu Sans Mono',consolas,'Courier New',monospace\"><span style=\"color: #800000; text-decoration-color: #800000; font-weight: bold\">ERROR   </span> <span style=\"font-weight: bold\">[</span>rocks<span style=\"font-weight: bold\">]</span> Could not find match for id <span style=\"color: #008080; text-decoration-color: #008080; font-weight: bold\">2010</span> LS00.                                                            \n",
       "</pre>\n"
      ],
      "text/plain": [
       "\u001b[1;31mERROR   \u001b[0m \u001b[1m[\u001b[0mrocks\u001b[1m]\u001b[0m Could not find match for id \u001b[1;36m2010\u001b[0m LS00.                                                            \n"
      ]
     },
     "metadata": {},
     "output_type": "display_data"
    },
    {
     "data": {
      "text/html": [
       "<pre style=\"white-space:pre;overflow-x:auto;line-height:normal;font-family:Menlo,'DejaVu Sans Mono',consolas,'Courier New',monospace\"><span style=\"color: #800000; text-decoration-color: #800000; font-weight: bold\">ERROR   </span> <span style=\"font-weight: bold\">[</span>rocks<span style=\"font-weight: bold\">]</span> Could not find match for id <span style=\"color: #008080; text-decoration-color: #008080; font-weight: bold\">2017</span> BF09.                                                            \n",
       "</pre>\n"
      ],
      "text/plain": [
       "\u001b[1;31mERROR   \u001b[0m \u001b[1m[\u001b[0mrocks\u001b[1m]\u001b[0m Could not find match for id \u001b[1;36m2017\u001b[0m BF09.                                                            \n"
      ]
     },
     "metadata": {},
     "output_type": "display_data"
    },
    {
     "data": {
      "text/html": [
       "<pre style=\"white-space:pre;overflow-x:auto;line-height:normal;font-family:Menlo,'DejaVu Sans Mono',consolas,'Courier New',monospace\"><span style=\"color: #800000; text-decoration-color: #800000; font-weight: bold\">ERROR   </span> <span style=\"font-weight: bold\">[</span>rocks<span style=\"font-weight: bold\">]</span> Could not find match for id <span style=\"color: #008080; text-decoration-color: #008080; font-weight: bold\">2016</span> XE01.                                                            \n",
       "</pre>\n"
      ],
      "text/plain": [
       "\u001b[1;31mERROR   \u001b[0m \u001b[1m[\u001b[0mrocks\u001b[1m]\u001b[0m Could not find match for id \u001b[1;36m2016\u001b[0m XE01.                                                            \n"
      ]
     },
     "metadata": {},
     "output_type": "display_data"
    },
    {
     "data": {
      "text/html": [
       "<pre style=\"white-space:pre;overflow-x:auto;line-height:normal;font-family:Menlo,'DejaVu Sans Mono',consolas,'Courier New',monospace\"><span style=\"color: #800000; text-decoration-color: #800000; font-weight: bold\">ERROR   </span> <span style=\"font-weight: bold\">[</span>rocks<span style=\"font-weight: bold\">]</span> Could not find match for id <span style=\"color: #008080; text-decoration-color: #008080; font-weight: bold\">2020</span> JQ00.                                                            \n",
       "</pre>\n"
      ],
      "text/plain": [
       "\u001b[1;31mERROR   \u001b[0m \u001b[1m[\u001b[0mrocks\u001b[1m]\u001b[0m Could not find match for id \u001b[1;36m2020\u001b[0m JQ00.                                                            \n"
      ]
     },
     "metadata": {},
     "output_type": "display_data"
    },
    {
     "data": {
      "text/html": [
       "<pre style=\"white-space:pre;overflow-x:auto;line-height:normal;font-family:Menlo,'DejaVu Sans Mono',consolas,'Courier New',monospace\"><span style=\"color: #800000; text-decoration-color: #800000; font-weight: bold\">ERROR   </span> <span style=\"font-weight: bold\">[</span>rocks<span style=\"font-weight: bold\">]</span> Could not find match for id <span style=\"color: #008080; text-decoration-color: #008080; font-weight: bold\">2015</span> MO01.                                                            \n",
       "</pre>\n"
      ],
      "text/plain": [
       "\u001b[1;31mERROR   \u001b[0m \u001b[1m[\u001b[0mrocks\u001b[1m]\u001b[0m Could not find match for id \u001b[1;36m2015\u001b[0m MO01.                                                            \n"
      ]
     },
     "metadata": {},
     "output_type": "display_data"
    },
    {
     "data": {
      "text/html": [
       "<pre style=\"white-space:pre;overflow-x:auto;line-height:normal;font-family:Menlo,'DejaVu Sans Mono',consolas,'Courier New',monospace\"><span style=\"color: #800000; text-decoration-color: #800000; font-weight: bold\">ERROR   </span> <span style=\"font-weight: bold\">[</span>rocks<span style=\"font-weight: bold\">]</span> Could not find match for id <span style=\"color: #008080; text-decoration-color: #008080; font-weight: bold\">2008</span> TE07.                                                            \n",
       "</pre>\n"
      ],
      "text/plain": [
       "\u001b[1;31mERROR   \u001b[0m \u001b[1m[\u001b[0mrocks\u001b[1m]\u001b[0m Could not find match for id \u001b[1;36m2008\u001b[0m TE07.                                                            \n"
      ]
     },
     "metadata": {},
     "output_type": "display_data"
    },
    {
     "data": {
      "text/html": [
       "<pre style=\"white-space:pre;overflow-x:auto;line-height:normal;font-family:Menlo,'DejaVu Sans Mono',consolas,'Courier New',monospace\"><span style=\"color: #800000; text-decoration-color: #800000; font-weight: bold\">ERROR   </span> <span style=\"font-weight: bold\">[</span>rocks<span style=\"font-weight: bold\">]</span> Could not find match for id <span style=\"color: #008080; text-decoration-color: #008080; font-weight: bold\">2007</span> LX00.                                                            \n",
       "</pre>\n"
      ],
      "text/plain": [
       "\u001b[1;31mERROR   \u001b[0m \u001b[1m[\u001b[0mrocks\u001b[1m]\u001b[0m Could not find match for id \u001b[1;36m2007\u001b[0m LX00.                                                            \n"
      ]
     },
     "metadata": {},
     "output_type": "display_data"
    },
    {
     "data": {
      "text/html": [
       "<pre style=\"white-space:pre;overflow-x:auto;line-height:normal;font-family:Menlo,'DejaVu Sans Mono',consolas,'Courier New',monospace\"><span style=\"color: #800000; text-decoration-color: #800000; font-weight: bold\">ERROR   </span> <span style=\"font-weight: bold\">[</span>rocks<span style=\"font-weight: bold\">]</span> Could not find match for id <span style=\"color: #008080; text-decoration-color: #008080; font-weight: bold\">2013</span> XE04.                                                            \n",
       "</pre>\n"
      ],
      "text/plain": [
       "\u001b[1;31mERROR   \u001b[0m \u001b[1m[\u001b[0mrocks\u001b[1m]\u001b[0m Could not find match for id \u001b[1;36m2013\u001b[0m XE04.                                                            \n"
      ]
     },
     "metadata": {},
     "output_type": "display_data"
    },
    {
     "data": {
      "text/html": [
       "<pre style=\"white-space:pre;overflow-x:auto;line-height:normal;font-family:Menlo,'DejaVu Sans Mono',consolas,'Courier New',monospace\"><span style=\"color: #800000; text-decoration-color: #800000; font-weight: bold\">ERROR   </span> <span style=\"font-weight: bold\">[</span>rocks<span style=\"font-weight: bold\">]</span> Could not find match for id <span style=\"color: #008080; text-decoration-color: #008080; font-weight: bold\">2007</span> UT07.                                                            \n",
       "</pre>\n"
      ],
      "text/plain": [
       "\u001b[1;31mERROR   \u001b[0m \u001b[1m[\u001b[0mrocks\u001b[1m]\u001b[0m Could not find match for id \u001b[1;36m2007\u001b[0m UT07.                                                            \n"
      ]
     },
     "metadata": {},
     "output_type": "display_data"
    },
    {
     "data": {
      "text/html": [
       "<pre style=\"white-space:pre;overflow-x:auto;line-height:normal;font-family:Menlo,'DejaVu Sans Mono',consolas,'Courier New',monospace\"><span style=\"color: #800000; text-decoration-color: #800000; font-weight: bold\">ERROR   </span> <span style=\"font-weight: bold\">[</span>rocks<span style=\"font-weight: bold\">]</span> Could not find match for id <span style=\"color: #008080; text-decoration-color: #008080; font-weight: bold\">2021</span> LK02.                                                            \n",
       "</pre>\n"
      ],
      "text/plain": [
       "\u001b[1;31mERROR   \u001b[0m \u001b[1m[\u001b[0mrocks\u001b[1m]\u001b[0m Could not find match for id \u001b[1;36m2021\u001b[0m LK02.                                                            \n"
      ]
     },
     "metadata": {},
     "output_type": "display_data"
    },
    {
     "data": {
      "text/html": [
       "<pre style=\"white-space:pre;overflow-x:auto;line-height:normal;font-family:Menlo,'DejaVu Sans Mono',consolas,'Courier New',monospace\"><span style=\"color: #800000; text-decoration-color: #800000; font-weight: bold\">ERROR   </span> <span style=\"font-weight: bold\">[</span>rocks<span style=\"font-weight: bold\">]</span> Could not find match for id <span style=\"color: #008080; text-decoration-color: #008080; font-weight: bold\">2001</span> RD02.                                                            \n",
       "</pre>\n"
      ],
      "text/plain": [
       "\u001b[1;31mERROR   \u001b[0m \u001b[1m[\u001b[0mrocks\u001b[1m]\u001b[0m Could not find match for id \u001b[1;36m2001\u001b[0m RD02.                                                            \n"
      ]
     },
     "metadata": {},
     "output_type": "display_data"
    },
    {
     "data": {
      "text/html": [
       "<pre style=\"white-space:pre;overflow-x:auto;line-height:normal;font-family:Menlo,'DejaVu Sans Mono',consolas,'Courier New',monospace\"><span style=\"color: #800000; text-decoration-color: #800000; font-weight: bold\">ERROR   </span> <span style=\"font-weight: bold\">[</span>rocks<span style=\"font-weight: bold\">]</span> Could not find match for id <span style=\"color: #008080; text-decoration-color: #008080; font-weight: bold\">2015</span> WV01.                                                            \n",
       "</pre>\n"
      ],
      "text/plain": [
       "\u001b[1;31mERROR   \u001b[0m \u001b[1m[\u001b[0mrocks\u001b[1m]\u001b[0m Could not find match for id \u001b[1;36m2015\u001b[0m WV01.                                                            \n"
      ]
     },
     "metadata": {},
     "output_type": "display_data"
    },
    {
     "data": {
      "text/html": [
       "<pre style=\"white-space:pre;overflow-x:auto;line-height:normal;font-family:Menlo,'DejaVu Sans Mono',consolas,'Courier New',monospace\"><span style=\"color: #800000; text-decoration-color: #800000; font-weight: bold\">ERROR   </span> <span style=\"font-weight: bold\">[</span>rocks<span style=\"font-weight: bold\">]</span> Could not find match for id <span style=\"color: #008080; text-decoration-color: #008080; font-weight: bold\">2021</span> NX07.                                                            \n",
       "</pre>\n"
      ],
      "text/plain": [
       "\u001b[1;31mERROR   \u001b[0m \u001b[1m[\u001b[0mrocks\u001b[1m]\u001b[0m Could not find match for id \u001b[1;36m2021\u001b[0m NX07.                                                            \n"
      ]
     },
     "metadata": {},
     "output_type": "display_data"
    },
    {
     "data": {
      "text/html": [
       "<pre style=\"white-space:pre;overflow-x:auto;line-height:normal;font-family:Menlo,'DejaVu Sans Mono',consolas,'Courier New',monospace\"><span style=\"color: #800000; text-decoration-color: #800000; font-weight: bold\">ERROR   </span> <span style=\"font-weight: bold\">[</span>rocks<span style=\"font-weight: bold\">]</span> Could not find match for id <span style=\"color: #008080; text-decoration-color: #008080; font-weight: bold\">2002</span> NS07.                                                            \n",
       "</pre>\n"
      ],
      "text/plain": [
       "\u001b[1;31mERROR   \u001b[0m \u001b[1m[\u001b[0mrocks\u001b[1m]\u001b[0m Could not find match for id \u001b[1;36m2002\u001b[0m NS07.                                                            \n"
      ]
     },
     "metadata": {},
     "output_type": "display_data"
    },
    {
     "data": {
      "text/html": [
       "<pre style=\"white-space:pre;overflow-x:auto;line-height:normal;font-family:Menlo,'DejaVu Sans Mono',consolas,'Courier New',monospace\"><span style=\"color: #800000; text-decoration-color: #800000; font-weight: bold\">ERROR   </span> <span style=\"font-weight: bold\">[</span>rocks<span style=\"font-weight: bold\">]</span> Could not find match for id <span style=\"color: #008080; text-decoration-color: #008080; font-weight: bold\">2003</span> VD01.                                                            \n",
       "</pre>\n"
      ],
      "text/plain": [
       "\u001b[1;31mERROR   \u001b[0m \u001b[1m[\u001b[0mrocks\u001b[1m]\u001b[0m Could not find match for id \u001b[1;36m2003\u001b[0m VD01.                                                            \n"
      ]
     },
     "metadata": {},
     "output_type": "display_data"
    },
    {
     "data": {
      "text/html": [
       "<pre style=\"white-space:pre;overflow-x:auto;line-height:normal;font-family:Menlo,'DejaVu Sans Mono',consolas,'Courier New',monospace\"><span style=\"color: #800000; text-decoration-color: #800000; font-weight: bold\">ERROR   </span> <span style=\"font-weight: bold\">[</span>rocks<span style=\"font-weight: bold\">]</span> Could not find match for id <span style=\"color: #008080; text-decoration-color: #008080; font-weight: bold\">2003</span> YM01.                                                            \n",
       "</pre>\n"
      ],
      "text/plain": [
       "\u001b[1;31mERROR   \u001b[0m \u001b[1m[\u001b[0mrocks\u001b[1m]\u001b[0m Could not find match for id \u001b[1;36m2003\u001b[0m YM01.                                                            \n"
      ]
     },
     "metadata": {},
     "output_type": "display_data"
    },
    {
     "data": {
      "text/html": [
       "<pre style=\"white-space:pre;overflow-x:auto;line-height:normal;font-family:Menlo,'DejaVu Sans Mono',consolas,'Courier New',monospace\"><span style=\"color: #800000; text-decoration-color: #800000; font-weight: bold\">ERROR   </span> <span style=\"font-weight: bold\">[</span>rocks<span style=\"font-weight: bold\">]</span> Could not find match for id <span style=\"color: #008080; text-decoration-color: #008080; font-weight: bold\">2016</span> VM04.                                                            \n",
       "</pre>\n"
      ],
      "text/plain": [
       "\u001b[1;31mERROR   \u001b[0m \u001b[1m[\u001b[0mrocks\u001b[1m]\u001b[0m Could not find match for id \u001b[1;36m2016\u001b[0m VM04.                                                            \n"
      ]
     },
     "metadata": {},
     "output_type": "display_data"
    },
    {
     "data": {
      "text/html": [
       "<pre style=\"white-space:pre;overflow-x:auto;line-height:normal;font-family:Menlo,'DejaVu Sans Mono',consolas,'Courier New',monospace\"><span style=\"color: #800000; text-decoration-color: #800000; font-weight: bold\">ERROR   </span> <span style=\"font-weight: bold\">[</span>rocks<span style=\"font-weight: bold\">]</span> Could not find match for id <span style=\"color: #008080; text-decoration-color: #008080; font-weight: bold\">2009</span> PA09.                                                            \n",
       "</pre>\n"
      ],
      "text/plain": [
       "\u001b[1;31mERROR   \u001b[0m \u001b[1m[\u001b[0mrocks\u001b[1m]\u001b[0m Could not find match for id \u001b[1;36m2009\u001b[0m PA09.                                                            \n"
      ]
     },
     "metadata": {},
     "output_type": "display_data"
    },
    {
     "data": {
      "text/html": [
       "<pre style=\"white-space:pre;overflow-x:auto;line-height:normal;font-family:Menlo,'DejaVu Sans Mono',consolas,'Courier New',monospace\"><span style=\"color: #800000; text-decoration-color: #800000; font-weight: bold\">ERROR   </span> <span style=\"font-weight: bold\">[</span>rocks<span style=\"font-weight: bold\">]</span> Could not find match for id <span style=\"color: #008080; text-decoration-color: #008080; font-weight: bold\">2012</span> LV07.                                                            \n",
       "</pre>\n"
      ],
      "text/plain": [
       "\u001b[1;31mERROR   \u001b[0m \u001b[1m[\u001b[0mrocks\u001b[1m]\u001b[0m Could not find match for id \u001b[1;36m2012\u001b[0m LV07.                                                            \n"
      ]
     },
     "metadata": {},
     "output_type": "display_data"
    },
    {
     "data": {
      "text/html": [
       "<pre style=\"white-space:pre;overflow-x:auto;line-height:normal;font-family:Menlo,'DejaVu Sans Mono',consolas,'Courier New',monospace\"><span style=\"color: #800000; text-decoration-color: #800000; font-weight: bold\">ERROR   </span> <span style=\"font-weight: bold\">[</span>rocks<span style=\"font-weight: bold\">]</span> Could not find match for id <span style=\"color: #008080; text-decoration-color: #008080; font-weight: bold\">2018</span> KG02.                                                            \n",
       "</pre>\n"
      ],
      "text/plain": [
       "\u001b[1;31mERROR   \u001b[0m \u001b[1m[\u001b[0mrocks\u001b[1m]\u001b[0m Could not find match for id \u001b[1;36m2018\u001b[0m KG02.                                                            \n"
      ]
     },
     "metadata": {},
     "output_type": "display_data"
    },
    {
     "data": {
      "text/html": [
       "<pre style=\"white-space:pre;overflow-x:auto;line-height:normal;font-family:Menlo,'DejaVu Sans Mono',consolas,'Courier New',monospace\"><span style=\"color: #800000; text-decoration-color: #800000; font-weight: bold\">ERROR   </span> <span style=\"font-weight: bold\">[</span>rocks<span style=\"font-weight: bold\">]</span> Could not find match for id <span style=\"color: #008080; text-decoration-color: #008080; font-weight: bold\">2010</span> MR05.                                                            \n",
       "</pre>\n"
      ],
      "text/plain": [
       "\u001b[1;31mERROR   \u001b[0m \u001b[1m[\u001b[0mrocks\u001b[1m]\u001b[0m Could not find match for id \u001b[1;36m2010\u001b[0m MR05.                                                            \n"
      ]
     },
     "metadata": {},
     "output_type": "display_data"
    },
    {
     "data": {
      "text/html": [
       "<pre style=\"white-space:pre;overflow-x:auto;line-height:normal;font-family:Menlo,'DejaVu Sans Mono',consolas,'Courier New',monospace\"><span style=\"color: #800000; text-decoration-color: #800000; font-weight: bold\">ERROR   </span> <span style=\"font-weight: bold\">[</span>rocks<span style=\"font-weight: bold\">]</span> Could not find match for id <span style=\"color: #008080; text-decoration-color: #008080; font-weight: bold\">2018</span> XV05.                                                            \n",
       "</pre>\n"
      ],
      "text/plain": [
       "\u001b[1;31mERROR   \u001b[0m \u001b[1m[\u001b[0mrocks\u001b[1m]\u001b[0m Could not find match for id \u001b[1;36m2018\u001b[0m XV05.                                                            \n"
      ]
     },
     "metadata": {},
     "output_type": "display_data"
    },
    {
     "data": {
      "text/html": [
       "<pre style=\"white-space:pre;overflow-x:auto;line-height:normal;font-family:Menlo,'DejaVu Sans Mono',consolas,'Courier New',monospace\"><span style=\"color: #800000; text-decoration-color: #800000; font-weight: bold\">ERROR   </span> <span style=\"font-weight: bold\">[</span>rocks<span style=\"font-weight: bold\">]</span> Could not find match for id 162P.                                                                 \n",
       "</pre>\n"
      ],
      "text/plain": [
       "\u001b[1;31mERROR   \u001b[0m \u001b[1m[\u001b[0mrocks\u001b[1m]\u001b[0m Could not find match for id 162P.                                                                 \n"
      ]
     },
     "metadata": {},
     "output_type": "display_data"
    },
    {
     "data": {
      "text/html": [
       "<pre style=\"white-space:pre;overflow-x:auto;line-height:normal;font-family:Menlo,'DejaVu Sans Mono',consolas,'Courier New',monospace\"><span style=\"color: #800000; text-decoration-color: #800000; font-weight: bold\">ERROR   </span> <span style=\"font-weight: bold\">[</span>rocks<span style=\"font-weight: bold\">]</span> Could not find match for id <span style=\"color: #008080; text-decoration-color: #008080; font-weight: bold\">2002</span> XZ04.                                                            \n",
       "</pre>\n"
      ],
      "text/plain": [
       "\u001b[1;31mERROR   \u001b[0m \u001b[1m[\u001b[0mrocks\u001b[1m]\u001b[0m Could not find match for id \u001b[1;36m2002\u001b[0m XZ04.                                                            \n"
      ]
     },
     "metadata": {},
     "output_type": "display_data"
    },
    {
     "data": {
      "text/html": [
       "<pre style=\"white-space:pre;overflow-x:auto;line-height:normal;font-family:Menlo,'DejaVu Sans Mono',consolas,'Courier New',monospace\"><span style=\"color: #800000; text-decoration-color: #800000; font-weight: bold\">ERROR   </span> <span style=\"font-weight: bold\">[</span>rocks<span style=\"font-weight: bold\">]</span> Could not find match for id <span style=\"color: #008080; text-decoration-color: #008080; font-weight: bold\">2008</span> SN01.                                                            \n",
       "</pre>\n"
      ],
      "text/plain": [
       "\u001b[1;31mERROR   \u001b[0m \u001b[1m[\u001b[0mrocks\u001b[1m]\u001b[0m Could not find match for id \u001b[1;36m2008\u001b[0m SN01.                                                            \n"
      ]
     },
     "metadata": {},
     "output_type": "display_data"
    },
    {
     "data": {
      "text/html": [
       "<pre style=\"white-space:pre;overflow-x:auto;line-height:normal;font-family:Menlo,'DejaVu Sans Mono',consolas,'Courier New',monospace\"><span style=\"color: #800000; text-decoration-color: #800000; font-weight: bold\">ERROR   </span> <span style=\"font-weight: bold\">[</span>rocks<span style=\"font-weight: bold\">]</span> Could not find match for id <span style=\"color: #008080; text-decoration-color: #008080; font-weight: bold\">2019</span> KG05.                                                            \n",
       "</pre>\n"
      ],
      "text/plain": [
       "\u001b[1;31mERROR   \u001b[0m \u001b[1m[\u001b[0mrocks\u001b[1m]\u001b[0m Could not find match for id \u001b[1;36m2019\u001b[0m KG05.                                                            \n"
      ]
     },
     "metadata": {},
     "output_type": "display_data"
    },
    {
     "data": {
      "text/html": [
       "<pre style=\"white-space:pre;overflow-x:auto;line-height:normal;font-family:Menlo,'DejaVu Sans Mono',consolas,'Courier New',monospace\"><span style=\"color: #800000; text-decoration-color: #800000; font-weight: bold\">ERROR   </span> <span style=\"font-weight: bold\">[</span>rocks<span style=\"font-weight: bold\">]</span> Could not find match for id <span style=\"color: #008080; text-decoration-color: #008080; font-weight: bold\">2001</span> YU03.                                                            \n",
       "</pre>\n"
      ],
      "text/plain": [
       "\u001b[1;31mERROR   \u001b[0m \u001b[1m[\u001b[0mrocks\u001b[1m]\u001b[0m Could not find match for id \u001b[1;36m2001\u001b[0m YU03.                                                            \n"
      ]
     },
     "metadata": {},
     "output_type": "display_data"
    },
    {
     "data": {
      "text/html": [
       "<pre style=\"white-space:pre;overflow-x:auto;line-height:normal;font-family:Menlo,'DejaVu Sans Mono',consolas,'Courier New',monospace\"><span style=\"color: #800000; text-decoration-color: #800000; font-weight: bold\">ERROR   </span> <span style=\"font-weight: bold\">[</span>rocks<span style=\"font-weight: bold\">]</span> Could not find match for id <span style=\"color: #008080; text-decoration-color: #008080; font-weight: bold\">2009</span> CC03.                                                            \n",
       "</pre>\n"
      ],
      "text/plain": [
       "\u001b[1;31mERROR   \u001b[0m \u001b[1m[\u001b[0mrocks\u001b[1m]\u001b[0m Could not find match for id \u001b[1;36m2009\u001b[0m CC03.                                                            \n"
      ]
     },
     "metadata": {},
     "output_type": "display_data"
    },
    {
     "data": {
      "text/html": [
       "<pre style=\"white-space:pre;overflow-x:auto;line-height:normal;font-family:Menlo,'DejaVu Sans Mono',consolas,'Courier New',monospace\"><span style=\"color: #800000; text-decoration-color: #800000; font-weight: bold\">ERROR   </span> <span style=\"font-weight: bold\">[</span>rocks<span style=\"font-weight: bold\">]</span> Could not find match for id <span style=\"color: #008080; text-decoration-color: #008080; font-weight: bold\">2014</span> RP00.                                                            \n",
       "</pre>\n"
      ],
      "text/plain": [
       "\u001b[1;31mERROR   \u001b[0m \u001b[1m[\u001b[0mrocks\u001b[1m]\u001b[0m Could not find match for id \u001b[1;36m2014\u001b[0m RP00.                                                            \n"
      ]
     },
     "metadata": {},
     "output_type": "display_data"
    },
    {
     "data": {
      "text/html": [
       "<pre style=\"white-space:pre;overflow-x:auto;line-height:normal;font-family:Menlo,'DejaVu Sans Mono',consolas,'Courier New',monospace\"><span style=\"color: #800000; text-decoration-color: #800000; font-weight: bold\">ERROR   </span> <span style=\"font-weight: bold\">[</span>rocks<span style=\"font-weight: bold\">]</span> Could not find match for id <span style=\"color: #008080; text-decoration-color: #008080; font-weight: bold\">2008</span> YF02.                                                            \n",
       "</pre>\n"
      ],
      "text/plain": [
       "\u001b[1;31mERROR   \u001b[0m \u001b[1m[\u001b[0mrocks\u001b[1m]\u001b[0m Could not find match for id \u001b[1;36m2008\u001b[0m YF02.                                                            \n"
      ]
     },
     "metadata": {},
     "output_type": "display_data"
    },
    {
     "data": {
      "text/html": [
       "<pre style=\"white-space:pre;overflow-x:auto;line-height:normal;font-family:Menlo,'DejaVu Sans Mono',consolas,'Courier New',monospace\"><span style=\"color: #800000; text-decoration-color: #800000; font-weight: bold\">ERROR   </span> <span style=\"font-weight: bold\">[</span>rocks<span style=\"font-weight: bold\">]</span> Could not find match for id <span style=\"color: #008080; text-decoration-color: #008080; font-weight: bold\">2016</span> WQ05.                                                            \n",
       "</pre>\n"
      ],
      "text/plain": [
       "\u001b[1;31mERROR   \u001b[0m \u001b[1m[\u001b[0mrocks\u001b[1m]\u001b[0m Could not find match for id \u001b[1;36m2016\u001b[0m WQ05.                                                            \n"
      ]
     },
     "metadata": {},
     "output_type": "display_data"
    },
    {
     "data": {
      "text/html": [
       "<pre style=\"white-space:pre;overflow-x:auto;line-height:normal;font-family:Menlo,'DejaVu Sans Mono',consolas,'Courier New',monospace\"><span style=\"color: #800000; text-decoration-color: #800000; font-weight: bold\">ERROR   </span> <span style=\"font-weight: bold\">[</span>rocks<span style=\"font-weight: bold\">]</span> Could not find match for id <span style=\"color: #008080; text-decoration-color: #008080; font-weight: bold\">2020</span> PC05.                                                            \n",
       "</pre>\n"
      ],
      "text/plain": [
       "\u001b[1;31mERROR   \u001b[0m \u001b[1m[\u001b[0mrocks\u001b[1m]\u001b[0m Could not find match for id \u001b[1;36m2020\u001b[0m PC05.                                                            \n"
      ]
     },
     "metadata": {},
     "output_type": "display_data"
    },
    {
     "data": {
      "text/html": [
       "<pre style=\"white-space:pre;overflow-x:auto;line-height:normal;font-family:Menlo,'DejaVu Sans Mono',consolas,'Courier New',monospace\"><span style=\"color: #800000; text-decoration-color: #800000; font-weight: bold\">ERROR   </span> <span style=\"font-weight: bold\">[</span>rocks<span style=\"font-weight: bold\">]</span> Could not find match for id <span style=\"color: #008080; text-decoration-color: #008080; font-weight: bold\">2007</span> XC03.                                                            \n",
       "</pre>\n"
      ],
      "text/plain": [
       "\u001b[1;31mERROR   \u001b[0m \u001b[1m[\u001b[0mrocks\u001b[1m]\u001b[0m Could not find match for id \u001b[1;36m2007\u001b[0m XC03.                                                            \n"
      ]
     },
     "metadata": {},
     "output_type": "display_data"
    },
    {
     "data": {
      "text/html": [
       "<pre style=\"white-space:pre;overflow-x:auto;line-height:normal;font-family:Menlo,'DejaVu Sans Mono',consolas,'Courier New',monospace\"><span style=\"color: #800000; text-decoration-color: #800000; font-weight: bold\">ERROR   </span> <span style=\"font-weight: bold\">[</span>rocks<span style=\"font-weight: bold\">]</span> Could not find match for id <span style=\"color: #008080; text-decoration-color: #008080; font-weight: bold\">2004</span> XM00.                                                            \n",
       "</pre>\n"
      ],
      "text/plain": [
       "\u001b[1;31mERROR   \u001b[0m \u001b[1m[\u001b[0mrocks\u001b[1m]\u001b[0m Could not find match for id \u001b[1;36m2004\u001b[0m XM00.                                                            \n"
      ]
     },
     "metadata": {},
     "output_type": "display_data"
    },
    {
     "data": {
      "text/html": [
       "<pre style=\"white-space:pre;overflow-x:auto;line-height:normal;font-family:Menlo,'DejaVu Sans Mono',consolas,'Courier New',monospace\">\n",
       "</pre>\n"
      ],
      "text/plain": [
       "\n"
      ]
     },
     "metadata": {},
     "output_type": "display_data"
    },
    {
     "name": "stdout",
     "output_type": "stream",
     "text": [
      "1\n",
      "2\n"
     ]
    }
   ],
   "source": [
    "# HG to data\n",
    "names_numbers = rocks.identify(data_hg.ssnamenr)\n",
    "data_hg['number'] = [nn[1] for nn in names_numbers]\n",
    "data_hg['name'] = [nn[0] for nn in names_numbers]\n",
    "\n",
    "for filt in filters.keys():\n",
    "    print(filt)\n",
    "    data_hg['HG_H_{}'.format(filters[filt])] = data_hg['params'].apply(lambda x: x['H_{}'.format(filt)]).values\n",
    "    data_hg['HG_dH_{}'.format(filters[filt])] = data_hg['params'].apply(lambda x: x['errH_{}'.format(filt)]).values\n",
    "    data_hg['HG_G_{}'.format(filters[filt])] = data_hg['params'].apply(lambda x: x['G_{}'.format(filt)]).values\n",
    "    data_hg['HG_dG_{}'.format(filters[filt])] = data_hg['params'].apply(lambda x: x['errG_{}'.format(filt)]).values\n",
    "    data_hg['HG_rms_{}'.format(filters[filt])] = data_hg['params'].apply(lambda x: x['rms_{}'.format(filt)]).values\n",
    "    \n",
    "\n",
    "data_hg['minphase'] = np.rad2deg(data_hg['params'].apply(lambda x: x['minphase'])).values\n",
    "data_hg['maxphase'] = np.rad2deg(data_hg['params'].apply(lambda x: x['maxphase'])).values\n",
    "\n",
    "data_hg['n_days'] = data_hg['ndays']\n",
    "data_hg['n_obs'] = data_hg['nmeasurements']\n",
    "\n",
    "data_hg['HG_rms'] = data_hg['params'].apply(lambda x: x['rms']).values\n",
    "data_hg['HG_chi2red'] = data_hg['params'].apply(lambda x: x['chi2red']).values\n",
    "\n",
    "# data_hg = data_hg.drop(columns=[ 'nmeasurements', 'ndays', 'params'])\n",
    "\n",
    "cond = data_hg.name.notna()\n",
    "data_hg = data_hg[cond].reset_index(drop=True)"
   ]
  },
  {
   "cell_type": "code",
   "execution_count": 27,
   "id": "33ad5dbd-efa0-489e-bb26-f3c9365c5528",
   "metadata": {
    "tags": []
   },
   "outputs": [
    {
     "name": "stdout",
     "output_type": "stream",
     "text": [
      "1\n",
      "2\n"
     ]
    }
   ],
   "source": [
    "# HG1G2 to data\n",
    "for filt in filters.keys():\n",
    "    print(filt)\n",
    "    data_hg1g2['HG1G2_H_{}'.format(filters[filt])] = data_hg1g2['params'].apply(lambda x: x['H_{}'.format(filt)]).values\n",
    "    data_hg1g2['HG1G2_dH_{}'.format(filters[filt])] = data_hg1g2['params'].apply(lambda x: x['errH_{}'.format(filt)]).values\n",
    "    data_hg1g2['HG1G2_G1_{}'.format(filters[filt])] = data_hg1g2['params'].apply(lambda x: x['G1_{}'.format(filt)]).values\n",
    "    data_hg1g2['HG1G2_dG1_{}'.format(filters[filt])] = data_hg1g2['params'].apply(lambda x: x['errG1_{}'.format(filt)]).values\n",
    "    data_hg1g2['HG1G2_G2_{}'.format(filters[filt])] = data_hg1g2['params'].apply(lambda x: x['G2_{}'.format(filt)]).values\n",
    "    data_hg1g2['HG1G2_dG2_{}'.format(filters[filt])] = data_hg1g2['params'].apply(lambda x: x['errG2_{}'.format(filt)]).values\n",
    "    data_hg1g2['HG1G2_rms_{}'.format(filters[filt])] = data_hg1g2['params'].apply(lambda x: x['rms_{}'.format(filt)]).values\n",
    "    \n",
    "data_hg1g2['HG1G2_rms'] = data_hg1g2['params'].apply(lambda x: x['rms']).values\n",
    "data_hg1g2['HG1G2_chi2red'] = data_hg1g2['params'].apply(lambda x: x['chi2red']).values\n",
    "data_hg1g2['HG1G2_status'] = data_hg1g2['params'].apply(lambda x: x['status']).values\n",
    "data_hg1g2['HG1G2_fit'] = data_hg1g2['params'].apply(lambda x: x['fit']).values\n",
    "\n",
    "data_hg1g2 = data_hg1g2.drop(columns=['nmeasurements', 'ndays', 'params'])\n"
   ]
  },
  {
   "cell_type": "code",
   "execution_count": 28,
   "id": "d3d94847-a6e4-4b93-9508-3fb0f41c32dd",
   "metadata": {},
   "outputs": [
    {
     "name": "stdout",
     "output_type": "stream",
     "text": [
      "1\n",
      "2\n"
     ]
    }
   ],
   "source": [
    "# HG1G2hyb to data\n",
    "for filt in filters.keys():\n",
    "    print(filt)\n",
    "    data_hg1g2hyb['HG1G2hyb_H_{}'.format(filters[filt])] = data_hg1g2hyb['params'].apply(lambda x: x['H_{}'.format(filt)]).values\n",
    "    data_hg1g2hyb['HG1G2hyb_dH_{}'.format(filters[filt])] = data_hg1g2hyb['params'].apply(lambda x: x['errH_{}'.format(filt)]).values\n",
    "    data_hg1g2hyb['HG1G2hyb_G1_{}'.format(filters[filt])] = data_hg1g2hyb['params'].apply(lambda x: x['G1_{}'.format(filt)]).values\n",
    "    data_hg1g2hyb['HG1G2hyb_dG1_{}'.format(filters[filt])] = data_hg1g2hyb['params'].apply(lambda x: x['errG1_{}'.format(filt)]).values\n",
    "    data_hg1g2hyb['HG1G2hyb_G2_{}'.format(filters[filt])] = data_hg1g2hyb['params'].apply(lambda x: x['G2_{}'.format(filt)]).values\n",
    "    data_hg1g2hyb['HG1G2hyb_dG2_{}'.format(filters[filt])] = data_hg1g2hyb['params'].apply(lambda x: x['errG2_{}'.format(filt)]).values\n",
    "    data_hg1g2hyb['HG1G2hyb_rms_{}'.format(filters[filt])] = data_hg1g2hyb['params'].apply(lambda x: x['rms_{}'.format(filt)]).values\n",
    "    \n",
    "\n",
    "data_hg1g2hyb['HG1G2hyb_RA0'] = np.degrees(data_hg1g2hyb['params'].apply(lambda x: x['alpha0']).values)\n",
    "data_hg1g2hyb['HG1G2hyb_dRA0'] = np.degrees(data_hg1g2hyb['params'].apply(lambda x: x['erralpha0']).values)\n",
    "data_hg1g2hyb['HG1G2hyb_DEC0'] = np.degrees(data_hg1g2hyb['params'].apply(lambda x: x['delta0']).values)\n",
    "data_hg1g2hyb['HG1G2hyb_dDEC0'] = np.degrees(data_hg1g2hyb['params'].apply(lambda x: x['errdelta0']).values)\n",
    "data_hg1g2hyb['HG1G2hyb_R'] = data_hg1g2hyb['params'].apply(lambda x: x['R']).values\n",
    "data_hg1g2hyb['HG1G2hyb_dR'] = data_hg1g2hyb['params'].apply(lambda x: x['errR']).values\n",
    "\n",
    "data_hg1g2hyb['HG1G2hyb_rms'] = data_hg1g2hyb['params'].apply(lambda x: x['rms']).values\n",
    "data_hg1g2hyb['HG1G2hyb_chi2red'] = data_hg1g2hyb['params'].apply(lambda x: x['chi2red']).values\n",
    "data_hg1g2hyb['HG1G2hyb_status'] = data_hg1g2hyb['params'].apply(lambda x: x['status']).values\n",
    "data_hg1g2hyb['HG1G2hyb_fit'] = data_hg1g2hyb['params'].apply(lambda x: x['fit']).values\n",
    "data_hg1g2hyb['HG1G2hyb_minCosLambda'] = data_hg1g2hyb['params'].apply(lambda x: x['minCosLambda']).values\n",
    "data_hg1g2hyb['HG1G2hyb_meanCosLambda'] = data_hg1g2hyb['params'].apply(lambda x: x['meanCosLambda']).values\n",
    "data_hg1g2hyb['HG1G2hyb_maxCosLambda'] = data_hg1g2hyb['params'].apply(lambda x: x['maxCosLambda']).values\n",
    "\n",
    "data_hg1g2hyb = data_hg1g2hyb.drop(columns=['nmeasurements', 'ndays', 'params'])\n"
   ]
  },
  {
   "cell_type": "code",
   "execution_count": 29,
   "id": "2809d19c-22b3-46e8-93a6-735f7da0508f",
   "metadata": {},
   "outputs": [],
   "source": [
    "# # HG1G2atlas to data\n",
    "# for filt in filters_w_atlas.keys():\n",
    "#     print(filt)\n",
    "#     data_hg1g2atlas['HG1G2hyb_H_{}'.format(filters_w_atlas[filt])] = data_hg1g2atlas['params'].apply(lambda x: x['H_{}'.format(filt)]).values\n",
    "#     data_hg1g2atlas['HG1G2hyb_dH_{}'.format(filters_w_atlas[filt])] = data_hg1g2atlas['params'].apply(lambda x: x['errH_{}'.format(filt)]).values\n",
    "#     data_hg1g2atlas['HG1G2hyb_G1_{}'.format(filters_w_atlas[filt])] = data_hg1g2atlas['params'].apply(lambda x: x['G1_{}'.format(filt)]).values\n",
    "#     data_hg1g2atlas['HG1G2hyb_dG1_{}'.format(filters_w_atlas[filt])] = data_hg1g2atlas['params'].apply(lambda x: x['errG1_{}'.format(filt)]).values\n",
    "#     data_hg1g2atlas['HG1G2hyb_G2_{}'.format(filters_w_atlas[filt])] = data_hg1g2atlas['params'].apply(lambda x: x['G2_{}'.format(filt)]).values\n",
    "#     data_hg1g2atlas['HG1G2hyb_dG2_{}'.format(filters_w_atlas[filt])] = data_hg1g2atlas['params'].apply(lambda x: x['errG2_{}'.format(filt)]).values\n",
    "    \n",
    "\n",
    "# data_hg1g2atlas['HG1G2hyb_RA0'] = np.degrees(data_hg1g2atlas['params'].apply(lambda x: x['alpha0']).values)\n",
    "# data_hg1g2atlas['HG1G2hyb_dRA0'] = np.degrees(data_hg1g2atlas['params'].apply(lambda x: x['erralpha0']).values)\n",
    "# data_hg1g2atlas['HG1G2hyb_DEC0'] = np.degrees(data_hg1g2atlas['params'].apply(lambda x: x['delta0']).values)\n",
    "# data_hg1g2atlas['HG1G2hyb_dDEC0'] = np.degrees(data_hg1g2atlas['params'].apply(lambda x: x['errdelta0']).values)\n",
    "# data_hg1g2atlas['HG1G2hyb_R'] = data_hg1g2atlas['params'].apply(lambda x: x['R']).values\n",
    "# data_hg1g2atlas['HG1G2hyb_dR'] = data_hg1g2atlas['params'].apply(lambda x: x['errR']).values\n",
    "\n",
    "# data_hg1g2atlas['HG1G2hyb_rms'] = data_hg1g2atlas['params'].apply(lambda x: x['rms']).values\n",
    "# data_hg1g2atlas['HG1G2hyb_chi2red'] = data_hg1g2atlas['params'].apply(lambda x: x['chi2red']).values\n",
    "# data_hg1g2atlas['HG1G2hyb_n_oppo'] = data_hg1g2atlas['params'].apply(lambda x: x['noppositions']).values\n",
    "# data_hg1g2atlas['HG1G2hyb_status'] = data_hg1g2atlas['params'].apply(lambda x: x['status']).values\n",
    "# data_hg1g2atlas['HG1G2hyb_fit'] = data_hg1g2atlas['params'].apply(lambda x: x['fit']).values\n",
    "# # data_hg1g2atlas['HG1G2hyb_minphase'] = np.rad2deg(data_hg1g2atlas['params'].apply(lambda x: x['minphase']).values)\n",
    "# # data_hg1g2atlas['HG1G2hyb_maxphase'] = np.rad2deg(data_hg1g2atlas['params'].apply(lambda x: x['maxphase']).values)\n",
    "# # data_hg1g2atlas['HG1G2hyb_n_days'] = data_hg1g2atlas['ndays']\n",
    "# # data_hg1g2atlas['HG1G2hyb_n_obs'] = data_hg1g2atlas['nmeasurements']\n",
    "\n",
    "# data_hg1g2atlas = data_hg1g2atlas.drop(columns=['nmeasurements', 'ndays', 'params'])\n"
   ]
  },
  {
   "attachments": {},
   "cell_type": "markdown",
   "id": "fcff6a72-0148-4edd-a5ef-3669f74d71e8",
   "metadata": {},
   "source": [
    "## Write to disk"
   ]
  },
  {
   "cell_type": "code",
   "execution_count": 30,
   "id": "10291616-7cfc-4bf7-a7af-1398a3ef8ab9",
   "metadata": {},
   "outputs": [
    {
     "data": {
      "text/html": [
       "<div>\n",
       "<style scoped>\n",
       "    .dataframe tbody tr th:only-of-type {\n",
       "        vertical-align: middle;\n",
       "    }\n",
       "\n",
       "    .dataframe tbody tr th {\n",
       "        vertical-align: top;\n",
       "    }\n",
       "\n",
       "    .dataframe thead th {\n",
       "        text-align: right;\n",
       "    }\n",
       "</style>\n",
       "<table border=\"1\" class=\"dataframe\">\n",
       "  <thead>\n",
       "    <tr style=\"text-align: right;\">\n",
       "      <th></th>\n",
       "      <th>ssnamenr</th>\n",
       "      <th>nmeasurements</th>\n",
       "      <th>ndays</th>\n",
       "      <th>params</th>\n",
       "      <th>number</th>\n",
       "      <th>name</th>\n",
       "      <th>HG_H_g</th>\n",
       "      <th>HG_dH_g</th>\n",
       "      <th>HG_G_g</th>\n",
       "      <th>HG_dG_g</th>\n",
       "      <th>...</th>\n",
       "      <th>HG_dH_r</th>\n",
       "      <th>HG_G_r</th>\n",
       "      <th>HG_dG_r</th>\n",
       "      <th>HG_rms_r</th>\n",
       "      <th>minphase</th>\n",
       "      <th>maxphase</th>\n",
       "      <th>n_days</th>\n",
       "      <th>n_obs</th>\n",
       "      <th>HG_rms</th>\n",
       "      <th>HG_chi2red</th>\n",
       "    </tr>\n",
       "  </thead>\n",
       "  <tbody>\n",
       "    <tr>\n",
       "      <th>0</th>\n",
       "      <td>95367</td>\n",
       "      <td>82</td>\n",
       "      <td>1037.766238</td>\n",
       "      <td>{'G_1': 0.06303630024194717, 'G_2': 0.19601918...</td>\n",
       "      <td>95367.0</td>\n",
       "      <td>2002 CS157</td>\n",
       "      <td>15.205434</td>\n",
       "      <td>0.049852</td>\n",
       "      <td>6.303630e-02</td>\n",
       "      <td>0.065679</td>\n",
       "      <td>...</td>\n",
       "      <td>0.034712</td>\n",
       "      <td>0.196019</td>\n",
       "      <td>0.036618</td>\n",
       "      <td>0.079057</td>\n",
       "      <td>2.185349</td>\n",
       "      <td>19.910828</td>\n",
       "      <td>1037.766238</td>\n",
       "      <td>82</td>\n",
       "      <td>0.080174</td>\n",
       "      <td>0.498645</td>\n",
       "    </tr>\n",
       "    <tr>\n",
       "      <th>1</th>\n",
       "      <td>250264</td>\n",
       "      <td>64</td>\n",
       "      <td>219.697303</td>\n",
       "      <td>{'G_1': 0.22324514389038086, 'G_2': 0.31732639...</td>\n",
       "      <td>250264.0</td>\n",
       "      <td>2003 CV12</td>\n",
       "      <td>16.374287</td>\n",
       "      <td>0.171846</td>\n",
       "      <td>2.232451e-01</td>\n",
       "      <td>0.148994</td>\n",
       "      <td>...</td>\n",
       "      <td>0.161842</td>\n",
       "      <td>0.317326</td>\n",
       "      <td>0.148689</td>\n",
       "      <td>0.181994</td>\n",
       "      <td>9.820111</td>\n",
       "      <td>28.903004</td>\n",
       "      <td>219.697303</td>\n",
       "      <td>64</td>\n",
       "      <td>0.170350</td>\n",
       "      <td>5.564550</td>\n",
       "    </tr>\n",
       "    <tr>\n",
       "      <th>2</th>\n",
       "      <td>26487</td>\n",
       "      <td>208</td>\n",
       "      <td>1101.873183</td>\n",
       "      <td>{'G_1': 0.33757442235946655, 'G_2': 0.33143043...</td>\n",
       "      <td>26487.0</td>\n",
       "      <td>2000 AV236</td>\n",
       "      <td>14.556883</td>\n",
       "      <td>0.039258</td>\n",
       "      <td>3.375744e-01</td>\n",
       "      <td>0.040907</td>\n",
       "      <td>...</td>\n",
       "      <td>0.042811</td>\n",
       "      <td>0.331430</td>\n",
       "      <td>0.043293</td>\n",
       "      <td>0.110661</td>\n",
       "      <td>0.892786</td>\n",
       "      <td>29.866382</td>\n",
       "      <td>1101.873183</td>\n",
       "      <td>208</td>\n",
       "      <td>0.112170</td>\n",
       "      <td>5.837453</td>\n",
       "    </tr>\n",
       "    <tr>\n",
       "      <th>3</th>\n",
       "      <td>189809</td>\n",
       "      <td>63</td>\n",
       "      <td>1002.917616</td>\n",
       "      <td>{'G_1': 2.0782619075841241e-16, 'G_2': 0.08747...</td>\n",
       "      <td>189809.0</td>\n",
       "      <td>2002 LO19</td>\n",
       "      <td>15.083442</td>\n",
       "      <td>0.085618</td>\n",
       "      <td>2.078262e-16</td>\n",
       "      <td>0.089987</td>\n",
       "      <td>...</td>\n",
       "      <td>0.064286</td>\n",
       "      <td>0.087478</td>\n",
       "      <td>0.070784</td>\n",
       "      <td>0.161389</td>\n",
       "      <td>1.605850</td>\n",
       "      <td>20.178815</td>\n",
       "      <td>1002.917616</td>\n",
       "      <td>63</td>\n",
       "      <td>0.163775</td>\n",
       "      <td>3.231980</td>\n",
       "    </tr>\n",
       "    <tr>\n",
       "      <th>4</th>\n",
       "      <td>34395</td>\n",
       "      <td>116</td>\n",
       "      <td>1087.781169</td>\n",
       "      <td>{'G_1': 0.5242671966552734, 'G_2': 0.381103187...</td>\n",
       "      <td>34395.0</td>\n",
       "      <td>2000 RS73</td>\n",
       "      <td>15.081876</td>\n",
       "      <td>0.147779</td>\n",
       "      <td>5.242672e-01</td>\n",
       "      <td>0.206629</td>\n",
       "      <td>...</td>\n",
       "      <td>0.111389</td>\n",
       "      <td>0.381103</td>\n",
       "      <td>0.136778</td>\n",
       "      <td>0.247270</td>\n",
       "      <td>2.925089</td>\n",
       "      <td>24.701395</td>\n",
       "      <td>1087.781169</td>\n",
       "      <td>116</td>\n",
       "      <td>0.260464</td>\n",
       "      <td>9.454986</td>\n",
       "    </tr>\n",
       "    <tr>\n",
       "      <th>...</th>\n",
       "      <td>...</td>\n",
       "      <td>...</td>\n",
       "      <td>...</td>\n",
       "      <td>...</td>\n",
       "      <td>...</td>\n",
       "      <td>...</td>\n",
       "      <td>...</td>\n",
       "      <td>...</td>\n",
       "      <td>...</td>\n",
       "      <td>...</td>\n",
       "      <td>...</td>\n",
       "      <td>...</td>\n",
       "      <td>...</td>\n",
       "      <td>...</td>\n",
       "      <td>...</td>\n",
       "      <td>...</td>\n",
       "      <td>...</td>\n",
       "      <td>...</td>\n",
       "      <td>...</td>\n",
       "      <td>...</td>\n",
       "      <td>...</td>\n",
       "    </tr>\n",
       "    <tr>\n",
       "      <th>115143</th>\n",
       "      <td>20866</td>\n",
       "      <td>216</td>\n",
       "      <td>1061.878310</td>\n",
       "      <td>{'G_1': 0.25884151458740234, 'G_2': 0.40618246...</td>\n",
       "      <td>20866.0</td>\n",
       "      <td>2000 VP37</td>\n",
       "      <td>13.469830</td>\n",
       "      <td>0.094156</td>\n",
       "      <td>2.588415e-01</td>\n",
       "      <td>0.089800</td>\n",
       "      <td>...</td>\n",
       "      <td>0.124205</td>\n",
       "      <td>0.406182</td>\n",
       "      <td>0.133361</td>\n",
       "      <td>0.168710</td>\n",
       "      <td>3.767693</td>\n",
       "      <td>23.331139</td>\n",
       "      <td>1061.878310</td>\n",
       "      <td>216</td>\n",
       "      <td>0.164734</td>\n",
       "      <td>9.298336</td>\n",
       "    </tr>\n",
       "    <tr>\n",
       "      <th>115144</th>\n",
       "      <td>39790</td>\n",
       "      <td>96</td>\n",
       "      <td>1016.752407</td>\n",
       "      <td>{'G_1': 0.08864176273345947, 'G_2': 0.03623726...</td>\n",
       "      <td>39790.0</td>\n",
       "      <td>1997 PF</td>\n",
       "      <td>13.892776</td>\n",
       "      <td>0.040307</td>\n",
       "      <td>8.864176e-02</td>\n",
       "      <td>0.039136</td>\n",
       "      <td>...</td>\n",
       "      <td>0.041717</td>\n",
       "      <td>0.036237</td>\n",
       "      <td>0.037341</td>\n",
       "      <td>0.115615</td>\n",
       "      <td>0.713536</td>\n",
       "      <td>20.488185</td>\n",
       "      <td>1016.752407</td>\n",
       "      <td>96</td>\n",
       "      <td>0.112657</td>\n",
       "      <td>1.640129</td>\n",
       "    </tr>\n",
       "    <tr>\n",
       "      <th>115145</th>\n",
       "      <td>99263</td>\n",
       "      <td>65</td>\n",
       "      <td>794.646273</td>\n",
       "      <td>{'G_1': 1.0, 'G_2': 0.8298622369766235, 'H_1':...</td>\n",
       "      <td>99263.0</td>\n",
       "      <td>2001 OZ31</td>\n",
       "      <td>17.481823</td>\n",
       "      <td>0.220211</td>\n",
       "      <td>1.000000e+00</td>\n",
       "      <td>0.380656</td>\n",
       "      <td>...</td>\n",
       "      <td>0.160112</td>\n",
       "      <td>0.829862</td>\n",
       "      <td>0.228391</td>\n",
       "      <td>0.261312</td>\n",
       "      <td>1.161068</td>\n",
       "      <td>33.233003</td>\n",
       "      <td>794.646273</td>\n",
       "      <td>65</td>\n",
       "      <td>0.269517</td>\n",
       "      <td>10.753973</td>\n",
       "    </tr>\n",
       "    <tr>\n",
       "      <th>115146</th>\n",
       "      <td>18754</td>\n",
       "      <td>228</td>\n",
       "      <td>1181.814294</td>\n",
       "      <td>{'G_1': 0.19368864595890045, 'G_2': 0.32351323...</td>\n",
       "      <td>18754.0</td>\n",
       "      <td>1999 GL21</td>\n",
       "      <td>14.145675</td>\n",
       "      <td>0.052304</td>\n",
       "      <td>1.936886e-01</td>\n",
       "      <td>0.048243</td>\n",
       "      <td>...</td>\n",
       "      <td>0.054813</td>\n",
       "      <td>0.323513</td>\n",
       "      <td>0.057257</td>\n",
       "      <td>0.162891</td>\n",
       "      <td>3.290924</td>\n",
       "      <td>28.166682</td>\n",
       "      <td>1181.814294</td>\n",
       "      <td>228</td>\n",
       "      <td>0.160058</td>\n",
       "      <td>9.851058</td>\n",
       "    </tr>\n",
       "    <tr>\n",
       "      <th>115147</th>\n",
       "      <td>33746</td>\n",
       "      <td>109</td>\n",
       "      <td>1040.628090</td>\n",
       "      <td>{'G_1': 0.312258780002594, 'G_2': 0.2411991208...</td>\n",
       "      <td>33746.0</td>\n",
       "      <td>Sombart</td>\n",
       "      <td>14.473418</td>\n",
       "      <td>0.055650</td>\n",
       "      <td>3.122588e-01</td>\n",
       "      <td>0.071922</td>\n",
       "      <td>...</td>\n",
       "      <td>0.048785</td>\n",
       "      <td>0.241199</td>\n",
       "      <td>0.059957</td>\n",
       "      <td>0.125292</td>\n",
       "      <td>0.454552</td>\n",
       "      <td>20.093479</td>\n",
       "      <td>1040.628090</td>\n",
       "      <td>109</td>\n",
       "      <td>0.129285</td>\n",
       "      <td>1.740152</td>\n",
       "    </tr>\n",
       "  </tbody>\n",
       "</table>\n",
       "<p>115148 rows × 22 columns</p>\n",
       "</div>"
      ],
      "text/plain": [
       "       ssnamenr  nmeasurements        ndays  \\\n",
       "0         95367             82  1037.766238   \n",
       "1        250264             64   219.697303   \n",
       "2         26487            208  1101.873183   \n",
       "3        189809             63  1002.917616   \n",
       "4         34395            116  1087.781169   \n",
       "...         ...            ...          ...   \n",
       "115143    20866            216  1061.878310   \n",
       "115144    39790             96  1016.752407   \n",
       "115145    99263             65   794.646273   \n",
       "115146    18754            228  1181.814294   \n",
       "115147    33746            109  1040.628090   \n",
       "\n",
       "                                                   params    number  \\\n",
       "0       {'G_1': 0.06303630024194717, 'G_2': 0.19601918...   95367.0   \n",
       "1       {'G_1': 0.22324514389038086, 'G_2': 0.31732639...  250264.0   \n",
       "2       {'G_1': 0.33757442235946655, 'G_2': 0.33143043...   26487.0   \n",
       "3       {'G_1': 2.0782619075841241e-16, 'G_2': 0.08747...  189809.0   \n",
       "4       {'G_1': 0.5242671966552734, 'G_2': 0.381103187...   34395.0   \n",
       "...                                                   ...       ...   \n",
       "115143  {'G_1': 0.25884151458740234, 'G_2': 0.40618246...   20866.0   \n",
       "115144  {'G_1': 0.08864176273345947, 'G_2': 0.03623726...   39790.0   \n",
       "115145  {'G_1': 1.0, 'G_2': 0.8298622369766235, 'H_1':...   99263.0   \n",
       "115146  {'G_1': 0.19368864595890045, 'G_2': 0.32351323...   18754.0   \n",
       "115147  {'G_1': 0.312258780002594, 'G_2': 0.2411991208...   33746.0   \n",
       "\n",
       "              name     HG_H_g   HG_dH_g        HG_G_g   HG_dG_g  ...  \\\n",
       "0       2002 CS157  15.205434  0.049852  6.303630e-02  0.065679  ...   \n",
       "1        2003 CV12  16.374287  0.171846  2.232451e-01  0.148994  ...   \n",
       "2       2000 AV236  14.556883  0.039258  3.375744e-01  0.040907  ...   \n",
       "3        2002 LO19  15.083442  0.085618  2.078262e-16  0.089987  ...   \n",
       "4        2000 RS73  15.081876  0.147779  5.242672e-01  0.206629  ...   \n",
       "...            ...        ...       ...           ...       ...  ...   \n",
       "115143   2000 VP37  13.469830  0.094156  2.588415e-01  0.089800  ...   \n",
       "115144     1997 PF  13.892776  0.040307  8.864176e-02  0.039136  ...   \n",
       "115145   2001 OZ31  17.481823  0.220211  1.000000e+00  0.380656  ...   \n",
       "115146   1999 GL21  14.145675  0.052304  1.936886e-01  0.048243  ...   \n",
       "115147     Sombart  14.473418  0.055650  3.122588e-01  0.071922  ...   \n",
       "\n",
       "         HG_dH_r    HG_G_r   HG_dG_r  HG_rms_r  minphase   maxphase  \\\n",
       "0       0.034712  0.196019  0.036618  0.079057  2.185349  19.910828   \n",
       "1       0.161842  0.317326  0.148689  0.181994  9.820111  28.903004   \n",
       "2       0.042811  0.331430  0.043293  0.110661  0.892786  29.866382   \n",
       "3       0.064286  0.087478  0.070784  0.161389  1.605850  20.178815   \n",
       "4       0.111389  0.381103  0.136778  0.247270  2.925089  24.701395   \n",
       "...          ...       ...       ...       ...       ...        ...   \n",
       "115143  0.124205  0.406182  0.133361  0.168710  3.767693  23.331139   \n",
       "115144  0.041717  0.036237  0.037341  0.115615  0.713536  20.488185   \n",
       "115145  0.160112  0.829862  0.228391  0.261312  1.161068  33.233003   \n",
       "115146  0.054813  0.323513  0.057257  0.162891  3.290924  28.166682   \n",
       "115147  0.048785  0.241199  0.059957  0.125292  0.454552  20.093479   \n",
       "\n",
       "             n_days  n_obs    HG_rms  HG_chi2red  \n",
       "0       1037.766238     82  0.080174    0.498645  \n",
       "1        219.697303     64  0.170350    5.564550  \n",
       "2       1101.873183    208  0.112170    5.837453  \n",
       "3       1002.917616     63  0.163775    3.231980  \n",
       "4       1087.781169    116  0.260464    9.454986  \n",
       "...             ...    ...       ...         ...  \n",
       "115143  1061.878310    216  0.164734    9.298336  \n",
       "115144  1016.752407     96  0.112657    1.640129  \n",
       "115145   794.646273     65  0.269517   10.753973  \n",
       "115146  1181.814294    228  0.160058    9.851058  \n",
       "115147  1040.628090    109  0.129285    1.740152  \n",
       "\n",
       "[115148 rows x 22 columns]"
      ]
     },
     "execution_count": 30,
     "metadata": {},
     "output_type": "execute_result"
    }
   ],
   "source": [
    "data_hg"
   ]
  },
  {
   "cell_type": "code",
   "execution_count": 31,
   "id": "9c203198-a6a1-4eba-89a9-37e5460129fa",
   "metadata": {},
   "outputs": [],
   "source": [
    "# HG with HG1G2\n",
    "data_2 = data_hg.merge( data_hg1g2, on='ssnamenr')\n",
    "\n",
    "# (HG with HG1G2) with hybrid\n",
    "data = data_2.merge( data_hg1g2hyb, on='ssnamenr')"
   ]
  },
  {
   "cell_type": "code",
   "execution_count": 32,
   "id": "ec887062-3de0-4ee8-8d96-6d78348fe855",
   "metadata": {},
   "outputs": [
    {
     "data": {
      "text/plain": [
       "(115148, 115148, 115238, 115238)"
      ]
     },
     "execution_count": 32,
     "metadata": {},
     "output_type": "execute_result"
    }
   ],
   "source": [
    "len(data), len(data_hg), len(data_hg1g2), len(data_hg1g2hyb)"
   ]
  },
  {
   "cell_type": "code",
   "execution_count": 33,
   "id": "16482917-0cc7-4d01-8eec-9c97818980a0",
   "metadata": {},
   "outputs": [
    {
     "data": {
      "text/html": [
       "<div>\n",
       "<style scoped>\n",
       "    .dataframe tbody tr th:only-of-type {\n",
       "        vertical-align: middle;\n",
       "    }\n",
       "\n",
       "    .dataframe tbody tr th {\n",
       "        vertical-align: top;\n",
       "    }\n",
       "\n",
       "    .dataframe thead th {\n",
       "        text-align: right;\n",
       "    }\n",
       "</style>\n",
       "<table border=\"1\" class=\"dataframe\">\n",
       "  <thead>\n",
       "    <tr style=\"text-align: right;\">\n",
       "      <th></th>\n",
       "      <th>ssnamenr</th>\n",
       "      <th>nmeasurements</th>\n",
       "      <th>ndays</th>\n",
       "      <th>params</th>\n",
       "      <th>number</th>\n",
       "      <th>name</th>\n",
       "      <th>HG_H_g</th>\n",
       "      <th>HG_dH_g</th>\n",
       "      <th>HG_G_g</th>\n",
       "      <th>HG_dG_g</th>\n",
       "      <th>...</th>\n",
       "      <th>HG1G2hyb_dDEC0</th>\n",
       "      <th>HG1G2hyb_R</th>\n",
       "      <th>HG1G2hyb_dR</th>\n",
       "      <th>HG1G2hyb_rms</th>\n",
       "      <th>HG1G2hyb_chi2red</th>\n",
       "      <th>HG1G2hyb_status</th>\n",
       "      <th>HG1G2hyb_fit</th>\n",
       "      <th>HG1G2hyb_minCosLambda</th>\n",
       "      <th>HG1G2hyb_meanCosLambda</th>\n",
       "      <th>HG1G2hyb_maxCosLambda</th>\n",
       "    </tr>\n",
       "  </thead>\n",
       "  <tbody>\n",
       "    <tr>\n",
       "      <th>0</th>\n",
       "      <td>95367</td>\n",
       "      <td>82</td>\n",
       "      <td>1037.766238</td>\n",
       "      <td>{'G_1': 0.06303630024194717, 'G_2': 0.19601918...</td>\n",
       "      <td>95367</td>\n",
       "      <td>2002 CS157</td>\n",
       "      <td>15.205434</td>\n",
       "      <td>0.049852</td>\n",
       "      <td>6.303630e-02</td>\n",
       "      <td>0.065679</td>\n",
       "      <td>...</td>\n",
       "      <td>158.532502</td>\n",
       "      <td>0.922042</td>\n",
       "      <td>0.115025</td>\n",
       "      <td>0.077086</td>\n",
       "      <td>0.497046</td>\n",
       "      <td>2.0</td>\n",
       "      <td>0.0</td>\n",
       "      <td>1.012016e-06</td>\n",
       "      <td>0.139533</td>\n",
       "      <td>0.927224</td>\n",
       "    </tr>\n",
       "    <tr>\n",
       "      <th>1</th>\n",
       "      <td>250264</td>\n",
       "      <td>64</td>\n",
       "      <td>219.697303</td>\n",
       "      <td>{'G_1': 0.22324514389038086, 'G_2': 0.31732639...</td>\n",
       "      <td>250264</td>\n",
       "      <td>2003 CV12</td>\n",
       "      <td>16.374287</td>\n",
       "      <td>0.171846</td>\n",
       "      <td>2.232451e-01</td>\n",
       "      <td>0.148994</td>\n",
       "      <td>...</td>\n",
       "      <td>2.862553</td>\n",
       "      <td>0.100000</td>\n",
       "      <td>0.053895</td>\n",
       "      <td>0.159935</td>\n",
       "      <td>4.771893</td>\n",
       "      <td>2.0</td>\n",
       "      <td>0.0</td>\n",
       "      <td>9.388329e-01</td>\n",
       "      <td>0.988473</td>\n",
       "      <td>0.995369</td>\n",
       "    </tr>\n",
       "    <tr>\n",
       "      <th>2</th>\n",
       "      <td>26487</td>\n",
       "      <td>208</td>\n",
       "      <td>1101.873183</td>\n",
       "      <td>{'G_1': 0.33757442235946655, 'G_2': 0.33143043...</td>\n",
       "      <td>26487</td>\n",
       "      <td>2000 AV236</td>\n",
       "      <td>14.556883</td>\n",
       "      <td>0.039258</td>\n",
       "      <td>3.375744e-01</td>\n",
       "      <td>0.040907</td>\n",
       "      <td>...</td>\n",
       "      <td>36.886276</td>\n",
       "      <td>0.825462</td>\n",
       "      <td>0.183103</td>\n",
       "      <td>0.104603</td>\n",
       "      <td>5.488952</td>\n",
       "      <td>2.0</td>\n",
       "      <td>0.0</td>\n",
       "      <td>1.837519e-06</td>\n",
       "      <td>0.257722</td>\n",
       "      <td>0.568765</td>\n",
       "    </tr>\n",
       "    <tr>\n",
       "      <th>3</th>\n",
       "      <td>189809</td>\n",
       "      <td>63</td>\n",
       "      <td>1002.917616</td>\n",
       "      <td>{'G_1': 2.0782619075841241e-16, 'G_2': 0.08747...</td>\n",
       "      <td>189809</td>\n",
       "      <td>2002 LO19</td>\n",
       "      <td>15.083442</td>\n",
       "      <td>0.085618</td>\n",
       "      <td>2.078262e-16</td>\n",
       "      <td>0.089987</td>\n",
       "      <td>...</td>\n",
       "      <td>12.368218</td>\n",
       "      <td>0.236502</td>\n",
       "      <td>0.116943</td>\n",
       "      <td>0.146654</td>\n",
       "      <td>2.808556</td>\n",
       "      <td>2.0</td>\n",
       "      <td>0.0</td>\n",
       "      <td>6.508819e-01</td>\n",
       "      <td>0.705825</td>\n",
       "      <td>0.802373</td>\n",
       "    </tr>\n",
       "    <tr>\n",
       "      <th>4</th>\n",
       "      <td>34395</td>\n",
       "      <td>116</td>\n",
       "      <td>1087.781169</td>\n",
       "      <td>{'G_1': 0.5242671966552734, 'G_2': 0.381103187...</td>\n",
       "      <td>34395</td>\n",
       "      <td>2000 RS73</td>\n",
       "      <td>15.081876</td>\n",
       "      <td>0.147779</td>\n",
       "      <td>5.242672e-01</td>\n",
       "      <td>0.206629</td>\n",
       "      <td>...</td>\n",
       "      <td>14.341654</td>\n",
       "      <td>0.532330</td>\n",
       "      <td>0.467085</td>\n",
       "      <td>0.254345</td>\n",
       "      <td>9.497408</td>\n",
       "      <td>2.0</td>\n",
       "      <td>0.0</td>\n",
       "      <td>5.012663e-03</td>\n",
       "      <td>0.161519</td>\n",
       "      <td>0.300628</td>\n",
       "    </tr>\n",
       "    <tr>\n",
       "      <th>...</th>\n",
       "      <td>...</td>\n",
       "      <td>...</td>\n",
       "      <td>...</td>\n",
       "      <td>...</td>\n",
       "      <td>...</td>\n",
       "      <td>...</td>\n",
       "      <td>...</td>\n",
       "      <td>...</td>\n",
       "      <td>...</td>\n",
       "      <td>...</td>\n",
       "      <td>...</td>\n",
       "      <td>...</td>\n",
       "      <td>...</td>\n",
       "      <td>...</td>\n",
       "      <td>...</td>\n",
       "      <td>...</td>\n",
       "      <td>...</td>\n",
       "      <td>...</td>\n",
       "      <td>...</td>\n",
       "      <td>...</td>\n",
       "      <td>...</td>\n",
       "    </tr>\n",
       "    <tr>\n",
       "      <th>115143</th>\n",
       "      <td>20866</td>\n",
       "      <td>216</td>\n",
       "      <td>1061.878310</td>\n",
       "      <td>{'G_1': 0.25884151458740234, 'G_2': 0.40618246...</td>\n",
       "      <td>20866</td>\n",
       "      <td>2000 VP37</td>\n",
       "      <td>13.469830</td>\n",
       "      <td>0.094156</td>\n",
       "      <td>2.588415e-01</td>\n",
       "      <td>0.089800</td>\n",
       "      <td>...</td>\n",
       "      <td>18.679753</td>\n",
       "      <td>0.746724</td>\n",
       "      <td>0.027362</td>\n",
       "      <td>0.125369</td>\n",
       "      <td>4.812122</td>\n",
       "      <td>2.0</td>\n",
       "      <td>0.0</td>\n",
       "      <td>2.118916e-03</td>\n",
       "      <td>0.547583</td>\n",
       "      <td>0.936407</td>\n",
       "    </tr>\n",
       "    <tr>\n",
       "      <th>115144</th>\n",
       "      <td>39790</td>\n",
       "      <td>96</td>\n",
       "      <td>1016.752407</td>\n",
       "      <td>{'G_1': 0.08864176273345947, 'G_2': 0.03623726...</td>\n",
       "      <td>39790</td>\n",
       "      <td>1997 PF</td>\n",
       "      <td>13.892776</td>\n",
       "      <td>0.040307</td>\n",
       "      <td>8.864176e-02</td>\n",
       "      <td>0.039136</td>\n",
       "      <td>...</td>\n",
       "      <td>10.597246</td>\n",
       "      <td>0.128320</td>\n",
       "      <td>0.231076</td>\n",
       "      <td>0.071692</td>\n",
       "      <td>1.223396</td>\n",
       "      <td>2.0</td>\n",
       "      <td>0.0</td>\n",
       "      <td>3.269790e-01</td>\n",
       "      <td>0.430643</td>\n",
       "      <td>0.561184</td>\n",
       "    </tr>\n",
       "    <tr>\n",
       "      <th>115145</th>\n",
       "      <td>99263</td>\n",
       "      <td>65</td>\n",
       "      <td>794.646273</td>\n",
       "      <td>{'G_1': 1.0, 'G_2': 0.8298622369766235, 'H_1':...</td>\n",
       "      <td>99263</td>\n",
       "      <td>2001 OZ31</td>\n",
       "      <td>17.481823</td>\n",
       "      <td>0.220211</td>\n",
       "      <td>1.000000e+00</td>\n",
       "      <td>0.380656</td>\n",
       "      <td>...</td>\n",
       "      <td>12.426569</td>\n",
       "      <td>0.436599</td>\n",
       "      <td>0.355626</td>\n",
       "      <td>0.267769</td>\n",
       "      <td>12.144855</td>\n",
       "      <td>2.0</td>\n",
       "      <td>0.0</td>\n",
       "      <td>7.321041e-01</td>\n",
       "      <td>0.885299</td>\n",
       "      <td>0.946877</td>\n",
       "    </tr>\n",
       "    <tr>\n",
       "      <th>115146</th>\n",
       "      <td>18754</td>\n",
       "      <td>228</td>\n",
       "      <td>1181.814294</td>\n",
       "      <td>{'G_1': 0.19368864595890045, 'G_2': 0.32351323...</td>\n",
       "      <td>18754</td>\n",
       "      <td>1999 GL21</td>\n",
       "      <td>14.145675</td>\n",
       "      <td>0.052304</td>\n",
       "      <td>1.936886e-01</td>\n",
       "      <td>0.048243</td>\n",
       "      <td>...</td>\n",
       "      <td>25.098514</td>\n",
       "      <td>0.845688</td>\n",
       "      <td>0.274284</td>\n",
       "      <td>0.159227</td>\n",
       "      <td>9.858122</td>\n",
       "      <td>2.0</td>\n",
       "      <td>0.0</td>\n",
       "      <td>2.312535e-07</td>\n",
       "      <td>0.106539</td>\n",
       "      <td>0.307556</td>\n",
       "    </tr>\n",
       "    <tr>\n",
       "      <th>115147</th>\n",
       "      <td>33746</td>\n",
       "      <td>109</td>\n",
       "      <td>1040.628090</td>\n",
       "      <td>{'G_1': 0.312258780002594, 'G_2': 0.2411991208...</td>\n",
       "      <td>33746</td>\n",
       "      <td>Sombart</td>\n",
       "      <td>14.473418</td>\n",
       "      <td>0.055650</td>\n",
       "      <td>3.122588e-01</td>\n",
       "      <td>0.071922</td>\n",
       "      <td>...</td>\n",
       "      <td>10.057080</td>\n",
       "      <td>0.855871</td>\n",
       "      <td>0.342696</td>\n",
       "      <td>0.126922</td>\n",
       "      <td>1.789994</td>\n",
       "      <td>2.0</td>\n",
       "      <td>0.0</td>\n",
       "      <td>4.798706e-07</td>\n",
       "      <td>0.098799</td>\n",
       "      <td>0.177758</td>\n",
       "    </tr>\n",
       "  </tbody>\n",
       "</table>\n",
       "<p>115148 rows × 67 columns</p>\n",
       "</div>"
      ],
      "text/plain": [
       "       ssnamenr  nmeasurements        ndays  \\\n",
       "0         95367             82  1037.766238   \n",
       "1        250264             64   219.697303   \n",
       "2         26487            208  1101.873183   \n",
       "3        189809             63  1002.917616   \n",
       "4         34395            116  1087.781169   \n",
       "...         ...            ...          ...   \n",
       "115143    20866            216  1061.878310   \n",
       "115144    39790             96  1016.752407   \n",
       "115145    99263             65   794.646273   \n",
       "115146    18754            228  1181.814294   \n",
       "115147    33746            109  1040.628090   \n",
       "\n",
       "                                                   params  number        name  \\\n",
       "0       {'G_1': 0.06303630024194717, 'G_2': 0.19601918...   95367  2002 CS157   \n",
       "1       {'G_1': 0.22324514389038086, 'G_2': 0.31732639...  250264   2003 CV12   \n",
       "2       {'G_1': 0.33757442235946655, 'G_2': 0.33143043...   26487  2000 AV236   \n",
       "3       {'G_1': 2.0782619075841241e-16, 'G_2': 0.08747...  189809   2002 LO19   \n",
       "4       {'G_1': 0.5242671966552734, 'G_2': 0.381103187...   34395   2000 RS73   \n",
       "...                                                   ...     ...         ...   \n",
       "115143  {'G_1': 0.25884151458740234, 'G_2': 0.40618246...   20866   2000 VP37   \n",
       "115144  {'G_1': 0.08864176273345947, 'G_2': 0.03623726...   39790     1997 PF   \n",
       "115145  {'G_1': 1.0, 'G_2': 0.8298622369766235, 'H_1':...   99263   2001 OZ31   \n",
       "115146  {'G_1': 0.19368864595890045, 'G_2': 0.32351323...   18754   1999 GL21   \n",
       "115147  {'G_1': 0.312258780002594, 'G_2': 0.2411991208...   33746     Sombart   \n",
       "\n",
       "           HG_H_g   HG_dH_g        HG_G_g   HG_dG_g  ...  HG1G2hyb_dDEC0  \\\n",
       "0       15.205434  0.049852  6.303630e-02  0.065679  ...      158.532502   \n",
       "1       16.374287  0.171846  2.232451e-01  0.148994  ...        2.862553   \n",
       "2       14.556883  0.039258  3.375744e-01  0.040907  ...       36.886276   \n",
       "3       15.083442  0.085618  2.078262e-16  0.089987  ...       12.368218   \n",
       "4       15.081876  0.147779  5.242672e-01  0.206629  ...       14.341654   \n",
       "...           ...       ...           ...       ...  ...             ...   \n",
       "115143  13.469830  0.094156  2.588415e-01  0.089800  ...       18.679753   \n",
       "115144  13.892776  0.040307  8.864176e-02  0.039136  ...       10.597246   \n",
       "115145  17.481823  0.220211  1.000000e+00  0.380656  ...       12.426569   \n",
       "115146  14.145675  0.052304  1.936886e-01  0.048243  ...       25.098514   \n",
       "115147  14.473418  0.055650  3.122588e-01  0.071922  ...       10.057080   \n",
       "\n",
       "        HG1G2hyb_R  HG1G2hyb_dR  HG1G2hyb_rms  HG1G2hyb_chi2red  \\\n",
       "0         0.922042     0.115025      0.077086          0.497046   \n",
       "1         0.100000     0.053895      0.159935          4.771893   \n",
       "2         0.825462     0.183103      0.104603          5.488952   \n",
       "3         0.236502     0.116943      0.146654          2.808556   \n",
       "4         0.532330     0.467085      0.254345          9.497408   \n",
       "...            ...          ...           ...               ...   \n",
       "115143    0.746724     0.027362      0.125369          4.812122   \n",
       "115144    0.128320     0.231076      0.071692          1.223396   \n",
       "115145    0.436599     0.355626      0.267769         12.144855   \n",
       "115146    0.845688     0.274284      0.159227          9.858122   \n",
       "115147    0.855871     0.342696      0.126922          1.789994   \n",
       "\n",
       "        HG1G2hyb_status  HG1G2hyb_fit  HG1G2hyb_minCosLambda  \\\n",
       "0                   2.0           0.0           1.012016e-06   \n",
       "1                   2.0           0.0           9.388329e-01   \n",
       "2                   2.0           0.0           1.837519e-06   \n",
       "3                   2.0           0.0           6.508819e-01   \n",
       "4                   2.0           0.0           5.012663e-03   \n",
       "...                 ...           ...                    ...   \n",
       "115143              2.0           0.0           2.118916e-03   \n",
       "115144              2.0           0.0           3.269790e-01   \n",
       "115145              2.0           0.0           7.321041e-01   \n",
       "115146              2.0           0.0           2.312535e-07   \n",
       "115147              2.0           0.0           4.798706e-07   \n",
       "\n",
       "        HG1G2hyb_meanCosLambda  HG1G2hyb_maxCosLambda  \n",
       "0                     0.139533               0.927224  \n",
       "1                     0.988473               0.995369  \n",
       "2                     0.257722               0.568765  \n",
       "3                     0.705825               0.802373  \n",
       "4                     0.161519               0.300628  \n",
       "...                        ...                    ...  \n",
       "115143                0.547583               0.936407  \n",
       "115144                0.430643               0.561184  \n",
       "115145                0.885299               0.946877  \n",
       "115146                0.106539               0.307556  \n",
       "115147                0.098799               0.177758  \n",
       "\n",
       "[115148 rows x 67 columns]"
      ]
     },
     "execution_count": 33,
     "metadata": {},
     "output_type": "execute_result"
    }
   ],
   "source": [
    "data = data.astype({'number':'Int64'})\n",
    "data"
   ]
  },
  {
   "cell_type": "code",
   "execution_count": 35,
   "id": "6e32343b-14ea-4269-b257-0d6fd859acba",
   "metadata": {},
   "outputs": [],
   "source": [
    "data.to_parquet(f'{data_fink}sso_ZTF.parquet')"
   ]
  },
  {
   "cell_type": "code",
   "execution_count": 36,
   "id": "8fd90749-0de6-4e90-91da-12239934d462",
   "metadata": {},
   "outputs": [
    {
     "data": {
      "text/plain": [
       "Index(['ssnamenr', 'nmeasurements', 'ndays', 'params', 'number', 'name',\n",
       "       'HG_H_g', 'HG_dH_g', 'HG_G_g', 'HG_dG_g', 'HG_rms_g', 'HG_H_r',\n",
       "       'HG_dH_r', 'HG_G_r', 'HG_dG_r', 'HG_rms_r', 'minphase', 'maxphase',\n",
       "       'n_days', 'n_obs', 'HG_rms', 'HG_chi2red', 'HG1G2_H_g', 'HG1G2_dH_g',\n",
       "       'HG1G2_G1_g', 'HG1G2_dG1_g', 'HG1G2_G2_g', 'HG1G2_dG2_g', 'HG1G2_rms_g',\n",
       "       'HG1G2_H_r', 'HG1G2_dH_r', 'HG1G2_G1_r', 'HG1G2_dG1_r', 'HG1G2_G2_r',\n",
       "       'HG1G2_dG2_r', 'HG1G2_rms_r', 'HG1G2_rms', 'HG1G2_chi2red',\n",
       "       'HG1G2_status', 'HG1G2_fit', 'HG1G2hyb_H_g', 'HG1G2hyb_dH_g',\n",
       "       'HG1G2hyb_G1_g', 'HG1G2hyb_dG1_g', 'HG1G2hyb_G2_g', 'HG1G2hyb_dG2_g',\n",
       "       'HG1G2hyb_rms_g', 'HG1G2hyb_H_r', 'HG1G2hyb_dH_r', 'HG1G2hyb_G1_r',\n",
       "       'HG1G2hyb_dG1_r', 'HG1G2hyb_G2_r', 'HG1G2hyb_dG2_r', 'HG1G2hyb_rms_r',\n",
       "       'HG1G2hyb_RA0', 'HG1G2hyb_dRA0', 'HG1G2hyb_DEC0', 'HG1G2hyb_dDEC0',\n",
       "       'HG1G2hyb_R', 'HG1G2hyb_dR', 'HG1G2hyb_rms', 'HG1G2hyb_chi2red',\n",
       "       'HG1G2hyb_status', 'HG1G2hyb_fit', 'HG1G2hyb_minCosLambda',\n",
       "       'HG1G2hyb_meanCosLambda', 'HG1G2hyb_maxCosLambda'],\n",
       "      dtype='object')"
      ]
     },
     "execution_count": 36,
     "metadata": {},
     "output_type": "execute_result"
    }
   ],
   "source": [
    "data.columns"
   ]
  },
  {
   "cell_type": "code",
   "execution_count": null,
   "id": "1a8434ee-4d01-4bd8-82bd-7450e071bceb",
   "metadata": {},
   "outputs": [],
   "source": []
  }
 ],
 "metadata": {
  "kernelspec": {
   "display_name": "Python 3 (ipykernel)",
   "language": "python",
   "name": "python3"
  },
  "language_info": {
   "codemirror_mode": {
    "name": "ipython",
    "version": 3
   },
   "file_extension": ".py",
   "mimetype": "text/x-python",
   "name": "python",
   "nbconvert_exporter": "python",
   "pygments_lexer": "ipython3",
   "version": "3.7.6"
  }
 },
 "nbformat": 4,
 "nbformat_minor": 5
}
