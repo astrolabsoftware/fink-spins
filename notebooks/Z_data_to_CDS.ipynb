{
 "cells": [
  {
   "cell_type": "code",
   "execution_count": 1,
   "id": "c67cc7b8-e6e2-44d4-9be9-ddafd36bca34",
   "metadata": {},
   "outputs": [],
   "source": [
    "import os\n",
    "import sys\n",
    "import numpy as np\n",
    "import pandas as pd\n",
    "\n",
    "import rocks\n",
    "\n",
    "rocks.set_log_level(\"error\")\n",
    "\n",
    "import matplotlib.pyplot as plt\n",
    "from figure_mask import compute_mask, print_statistics, compute_mask_spin"
   ]
  },
  {
   "cell_type": "markdown",
   "id": "6198a3d1-286c-4c4b-806e-5c085aabc386",
   "metadata": {},
   "source": [
    "# Get SSOFT"
   ]
  },
  {
   "cell_type": "code",
   "execution_count": 2,
   "id": "b76b0d15-20ce-4b38-907d-6ce100dfd15f",
   "metadata": {},
   "outputs": [],
   "source": [
    "# Local Configuration\n",
    "data_fink = \"../\"\n"
   ]
  },
  {
   "cell_type": "code",
   "execution_count": 3,
   "id": "ca033440-e54f-4997-a212-e419f377ed07",
   "metadata": {},
   "outputs": [],
   "source": [
    "# # Threshold for selection (of non-zero values)\n",
    "# thres = 1e-3\n",
    "\n",
    "# # Minimum phase angle to consider\n",
    "# min_phase = 3"
   ]
  },
  {
   "cell_type": "code",
   "execution_count": 4,
   "id": "5ea808c9-ac69-4b19-9c98-8e41113a8fd6",
   "metadata": {},
   "outputs": [],
   "source": [
    "# # ZTF filters 1: g, 2: r\n",
    "# filters = {\"1\": \"g\", \"2\": \"r\"}\n",
    "\n",
    "# fink_colors = [\"#15284F\", \"#F5622E\"]\n",
    "\n",
    "# color_fink = \"#15284F\""
   ]
  },
  {
   "cell_type": "code",
   "execution_count": 5,
   "id": "6b4db0c1-36bc-4db9-b2d2-751e97ba0d35",
   "metadata": {},
   "outputs": [],
   "source": [
    "data = pd.read_parquet(os.path.join(data_fink, \"data\", \"ztf\", \"sso_ZTF.parquet\"))"
   ]
  },
  {
   "cell_type": "code",
   "execution_count": null,
   "id": "6fc9a4aa",
   "metadata": {},
   "outputs": [],
   "source": []
  },
  {
   "cell_type": "code",
   "execution_count": 6,
   "id": "7506e32d-fccc-4007-b27a-6bda182f0989",
   "metadata": {},
   "outputs": [
    {
     "name": "stdout",
     "output_type": "stream",
     "text": [
      "above 90: 0 \n",
      "below 90: 0 \n"
     ]
    }
   ],
   "source": [
    "# data[\"SHG1G2_dSpin\"] = np.sqrt(\n",
    "#     (data[\"SHG1G2_dalpha0\"] * np.cos(np.radians(data[\"SHG1G2_delta0\"]))) ** 2\n",
    "#     + data[\"SHG1G2_ddelta0\"] ** 2\n",
    "# )\n",
    "\n",
    "\n",
    "# # Remove solutions above 90 deg of latitude\n",
    "cond = data.SHG1G2_delta0 > 90\n",
    "data.loc[cond, \"SHG1G2_delta0\"] = 90\n",
    "print(f\"above 90: {len(data[cond])} \")\n",
    "\n",
    "cond = data.SHG1G2_delta0 < -90\n",
    "data.loc[cond, \"SHG1G2_delta0\"] = -90\n",
    "print(f\"below 90: {len(data[cond])} \")"
   ]
  },
  {
   "cell_type": "code",
   "execution_count": 7,
   "id": "9a2e63c8-6e42-41aa-86bf-6c3ded183f6b",
   "metadata": {},
   "outputs": [],
   "source": [
    "# mask_SHG1G2_union = compute_mask(data, model=\"SHG1G2\", kind=\"union\")\n",
    "# mask_HG1G2_union = compute_mask(data, model=\"HG1G2\", kind=\"union\")\n",
    "# mask_HG_union = compute_mask(data, model=\"HG\", kind=\"union\")\n",
    "\n",
    "# mask_SHG1G2_inter = compute_mask(data, model=\"SHG1G2\", kind=\"inter\")\n",
    "# mask_HG1G2_inter = compute_mask(data, model=\"HG1G2\", kind=\"inter\")\n",
    "# mask_HG_inter = compute_mask(data, model=\"HG\", kind=\"inter\")\n",
    "\n",
    "# maskFINK_inter = compute_mask(data, R_min=0.305, model=\"FINK\", kind=\"inter\")\n",
    "# maskFINK_union = compute_mask(data, R_min=0.305, model=\"FINK\", kind=\"union\")\n",
    "\n",
    "# for model in [\"HG\", \"HG1G2\", \"SHG1G2\", \"FINK\"]:\n",
    "#     print_statistics(data, model)\n",
    "#     print()"
   ]
  },
  {
   "cell_type": "markdown",
   "id": "576e8adb",
   "metadata": {},
   "source": [
    "# Check RMS of SSOs with shape models"
   ]
  },
  {
   "cell_type": "code",
   "execution_count": 8,
   "id": "096e4875",
   "metadata": {},
   "outputs": [
    {
     "data": {
      "text/html": [
       "<pre style=\"white-space:pre;overflow-x:auto;line-height:normal;font-family:Menlo,'DejaVu Sans Mono',consolas,'Courier New',monospace\"><span style=\"color: #800000; text-decoration-color: #800000; font-weight: bold\">ERROR   </span> <span style=\"font-weight: bold\">[</span>rocks<span style=\"font-weight: bold\">]</span> Could not identify <span style=\"color: #008000; text-decoration-color: #008000\">'2003 RK07'</span>.                                                                   \n",
       "</pre>\n"
      ],
      "text/plain": [
       "\u001b[1;31mERROR   \u001b[0m \u001b[1m[\u001b[0mrocks\u001b[1m]\u001b[0m Could not identify \u001b[32m'2003 RK07'\u001b[0m.                                                                   \n"
      ]
     },
     "metadata": {},
     "output_type": "display_data"
    },
    {
     "data": {
      "text/html": [
       "<pre style=\"white-space:pre;overflow-x:auto;line-height:normal;font-family:Menlo,'DejaVu Sans Mono',consolas,'Courier New',monospace\"><span style=\"color: #800000; text-decoration-color: #800000; font-weight: bold\">ERROR   </span> <span style=\"font-weight: bold\">[</span>rocks<span style=\"font-weight: bold\">]</span> Could not identify <span style=\"color: #008000; text-decoration-color: #008000\">'2016 VM04'</span>.                                                                   \n",
       "</pre>\n"
      ],
      "text/plain": [
       "\u001b[1;31mERROR   \u001b[0m \u001b[1m[\u001b[0mrocks\u001b[1m]\u001b[0m Could not identify \u001b[32m'2016 VM04'\u001b[0m.                                                                   \n"
      ]
     },
     "metadata": {},
     "output_type": "display_data"
    },
    {
     "data": {
      "text/html": [
       "<pre style=\"white-space:pre;overflow-x:auto;line-height:normal;font-family:Menlo,'DejaVu Sans Mono',consolas,'Courier New',monospace\"><span style=\"color: #800000; text-decoration-color: #800000; font-weight: bold\">ERROR   </span> <span style=\"font-weight: bold\">[</span>rocks<span style=\"font-weight: bold\">]</span> Could not identify <span style=\"color: #008000; text-decoration-color: #008000\">'2020 FW03'</span>.                                                                   \n",
       "</pre>\n"
      ],
      "text/plain": [
       "\u001b[1;31mERROR   \u001b[0m \u001b[1m[\u001b[0mrocks\u001b[1m]\u001b[0m Could not identify \u001b[32m'2020 FW03'\u001b[0m.                                                                   \n"
      ]
     },
     "metadata": {},
     "output_type": "display_data"
    },
    {
     "data": {
      "text/html": [
       "<pre style=\"white-space:pre;overflow-x:auto;line-height:normal;font-family:Menlo,'DejaVu Sans Mono',consolas,'Courier New',monospace\"><span style=\"color: #800000; text-decoration-color: #800000; font-weight: bold\">ERROR   </span> <span style=\"font-weight: bold\">[</span>rocks<span style=\"font-weight: bold\">]</span> Could not identify <span style=\"color: #008000; text-decoration-color: #008000\">'2003 VD01'</span>.                                                                   \n",
       "</pre>\n"
      ],
      "text/plain": [
       "\u001b[1;31mERROR   \u001b[0m \u001b[1m[\u001b[0mrocks\u001b[1m]\u001b[0m Could not identify \u001b[32m'2003 VD01'\u001b[0m.                                                                   \n"
      ]
     },
     "metadata": {},
     "output_type": "display_data"
    },
    {
     "data": {
      "text/html": [
       "<pre style=\"white-space:pre;overflow-x:auto;line-height:normal;font-family:Menlo,'DejaVu Sans Mono',consolas,'Courier New',monospace\"><span style=\"color: #800000; text-decoration-color: #800000; font-weight: bold\">ERROR   </span> <span style=\"font-weight: bold\">[</span>rocks<span style=\"font-weight: bold\">]</span> Could not identify <span style=\"color: #008000; text-decoration-color: #008000\">'2005 YV02'</span>.                                                                   \n",
       "</pre>\n"
      ],
      "text/plain": [
       "\u001b[1;31mERROR   \u001b[0m \u001b[1m[\u001b[0mrocks\u001b[1m]\u001b[0m Could not identify \u001b[32m'2005 YV02'\u001b[0m.                                                                   \n"
      ]
     },
     "metadata": {},
     "output_type": "display_data"
    },
    {
     "data": {
      "text/html": [
       "<pre style=\"white-space:pre;overflow-x:auto;line-height:normal;font-family:Menlo,'DejaVu Sans Mono',consolas,'Courier New',monospace\"><span style=\"color: #800000; text-decoration-color: #800000; font-weight: bold\">ERROR   </span> <span style=\"font-weight: bold\">[</span>rocks<span style=\"font-weight: bold\">]</span> Could not identify <span style=\"color: #008000; text-decoration-color: #008000\">'2011 YQ04'</span>.                                                                   \n",
       "</pre>\n"
      ],
      "text/plain": [
       "\u001b[1;31mERROR   \u001b[0m \u001b[1m[\u001b[0mrocks\u001b[1m]\u001b[0m Could not identify \u001b[32m'2011 YQ04'\u001b[0m.                                                                   \n"
      ]
     },
     "metadata": {},
     "output_type": "display_data"
    },
    {
     "data": {
      "text/html": [
       "<pre style=\"white-space:pre;overflow-x:auto;line-height:normal;font-family:Menlo,'DejaVu Sans Mono',consolas,'Courier New',monospace\"><span style=\"color: #800000; text-decoration-color: #800000; font-weight: bold\">ERROR   </span> <span style=\"font-weight: bold\">[</span>rocks<span style=\"font-weight: bold\">]</span> Could not identify <span style=\"color: #008000; text-decoration-color: #008000\">'2021 NX07'</span>.                                                                   \n",
       "</pre>\n"
      ],
      "text/plain": [
       "\u001b[1;31mERROR   \u001b[0m \u001b[1m[\u001b[0mrocks\u001b[1m]\u001b[0m Could not identify \u001b[32m'2021 NX07'\u001b[0m.                                                                   \n"
      ]
     },
     "metadata": {},
     "output_type": "display_data"
    },
    {
     "data": {
      "text/html": [
       "<pre style=\"white-space:pre;overflow-x:auto;line-height:normal;font-family:Menlo,'DejaVu Sans Mono',consolas,'Courier New',monospace\"><span style=\"color: #800000; text-decoration-color: #800000; font-weight: bold\">ERROR   </span> <span style=\"font-weight: bold\">[</span>rocks<span style=\"font-weight: bold\">]</span> Could not identify <span style=\"color: #008000; text-decoration-color: #008000\">'2001 YU03'</span>.                                                                   \n",
       "</pre>\n"
      ],
      "text/plain": [
       "\u001b[1;31mERROR   \u001b[0m \u001b[1m[\u001b[0mrocks\u001b[1m]\u001b[0m Could not identify \u001b[32m'2001 YU03'\u001b[0m.                                                                   \n"
      ]
     },
     "metadata": {},
     "output_type": "display_data"
    },
    {
     "data": {
      "text/html": [
       "<pre style=\"white-space:pre;overflow-x:auto;line-height:normal;font-family:Menlo,'DejaVu Sans Mono',consolas,'Courier New',monospace\"><span style=\"color: #800000; text-decoration-color: #800000; font-weight: bold\">ERROR   </span> <span style=\"font-weight: bold\">[</span>rocks<span style=\"font-weight: bold\">]</span> Could not identify <span style=\"color: #008000; text-decoration-color: #008000\">'2020 AV02'</span>.                                                                   \n",
       "</pre>\n"
      ],
      "text/plain": [
       "\u001b[1;31mERROR   \u001b[0m \u001b[1m[\u001b[0mrocks\u001b[1m]\u001b[0m Could not identify \u001b[32m'2020 AV02'\u001b[0m.                                                                   \n"
      ]
     },
     "metadata": {},
     "output_type": "display_data"
    },
    {
     "data": {
      "text/html": [
       "<pre style=\"white-space:pre;overflow-x:auto;line-height:normal;font-family:Menlo,'DejaVu Sans Mono',consolas,'Courier New',monospace\"><span style=\"color: #800000; text-decoration-color: #800000; font-weight: bold\">ERROR   </span> <span style=\"font-weight: bold\">[</span>rocks<span style=\"font-weight: bold\">]</span> Could not identify <span style=\"color: #008000; text-decoration-color: #008000\">'2002 TA09'</span>.                                                                   \n",
       "</pre>\n"
      ],
      "text/plain": [
       "\u001b[1;31mERROR   \u001b[0m \u001b[1m[\u001b[0mrocks\u001b[1m]\u001b[0m Could not identify \u001b[32m'2002 TA09'\u001b[0m.                                                                   \n"
      ]
     },
     "metadata": {},
     "output_type": "display_data"
    },
    {
     "data": {
      "text/html": [
       "<pre style=\"white-space:pre;overflow-x:auto;line-height:normal;font-family:Menlo,'DejaVu Sans Mono',consolas,'Courier New',monospace\"><span style=\"color: #800000; text-decoration-color: #800000; font-weight: bold\">ERROR   </span> <span style=\"font-weight: bold\">[</span>rocks<span style=\"font-weight: bold\">]</span> Could not identify <span style=\"color: #008000; text-decoration-color: #008000\">'2008 YF02'</span>.                                                                   \n",
       "</pre>\n"
      ],
      "text/plain": [
       "\u001b[1;31mERROR   \u001b[0m \u001b[1m[\u001b[0mrocks\u001b[1m]\u001b[0m Could not identify \u001b[32m'2008 YF02'\u001b[0m.                                                                   \n"
      ]
     },
     "metadata": {},
     "output_type": "display_data"
    },
    {
     "data": {
      "text/html": [
       "<pre style=\"white-space:pre;overflow-x:auto;line-height:normal;font-family:Menlo,'DejaVu Sans Mono',consolas,'Courier New',monospace\"><span style=\"color: #800000; text-decoration-color: #800000; font-weight: bold\">ERROR   </span> <span style=\"font-weight: bold\">[</span>rocks<span style=\"font-weight: bold\">]</span> Could not identify <span style=\"color: #008000; text-decoration-color: #008000\">'2002 NS07'</span>.                                                                   \n",
       "</pre>\n"
      ],
      "text/plain": [
       "\u001b[1;31mERROR   \u001b[0m \u001b[1m[\u001b[0mrocks\u001b[1m]\u001b[0m Could not identify \u001b[32m'2002 NS07'\u001b[0m.                                                                   \n"
      ]
     },
     "metadata": {},
     "output_type": "display_data"
    },
    {
     "data": {
      "text/html": [
       "<pre style=\"white-space:pre;overflow-x:auto;line-height:normal;font-family:Menlo,'DejaVu Sans Mono',consolas,'Courier New',monospace\"><span style=\"color: #800000; text-decoration-color: #800000; font-weight: bold\">ERROR   </span> <span style=\"font-weight: bold\">[</span>rocks<span style=\"font-weight: bold\">]</span> Could not identify <span style=\"color: #008000; text-decoration-color: #008000\">'2013 PY06'</span>.                                                                   \n",
       "</pre>\n"
      ],
      "text/plain": [
       "\u001b[1;31mERROR   \u001b[0m \u001b[1m[\u001b[0mrocks\u001b[1m]\u001b[0m Could not identify \u001b[32m'2013 PY06'\u001b[0m.                                                                   \n"
      ]
     },
     "metadata": {},
     "output_type": "display_data"
    },
    {
     "data": {
      "text/html": [
       "<pre style=\"white-space:pre;overflow-x:auto;line-height:normal;font-family:Menlo,'DejaVu Sans Mono',consolas,'Courier New',monospace\"><span style=\"color: #800000; text-decoration-color: #800000; font-weight: bold\">ERROR   </span> <span style=\"font-weight: bold\">[</span>rocks<span style=\"font-weight: bold\">]</span> Could not identify <span style=\"color: #008000; text-decoration-color: #008000\">'2003 YM01'</span>.                                                                   \n",
       "</pre>\n"
      ],
      "text/plain": [
       "\u001b[1;31mERROR   \u001b[0m \u001b[1m[\u001b[0mrocks\u001b[1m]\u001b[0m Could not identify \u001b[32m'2003 YM01'\u001b[0m.                                                                   \n"
      ]
     },
     "metadata": {},
     "output_type": "display_data"
    },
    {
     "data": {
      "text/html": [
       "<pre style=\"white-space:pre;overflow-x:auto;line-height:normal;font-family:Menlo,'DejaVu Sans Mono',consolas,'Courier New',monospace\"><span style=\"color: #800000; text-decoration-color: #800000; font-weight: bold\">ERROR   </span> <span style=\"font-weight: bold\">[</span>rocks<span style=\"font-weight: bold\">]</span> Could not identify <span style=\"color: #008000; text-decoration-color: #008000\">'1998 UQ01'</span>.                                                                   \n",
       "</pre>\n"
      ],
      "text/plain": [
       "\u001b[1;31mERROR   \u001b[0m \u001b[1m[\u001b[0mrocks\u001b[1m]\u001b[0m Could not identify \u001b[32m'1998 UQ01'\u001b[0m.                                                                   \n"
      ]
     },
     "metadata": {},
     "output_type": "display_data"
    },
    {
     "data": {
      "text/html": [
       "<pre style=\"white-space:pre;overflow-x:auto;line-height:normal;font-family:Menlo,'DejaVu Sans Mono',consolas,'Courier New',monospace\"><span style=\"color: #800000; text-decoration-color: #800000; font-weight: bold\">ERROR   </span> <span style=\"font-weight: bold\">[</span>rocks<span style=\"font-weight: bold\">]</span> Could not identify <span style=\"color: #008000; text-decoration-color: #008000\">'2004 XM00'</span>.                                                                   \n",
       "</pre>\n"
      ],
      "text/plain": [
       "\u001b[1;31mERROR   \u001b[0m \u001b[1m[\u001b[0mrocks\u001b[1m]\u001b[0m Could not identify \u001b[32m'2004 XM00'\u001b[0m.                                                                   \n"
      ]
     },
     "metadata": {},
     "output_type": "display_data"
    },
    {
     "data": {
      "text/html": [
       "<pre style=\"white-space:pre;overflow-x:auto;line-height:normal;font-family:Menlo,'DejaVu Sans Mono',consolas,'Courier New',monospace\"><span style=\"color: #800000; text-decoration-color: #800000; font-weight: bold\">ERROR   </span> <span style=\"font-weight: bold\">[</span>rocks<span style=\"font-weight: bold\">]</span> Could not identify <span style=\"color: #008000; text-decoration-color: #008000\">'2007 OR01'</span>.                                                                   \n",
       "</pre>\n"
      ],
      "text/plain": [
       "\u001b[1;31mERROR   \u001b[0m \u001b[1m[\u001b[0mrocks\u001b[1m]\u001b[0m Could not identify \u001b[32m'2007 OR01'\u001b[0m.                                                                   \n"
      ]
     },
     "metadata": {},
     "output_type": "display_data"
    },
    {
     "data": {
      "text/html": [
       "<pre style=\"white-space:pre;overflow-x:auto;line-height:normal;font-family:Menlo,'DejaVu Sans Mono',consolas,'Courier New',monospace\"><span style=\"color: #800000; text-decoration-color: #800000; font-weight: bold\">ERROR   </span> <span style=\"font-weight: bold\">[</span>rocks<span style=\"font-weight: bold\">]</span> Could not identify <span style=\"color: #008000; text-decoration-color: #008000\">'2015 WV01'</span>.                                                                   \n",
       "</pre>\n"
      ],
      "text/plain": [
       "\u001b[1;31mERROR   \u001b[0m \u001b[1m[\u001b[0mrocks\u001b[1m]\u001b[0m Could not identify \u001b[32m'2015 WV01'\u001b[0m.                                                                   \n"
      ]
     },
     "metadata": {},
     "output_type": "display_data"
    },
    {
     "data": {
      "text/html": [
       "<pre style=\"white-space:pre;overflow-x:auto;line-height:normal;font-family:Menlo,'DejaVu Sans Mono',consolas,'Courier New',monospace\"><span style=\"color: #800000; text-decoration-color: #800000; font-weight: bold\">ERROR   </span> <span style=\"font-weight: bold\">[</span>rocks<span style=\"font-weight: bold\">]</span> Could not identify <span style=\"color: #008000; text-decoration-color: #008000\">'2015 MO01'</span>.                                                                   \n",
       "</pre>\n"
      ],
      "text/plain": [
       "\u001b[1;31mERROR   \u001b[0m \u001b[1m[\u001b[0mrocks\u001b[1m]\u001b[0m Could not identify \u001b[32m'2015 MO01'\u001b[0m.                                                                   \n"
      ]
     },
     "metadata": {},
     "output_type": "display_data"
    },
    {
     "data": {
      "text/html": [
       "<pre style=\"white-space:pre;overflow-x:auto;line-height:normal;font-family:Menlo,'DejaVu Sans Mono',consolas,'Courier New',monospace\"><span style=\"color: #800000; text-decoration-color: #800000; font-weight: bold\">ERROR   </span> <span style=\"font-weight: bold\">[</span>rocks<span style=\"font-weight: bold\">]</span> Could not identify <span style=\"color: #008000; text-decoration-color: #008000\">'2018 LM04'</span>.                                                                   \n",
       "</pre>\n"
      ],
      "text/plain": [
       "\u001b[1;31mERROR   \u001b[0m \u001b[1m[\u001b[0mrocks\u001b[1m]\u001b[0m Could not identify \u001b[32m'2018 LM04'\u001b[0m.                                                                   \n"
      ]
     },
     "metadata": {},
     "output_type": "display_data"
    },
    {
     "data": {
      "text/html": [
       "<pre style=\"white-space:pre;overflow-x:auto;line-height:normal;font-family:Menlo,'DejaVu Sans Mono',consolas,'Courier New',monospace\"><span style=\"color: #800000; text-decoration-color: #800000; font-weight: bold\">ERROR   </span> <span style=\"font-weight: bold\">[</span>rocks<span style=\"font-weight: bold\">]</span> Could not identify <span style=\"color: #008000; text-decoration-color: #008000\">'2016 VW01'</span>.                                                                   \n",
       "</pre>\n"
      ],
      "text/plain": [
       "\u001b[1;31mERROR   \u001b[0m \u001b[1m[\u001b[0mrocks\u001b[1m]\u001b[0m Could not identify \u001b[32m'2016 VW01'\u001b[0m.                                                                   \n"
      ]
     },
     "metadata": {},
     "output_type": "display_data"
    },
    {
     "data": {
      "text/html": [
       "<pre style=\"white-space:pre;overflow-x:auto;line-height:normal;font-family:Menlo,'DejaVu Sans Mono',consolas,'Courier New',monospace\"><span style=\"color: #800000; text-decoration-color: #800000; font-weight: bold\">ERROR   </span> <span style=\"font-weight: bold\">[</span>rocks<span style=\"font-weight: bold\">]</span> Could not identify <span style=\"color: #008000; text-decoration-color: #008000\">'2010 WQ07'</span>.                                                                   \n",
       "</pre>\n"
      ],
      "text/plain": [
       "\u001b[1;31mERROR   \u001b[0m \u001b[1m[\u001b[0mrocks\u001b[1m]\u001b[0m Could not identify \u001b[32m'2010 WQ07'\u001b[0m.                                                                   \n"
      ]
     },
     "metadata": {},
     "output_type": "display_data"
    },
    {
     "data": {
      "text/html": [
       "<pre style=\"white-space:pre;overflow-x:auto;line-height:normal;font-family:Menlo,'DejaVu Sans Mono',consolas,'Courier New',monospace\"><span style=\"color: #800000; text-decoration-color: #800000; font-weight: bold\">ERROR   </span> <span style=\"font-weight: bold\">[</span>rocks<span style=\"font-weight: bold\">]</span> Could not identify <span style=\"color: #008000; text-decoration-color: #008000\">'2016 QP01'</span>.                                                                   \n",
       "</pre>\n"
      ],
      "text/plain": [
       "\u001b[1;31mERROR   \u001b[0m \u001b[1m[\u001b[0mrocks\u001b[1m]\u001b[0m Could not identify \u001b[32m'2016 QP01'\u001b[0m.                                                                   \n"
      ]
     },
     "metadata": {},
     "output_type": "display_data"
    },
    {
     "data": {
      "text/html": [
       "<pre style=\"white-space:pre;overflow-x:auto;line-height:normal;font-family:Menlo,'DejaVu Sans Mono',consolas,'Courier New',monospace\"><span style=\"color: #800000; text-decoration-color: #800000; font-weight: bold\">ERROR   </span> <span style=\"font-weight: bold\">[</span>rocks<span style=\"font-weight: bold\">]</span> Could not identify <span style=\"color: #008000; text-decoration-color: #008000\">'2004 MJ03'</span>.                                                                   \n",
       "</pre>\n"
      ],
      "text/plain": [
       "\u001b[1;31mERROR   \u001b[0m \u001b[1m[\u001b[0mrocks\u001b[1m]\u001b[0m Could not identify \u001b[32m'2004 MJ03'\u001b[0m.                                                                   \n"
      ]
     },
     "metadata": {},
     "output_type": "display_data"
    },
    {
     "data": {
      "text/html": [
       "<pre style=\"white-space:pre;overflow-x:auto;line-height:normal;font-family:Menlo,'DejaVu Sans Mono',consolas,'Courier New',monospace\"><span style=\"color: #800000; text-decoration-color: #800000; font-weight: bold\">ERROR   </span> <span style=\"font-weight: bold\">[</span>rocks<span style=\"font-weight: bold\">]</span> Could not identify <span style=\"color: #008000; text-decoration-color: #008000\">'2014 RH00'</span>.                                                                   \n",
       "</pre>\n"
      ],
      "text/plain": [
       "\u001b[1;31mERROR   \u001b[0m \u001b[1m[\u001b[0mrocks\u001b[1m]\u001b[0m Could not identify \u001b[32m'2014 RH00'\u001b[0m.                                                                   \n"
      ]
     },
     "metadata": {},
     "output_type": "display_data"
    },
    {
     "data": {
      "text/html": [
       "<pre style=\"white-space:pre;overflow-x:auto;line-height:normal;font-family:Menlo,'DejaVu Sans Mono',consolas,'Courier New',monospace\"><span style=\"color: #800000; text-decoration-color: #800000; font-weight: bold\">ERROR   </span> <span style=\"font-weight: bold\">[</span>rocks<span style=\"font-weight: bold\">]</span> Could not identify <span style=\"color: #008000; text-decoration-color: #008000\">'2016 OQ02'</span>.                                                                   \n",
       "</pre>\n"
      ],
      "text/plain": [
       "\u001b[1;31mERROR   \u001b[0m \u001b[1m[\u001b[0mrocks\u001b[1m]\u001b[0m Could not identify \u001b[32m'2016 OQ02'\u001b[0m.                                                                   \n"
      ]
     },
     "metadata": {},
     "output_type": "display_data"
    },
    {
     "data": {
      "text/html": [
       "<pre style=\"white-space:pre;overflow-x:auto;line-height:normal;font-family:Menlo,'DejaVu Sans Mono',consolas,'Courier New',monospace\"><span style=\"color: #800000; text-decoration-color: #800000; font-weight: bold\">ERROR   </span> <span style=\"font-weight: bold\">[</span>rocks<span style=\"font-weight: bold\">]</span> Could not identify <span style=\"color: #008000; text-decoration-color: #008000\">'2014 KL05'</span>.                                                                   \n",
       "</pre>\n"
      ],
      "text/plain": [
       "\u001b[1;31mERROR   \u001b[0m \u001b[1m[\u001b[0mrocks\u001b[1m]\u001b[0m Could not identify \u001b[32m'2014 KL05'\u001b[0m.                                                                   \n"
      ]
     },
     "metadata": {},
     "output_type": "display_data"
    },
    {
     "data": {
      "text/html": [
       "<pre style=\"white-space:pre;overflow-x:auto;line-height:normal;font-family:Menlo,'DejaVu Sans Mono',consolas,'Courier New',monospace\"><span style=\"color: #800000; text-decoration-color: #800000; font-weight: bold\">ERROR   </span> <span style=\"font-weight: bold\">[</span>rocks<span style=\"font-weight: bold\">]</span> Could not identify <span style=\"color: #008000; text-decoration-color: #008000\">'2010 VH95'</span>.                                                                   \n",
       "</pre>\n"
      ],
      "text/plain": [
       "\u001b[1;31mERROR   \u001b[0m \u001b[1m[\u001b[0mrocks\u001b[1m]\u001b[0m Could not identify \u001b[32m'2010 VH95'\u001b[0m.                                                                   \n"
      ]
     },
     "metadata": {},
     "output_type": "display_data"
    },
    {
     "data": {
      "text/html": [
       "<pre style=\"white-space:pre;overflow-x:auto;line-height:normal;font-family:Menlo,'DejaVu Sans Mono',consolas,'Courier New',monospace\"><span style=\"color: #800000; text-decoration-color: #800000; font-weight: bold\">ERROR   </span> <span style=\"font-weight: bold\">[</span>rocks<span style=\"font-weight: bold\">]</span> Could not identify <span style=\"color: #008000; text-decoration-color: #008000\">'2014 RP00'</span>.                                                                   \n",
       "</pre>\n"
      ],
      "text/plain": [
       "\u001b[1;31mERROR   \u001b[0m \u001b[1m[\u001b[0mrocks\u001b[1m]\u001b[0m Could not identify \u001b[32m'2014 RP00'\u001b[0m.                                                                   \n"
      ]
     },
     "metadata": {},
     "output_type": "display_data"
    },
    {
     "data": {
      "text/html": [
       "<pre style=\"white-space:pre;overflow-x:auto;line-height:normal;font-family:Menlo,'DejaVu Sans Mono',consolas,'Courier New',monospace\"><span style=\"color: #800000; text-decoration-color: #800000; font-weight: bold\">ERROR   </span> <span style=\"font-weight: bold\">[</span>rocks<span style=\"font-weight: bold\">]</span> Could not identify <span style=\"color: #008000; text-decoration-color: #008000\">'2017 RM00'</span>.                                                                   \n",
       "</pre>\n"
      ],
      "text/plain": [
       "\u001b[1;31mERROR   \u001b[0m \u001b[1m[\u001b[0mrocks\u001b[1m]\u001b[0m Could not identify \u001b[32m'2017 RM00'\u001b[0m.                                                                   \n"
      ]
     },
     "metadata": {},
     "output_type": "display_data"
    },
    {
     "data": {
      "text/html": [
       "<pre style=\"white-space:pre;overflow-x:auto;line-height:normal;font-family:Menlo,'DejaVu Sans Mono',consolas,'Courier New',monospace\"><span style=\"color: #800000; text-decoration-color: #800000; font-weight: bold\">ERROR   </span> <span style=\"font-weight: bold\">[</span>rocks<span style=\"font-weight: bold\">]</span> Could not identify <span style=\"color: #008000; text-decoration-color: #008000\">'2003 NM03'</span>.                                                                   \n",
       "</pre>\n"
      ],
      "text/plain": [
       "\u001b[1;31mERROR   \u001b[0m \u001b[1m[\u001b[0mrocks\u001b[1m]\u001b[0m Could not identify \u001b[32m'2003 NM03'\u001b[0m.                                                                   \n"
      ]
     },
     "metadata": {},
     "output_type": "display_data"
    },
    {
     "data": {
      "text/html": [
       "<pre style=\"white-space:pre;overflow-x:auto;line-height:normal;font-family:Menlo,'DejaVu Sans Mono',consolas,'Courier New',monospace\"><span style=\"color: #800000; text-decoration-color: #800000; font-weight: bold\">ERROR   </span> <span style=\"font-weight: bold\">[</span>rocks<span style=\"font-weight: bold\">]</span> Could not identify <span style=\"color: #008000; text-decoration-color: #008000\">'2011 AJ05'</span>.                                                                   \n",
       "</pre>\n"
      ],
      "text/plain": [
       "\u001b[1;31mERROR   \u001b[0m \u001b[1m[\u001b[0mrocks\u001b[1m]\u001b[0m Could not identify \u001b[32m'2011 AJ05'\u001b[0m.                                                                   \n"
      ]
     },
     "metadata": {},
     "output_type": "display_data"
    },
    {
     "data": {
      "text/html": [
       "<pre style=\"white-space:pre;overflow-x:auto;line-height:normal;font-family:Menlo,'DejaVu Sans Mono',consolas,'Courier New',monospace\"><span style=\"color: #800000; text-decoration-color: #800000; font-weight: bold\">ERROR   </span> <span style=\"font-weight: bold\">[</span>rocks<span style=\"font-weight: bold\">]</span> Could not identify <span style=\"color: #008000; text-decoration-color: #008000\">'2009 CC03'</span>.                                                                   \n",
       "</pre>\n"
      ],
      "text/plain": [
       "\u001b[1;31mERROR   \u001b[0m \u001b[1m[\u001b[0mrocks\u001b[1m]\u001b[0m Could not identify \u001b[32m'2009 CC03'\u001b[0m.                                                                   \n"
      ]
     },
     "metadata": {},
     "output_type": "display_data"
    },
    {
     "data": {
      "text/html": [
       "<pre style=\"white-space:pre;overflow-x:auto;line-height:normal;font-family:Menlo,'DejaVu Sans Mono',consolas,'Courier New',monospace\"><span style=\"color: #800000; text-decoration-color: #800000; font-weight: bold\">ERROR   </span> <span style=\"font-weight: bold\">[</span>rocks<span style=\"font-weight: bold\">]</span> Could not identify <span style=\"color: #008000; text-decoration-color: #008000\">'2020 PC05'</span>.                                                                   \n",
       "</pre>\n"
      ],
      "text/plain": [
       "\u001b[1;31mERROR   \u001b[0m \u001b[1m[\u001b[0mrocks\u001b[1m]\u001b[0m Could not identify \u001b[32m'2020 PC05'\u001b[0m.                                                                   \n"
      ]
     },
     "metadata": {},
     "output_type": "display_data"
    },
    {
     "data": {
      "text/html": [
       "<pre style=\"white-space:pre;overflow-x:auto;line-height:normal;font-family:Menlo,'DejaVu Sans Mono',consolas,'Courier New',monospace\"><span style=\"color: #800000; text-decoration-color: #800000; font-weight: bold\">ERROR   </span> <span style=\"font-weight: bold\">[</span>rocks<span style=\"font-weight: bold\">]</span> Could not identify <span style=\"color: #008000; text-decoration-color: #008000\">'2001 BO02'</span>.                                                                   \n",
       "</pre>\n"
      ],
      "text/plain": [
       "\u001b[1;31mERROR   \u001b[0m \u001b[1m[\u001b[0mrocks\u001b[1m]\u001b[0m Could not identify \u001b[32m'2001 BO02'\u001b[0m.                                                                   \n"
      ]
     },
     "metadata": {},
     "output_type": "display_data"
    },
    {
     "data": {
      "text/html": [
       "<pre style=\"white-space:pre;overflow-x:auto;line-height:normal;font-family:Menlo,'DejaVu Sans Mono',consolas,'Courier New',monospace\"><span style=\"color: #800000; text-decoration-color: #800000; font-weight: bold\">ERROR   </span> <span style=\"font-weight: bold\">[</span>rocks<span style=\"font-weight: bold\">]</span> Could not identify <span style=\"color: #008000; text-decoration-color: #008000\">'2016 WQ05'</span>.                                                                   \n",
       "</pre>\n"
      ],
      "text/plain": [
       "\u001b[1;31mERROR   \u001b[0m \u001b[1m[\u001b[0mrocks\u001b[1m]\u001b[0m Could not identify \u001b[32m'2016 WQ05'\u001b[0m.                                                                   \n"
      ]
     },
     "metadata": {},
     "output_type": "display_data"
    },
    {
     "data": {
      "text/html": [
       "<pre style=\"white-space:pre;overflow-x:auto;line-height:normal;font-family:Menlo,'DejaVu Sans Mono',consolas,'Courier New',monospace\"><span style=\"color: #800000; text-decoration-color: #800000; font-weight: bold\">ERROR   </span> <span style=\"font-weight: bold\">[</span>rocks<span style=\"font-weight: bold\">]</span> Could not identify <span style=\"color: #008000; text-decoration-color: #008000\">'2003 VA03'</span>.                                                                   \n",
       "</pre>\n"
      ],
      "text/plain": [
       "\u001b[1;31mERROR   \u001b[0m \u001b[1m[\u001b[0mrocks\u001b[1m]\u001b[0m Could not identify \u001b[32m'2003 VA03'\u001b[0m.                                                                   \n"
      ]
     },
     "metadata": {},
     "output_type": "display_data"
    },
    {
     "data": {
      "text/html": [
       "<pre style=\"white-space:pre;overflow-x:auto;line-height:normal;font-family:Menlo,'DejaVu Sans Mono',consolas,'Courier New',monospace\"><span style=\"color: #800000; text-decoration-color: #800000; font-weight: bold\">ERROR   </span> <span style=\"font-weight: bold\">[</span>rocks<span style=\"font-weight: bold\">]</span> Could not identify <span style=\"color: #008000; text-decoration-color: #008000\">'2017 YH03'</span>.                                                                   \n",
       "</pre>\n"
      ],
      "text/plain": [
       "\u001b[1;31mERROR   \u001b[0m \u001b[1m[\u001b[0mrocks\u001b[1m]\u001b[0m Could not identify \u001b[32m'2017 YH03'\u001b[0m.                                                                   \n"
      ]
     },
     "metadata": {},
     "output_type": "display_data"
    },
    {
     "data": {
      "text/html": [
       "<pre style=\"white-space:pre;overflow-x:auto;line-height:normal;font-family:Menlo,'DejaVu Sans Mono',consolas,'Courier New',monospace\"><span style=\"color: #800000; text-decoration-color: #800000; font-weight: bold\">ERROR   </span> <span style=\"font-weight: bold\">[</span>rocks<span style=\"font-weight: bold\">]</span> Could not identify <span style=\"color: #008000; text-decoration-color: #008000\">'2003 UR00'</span>.                                                                   \n",
       "</pre>\n"
      ],
      "text/plain": [
       "\u001b[1;31mERROR   \u001b[0m \u001b[1m[\u001b[0mrocks\u001b[1m]\u001b[0m Could not identify \u001b[32m'2003 UR00'\u001b[0m.                                                                   \n"
      ]
     },
     "metadata": {},
     "output_type": "display_data"
    },
    {
     "data": {
      "text/html": [
       "<pre style=\"white-space:pre;overflow-x:auto;line-height:normal;font-family:Menlo,'DejaVu Sans Mono',consolas,'Courier New',monospace\"><span style=\"color: #800000; text-decoration-color: #800000; font-weight: bold\">ERROR   </span> <span style=\"font-weight: bold\">[</span>rocks<span style=\"font-weight: bold\">]</span> Could not identify <span style=\"color: #008000; text-decoration-color: #008000\">'2016 OK00'</span>.                                                                   \n",
       "</pre>\n"
      ],
      "text/plain": [
       "\u001b[1;31mERROR   \u001b[0m \u001b[1m[\u001b[0mrocks\u001b[1m]\u001b[0m Could not identify \u001b[32m'2016 OK00'\u001b[0m.                                                                   \n"
      ]
     },
     "metadata": {},
     "output_type": "display_data"
    },
    {
     "data": {
      "text/html": [
       "<pre style=\"white-space:pre;overflow-x:auto;line-height:normal;font-family:Menlo,'DejaVu Sans Mono',consolas,'Courier New',monospace\"><span style=\"color: #800000; text-decoration-color: #800000; font-weight: bold\">ERROR   </span> <span style=\"font-weight: bold\">[</span>rocks<span style=\"font-weight: bold\">]</span> Could not identify <span style=\"color: #008000; text-decoration-color: #008000\">'2018 XV05'</span>.                                                                   \n",
       "</pre>\n"
      ],
      "text/plain": [
       "\u001b[1;31mERROR   \u001b[0m \u001b[1m[\u001b[0mrocks\u001b[1m]\u001b[0m Could not identify \u001b[32m'2018 XV05'\u001b[0m.                                                                   \n"
      ]
     },
     "metadata": {},
     "output_type": "display_data"
    },
    {
     "data": {
      "text/html": [
       "<pre style=\"white-space:pre;overflow-x:auto;line-height:normal;font-family:Menlo,'DejaVu Sans Mono',consolas,'Courier New',monospace\"><span style=\"color: #800000; text-decoration-color: #800000; font-weight: bold\">ERROR   </span> <span style=\"font-weight: bold\">[</span>rocks<span style=\"font-weight: bold\">]</span> Could not identify <span style=\"color: #008000; text-decoration-color: #008000\">'2009 CD04'</span>.                                                                   \n",
       "</pre>\n"
      ],
      "text/plain": [
       "\u001b[1;31mERROR   \u001b[0m \u001b[1m[\u001b[0mrocks\u001b[1m]\u001b[0m Could not identify \u001b[32m'2009 CD04'\u001b[0m.                                                                   \n"
      ]
     },
     "metadata": {},
     "output_type": "display_data"
    },
    {
     "data": {
      "text/html": [
       "<pre style=\"white-space:pre;overflow-x:auto;line-height:normal;font-family:Menlo,'DejaVu Sans Mono',consolas,'Courier New',monospace\"><span style=\"color: #800000; text-decoration-color: #800000; font-weight: bold\">ERROR   </span> <span style=\"font-weight: bold\">[</span>rocks<span style=\"font-weight: bold\">]</span> Could not identify <span style=\"color: #008000; text-decoration-color: #008000\">'2007 TG08'</span>.                                                                   \n",
       "</pre>\n"
      ],
      "text/plain": [
       "\u001b[1;31mERROR   \u001b[0m \u001b[1m[\u001b[0mrocks\u001b[1m]\u001b[0m Could not identify \u001b[32m'2007 TG08'\u001b[0m.                                                                   \n"
      ]
     },
     "metadata": {},
     "output_type": "display_data"
    },
    {
     "data": {
      "text/html": [
       "<pre style=\"white-space:pre;overflow-x:auto;line-height:normal;font-family:Menlo,'DejaVu Sans Mono',consolas,'Courier New',monospace\"><span style=\"color: #800000; text-decoration-color: #800000; font-weight: bold\">ERROR   </span> <span style=\"font-weight: bold\">[</span>rocks<span style=\"font-weight: bold\">]</span> Could not identify <span style=\"color: #008000; text-decoration-color: #008000\">'2002 XZ04'</span>.                                                                   \n",
       "</pre>\n"
      ],
      "text/plain": [
       "\u001b[1;31mERROR   \u001b[0m \u001b[1m[\u001b[0mrocks\u001b[1m]\u001b[0m Could not identify \u001b[32m'2002 XZ04'\u001b[0m.                                                                   \n"
      ]
     },
     "metadata": {},
     "output_type": "display_data"
    },
    {
     "data": {
      "text/html": [
       "<pre style=\"white-space:pre;overflow-x:auto;line-height:normal;font-family:Menlo,'DejaVu Sans Mono',consolas,'Courier New',monospace\"><span style=\"color: #800000; text-decoration-color: #800000; font-weight: bold\">ERROR   </span> <span style=\"font-weight: bold\">[</span>rocks<span style=\"font-weight: bold\">]</span> Could not identify <span style=\"color: #008000; text-decoration-color: #008000\">'2019 AQ03'</span>.                                                                   \n",
       "</pre>\n"
      ],
      "text/plain": [
       "\u001b[1;31mERROR   \u001b[0m \u001b[1m[\u001b[0mrocks\u001b[1m]\u001b[0m Could not identify \u001b[32m'2019 AQ03'\u001b[0m.                                                                   \n"
      ]
     },
     "metadata": {},
     "output_type": "display_data"
    },
    {
     "data": {
      "text/html": [
       "<pre style=\"white-space:pre;overflow-x:auto;line-height:normal;font-family:Menlo,'DejaVu Sans Mono',consolas,'Courier New',monospace\"><span style=\"color: #800000; text-decoration-color: #800000; font-weight: bold\">ERROR   </span> <span style=\"font-weight: bold\">[</span>rocks<span style=\"font-weight: bold\">]</span> Could not identify <span style=\"color: #008000; text-decoration-color: #008000\">'2020 OL03'</span>.                                                                   \n",
       "</pre>\n"
      ],
      "text/plain": [
       "\u001b[1;31mERROR   \u001b[0m \u001b[1m[\u001b[0mrocks\u001b[1m]\u001b[0m Could not identify \u001b[32m'2020 OL03'\u001b[0m.                                                                   \n"
      ]
     },
     "metadata": {},
     "output_type": "display_data"
    },
    {
     "data": {
      "text/html": [
       "<pre style=\"white-space:pre;overflow-x:auto;line-height:normal;font-family:Menlo,'DejaVu Sans Mono',consolas,'Courier New',monospace\"><span style=\"color: #800000; text-decoration-color: #800000; font-weight: bold\">ERROR   </span> <span style=\"font-weight: bold\">[</span>rocks<span style=\"font-weight: bold\">]</span> Could not identify <span style=\"color: #008000; text-decoration-color: #008000\">'2015 JO05'</span>.                                                                   \n",
       "</pre>\n"
      ],
      "text/plain": [
       "\u001b[1;31mERROR   \u001b[0m \u001b[1m[\u001b[0mrocks\u001b[1m]\u001b[0m Could not identify \u001b[32m'2015 JO05'\u001b[0m.                                                                   \n"
      ]
     },
     "metadata": {},
     "output_type": "display_data"
    },
    {
     "data": {
      "text/html": [
       "<pre style=\"white-space:pre;overflow-x:auto;line-height:normal;font-family:Menlo,'DejaVu Sans Mono',consolas,'Courier New',monospace\"><span style=\"color: #800000; text-decoration-color: #800000; font-weight: bold\">ERROR   </span> <span style=\"font-weight: bold\">[</span>rocks<span style=\"font-weight: bold\">]</span> Could not identify <span style=\"color: #008000; text-decoration-color: #008000\">'2007 LX00'</span>.                                                                   \n",
       "</pre>\n"
      ],
      "text/plain": [
       "\u001b[1;31mERROR   \u001b[0m \u001b[1m[\u001b[0mrocks\u001b[1m]\u001b[0m Could not identify \u001b[32m'2007 LX00'\u001b[0m.                                                                   \n"
      ]
     },
     "metadata": {},
     "output_type": "display_data"
    },
    {
     "data": {
      "text/html": [
       "<pre style=\"white-space:pre;overflow-x:auto;line-height:normal;font-family:Menlo,'DejaVu Sans Mono',consolas,'Courier New',monospace\"><span style=\"color: #800000; text-decoration-color: #800000; font-weight: bold\">ERROR   </span> <span style=\"font-weight: bold\">[</span>rocks<span style=\"font-weight: bold\">]</span> Could not identify <span style=\"color: #008000; text-decoration-color: #008000\">'2012 UA00'</span>.                                                                   \n",
       "</pre>\n"
      ],
      "text/plain": [
       "\u001b[1;31mERROR   \u001b[0m \u001b[1m[\u001b[0mrocks\u001b[1m]\u001b[0m Could not identify \u001b[32m'2012 UA00'\u001b[0m.                                                                   \n"
      ]
     },
     "metadata": {},
     "output_type": "display_data"
    },
    {
     "data": {
      "text/html": [
       "<pre style=\"white-space:pre;overflow-x:auto;line-height:normal;font-family:Menlo,'DejaVu Sans Mono',consolas,'Courier New',monospace\"><span style=\"color: #800000; text-decoration-color: #800000; font-weight: bold\">ERROR   </span> <span style=\"font-weight: bold\">[</span>rocks<span style=\"font-weight: bold\">]</span> Could not identify <span style=\"color: #008000; text-decoration-color: #008000\">'2017 HJ04'</span>.                                                                   \n",
       "</pre>\n"
      ],
      "text/plain": [
       "\u001b[1;31mERROR   \u001b[0m \u001b[1m[\u001b[0mrocks\u001b[1m]\u001b[0m Could not identify \u001b[32m'2017 HJ04'\u001b[0m.                                                                   \n"
      ]
     },
     "metadata": {},
     "output_type": "display_data"
    },
    {
     "data": {
      "text/html": [
       "<pre style=\"white-space:pre;overflow-x:auto;line-height:normal;font-family:Menlo,'DejaVu Sans Mono',consolas,'Courier New',monospace\"><span style=\"color: #800000; text-decoration-color: #800000; font-weight: bold\">ERROR   </span> <span style=\"font-weight: bold\">[</span>rocks<span style=\"font-weight: bold\">]</span> Could not identify <span style=\"color: #008000; text-decoration-color: #008000\">'2001 RD02'</span>.                                                                   \n",
       "</pre>\n"
      ],
      "text/plain": [
       "\u001b[1;31mERROR   \u001b[0m \u001b[1m[\u001b[0mrocks\u001b[1m]\u001b[0m Could not identify \u001b[32m'2001 RD02'\u001b[0m.                                                                   \n"
      ]
     },
     "metadata": {},
     "output_type": "display_data"
    },
    {
     "data": {
      "text/html": [
       "<pre style=\"white-space:pre;overflow-x:auto;line-height:normal;font-family:Menlo,'DejaVu Sans Mono',consolas,'Courier New',monospace\"><span style=\"color: #800000; text-decoration-color: #800000; font-weight: bold\">ERROR   </span> <span style=\"font-weight: bold\">[</span>rocks<span style=\"font-weight: bold\">]</span> Could not identify <span style=\"color: #008000; text-decoration-color: #008000\">'2020 KU04'</span>.                                                                   \n",
       "</pre>\n"
      ],
      "text/plain": [
       "\u001b[1;31mERROR   \u001b[0m \u001b[1m[\u001b[0mrocks\u001b[1m]\u001b[0m Could not identify \u001b[32m'2020 KU04'\u001b[0m.                                                                   \n"
      ]
     },
     "metadata": {},
     "output_type": "display_data"
    },
    {
     "data": {
      "text/html": [
       "<pre style=\"white-space:pre;overflow-x:auto;line-height:normal;font-family:Menlo,'DejaVu Sans Mono',consolas,'Courier New',monospace\"><span style=\"color: #800000; text-decoration-color: #800000; font-weight: bold\">ERROR   </span> <span style=\"font-weight: bold\">[</span>rocks<span style=\"font-weight: bold\">]</span> Could not identify <span style=\"color: #008000; text-decoration-color: #008000\">'2020 ML03'</span>.                                                                   \n",
       "</pre>\n"
      ],
      "text/plain": [
       "\u001b[1;31mERROR   \u001b[0m \u001b[1m[\u001b[0mrocks\u001b[1m]\u001b[0m Could not identify \u001b[32m'2020 ML03'\u001b[0m.                                                                   \n"
      ]
     },
     "metadata": {},
     "output_type": "display_data"
    },
    {
     "data": {
      "text/html": [
       "<pre style=\"white-space:pre;overflow-x:auto;line-height:normal;font-family:Menlo,'DejaVu Sans Mono',consolas,'Courier New',monospace\"><span style=\"color: #800000; text-decoration-color: #800000; font-weight: bold\">ERROR   </span> <span style=\"font-weight: bold\">[</span>rocks<span style=\"font-weight: bold\">]</span> Could not identify <span style=\"color: #008000; text-decoration-color: #008000\">'2002 GZ08'</span>.                                                                   \n",
       "</pre>\n"
      ],
      "text/plain": [
       "\u001b[1;31mERROR   \u001b[0m \u001b[1m[\u001b[0mrocks\u001b[1m]\u001b[0m Could not identify \u001b[32m'2002 GZ08'\u001b[0m.                                                                   \n"
      ]
     },
     "metadata": {},
     "output_type": "display_data"
    },
    {
     "data": {
      "text/html": [
       "<pre style=\"white-space:pre;overflow-x:auto;line-height:normal;font-family:Menlo,'DejaVu Sans Mono',consolas,'Courier New',monospace\"><span style=\"color: #800000; text-decoration-color: #800000; font-weight: bold\">ERROR   </span> <span style=\"font-weight: bold\">[</span>rocks<span style=\"font-weight: bold\">]</span> Could not identify <span style=\"color: #008000; text-decoration-color: #008000\">'2020 KJ06'</span>.                                                                   \n",
       "</pre>\n"
      ],
      "text/plain": [
       "\u001b[1;31mERROR   \u001b[0m \u001b[1m[\u001b[0mrocks\u001b[1m]\u001b[0m Could not identify \u001b[32m'2020 KJ06'\u001b[0m.                                                                   \n"
      ]
     },
     "metadata": {},
     "output_type": "display_data"
    },
    {
     "data": {
      "text/html": [
       "<pre style=\"white-space:pre;overflow-x:auto;line-height:normal;font-family:Menlo,'DejaVu Sans Mono',consolas,'Courier New',monospace\"><span style=\"color: #800000; text-decoration-color: #800000; font-weight: bold\">ERROR   </span> <span style=\"font-weight: bold\">[</span>rocks<span style=\"font-weight: bold\">]</span> Could not identify <span style=\"color: #008000; text-decoration-color: #008000\">'2010 LS00'</span>.                                                                   \n",
       "</pre>\n"
      ],
      "text/plain": [
       "\u001b[1;31mERROR   \u001b[0m \u001b[1m[\u001b[0mrocks\u001b[1m]\u001b[0m Could not identify \u001b[32m'2010 LS00'\u001b[0m.                                                                   \n"
      ]
     },
     "metadata": {},
     "output_type": "display_data"
    },
    {
     "data": {
      "text/html": [
       "<pre style=\"white-space:pre;overflow-x:auto;line-height:normal;font-family:Menlo,'DejaVu Sans Mono',consolas,'Courier New',monospace\"><span style=\"color: #800000; text-decoration-color: #800000; font-weight: bold\">ERROR   </span> <span style=\"font-weight: bold\">[</span>rocks<span style=\"font-weight: bold\">]</span> Could not identify <span style=\"color: #008000; text-decoration-color: #008000\">'2009 PA09'</span>.                                                                   \n",
       "</pre>\n"
      ],
      "text/plain": [
       "\u001b[1;31mERROR   \u001b[0m \u001b[1m[\u001b[0mrocks\u001b[1m]\u001b[0m Could not identify \u001b[32m'2009 PA09'\u001b[0m.                                                                   \n"
      ]
     },
     "metadata": {},
     "output_type": "display_data"
    },
    {
     "data": {
      "text/html": [
       "<pre style=\"white-space:pre;overflow-x:auto;line-height:normal;font-family:Menlo,'DejaVu Sans Mono',consolas,'Courier New',monospace\"><span style=\"color: #800000; text-decoration-color: #800000; font-weight: bold\">ERROR   </span> <span style=\"font-weight: bold\">[</span>rocks<span style=\"font-weight: bold\">]</span> Could not identify <span style=\"color: #008000; text-decoration-color: #008000\">'2007 AS01'</span>.                                                                   \n",
       "</pre>\n"
      ],
      "text/plain": [
       "\u001b[1;31mERROR   \u001b[0m \u001b[1m[\u001b[0mrocks\u001b[1m]\u001b[0m Could not identify \u001b[32m'2007 AS01'\u001b[0m.                                                                   \n"
      ]
     },
     "metadata": {},
     "output_type": "display_data"
    },
    {
     "data": {
      "text/html": [
       "<pre style=\"white-space:pre;overflow-x:auto;line-height:normal;font-family:Menlo,'DejaVu Sans Mono',consolas,'Courier New',monospace\"><span style=\"color: #800000; text-decoration-color: #800000; font-weight: bold\">ERROR   </span> <span style=\"font-weight: bold\">[</span>rocks<span style=\"font-weight: bold\">]</span> Could not identify <span style=\"color: #008000; text-decoration-color: #008000\">'2007 WJ07'</span>.                                                                   \n",
       "</pre>\n"
      ],
      "text/plain": [
       "\u001b[1;31mERROR   \u001b[0m \u001b[1m[\u001b[0mrocks\u001b[1m]\u001b[0m Could not identify \u001b[32m'2007 WJ07'\u001b[0m.                                                                   \n"
      ]
     },
     "metadata": {},
     "output_type": "display_data"
    },
    {
     "data": {
      "text/html": [
       "<pre style=\"white-space:pre;overflow-x:auto;line-height:normal;font-family:Menlo,'DejaVu Sans Mono',consolas,'Courier New',monospace\"><span style=\"color: #800000; text-decoration-color: #800000; font-weight: bold\">ERROR   </span> <span style=\"font-weight: bold\">[</span>rocks<span style=\"font-weight: bold\">]</span> Could not identify <span style=\"color: #008000; text-decoration-color: #008000\">'2016 XB07'</span>.                                                                   \n",
       "</pre>\n"
      ],
      "text/plain": [
       "\u001b[1;31mERROR   \u001b[0m \u001b[1m[\u001b[0mrocks\u001b[1m]\u001b[0m Could not identify \u001b[32m'2016 XB07'\u001b[0m.                                                                   \n"
      ]
     },
     "metadata": {},
     "output_type": "display_data"
    },
    {
     "data": {
      "text/html": [
       "<pre style=\"white-space:pre;overflow-x:auto;line-height:normal;font-family:Menlo,'DejaVu Sans Mono',consolas,'Courier New',monospace\"><span style=\"color: #800000; text-decoration-color: #800000; font-weight: bold\">ERROR   </span> <span style=\"font-weight: bold\">[</span>rocks<span style=\"font-weight: bold\">]</span> Could not identify <span style=\"color: #008000; text-decoration-color: #008000\">'2018 KG02'</span>.                                                                   \n",
       "</pre>\n"
      ],
      "text/plain": [
       "\u001b[1;31mERROR   \u001b[0m \u001b[1m[\u001b[0mrocks\u001b[1m]\u001b[0m Could not identify \u001b[32m'2018 KG02'\u001b[0m.                                                                   \n"
      ]
     },
     "metadata": {},
     "output_type": "display_data"
    },
    {
     "data": {
      "text/html": [
       "<pre style=\"white-space:pre;overflow-x:auto;line-height:normal;font-family:Menlo,'DejaVu Sans Mono',consolas,'Courier New',monospace\"><span style=\"color: #800000; text-decoration-color: #800000; font-weight: bold\">ERROR   </span> <span style=\"font-weight: bold\">[</span>rocks<span style=\"font-weight: bold\">]</span> Could not identify <span style=\"color: #008000; text-decoration-color: #008000\">'2020 PD01'</span>.                                                                   \n",
       "</pre>\n"
      ],
      "text/plain": [
       "\u001b[1;31mERROR   \u001b[0m \u001b[1m[\u001b[0mrocks\u001b[1m]\u001b[0m Could not identify \u001b[32m'2020 PD01'\u001b[0m.                                                                   \n"
      ]
     },
     "metadata": {},
     "output_type": "display_data"
    },
    {
     "data": {
      "text/html": [
       "<pre style=\"white-space:pre;overflow-x:auto;line-height:normal;font-family:Menlo,'DejaVu Sans Mono',consolas,'Courier New',monospace\"><span style=\"color: #800000; text-decoration-color: #800000; font-weight: bold\">ERROR   </span> <span style=\"font-weight: bold\">[</span>rocks<span style=\"font-weight: bold\">]</span> Could not identify <span style=\"color: #008000; text-decoration-color: #008000\">'2016 XE01'</span>.                                                                   \n",
       "</pre>\n"
      ],
      "text/plain": [
       "\u001b[1;31mERROR   \u001b[0m \u001b[1m[\u001b[0mrocks\u001b[1m]\u001b[0m Could not identify \u001b[32m'2016 XE01'\u001b[0m.                                                                   \n"
      ]
     },
     "metadata": {},
     "output_type": "display_data"
    },
    {
     "data": {
      "text/html": [
       "<pre style=\"white-space:pre;overflow-x:auto;line-height:normal;font-family:Menlo,'DejaVu Sans Mono',consolas,'Courier New',monospace\"><span style=\"color: #800000; text-decoration-color: #800000; font-weight: bold\">ERROR   </span> <span style=\"font-weight: bold\">[</span>rocks<span style=\"font-weight: bold\">]</span> Could not identify <span style=\"color: #008000; text-decoration-color: #008000\">'2013 WJ00'</span>.                                                                   \n",
       "</pre>\n"
      ],
      "text/plain": [
       "\u001b[1;31mERROR   \u001b[0m \u001b[1m[\u001b[0mrocks\u001b[1m]\u001b[0m Could not identify \u001b[32m'2013 WJ00'\u001b[0m.                                                                   \n"
      ]
     },
     "metadata": {},
     "output_type": "display_data"
    },
    {
     "data": {
      "text/html": [
       "<pre style=\"white-space:pre;overflow-x:auto;line-height:normal;font-family:Menlo,'DejaVu Sans Mono',consolas,'Courier New',monospace\"><span style=\"color: #800000; text-decoration-color: #800000; font-weight: bold\">ERROR   </span> <span style=\"font-weight: bold\">[</span>rocks<span style=\"font-weight: bold\">]</span> Could not identify <span style=\"color: #008000; text-decoration-color: #008000\">'2020 JQ00'</span>.                                                                   \n",
       "</pre>\n"
      ],
      "text/plain": [
       "\u001b[1;31mERROR   \u001b[0m \u001b[1m[\u001b[0mrocks\u001b[1m]\u001b[0m Could not identify \u001b[32m'2020 JQ00'\u001b[0m.                                                                   \n"
      ]
     },
     "metadata": {},
     "output_type": "display_data"
    },
    {
     "data": {
      "text/html": [
       "<pre style=\"white-space:pre;overflow-x:auto;line-height:normal;font-family:Menlo,'DejaVu Sans Mono',consolas,'Courier New',monospace\"><span style=\"color: #800000; text-decoration-color: #800000; font-weight: bold\">ERROR   </span> <span style=\"font-weight: bold\">[</span>rocks<span style=\"font-weight: bold\">]</span> Could not identify <span style=\"color: #008000; text-decoration-color: #008000\">'2011 LZ05'</span>.                                                                   \n",
       "</pre>\n"
      ],
      "text/plain": [
       "\u001b[1;31mERROR   \u001b[0m \u001b[1m[\u001b[0mrocks\u001b[1m]\u001b[0m Could not identify \u001b[32m'2011 LZ05'\u001b[0m.                                                                   \n"
      ]
     },
     "metadata": {},
     "output_type": "display_data"
    },
    {
     "data": {
      "text/html": [
       "<pre style=\"white-space:pre;overflow-x:auto;line-height:normal;font-family:Menlo,'DejaVu Sans Mono',consolas,'Courier New',monospace\"><span style=\"color: #800000; text-decoration-color: #800000; font-weight: bold\">ERROR   </span> <span style=\"font-weight: bold\">[</span>rocks<span style=\"font-weight: bold\">]</span> Could not identify <span style=\"color: #008000; text-decoration-color: #008000\">'2007 UT07'</span>.                                                                   \n",
       "</pre>\n"
      ],
      "text/plain": [
       "\u001b[1;31mERROR   \u001b[0m \u001b[1m[\u001b[0mrocks\u001b[1m]\u001b[0m Could not identify \u001b[32m'2007 UT07'\u001b[0m.                                                                   \n"
      ]
     },
     "metadata": {},
     "output_type": "display_data"
    },
    {
     "data": {
      "text/html": [
       "<pre style=\"white-space:pre;overflow-x:auto;line-height:normal;font-family:Menlo,'DejaVu Sans Mono',consolas,'Courier New',monospace\"><span style=\"color: #800000; text-decoration-color: #800000; font-weight: bold\">ERROR   </span> <span style=\"font-weight: bold\">[</span>rocks<span style=\"font-weight: bold\">]</span> Could not identify <span style=\"color: #008000; text-decoration-color: #008000\">'2020 NA00'</span>.                                                                   \n",
       "</pre>\n"
      ],
      "text/plain": [
       "\u001b[1;31mERROR   \u001b[0m \u001b[1m[\u001b[0mrocks\u001b[1m]\u001b[0m Could not identify \u001b[32m'2020 NA00'\u001b[0m.                                                                   \n"
      ]
     },
     "metadata": {},
     "output_type": "display_data"
    },
    {
     "data": {
      "text/html": [
       "<pre style=\"white-space:pre;overflow-x:auto;line-height:normal;font-family:Menlo,'DejaVu Sans Mono',consolas,'Courier New',monospace\"><span style=\"color: #800000; text-decoration-color: #800000; font-weight: bold\">ERROR   </span> <span style=\"font-weight: bold\">[</span>rocks<span style=\"font-weight: bold\">]</span> Could not identify <span style=\"color: #008000; text-decoration-color: #008000\">'1999 UK05'</span>.                                                                   \n",
       "</pre>\n"
      ],
      "text/plain": [
       "\u001b[1;31mERROR   \u001b[0m \u001b[1m[\u001b[0mrocks\u001b[1m]\u001b[0m Could not identify \u001b[32m'1999 UK05'\u001b[0m.                                                                   \n"
      ]
     },
     "metadata": {},
     "output_type": "display_data"
    },
    {
     "data": {
      "text/html": [
       "<pre style=\"white-space:pre;overflow-x:auto;line-height:normal;font-family:Menlo,'DejaVu Sans Mono',consolas,'Courier New',monospace\"><span style=\"color: #800000; text-decoration-color: #800000; font-weight: bold\">ERROR   </span> <span style=\"font-weight: bold\">[</span>rocks<span style=\"font-weight: bold\">]</span> Could not identify <span style=\"color: #008000; text-decoration-color: #008000\">'2016 OF02'</span>.                                                                   \n",
       "</pre>\n"
      ],
      "text/plain": [
       "\u001b[1;31mERROR   \u001b[0m \u001b[1m[\u001b[0mrocks\u001b[1m]\u001b[0m Could not identify \u001b[32m'2016 OF02'\u001b[0m.                                                                   \n"
      ]
     },
     "metadata": {},
     "output_type": "display_data"
    },
    {
     "data": {
      "text/html": [
       "<pre style=\"white-space:pre;overflow-x:auto;line-height:normal;font-family:Menlo,'DejaVu Sans Mono',consolas,'Courier New',monospace\"><span style=\"color: #800000; text-decoration-color: #800000; font-weight: bold\">ERROR   </span> <span style=\"font-weight: bold\">[</span>rocks<span style=\"font-weight: bold\">]</span> Could not identify <span style=\"color: #008000; text-decoration-color: #008000\">'2020 OW03'</span>.                                                                   \n",
       "</pre>\n"
      ],
      "text/plain": [
       "\u001b[1;31mERROR   \u001b[0m \u001b[1m[\u001b[0mrocks\u001b[1m]\u001b[0m Could not identify \u001b[32m'2020 OW03'\u001b[0m.                                                                   \n"
      ]
     },
     "metadata": {},
     "output_type": "display_data"
    },
    {
     "data": {
      "text/html": [
       "<pre style=\"white-space:pre;overflow-x:auto;line-height:normal;font-family:Menlo,'DejaVu Sans Mono',consolas,'Courier New',monospace\"><span style=\"color: #800000; text-decoration-color: #800000; font-weight: bold\">ERROR   </span> <span style=\"font-weight: bold\">[</span>rocks<span style=\"font-weight: bold\">]</span> Could not identify <span style=\"color: #008000; text-decoration-color: #008000\">'2006 QB03'</span>.                                                                   \n",
       "</pre>\n"
      ],
      "text/plain": [
       "\u001b[1;31mERROR   \u001b[0m \u001b[1m[\u001b[0mrocks\u001b[1m]\u001b[0m Could not identify \u001b[32m'2006 QB03'\u001b[0m.                                                                   \n"
      ]
     },
     "metadata": {},
     "output_type": "display_data"
    },
    {
     "data": {
      "text/html": [
       "<pre style=\"white-space:pre;overflow-x:auto;line-height:normal;font-family:Menlo,'DejaVu Sans Mono',consolas,'Courier New',monospace\"><span style=\"color: #800000; text-decoration-color: #800000; font-weight: bold\">ERROR   </span> <span style=\"font-weight: bold\">[</span>rocks<span style=\"font-weight: bold\">]</span> Could not identify <span style=\"color: #008000; text-decoration-color: #008000\">'28P'</span>.                                                                         \n",
       "</pre>\n"
      ],
      "text/plain": [
       "\u001b[1;31mERROR   \u001b[0m \u001b[1m[\u001b[0mrocks\u001b[1m]\u001b[0m Could not identify \u001b[32m'28P'\u001b[0m.                                                                         \n"
      ]
     },
     "metadata": {},
     "output_type": "display_data"
    },
    {
     "data": {
      "text/html": [
       "<pre style=\"white-space:pre;overflow-x:auto;line-height:normal;font-family:Menlo,'DejaVu Sans Mono',consolas,'Courier New',monospace\"><span style=\"color: #800000; text-decoration-color: #800000; font-weight: bold\">ERROR   </span> <span style=\"font-weight: bold\">[</span>rocks<span style=\"font-weight: bold\">]</span> Could not identify <span style=\"color: #008000; text-decoration-color: #008000\">'2007 XC03'</span>.                                                                   \n",
       "</pre>\n"
      ],
      "text/plain": [
       "\u001b[1;31mERROR   \u001b[0m \u001b[1m[\u001b[0mrocks\u001b[1m]\u001b[0m Could not identify \u001b[32m'2007 XC03'\u001b[0m.                                                                   \n"
      ]
     },
     "metadata": {},
     "output_type": "display_data"
    },
    {
     "data": {
      "text/html": [
       "<pre style=\"white-space:pre;overflow-x:auto;line-height:normal;font-family:Menlo,'DejaVu Sans Mono',consolas,'Courier New',monospace\">\n",
       "</pre>\n"
      ],
      "text/plain": [
       "\n"
      ]
     },
     "metadata": {},
     "output_type": "display_data"
    }
   ],
   "source": [
    "nn = rocks.id(data.ssnamenr)"
   ]
  },
  {
   "cell_type": "code",
   "execution_count": 9,
   "id": "2a2b9a89",
   "metadata": {},
   "outputs": [],
   "source": [
    "data[\"sso_name\"] = [n[0] for n in nn]\n",
    "data[\"sso_number\"] = [n[1] for n in nn]"
   ]
  },
  {
   "cell_type": "code",
   "execution_count": 10,
   "id": "d186116a",
   "metadata": {},
   "outputs": [],
   "source": [
    "cols_id = [\"sso_number\", \"sso_name\"]\n",
    "\n",
    "cols_obs = [\n",
    "    \"n_obs\",\n",
    "    \"n_obs_g\",\n",
    "    \"n_obs_r\",\n",
    "    \"min_phase\",\n",
    "    \"min_phase_g\",\n",
    "    \"min_phase_r\",\n",
    "    \"max_phase\",\n",
    "    \"max_phase_g\",\n",
    "    \"max_phase_r\",\n",
    "    \"n_days\",\n",
    "    \"n_days_g\",\n",
    "    \"n_days_r\",\n",
    "]\n",
    "\n",
    "cols_HG = [\n",
    "    \"HG_H_g\",\n",
    "    \"HG_dH_g\",\n",
    "    \"HG_G_g\",\n",
    "    \"HG_dG_g\",\n",
    "    \"HG_H_r\",\n",
    "    \"HG_dH_r\",\n",
    "    \"HG_G_r\",\n",
    "    \"HG_dG_r\",\n",
    "    \"HG_rms\",\n",
    "    \"HG_rms_g\",\n",
    "    \"HG_rms_r\",\n",
    "    \"HG_chi2red\",\n",
    "    \"HG_status\",\n",
    "    \"HG_fit\",\n",
    "]\n",
    "\n",
    "cols_HG1G2 = [\n",
    "    \"HG1G2_H_g\",\n",
    "    \"HG1G2_dH_g\",\n",
    "    \"HG1G2_G1_g\",\n",
    "    \"HG1G2_dG1_g\",\n",
    "    \"HG1G2_G2_g\",\n",
    "    \"HG1G2_dG2_g\",\n",
    "    \"HG1G2_H_r\",\n",
    "    \"HG1G2_dH_r\",\n",
    "    \"HG1G2_G1_r\",\n",
    "    \"HG1G2_dG1_r\",\n",
    "    \"HG1G2_G2_r\",\n",
    "    \"HG1G2_dG2_r\",\n",
    "    \"HG1G2_rms\",\n",
    "    \"HG1G2_rms_g\",\n",
    "    \"HG1G2_rms_r\",\n",
    "    \"HG1G2_chi2red\",\n",
    "    \"HG1G2_status\",\n",
    "    \"HG1G2_fit\",\n",
    "]\n",
    "\n",
    "\n",
    "cols_sHG1G2 = [\n",
    "    \"SHG1G2_H_g\",\n",
    "    \"SHG1G2_dH_g\",\n",
    "    \"SHG1G2_G1_g\",\n",
    "    \"SHG1G2_dG1_g\",\n",
    "    \"SHG1G2_G2_g\",\n",
    "    \"SHG1G2_dG2_g\",\n",
    "    \"SHG1G2_H_r\",\n",
    "    \"SHG1G2_dH_r\",\n",
    "    \"SHG1G2_G1_r\",\n",
    "    \"SHG1G2_dG1_r\",\n",
    "    \"SHG1G2_G2_r\",\n",
    "    \"SHG1G2_dG2_r\",\n",
    "    \"SHG1G2_R\",\n",
    "    \"SHG1G2_dR\",\n",
    "    \"SHG1G2_alpha0\",\n",
    "    \"SHG1G2_delta0\",\n",
    "    \"SHG1G2_alpha0_alt\",\n",
    "    \"SHG1G2_delta0_alt\",\n",
    "    \"SHG1G2_dalpha0\",\n",
    "    \"SHG1G2_ddelta0\",\n",
    "    \"SHG1G2_obliquity\",\n",
    "    \"SHG1G2_min_cos_lambda\",\n",
    "    \"SHG1G2_mean_cos_lambda\",\n",
    "    \"SHG1G2_max_cos_lambda\",\n",
    "    \"SHG1G2_rms\",\n",
    "    \"SHG1G2_rms_g\",\n",
    "    \"SHG1G2_rms_r\",\n",
    "    \"SHG1G2_chi2red\",\n",
    "    \"SHG1G2_status\",\n",
    "    \"SHG1G2_fit\",\n",
    "]"
   ]
  },
  {
   "cell_type": "code",
   "execution_count": 11,
   "id": "f885125f",
   "metadata": {},
   "outputs": [
    {
     "data": {
      "text/html": [
       "<div>\n",
       "<style scoped>\n",
       "    .dataframe tbody tr th:only-of-type {\n",
       "        vertical-align: middle;\n",
       "    }\n",
       "\n",
       "    .dataframe tbody tr th {\n",
       "        vertical-align: top;\n",
       "    }\n",
       "\n",
       "    .dataframe thead th {\n",
       "        text-align: right;\n",
       "    }\n",
       "</style>\n",
       "<table border=\"1\" class=\"dataframe\">\n",
       "  <thead>\n",
       "    <tr style=\"text-align: right;\">\n",
       "      <th></th>\n",
       "      <th>sso_number</th>\n",
       "      <th>sso_name</th>\n",
       "      <th>n_obs</th>\n",
       "      <th>n_obs_g</th>\n",
       "      <th>n_obs_r</th>\n",
       "      <th>min_phase</th>\n",
       "      <th>min_phase_g</th>\n",
       "      <th>min_phase_r</th>\n",
       "      <th>max_phase</th>\n",
       "      <th>max_phase_g</th>\n",
       "      <th>...</th>\n",
       "      <th>SHG1G2_obliquity</th>\n",
       "      <th>SHG1G2_min_cos_lambda</th>\n",
       "      <th>SHG1G2_mean_cos_lambda</th>\n",
       "      <th>SHG1G2_max_cos_lambda</th>\n",
       "      <th>SHG1G2_rms</th>\n",
       "      <th>SHG1G2_rms_g</th>\n",
       "      <th>SHG1G2_rms_r</th>\n",
       "      <th>SHG1G2_chi2red</th>\n",
       "      <th>SHG1G2_status</th>\n",
       "      <th>SHG1G2_fit</th>\n",
       "    </tr>\n",
       "  </thead>\n",
       "  <tbody>\n",
       "    <tr>\n",
       "      <th>0</th>\n",
       "      <td>96698</td>\n",
       "      <td>1999 JA80</td>\n",
       "      <td>85</td>\n",
       "      <td>36</td>\n",
       "      <td>49</td>\n",
       "      <td>2.459698</td>\n",
       "      <td>2.741709</td>\n",
       "      <td>2.459698</td>\n",
       "      <td>26.843809</td>\n",
       "      <td>23.247072</td>\n",
       "      <td>...</td>\n",
       "      <td>79.043041</td>\n",
       "      <td>2.040673e-01</td>\n",
       "      <td>0.776208</td>\n",
       "      <td>0.984656</td>\n",
       "      <td>0.105945</td>\n",
       "      <td>0.097677</td>\n",
       "      <td>0.111630</td>\n",
       "      <td>0.893342</td>\n",
       "      <td>2</td>\n",
       "      <td>0</td>\n",
       "    </tr>\n",
       "    <tr>\n",
       "      <th>1</th>\n",
       "      <td>90281</td>\n",
       "      <td>2003 DQ15</td>\n",
       "      <td>80</td>\n",
       "      <td>29</td>\n",
       "      <td>51</td>\n",
       "      <td>0.492574</td>\n",
       "      <td>0.492574</td>\n",
       "      <td>0.508562</td>\n",
       "      <td>36.864456</td>\n",
       "      <td>32.727764</td>\n",
       "      <td>...</td>\n",
       "      <td>146.168000</td>\n",
       "      <td>5.279006e-01</td>\n",
       "      <td>0.547349</td>\n",
       "      <td>0.567255</td>\n",
       "      <td>0.128590</td>\n",
       "      <td>0.131654</td>\n",
       "      <td>0.126815</td>\n",
       "      <td>2.142482</td>\n",
       "      <td>2</td>\n",
       "      <td>0</td>\n",
       "    </tr>\n",
       "    <tr>\n",
       "      <th>2</th>\n",
       "      <td>98868</td>\n",
       "      <td>2001 BS5</td>\n",
       "      <td>74</td>\n",
       "      <td>24</td>\n",
       "      <td>50</td>\n",
       "      <td>2.803109</td>\n",
       "      <td>2.803109</td>\n",
       "      <td>2.869442</td>\n",
       "      <td>22.413286</td>\n",
       "      <td>22.412022</td>\n",
       "      <td>...</td>\n",
       "      <td>157.802903</td>\n",
       "      <td>2.898007e-07</td>\n",
       "      <td>0.167956</td>\n",
       "      <td>0.336582</td>\n",
       "      <td>0.121994</td>\n",
       "      <td>0.121018</td>\n",
       "      <td>0.122459</td>\n",
       "      <td>1.070323</td>\n",
       "      <td>2</td>\n",
       "      <td>0</td>\n",
       "    </tr>\n",
       "    <tr>\n",
       "      <th>3</th>\n",
       "      <td>93152</td>\n",
       "      <td>2000 ST83</td>\n",
       "      <td>95</td>\n",
       "      <td>40</td>\n",
       "      <td>55</td>\n",
       "      <td>0.459614</td>\n",
       "      <td>0.459614</td>\n",
       "      <td>0.484397</td>\n",
       "      <td>26.643251</td>\n",
       "      <td>26.643251</td>\n",
       "      <td>...</td>\n",
       "      <td>43.523213</td>\n",
       "      <td>1.263210e-01</td>\n",
       "      <td>0.386391</td>\n",
       "      <td>0.558458</td>\n",
       "      <td>0.227969</td>\n",
       "      <td>0.218368</td>\n",
       "      <td>0.234704</td>\n",
       "      <td>4.202844</td>\n",
       "      <td>2</td>\n",
       "      <td>0</td>\n",
       "    </tr>\n",
       "    <tr>\n",
       "      <th>4</th>\n",
       "      <td>97764</td>\n",
       "      <td>2000 JO22</td>\n",
       "      <td>67</td>\n",
       "      <td>29</td>\n",
       "      <td>38</td>\n",
       "      <td>3.399261</td>\n",
       "      <td>5.707993</td>\n",
       "      <td>3.399261</td>\n",
       "      <td>23.535606</td>\n",
       "      <td>21.140776</td>\n",
       "      <td>...</td>\n",
       "      <td>33.343897</td>\n",
       "      <td>4.599765e-07</td>\n",
       "      <td>0.096760</td>\n",
       "      <td>0.458314</td>\n",
       "      <td>0.056295</td>\n",
       "      <td>0.056650</td>\n",
       "      <td>0.056022</td>\n",
       "      <td>0.338663</td>\n",
       "      <td>4</td>\n",
       "      <td>0</td>\n",
       "    </tr>\n",
       "    <tr>\n",
       "      <th>...</th>\n",
       "      <td>...</td>\n",
       "      <td>...</td>\n",
       "      <td>...</td>\n",
       "      <td>...</td>\n",
       "      <td>...</td>\n",
       "      <td>...</td>\n",
       "      <td>...</td>\n",
       "      <td>...</td>\n",
       "      <td>...</td>\n",
       "      <td>...</td>\n",
       "      <td>...</td>\n",
       "      <td>...</td>\n",
       "      <td>...</td>\n",
       "      <td>...</td>\n",
       "      <td>...</td>\n",
       "      <td>...</td>\n",
       "      <td>...</td>\n",
       "      <td>...</td>\n",
       "      <td>...</td>\n",
       "      <td>...</td>\n",
       "      <td>...</td>\n",
       "    </tr>\n",
       "    <tr>\n",
       "      <th>122670</th>\n",
       "      <td>18175</td>\n",
       "      <td>Jenniferchoy</td>\n",
       "      <td>100</td>\n",
       "      <td>37</td>\n",
       "      <td>63</td>\n",
       "      <td>0.632717</td>\n",
       "      <td>0.683442</td>\n",
       "      <td>0.632717</td>\n",
       "      <td>20.384775</td>\n",
       "      <td>20.384775</td>\n",
       "      <td>...</td>\n",
       "      <td>91.374393</td>\n",
       "      <td>1.605013e-07</td>\n",
       "      <td>0.284122</td>\n",
       "      <td>0.999883</td>\n",
       "      <td>0.141868</td>\n",
       "      <td>0.155002</td>\n",
       "      <td>0.133554</td>\n",
       "      <td>2.393445</td>\n",
       "      <td>3</td>\n",
       "      <td>0</td>\n",
       "    </tr>\n",
       "    <tr>\n",
       "      <th>122671</th>\n",
       "      <td>16294</td>\n",
       "      <td>4758 P-L</td>\n",
       "      <td>89</td>\n",
       "      <td>32</td>\n",
       "      <td>57</td>\n",
       "      <td>0.931688</td>\n",
       "      <td>0.931688</td>\n",
       "      <td>0.940597</td>\n",
       "      <td>21.730999</td>\n",
       "      <td>21.488237</td>\n",
       "      <td>...</td>\n",
       "      <td>37.730782</td>\n",
       "      <td>2.437234e-01</td>\n",
       "      <td>0.314426</td>\n",
       "      <td>0.514908</td>\n",
       "      <td>0.159572</td>\n",
       "      <td>0.153372</td>\n",
       "      <td>0.162950</td>\n",
       "      <td>2.218812</td>\n",
       "      <td>2</td>\n",
       "      <td>0</td>\n",
       "    </tr>\n",
       "    <tr>\n",
       "      <th>122672</th>\n",
       "      <td>15310</td>\n",
       "      <td>1993 FT19</td>\n",
       "      <td>149</td>\n",
       "      <td>68</td>\n",
       "      <td>81</td>\n",
       "      <td>2.548526</td>\n",
       "      <td>2.548526</td>\n",
       "      <td>2.549195</td>\n",
       "      <td>32.725754</td>\n",
       "      <td>32.725754</td>\n",
       "      <td>...</td>\n",
       "      <td>113.328796</td>\n",
       "      <td>2.740669e-02</td>\n",
       "      <td>0.534735</td>\n",
       "      <td>0.927261</td>\n",
       "      <td>0.085127</td>\n",
       "      <td>0.100594</td>\n",
       "      <td>0.069534</td>\n",
       "      <td>0.902558</td>\n",
       "      <td>2</td>\n",
       "      <td>0</td>\n",
       "    </tr>\n",
       "    <tr>\n",
       "      <th>122673</th>\n",
       "      <td>106207</td>\n",
       "      <td>2000 UU29</td>\n",
       "      <td>54</td>\n",
       "      <td>17</td>\n",
       "      <td>37</td>\n",
       "      <td>11.692691</td>\n",
       "      <td>11.738620</td>\n",
       "      <td>11.692691</td>\n",
       "      <td>30.711340</td>\n",
       "      <td>27.314415</td>\n",
       "      <td>...</td>\n",
       "      <td>174.152548</td>\n",
       "      <td>6.336122e-03</td>\n",
       "      <td>0.189185</td>\n",
       "      <td>0.276950</td>\n",
       "      <td>0.088183</td>\n",
       "      <td>0.075915</td>\n",
       "      <td>0.093281</td>\n",
       "      <td>0.409368</td>\n",
       "      <td>2</td>\n",
       "      <td>0</td>\n",
       "    </tr>\n",
       "    <tr>\n",
       "      <th>122674</th>\n",
       "      <td>138120</td>\n",
       "      <td>2000 ED5</td>\n",
       "      <td>54</td>\n",
       "      <td>14</td>\n",
       "      <td>40</td>\n",
       "      <td>3.059315</td>\n",
       "      <td>3.059315</td>\n",
       "      <td>3.077485</td>\n",
       "      <td>23.672962</td>\n",
       "      <td>20.197599</td>\n",
       "      <td>...</td>\n",
       "      <td>81.209450</td>\n",
       "      <td>2.934563e-01</td>\n",
       "      <td>0.836247</td>\n",
       "      <td>0.998738</td>\n",
       "      <td>0.078872</td>\n",
       "      <td>0.085844</td>\n",
       "      <td>0.076282</td>\n",
       "      <td>0.440423</td>\n",
       "      <td>2</td>\n",
       "      <td>0</td>\n",
       "    </tr>\n",
       "  </tbody>\n",
       "</table>\n",
       "<p>122675 rows × 76 columns</p>\n",
       "</div>"
      ],
      "text/plain": [
       "        sso_number      sso_name  n_obs  n_obs_g  n_obs_r  min_phase  \\\n",
       "0            96698     1999 JA80     85       36       49   2.459698   \n",
       "1            90281     2003 DQ15     80       29       51   0.492574   \n",
       "2            98868      2001 BS5     74       24       50   2.803109   \n",
       "3            93152     2000 ST83     95       40       55   0.459614   \n",
       "4            97764     2000 JO22     67       29       38   3.399261   \n",
       "...            ...           ...    ...      ...      ...        ...   \n",
       "122670       18175  Jenniferchoy    100       37       63   0.632717   \n",
       "122671       16294      4758 P-L     89       32       57   0.931688   \n",
       "122672       15310     1993 FT19    149       68       81   2.548526   \n",
       "122673      106207     2000 UU29     54       17       37  11.692691   \n",
       "122674      138120      2000 ED5     54       14       40   3.059315   \n",
       "\n",
       "        min_phase_g  min_phase_r  max_phase  max_phase_g  ...  \\\n",
       "0          2.741709     2.459698  26.843809    23.247072  ...   \n",
       "1          0.492574     0.508562  36.864456    32.727764  ...   \n",
       "2          2.803109     2.869442  22.413286    22.412022  ...   \n",
       "3          0.459614     0.484397  26.643251    26.643251  ...   \n",
       "4          5.707993     3.399261  23.535606    21.140776  ...   \n",
       "...             ...          ...        ...          ...  ...   \n",
       "122670     0.683442     0.632717  20.384775    20.384775  ...   \n",
       "122671     0.931688     0.940597  21.730999    21.488237  ...   \n",
       "122672     2.548526     2.549195  32.725754    32.725754  ...   \n",
       "122673    11.738620    11.692691  30.711340    27.314415  ...   \n",
       "122674     3.059315     3.077485  23.672962    20.197599  ...   \n",
       "\n",
       "        SHG1G2_obliquity  SHG1G2_min_cos_lambda  SHG1G2_mean_cos_lambda  \\\n",
       "0              79.043041           2.040673e-01                0.776208   \n",
       "1             146.168000           5.279006e-01                0.547349   \n",
       "2             157.802903           2.898007e-07                0.167956   \n",
       "3              43.523213           1.263210e-01                0.386391   \n",
       "4              33.343897           4.599765e-07                0.096760   \n",
       "...                  ...                    ...                     ...   \n",
       "122670         91.374393           1.605013e-07                0.284122   \n",
       "122671         37.730782           2.437234e-01                0.314426   \n",
       "122672        113.328796           2.740669e-02                0.534735   \n",
       "122673        174.152548           6.336122e-03                0.189185   \n",
       "122674         81.209450           2.934563e-01                0.836247   \n",
       "\n",
       "        SHG1G2_max_cos_lambda  SHG1G2_rms  SHG1G2_rms_g  SHG1G2_rms_r  \\\n",
       "0                    0.984656    0.105945      0.097677      0.111630   \n",
       "1                    0.567255    0.128590      0.131654      0.126815   \n",
       "2                    0.336582    0.121994      0.121018      0.122459   \n",
       "3                    0.558458    0.227969      0.218368      0.234704   \n",
       "4                    0.458314    0.056295      0.056650      0.056022   \n",
       "...                       ...         ...           ...           ...   \n",
       "122670               0.999883    0.141868      0.155002      0.133554   \n",
       "122671               0.514908    0.159572      0.153372      0.162950   \n",
       "122672               0.927261    0.085127      0.100594      0.069534   \n",
       "122673               0.276950    0.088183      0.075915      0.093281   \n",
       "122674               0.998738    0.078872      0.085844      0.076282   \n",
       "\n",
       "        SHG1G2_chi2red  SHG1G2_status  SHG1G2_fit  \n",
       "0             0.893342              2           0  \n",
       "1             2.142482              2           0  \n",
       "2             1.070323              2           0  \n",
       "3             4.202844              2           0  \n",
       "4             0.338663              4           0  \n",
       "...                ...            ...         ...  \n",
       "122670        2.393445              3           0  \n",
       "122671        2.218812              2           0  \n",
       "122672        0.902558              2           0  \n",
       "122673        0.409368              2           0  \n",
       "122674        0.440423              2           0  \n",
       "\n",
       "[122675 rows x 76 columns]"
      ]
     },
     "execution_count": 11,
     "metadata": {},
     "output_type": "execute_result"
    }
   ],
   "source": [
    "out = data[cols_id + cols_obs + cols_HG + cols_HG1G2 + cols_sHG1G2].astype(\n",
    "    {\n",
    "        \"sso_number\": \"Int64\",\n",
    "        \"n_obs\": \"Int64\",\n",
    "        \"n_obs_g\": \"Int64\",\n",
    "        \"n_obs_r\": \"Int64\",\n",
    "        \"HG_status\": \"Int64\",\n",
    "        \"HG1G2_status\": \"Int64\",\n",
    "        \"SHG1G2_status\": \"Int64\",\n",
    "        \"HG_fit\": \"Int64\",\n",
    "        \"HG1G2_fit\": \"Int64\",\n",
    "        \"SHG1G2_fit\": \"Int64\",\n",
    "    }\n",
    ")\n",
    "out"
   ]
  },
  {
   "cell_type": "code",
   "execution_count": 12,
   "id": "13b0d9a0",
   "metadata": {},
   "outputs": [],
   "source": [
    "out.to_csv(\"../fink_cds.csv\", index=False, float_format=\"%.2f\")"
   ]
  },
  {
   "cell_type": "markdown",
   "id": "a37d32cc",
   "metadata": {},
   "source": [
    "# Build CDS readme"
   ]
  },
  {
   "cell_type": "code",
   "execution_count": 13,
   "id": "86e3540d",
   "metadata": {},
   "outputs": [],
   "source": [
    "import cdspyreadme"
   ]
  },
  {
   "cell_type": "code",
   "execution_count": 14,
   "id": "2bb799a7",
   "metadata": {},
   "outputs": [],
   "source": [
    "tablemaker = cdspyreadme.CDSTablesMaker()\n",
    "\n",
    "# add a table\n",
    "table = tablemaker.addTable(\"../fink_cds.csv\", description=\"my CSV table\")\n",
    "# write table in CDS-ASCII aligned format (required)\n",
    "tablemaker.writeCDSTables()\n"
   ]
  },
  {
   "cell_type": "code",
   "execution_count": null,
   "id": "36d73da2",
   "metadata": {},
   "outputs": [],
   "source": [
    "# Customize ReadMe output\n",
    "tablemaker.title = \"FINK SSOFT\"\n",
    "tablemaker.author = 'B.Carry'\n",
    "tablemaker.date = 2024\n",
    "tablemaker.abstract = \"\"\"\n",
    "Large sky surveys provide numerous non-targeted observations of small bodies of the Solar System. The\n",
    "upcoming Legacy Survey of Space and Time (LSST) of the Vera C. Rubin observatory will be the largest source of\n",
    "small body photometry in the next decade. With non-coordinated epochs of observation, colors, and therefore taxonomy\n",
    "and composition, can only be computed by comparing absolute magnitudes obtained in each filter by solving the phase\n",
    "function (evolution of brightness of the small body against the solar phase angle). Current models in use in the\n",
    "community (HG, HG⋆12 , HG1 G2 ) however fail to reproduce the long-term photometry of many targets due to the change in\n",
    "aspect angle between apparitions.\n",
    "Aims. We aim at deriving a generic yet simple phase function model accounting for the variable geometry of the small\n",
    "bodies over multiple apparitions.\n",
    "Methods. As a spinoff of the HG1 G2 model, we propose the sHG1 G2 phase function model in which we introduce a term\n",
    "describing the brightness changes due to spin orientation and polar oblateness. We apply this new model to 13,245,908\n",
    "observations of 122,675 SSOs. These observations were acquired in the g and r filters with the Zwicky Transient Facility\n",
    "between 2019/11/01 and 2023/12/01. We retrieve them and implement the new sHG1 G2 model in Fink, a broker of\n",
    "alerts designed for the LSST.\n",
    "Results. The sHG1 G2 model leads to smaller residuals than other phase function models, providing a better description\n",
    "of the photometry of asteroids. We determine the absolute magnitude H and phase function coefficients (G1 , G2 ) in each\n",
    "filter, the spin orientation (α0 , δ0 ), and the polar-to-equatorial oblateness R for 95,593 Solar System Objects (SSOs),\n",
    "which constitutes about a tenfold increase in the number of characterized objects compared to current census.\n",
    "Conclusions. The application of the sHG1 G2 model on ZTF alert data using the FINK broker shows that the model is\n",
    "appropriate to extract physical properties of asteroids from multi-band and sparse photometry, such as the forthcoming\n",
    "LSST survey.\n",
    "\"\"\"\n",
    "# tablemaker.more_description = \"Additional information of the data context.\"\n",
    "# tablemaker.putRef(\"II/246\", \"2mass catalogue\")\n",
    "# tablemaker.putRef(\"http://...\", \"external link\")\n",
    "\n",
    "# Print ReadMe\n",
    "tablemaker.makeReadMe()\n"
   ]
  },
  {
   "cell_type": "code",
   "execution_count": null,
   "id": "5170c188",
   "metadata": {},
   "outputs": [],
   "source": [
    "\n",
    "# Save ReadMe into a file\n",
    "with open(\"ReadMe\", \"w\") as fd:\n",
    "    tablemaker.makeReadMe(out=fd)"
   ]
  },
  {
   "cell_type": "code",
   "execution_count": null,
   "id": "d219ded4",
   "metadata": {},
   "outputs": [],
   "source": []
  }
 ],
 "metadata": {
  "kernelspec": {
   "display_name": "Python 3 (ipykernel)",
   "language": "python",
   "name": "python3"
  },
  "language_info": {
   "codemirror_mode": {
    "name": "ipython",
    "version": 3
   },
   "file_extension": ".py",
   "mimetype": "text/x-python",
   "name": "python",
   "nbconvert_exporter": "python",
   "pygments_lexer": "ipython3",
   "version": "3.12.0"
  }
 },
 "nbformat": 4,
 "nbformat_minor": 5
}
