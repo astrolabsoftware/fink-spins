{
 "cells": [
  {
   "cell_type": "code",
   "execution_count": 1,
   "id": "c67cc7b8-e6e2-44d4-9be9-ddafd36bca34",
   "metadata": {},
   "outputs": [],
   "source": [
    "import glob\n",
    "import os\n",
    "import numpy as np\n",
    "import pandas as pd\n",
    "\n",
    "import matplotlib.pyplot as plt\n",
    "\n",
    "import rocks\n",
    "\n",
    "rocks.set_log_level(\"error\")\n",
    "import time as t\n",
    "\n",
    "\n",
    "from astropy.time import Time\n",
    "import requests\n",
    "import io\n",
    "\n",
    "import astropy.units as u\n",
    "from astropy.coordinates import SkyCoord\n",
    "from astropy.coordinates import angular_separation\n",
    "\n",
    "from scipy.signal import argrelextrema\n",
    "\n",
    "import ssptools\n",
    "\n",
    "from figure_mask import compute_mask, print_statistics, compute_mask_spin"
   ]
  },
  {
   "cell_type": "code",
   "execution_count": 2,
   "id": "4bcd3a84",
   "metadata": {},
   "outputs": [],
   "source": [
    "import figure_setup as fs"
   ]
  },
  {
   "cell_type": "markdown",
   "id": "6198a3d1-286c-4c4b-806e-5c085aabc386",
   "metadata": {},
   "source": [
    "# Get ZTF fit"
   ]
  },
  {
   "cell_type": "code",
   "execution_count": 3,
   "id": "b76b0d15-20ce-4b38-907d-6ce100dfd15f",
   "metadata": {},
   "outputs": [],
   "source": [
    "# Local Configuration\n",
    "data_fink = \"../\"\n",
    "bft_file = os.path.join(data_fink, \"data\", \"ssoBFT-latest.parquet\")"
   ]
  },
  {
   "cell_type": "code",
   "execution_count": 4,
   "id": "5ea808c9-ac69-4b19-9c98-8e41113a8fd6",
   "metadata": {},
   "outputs": [],
   "source": [
    "# ZTF filters 1: g, 2: r\n",
    "filters = {\"1\": \"g\", \"2\": \"r\"}\n",
    "\n",
    "S_color = {\"g\": -0.3928, \"r\": 0.2913}\n",
    "sun_color = {\"g\": -0.3044, \"r\": 0.1903}\n",
    "\n",
    "color_C = -(sun_color[\"g\"] - sun_color[\"r\"])\n",
    "color_S = -(S_color[\"g\"] - S_color[\"r\"])\n",
    "\n",
    "fink_colors = [\"#15284F\", \"#F5622E\"]\n",
    "\n",
    "V_minus_g = -0.2833\n",
    "V_minus_r = 0.1777"
   ]
  },
  {
   "cell_type": "code",
   "execution_count": 5,
   "id": "6b4db0c1-36bc-4db9-b2d2-751e97ba0d35",
   "metadata": {},
   "outputs": [],
   "source": [
    "data = pd.read_parquet(os.path.join(data_fink, \"data\", \"ztf\", \"sso_ZTF.parquet\"))"
   ]
  },
  {
   "cell_type": "code",
   "execution_count": 6,
   "id": "7506e32d-fccc-4007-b27a-6bda182f0989",
   "metadata": {},
   "outputs": [
    {
     "name": "stdout",
     "output_type": "stream",
     "text": [
      "above 90: 0 \n",
      "below 90: 0 \n"
     ]
    }
   ],
   "source": [
    "data[\"SHG1G2_dSpin\"] = np.sqrt(\n",
    "    (data[\"SHG1G2_dalpha0\"] * np.cos(np.radians(data[\"SHG1G2_delta0\"]))) ** 2\n",
    "    + data[\"SHG1G2_ddelta0\"] ** 2\n",
    ")\n",
    "\n",
    "\n",
    "# # Remove solutions above 90 deg of latitude\n",
    "cond = data.SHG1G2_delta0 > 90\n",
    "data.loc[cond, \"SHG1G2_delta0\"] = 90\n",
    "print(f\"above 90: {len(data[cond])} \")\n",
    "\n",
    "cond = data.SHG1G2_delta0 < -90\n",
    "data.loc[cond, \"SHG1G2_delta0\"] = -90\n",
    "print(f\"below 90: {len(data[cond])} \")"
   ]
  },
  {
   "cell_type": "code",
   "execution_count": 7,
   "id": "c21aa4b8-b451-4f75-b18e-fe68236a239c",
   "metadata": {},
   "outputs": [],
   "source": [
    "cols = [\n",
    "    \"sso_number\",\n",
    "    \"sso_name\",\n",
    "    \"sso_class\",\n",
    "    \"orbital_elements.semi_major_axis.value\",\n",
    "    \"orbital_elements.eccentricity.value\",\n",
    "    \"orbital_elements.inclination.value\",\n",
    "    \"orbital_elements.node_longitude.value\",\n",
    "    \"orbital_elements.perihelion_argument.value\",\n",
    "    \"orbital_elements.mean_anomaly.value\",\n",
    "    \"orbital_elements.mean_motion.value\",\n",
    "    \"family.family_number\",\n",
    "    \"family.family_name\",\n",
    "    \"proper_elements.proper_semi_major_axis.value\",\n",
    "    \"proper_elements.proper_eccentricity.value\",\n",
    "    \"proper_elements.proper_inclination.value\",\n",
    "    \"proper_elements.proper_sine_inclination.value\",\n",
    "    \"tisserand_parameters.Jupiter.value\",\n",
    "    \"albedo.value\",\n",
    "    \"absolute_magnitude.value\",\n",
    "    \"diameter.value\",\n",
    "    \"taxonomy.class\",\n",
    "    \"taxonomy.complex\",\n",
    "    \"taxonomy.waverange\",\n",
    "    \"taxonomy.scheme\",\n",
    "    \"taxonomy.technique\",\n",
    "    \"colors.g-r.color.value\",\n",
    "    \"colors.g-r.color.error.min\",\n",
    "    \"colors.g-r.color.error.max\",\n",
    "    \"colors.g-r.facility\",\n",
    "    \"colors.g-r.observer\",\n",
    "    \"colors.g-r.epoch\",\n",
    "    \"colors.g-r.delta_time\",\n",
    "    \"colors.g-r.id_filter_1\",\n",
    "    \"colors.g-r.id_filter_2\",\n",
    "    \"colors.g-r.phot_sys\",\n",
    "    \"colors.g-r.technique\",\n",
    "    \"colors.g-i.color.value\",\n",
    "    \"colors.g-i.color.error.min\",\n",
    "    \"colors.g-i.color.error.max\",\n",
    "    \"colors.g-i.facility\",\n",
    "    \"colors.g-i.observer\",\n",
    "    \"colors.g-i.epoch\",\n",
    "    \"colors.g-i.delta_time\",\n",
    "    \"colors.g-i.id_filter_1\",\n",
    "    \"colors.g-i.id_filter_2\",\n",
    "    \"colors.g-i.phot_sys\",\n",
    "    \"colors.g-i.technique\",\n",
    "    \"colors.i-z.color.value\",\n",
    "    \"colors.i-z.color.error.min\",\n",
    "    \"colors.i-z.color.error.max\",\n",
    "    \"colors.i-z.facility\",\n",
    "    \"colors.i-z.observer\",\n",
    "    \"colors.i-z.epoch\",\n",
    "    \"colors.i-z.delta_time\",\n",
    "    \"colors.i-z.id_filter_1\",\n",
    "    \"colors.i-z.id_filter_2\",\n",
    "    \"colors.i-z.phot_sys\",\n",
    "    \"colors.i-z.technique\",\n",
    "    \"spins.1.obliquity\",\n",
    "    \"spins.1.RA0.value\",\n",
    "    \"spins.1.DEC0.value\",\n",
    "    \"spins.1.RA0.error.max\",\n",
    "    \"spins.1.DEC0.error.max\",\n",
    "    \"spins.1.long.value\",\n",
    "    \"spins.1.lat.value\",\n",
    "    \"spins.1.technique\",\n",
    "    \"spins.2.obliquity\",\n",
    "    \"spins.2.RA0.value\",\n",
    "    \"spins.2.DEC0.value\",\n",
    "    \"spins.2.RA0.error.max\",\n",
    "    \"spins.2.DEC0.error.max\",\n",
    "    \"spins.2.long.value\",\n",
    "    \"spins.2.lat.value\",\n",
    "    \"spins.2.technique\",\n",
    "    \"spins.3.obliquity\",\n",
    "    \"spins.3.RA0.value\",\n",
    "    \"spins.3.DEC0.value\",\n",
    "    \"spins.3.RA0.error.max\",\n",
    "    \"spins.3.DEC0.error.max\",\n",
    "    \"spins.3.long.value\",\n",
    "    \"spins.3.lat.value\",\n",
    "    \"spins.3.technique\",\n",
    "    \"spins.4.obliquity\",\n",
    "    \"spins.4.RA0.value\",\n",
    "    \"spins.4.DEC0.value\",\n",
    "    \"spins.4.RA0.error.max\",\n",
    "    \"spins.4.DEC0.error.max\",\n",
    "    \"spins.4.long.value\",\n",
    "    \"spins.4.lat.value\",\n",
    "    \"spins.4.technique\",\n",
    "]\n",
    "bft = pd.read_parquet(bft_file, columns=cols)"
   ]
  },
  {
   "cell_type": "code",
   "execution_count": 8,
   "id": "45d0f9b3-6373-4ca9-87dd-dcea58e6cf4a",
   "metadata": {},
   "outputs": [],
   "source": [
    "data = data.merge(bft[cols], left_on=\"name\", right_on=\"sso_name\", how=\"left\")"
   ]
  },
  {
   "cell_type": "code",
   "execution_count": 9,
   "id": "59fc1eeb-8893-48f6-9d6b-ed193eb8ef7b",
   "metadata": {},
   "outputs": [],
   "source": [
    "# data"
   ]
  },
  {
   "cell_type": "code",
   "execution_count": 10,
   "id": "9a2e63c8-6e42-41aa-86bf-6c3ded183f6b",
   "metadata": {},
   "outputs": [
    {
     "name": "stdout",
     "output_type": "stream",
     "text": [
      "  All data       : 122675  (100.00%)\n",
      "  Mask HG (g∩r) : 120023  ( 97.84%)\n",
      "  Mask HG (gUr) : 120024  ( 97.84%)\n",
      "\n",
      "  All data       : 122675  (100.00%)\n",
      "  Mask HG1G2 (g∩r) :  47177  ( 38.46%)\n",
      "  Mask HG1G2 (gUr) :  85363  ( 69.58%)\n",
      "\n",
      "  All data       : 122675  (100.00%)\n",
      "  Mask SHG1G2 (g∩r) :  64279  ( 52.40%)\n",
      "  Mask SHG1G2 (gUr) :  97579  ( 79.54%)\n",
      "\n",
      "  All data       : 122675  (100.00%)\n",
      "  Mask FINK (g∩r) :  63092  ( 51.43%)\n",
      "  Mask FINK (gUr) :  95593  ( 77.92%)\n",
      "\n"
     ]
    }
   ],
   "source": [
    "mask_SHG1G2_union = compute_mask(data, model='SHG1G2', kind='union')\n",
    "mask_HG1G2_union = compute_mask(data, model='HG1G2', kind='union')\n",
    "mask_HG_union = compute_mask(data, model='HG', kind='union')\n",
    "\n",
    "mask_SHG1G2_inter = compute_mask(data, model='SHG1G2', kind='inter')\n",
    "mask_HG1G2_inter = compute_mask(data, model='HG1G2', kind='inter')\n",
    "mask_HG_inter = compute_mask(data, model='HG', kind='inter')\n",
    "\n",
    "maskFINK_inter = compute_mask(data, R_min=0.305, model='FINK', kind='inter')\n",
    "maskFINK_union = compute_mask(data, R_min=0.305, model='FINK', kind='union')\n",
    "\n",
    "for model in ['HG', 'HG1G2', 'SHG1G2', 'FINK']:\n",
    "    print_statistics(data, model)\n",
    "    print()"
   ]
  },
  {
   "cell_type": "code",
   "execution_count": 11,
   "id": "68d2ba48",
   "metadata": {},
   "outputs": [],
   "source": [
    "maskFINK = maskFINK_union"
   ]
  },
  {
   "cell_type": "markdown",
   "id": "8aa96483-2b3a-4142-bb3d-2244f3f8f9d9",
   "metadata": {},
   "source": [
    "# Convert spins"
   ]
  },
  {
   "cell_type": "code",
   "execution_count": 12,
   "id": "3a5c0a83-23be-4b8f-abc7-2b7afd03b3a4",
   "metadata": {},
   "outputs": [],
   "source": [
    "# Create alternative spins solutions\n",
    "xax = \"SHG1G2_alpha0\"\n",
    "yax = \"SHG1G2_delta0\"\n",
    "\n",
    "# Already done at Fink level\n",
    "# data[\"SHG1G2_alpha0_alt\"] = (data[\"SHG1G2_alpha0\"] + 180) % 360\n",
    "# data[\"SHG1G2_delta0_alt\"] = -data[\"SHG1G2_delta0\"]\n",
    "\n",
    "\n",
    "data[\"SHG1G2_alpha0_rand\"] = data[\"SHG1G2_alpha0\"]\n",
    "data[\"SHG1G2_delta0_rand\"] = data[\"SHG1G2_delta0\"]\n",
    "cond = (data.index % 2) == 0\n",
    "data.loc[cond, \"SHG1G2_alpha0_rand\"] = data.loc[cond, \"SHG1G2_alpha0_alt\"]\n",
    "data.loc[cond, \"SHG1G2_delta0_rand\"] = data.loc[cond, \"SHG1G2_delta0_alt\"]\n",
    "\n",
    "\n",
    "# Convert to EC\n",
    "coords = SkyCoord(\n",
    "    ra=data[\"SHG1G2_alpha0\"].values * u.deg,\n",
    "    dec=data[\"SHG1G2_delta0\"].values * u.deg,\n",
    "    distance=200 * u.parsec,\n",
    "    frame=\"hcrs\",\n",
    ")\n",
    "data[\"lon\"] = coords.heliocentricmeanecliptic.lon.value\n",
    "data[\"lat\"] = coords.heliocentricmeanecliptic.lat.value\n",
    "\n",
    "coords = SkyCoord(\n",
    "    ra=data[\"SHG1G2_alpha0_alt\"].values * u.deg,\n",
    "    dec=data[\"SHG1G2_delta0_alt\"].values * u.deg,\n",
    "    distance=200 * u.parsec,\n",
    "    frame=\"hcrs\",\n",
    ")\n",
    "data[\"lon_alt\"] = coords.heliocentricmeanecliptic.lon.value\n",
    "data[\"lat_alt\"] = coords.heliocentricmeanecliptic.lat.value\n",
    "\n",
    "\n",
    "coords = SkyCoord(\n",
    "    ra=data[\"SHG1G2_alpha0_rand\"].values * u.deg,\n",
    "    dec=data[\"SHG1G2_delta0_rand\"].values * u.deg,\n",
    "    distance=200 * u.parsec,\n",
    "    frame=\"hcrs\",\n",
    ")\n",
    "data[\"lon_rand\"] = coords.heliocentricmeanecliptic.lon.value\n",
    "data[\"lat_rand\"] = coords.heliocentricmeanecliptic.lat.value"
   ]
  },
  {
   "cell_type": "code",
   "execution_count": 13,
   "id": "923148c5-e92e-48e3-ac65-4dac734006c0",
   "metadata": {},
   "outputs": [],
   "source": [
    "# Obliquity of the spin\n",
    "data[\"lon_orbit\"] = data[\"orbital_elements.node_longitude.value\"] - 90\n",
    "data[\"lat_orbit\"] = 90.0 - data[\"orbital_elements.inclination.value\"]\n",
    "data[\"obliquity\"] = data[[\"lon\", \"lat\", \"lon_orbit\", \"lat_orbit\"]].apply(\n",
    "    lambda x: np.degrees(\n",
    "        angular_separation(\n",
    "            np.radians(x[0]), np.radians(x[1]), np.radians(x[2]), np.radians(x[3])\n",
    "        )\n",
    "    ),\n",
    "    axis=1,\n",
    ")\n",
    "data[\"obliquity_alt\"] = data[[\"lon_alt\", \"lat_alt\", \"lon_orbit\", \"lat_orbit\"]].apply(\n",
    "    lambda x: np.degrees(\n",
    "        angular_separation(\n",
    "            np.radians(x[0]), np.radians(x[1]), np.radians(x[2]), np.radians(x[3])\n",
    "        )\n",
    "    ),\n",
    "    axis=1,\n",
    ")"
   ]
  },
  {
   "cell_type": "markdown",
   "id": "dd244f4a",
   "metadata": {},
   "source": [
    "# Figure Obliquity vs diameter"
   ]
  },
  {
   "cell_type": "code",
   "execution_count": 14,
   "id": "8be12363",
   "metadata": {},
   "outputs": [],
   "source": [
    "fig, ax = plt.subplots(\n",
    "    figsize=fs.figsize(0.5), gridspec_kw={\"right\": 0.98, \"top\": 0.95, \"bottom\": 0.15}\n",
    ")\n",
    "\n",
    "# Plot FINK Sample\n",
    "cond = maskFINK * ~pd.isnull(data['diameter.value'])\n",
    "\n",
    "plt.hist2d(\n",
    "    x=data.loc[cond, \"diameter.value\"], \n",
    "    y=data.loc[cond, \"obliquity\"],\n",
    "    bins=(np.logspace(0, 3, 100), 50),\n",
    "    cmap='Blues'\n",
    ")\n",
    "plt.colorbar()\n",
    "\n",
    "# Axes\n",
    "ax.set_xscale(\"log\")\n",
    "ax.set_xlim(1, 300)\n",
    "ax.set_ylim(0, 180)\n",
    "ax.set_xlabel(\"Diameter / km\")\n",
    "ax.set_ylabel(\"Obliquity / deg\")\n",
    "\n",
    "# Ticks\n",
    "ax.set_xticks([1, 10, 100])\n",
    "ax.set_xticklabels([\"1\", \"10\", \"100\"])\n",
    "ax.set_yticks([0, 30, 60, 90, 120, 150, 180])\n",
    "\n",
    "# --------------------------------------------------------------------------------\n",
    "fig.savefig(os.path.join(data_fink, \"gfx\", \"article\", \"diam_obliquity.pgf\"))\n",
    "fig.savefig(\n",
    "    os.path.join(data_fink, \"gfx\", \"article\", \"diam_obliquity.png\"),\n",
    "    facecolor=\"white\",\n",
    "    dpi=180,\n",
    ")"
   ]
  },
  {
   "cell_type": "code",
   "execution_count": 15,
   "id": "68a843a1",
   "metadata": {},
   "outputs": [
    {
     "data": {
      "text/plain": [
       "array([  1.        ,   1.06233778,   1.12856156,   1.19891358,\n",
       "         1.27365119,   1.35304777,   1.43739377,   1.5269977 ,\n",
       "         1.62218735,   1.72331091,   1.83073828,   1.94486244,\n",
       "         2.06610084,   2.19489698,   2.33172199,   2.47707636,\n",
       "         2.63149179,   2.79553315,   2.96980048,   3.15493124,\n",
       "         3.35160265,   3.56053412,   3.78248991,   4.01828193,\n",
       "         4.2687727 ,   4.53487851,   4.81757276,   5.11788955,\n",
       "         5.43692742,   5.7758534 ,   6.13590727,   6.51840611,\n",
       "         6.92474907,   7.35642254,   7.81500559,   8.30217568,\n",
       "         8.81971488,   9.36951631,   9.95359115,  10.57407592,\n",
       "        11.23324033,  11.93349558,  12.6774032 ,  13.46768436,\n",
       "        14.30722989,  15.19911083,  16.14658964,  17.15313218,\n",
       "        18.22242035,  19.35836557,  20.56512308,  21.84710718,\n",
       "        23.20900733,  24.6558053 ,  26.19279345,  27.82559402,\n",
       "        29.56017976,  31.40289572,  33.36048249,  35.44010089,\n",
       "        37.64935807,  39.99633544,  42.48961816,  45.1383266 ,\n",
       "        47.95214963,  50.94138015,  54.11695265,  57.4904833 ,\n",
       "        61.07431235,  64.88154935,  68.92612104,  73.22282236,\n",
       "        77.78737049,  82.63646241,  87.78783596,  93.26033469,\n",
       "        99.07397684, 105.25002853, 111.81108156, 118.78113608,\n",
       "       126.18568831, 134.05182388, 142.40831687, 151.28573508,\n",
       "       160.71655183, 170.73526475, 181.37852198, 192.68525623,\n",
       "       204.69682718, 217.45717279, 231.01297001, 245.41380552,\n",
       "       260.71235713, 276.96458648, 294.22994371, 312.57158497,\n",
       "       332.05660341, 352.75627463, 374.74631737, 398.10717055])"
      ]
     },
     "execution_count": 15,
     "metadata": {},
     "output_type": "execute_result"
    }
   ],
   "source": [
    "np.logspace(0, 2.6, 100)"
   ]
  },
  {
   "cell_type": "code",
   "execution_count": null,
   "id": "e3c739e7",
   "metadata": {},
   "outputs": [],
   "source": []
  }
 ],
 "metadata": {
  "kernelspec": {
   "display_name": "Python 3 (ipykernel)",
   "language": "python",
   "name": "python3"
  },
  "language_info": {
   "codemirror_mode": {
    "name": "ipython",
    "version": 3
   },
   "file_extension": ".py",
   "mimetype": "text/x-python",
   "name": "python",
   "nbconvert_exporter": "python",
   "pygments_lexer": "ipython3",
   "version": "3.9.12"
  }
 },
 "nbformat": 4,
 "nbformat_minor": 5
}
