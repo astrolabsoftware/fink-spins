{
 "cells": [
  {
   "cell_type": "code",
   "execution_count": 1,
   "id": "c67cc7b8-e6e2-44d4-9be9-ddafd36bca34",
   "metadata": {},
   "outputs": [],
   "source": [
    "import glob\n",
    "import os\n",
    "import numpy as np\n",
    "import pandas as pd\n",
    "\n",
    "import matplotlib.pyplot as plt\n",
    "\n",
    "import rocks\n",
    "\n",
    "rocks.set_log_level(\"error\")\n",
    "import time as t\n",
    "\n",
    "\n",
    "from astropy.time import Time\n",
    "import requests\n",
    "import io\n",
    "\n",
    "import astropy.units as u\n",
    "from astropy.coordinates import SkyCoord\n",
    "from astropy.coordinates import angular_separation\n",
    "\n",
    "from scipy.signal import argrelextrema\n",
    "\n",
    "import ssptools\n",
    "\n",
    "from figure_mask import compute_mask, print_statistics, compute_mask_spin"
   ]
  },
  {
   "cell_type": "code",
   "execution_count": 2,
   "id": "4bcd3a84",
   "metadata": {},
   "outputs": [],
   "source": [
    "import figure_setup as fs"
   ]
  },
  {
   "cell_type": "markdown",
   "id": "6198a3d1-286c-4c4b-806e-5c085aabc386",
   "metadata": {},
   "source": [
    "# Get ZTF fit"
   ]
  },
  {
   "cell_type": "code",
   "execution_count": 3,
   "id": "b76b0d15-20ce-4b38-907d-6ce100dfd15f",
   "metadata": {},
   "outputs": [],
   "source": [
    "# Local Configuration\n",
    "data_fink = \"../\"\n",
    "bft_file = os.path.join(data_fink, \"data\", \"ssoBFT-latest.parquet\")"
   ]
  },
  {
   "cell_type": "code",
   "execution_count": 4,
   "id": "5ea808c9-ac69-4b19-9c98-8e41113a8fd6",
   "metadata": {},
   "outputs": [],
   "source": [
    "# ZTF filters 1: g, 2: r\n",
    "filters = {\"1\": \"g\", \"2\": \"r\"}\n",
    "\n",
    "S_color = {\"g\": -0.3928, \"r\": 0.2913}\n",
    "sun_color = {\"g\": -0.3044, \"r\": 0.1903}\n",
    "\n",
    "color_C = -(sun_color[\"g\"] - sun_color[\"r\"])\n",
    "color_S = -(S_color[\"g\"] - S_color[\"r\"])\n",
    "\n",
    "fink_colors = [\"#15284F\", \"#F5622E\"]\n",
    "\n",
    "V_minus_g = -0.2833\n",
    "V_minus_r = 0.1777"
   ]
  },
  {
   "cell_type": "code",
   "execution_count": 5,
   "id": "6b4db0c1-36bc-4db9-b2d2-751e97ba0d35",
   "metadata": {},
   "outputs": [],
   "source": [
    "data = pd.read_parquet(os.path.join(data_fink, \"data\", \"ztf\", \"sso_ZTF.parquet\"))"
   ]
  },
  {
   "cell_type": "code",
   "execution_count": 6,
   "id": "7506e32d-fccc-4007-b27a-6bda182f0989",
   "metadata": {},
   "outputs": [
    {
     "name": "stdout",
     "output_type": "stream",
     "text": [
      "above 90: 0 \n",
      "below 90: 0 \n"
     ]
    }
   ],
   "source": [
    "data[\"SHG1G2_dSpin\"] = np.sqrt(\n",
    "    (data[\"SHG1G2_dalpha0\"] * np.cos(np.radians(data[\"SHG1G2_delta0\"]))) ** 2\n",
    "    + data[\"SHG1G2_ddelta0\"] ** 2\n",
    ")\n",
    "\n",
    "\n",
    "# # Remove solutions above 90 deg of latitude\n",
    "cond = data.SHG1G2_delta0 > 90\n",
    "data.loc[cond, \"SHG1G2_delta0\"] = 90\n",
    "print(f\"above 90: {len(data[cond])} \")\n",
    "\n",
    "cond = data.SHG1G2_delta0 < -90\n",
    "data.loc[cond, \"SHG1G2_delta0\"] = -90\n",
    "print(f\"below 90: {len(data[cond])} \")"
   ]
  },
  {
   "cell_type": "code",
   "execution_count": 7,
   "id": "c21aa4b8-b451-4f75-b18e-fe68236a239c",
   "metadata": {},
   "outputs": [],
   "source": [
    "cols = [\n",
    "    \"sso_number\",\n",
    "    \"sso_name\",\n",
    "    \"sso_class\",\n",
    "    \"orbital_elements.semi_major_axis.value\",\n",
    "    \"orbital_elements.eccentricity.value\",\n",
    "    \"orbital_elements.inclination.value\",\n",
    "    \"orbital_elements.node_longitude.value\",\n",
    "    \"orbital_elements.perihelion_argument.value\",\n",
    "    \"orbital_elements.mean_anomaly.value\",\n",
    "    \"orbital_elements.mean_motion.value\",\n",
    "    \"family.family_number\",\n",
    "    \"family.family_name\",\n",
    "    \"proper_elements.proper_semi_major_axis.value\",\n",
    "    \"proper_elements.proper_eccentricity.value\",\n",
    "    \"proper_elements.proper_inclination.value\",\n",
    "    \"proper_elements.proper_sine_inclination.value\",\n",
    "    \"tisserand_parameters.Jupiter.value\",\n",
    "    \"albedo.value\",\n",
    "    \"absolute_magnitude.value\",\n",
    "    \"diameter.value\",\n",
    "    \"taxonomy.class\",\n",
    "    \"taxonomy.complex\",\n",
    "    \"taxonomy.waverange\",\n",
    "    \"taxonomy.scheme\",\n",
    "    \"taxonomy.technique\",\n",
    "    \"colors.g-r.color.value\",\n",
    "    \"colors.g-r.color.error.min\",\n",
    "    \"colors.g-r.color.error.max\",\n",
    "    \"colors.g-r.facility\",\n",
    "    \"colors.g-r.observer\",\n",
    "    \"colors.g-r.epoch\",\n",
    "    \"colors.g-r.delta_time\",\n",
    "    \"colors.g-r.id_filter_1\",\n",
    "    \"colors.g-r.id_filter_2\",\n",
    "    \"colors.g-r.phot_sys\",\n",
    "    \"colors.g-r.technique\",\n",
    "    \"colors.g-i.color.value\",\n",
    "    \"colors.g-i.color.error.min\",\n",
    "    \"colors.g-i.color.error.max\",\n",
    "    \"colors.g-i.facility\",\n",
    "    \"colors.g-i.observer\",\n",
    "    \"colors.g-i.epoch\",\n",
    "    \"colors.g-i.delta_time\",\n",
    "    \"colors.g-i.id_filter_1\",\n",
    "    \"colors.g-i.id_filter_2\",\n",
    "    \"colors.g-i.phot_sys\",\n",
    "    \"colors.g-i.technique\",\n",
    "    \"colors.i-z.color.value\",\n",
    "    \"colors.i-z.color.error.min\",\n",
    "    \"colors.i-z.color.error.max\",\n",
    "    \"colors.i-z.facility\",\n",
    "    \"colors.i-z.observer\",\n",
    "    \"colors.i-z.epoch\",\n",
    "    \"colors.i-z.delta_time\",\n",
    "    \"colors.i-z.id_filter_1\",\n",
    "    \"colors.i-z.id_filter_2\",\n",
    "    \"colors.i-z.phot_sys\",\n",
    "    \"colors.i-z.technique\",\n",
    "    \"spins.1.obliquity\",\n",
    "    \"spins.1.RA0.value\",\n",
    "    \"spins.1.DEC0.value\",\n",
    "    \"spins.1.RA0.error.max\",\n",
    "    \"spins.1.DEC0.error.max\",\n",
    "    \"spins.1.long.value\",\n",
    "    \"spins.1.lat.value\",\n",
    "    \"spins.1.technique\",\n",
    "    \"spins.2.obliquity\",\n",
    "    \"spins.2.RA0.value\",\n",
    "    \"spins.2.DEC0.value\",\n",
    "    \"spins.2.RA0.error.max\",\n",
    "    \"spins.2.DEC0.error.max\",\n",
    "    \"spins.2.long.value\",\n",
    "    \"spins.2.lat.value\",\n",
    "    \"spins.2.technique\",\n",
    "    \"spins.3.obliquity\",\n",
    "    \"spins.3.RA0.value\",\n",
    "    \"spins.3.DEC0.value\",\n",
    "    \"spins.3.RA0.error.max\",\n",
    "    \"spins.3.DEC0.error.max\",\n",
    "    \"spins.3.long.value\",\n",
    "    \"spins.3.lat.value\",\n",
    "    \"spins.3.technique\",\n",
    "    \"spins.4.obliquity\",\n",
    "    \"spins.4.RA0.value\",\n",
    "    \"spins.4.DEC0.value\",\n",
    "    \"spins.4.RA0.error.max\",\n",
    "    \"spins.4.DEC0.error.max\",\n",
    "    \"spins.4.long.value\",\n",
    "    \"spins.4.lat.value\",\n",
    "    \"spins.4.technique\",\n",
    "]\n",
    "bft = pd.read_parquet(bft_file, columns=cols)"
   ]
  },
  {
   "cell_type": "code",
   "execution_count": 8,
   "id": "45d0f9b3-6373-4ca9-87dd-dcea58e6cf4a",
   "metadata": {},
   "outputs": [],
   "source": [
    "data = data.merge(bft[cols], left_on=\"name\", right_on=\"sso_name\", how=\"left\")"
   ]
  },
  {
   "cell_type": "code",
   "execution_count": 9,
   "id": "59fc1eeb-8893-48f6-9d6b-ed193eb8ef7b",
   "metadata": {},
   "outputs": [],
   "source": [
    "# data"
   ]
  },
  {
   "cell_type": "code",
   "execution_count": 10,
   "id": "9a2e63c8-6e42-41aa-86bf-6c3ded183f6b",
   "metadata": {},
   "outputs": [
    {
     "name": "stdout",
     "output_type": "stream",
     "text": [
      "  All data       : 122675  (100.00%)\n",
      "  Mask HG (g∩r) : 120023  ( 97.84%)\n",
      "  Mask HG (gUr) : 120024  ( 97.84%)\n",
      "\n",
      "  All data       : 122675  (100.00%)\n",
      "  Mask HG1G2 (g∩r) :  47177  ( 38.46%)\n",
      "  Mask HG1G2 (gUr) :  85363  ( 69.58%)\n",
      "\n",
      "  All data       : 122675  (100.00%)\n",
      "  Mask SHG1G2 (g∩r) :  64279  ( 52.40%)\n",
      "  Mask SHG1G2 (gUr) :  97579  ( 79.54%)\n",
      "\n",
      "  All data       : 122675  (100.00%)\n",
      "  Mask FINK (g∩r) :  63092  ( 51.43%)\n",
      "  Mask FINK (gUr) :  95593  ( 77.92%)\n",
      "\n"
     ]
    }
   ],
   "source": [
    "mask_SHG1G2_union = compute_mask(data, model='SHG1G2', kind='union')\n",
    "mask_HG1G2_union = compute_mask(data, model='HG1G2', kind='union')\n",
    "mask_HG_union = compute_mask(data, model='HG', kind='union')\n",
    "\n",
    "mask_SHG1G2_inter = compute_mask(data, model='SHG1G2', kind='inter')\n",
    "mask_HG1G2_inter = compute_mask(data, model='HG1G2', kind='inter')\n",
    "mask_HG_inter = compute_mask(data, model='HG', kind='inter')\n",
    "\n",
    "maskFINK_inter = compute_mask(data, R_min=0.305, model='FINK', kind='inter')\n",
    "maskFINK_union = compute_mask(data, R_min=0.305, model='FINK', kind='union')\n",
    "\n",
    "for model in ['HG', 'HG1G2', 'SHG1G2', 'FINK']:\n",
    "    print_statistics(data, model)\n",
    "    print()"
   ]
  },
  {
   "cell_type": "code",
   "execution_count": 11,
   "id": "5eb202a7",
   "metadata": {},
   "outputs": [],
   "source": [
    "maskFINK = maskFINK_union"
   ]
  },
  {
   "cell_type": "markdown",
   "id": "19782b9d-8628-46c3-9512-b088d1f285fb",
   "metadata": {},
   "source": [
    "# General description of the sample"
   ]
  },
  {
   "cell_type": "code",
   "execution_count": 12,
   "id": "bb829964-8b2a-4e51-8092-2b085662280e",
   "metadata": {},
   "outputs": [
    {
     "data": {
      "text/plain": [
       "MB>Middle       24481\n",
       "MB>Inner        23000\n",
       "MB>Outer        19684\n",
       "Phocaea           862\n",
       "Hungaria          855\n",
       "Trojan            720\n",
       "Mars-Crosser      701\n",
       "MB>Cybele         338\n",
       "MB>Hilda          246\n",
       "NEA>Apollo         82\n",
       "NEA>Amor           69\n",
       "NEA>Aten            8\n",
       "Centaur             2\n",
       "NEA>Atira           2\n",
       "KBO>SDO             1\n",
       "Name: sso_class, dtype: int64"
      ]
     },
     "execution_count": 12,
     "metadata": {},
     "output_type": "execute_result"
    }
   ],
   "source": [
    "data.loc[maskFINK, \"sso_class\"].value_counts()"
   ]
  },
  {
   "cell_type": "code",
   "execution_count": 13,
   "id": "ea289d05-bf1b-4afb-9aa6-d7f28144db0d",
   "metadata": {},
   "outputs": [
    {
     "data": {
      "text/plain": [
       "Text(0, 0.5, 'Sine of inclination ($\\\\sin$i)')"
      ]
     },
     "execution_count": 13,
     "metadata": {},
     "output_type": "execute_result"
    }
   ],
   "source": [
    "As = data.loc[maskFINK, \"orbital_elements.semi_major_axis.value\"]\n",
    "Es = data.loc[maskFINK, \"orbital_elements.eccentricity.value\"]\n",
    "node = data.loc[maskFINK, \"orbital_elements.inclination.value\"]\n",
    "\n",
    "fig, ax = plt.subplots(figsize=(12, 8))\n",
    "\n",
    "ax.scatter(As, np.sin(np.radians(node)), marker=\".\", alpha=0.2, s=2)\n",
    "\n",
    "\n",
    "ax.set_xlim(1.5, 5.5)\n",
    "ax.set_ylim(0, 0.6)\n",
    "ax.set_xlabel(\"Semi-major axis (au)\")\n",
    "ax.set_ylabel(r\"Sine of inclination ($\\sin$i)\")\n",
    "\n",
    "# fig.savefig(f'{data_fink}plots/types.png', facecolor='white', dpi=150)"
   ]
  },
  {
   "cell_type": "markdown",
   "id": "8aa96483-2b3a-4142-bb3d-2244f3f8f9d9",
   "metadata": {},
   "source": [
    "# Spins!"
   ]
  },
  {
   "cell_type": "code",
   "execution_count": 14,
   "id": "7fa66942",
   "metadata": {},
   "outputs": [
    {
     "data": {
      "text/plain": [
       "Index(['SHG1G2_alpha0', 'SHG1G2_dalpha0', 'SHG1G2_alpha0_alt'], dtype='object')"
      ]
     },
     "execution_count": 14,
     "metadata": {},
     "output_type": "execute_result"
    }
   ],
   "source": [
    "data.columns[data.columns.str.contains(\"alpha0\")]"
   ]
  },
  {
   "cell_type": "code",
   "execution_count": 15,
   "id": "3a5c0a83-23be-4b8f-abc7-2b7afd03b3a4",
   "metadata": {},
   "outputs": [],
   "source": [
    "# Create alternative spins solutions\n",
    "xax = \"SHG1G2_alpha0\"\n",
    "yax = \"SHG1G2_delta0\"\n",
    "\n",
    "# Already done at Fink level\n",
    "# data[\"SHG1G2_alpha0_alt\"] = (data[\"SHG1G2_alpha0\"] + 180) % 360\n",
    "# data[\"SHG1G2_delta0_alt\"] = -data[\"SHG1G2_delta0\"]\n",
    "\n",
    "\n",
    "data[\"SHG1G2_alpha0_rand\"] = data[\"SHG1G2_alpha0\"]\n",
    "data[\"SHG1G2_delta0_rand\"] = data[\"SHG1G2_delta0\"]\n",
    "cond = (data.index % 2) == 0\n",
    "data.loc[cond, \"SHG1G2_alpha0_rand\"] = data.loc[cond, \"SHG1G2_alpha0_alt\"]\n",
    "data.loc[cond, \"SHG1G2_delta0_rand\"] = data.loc[cond, \"SHG1G2_delta0_alt\"]\n",
    "\n",
    "\n",
    "# Convert to EC\n",
    "coords = SkyCoord(\n",
    "    ra=data[\"SHG1G2_alpha0\"].values * u.deg,\n",
    "    dec=data[\"SHG1G2_delta0\"].values * u.deg,\n",
    "    distance=200 * u.parsec,\n",
    "    frame=\"hcrs\",\n",
    ")\n",
    "data[\"lon\"] = coords.heliocentricmeanecliptic.lon.value\n",
    "data[\"lat\"] = coords.heliocentricmeanecliptic.lat.value\n",
    "\n",
    "coords = SkyCoord(\n",
    "    ra=data[\"SHG1G2_alpha0_alt\"].values * u.deg,\n",
    "    dec=data[\"SHG1G2_delta0_alt\"].values * u.deg,\n",
    "    distance=200 * u.parsec,\n",
    "    frame=\"hcrs\",\n",
    ")\n",
    "data[\"lon_alt\"] = coords.heliocentricmeanecliptic.lon.value\n",
    "data[\"lat_alt\"] = coords.heliocentricmeanecliptic.lat.value\n",
    "\n",
    "\n",
    "coords = SkyCoord(\n",
    "    ra=data[\"SHG1G2_alpha0_rand\"].values * u.deg,\n",
    "    dec=data[\"SHG1G2_delta0_rand\"].values * u.deg,\n",
    "    distance=200 * u.parsec,\n",
    "    frame=\"hcrs\",\n",
    ")\n",
    "data[\"lon_rand\"] = coords.heliocentricmeanecliptic.lon.value\n",
    "data[\"lat_rand\"] = coords.heliocentricmeanecliptic.lat.value"
   ]
  },
  {
   "cell_type": "code",
   "execution_count": 16,
   "id": "923148c5-e92e-48e3-ac65-4dac734006c0",
   "metadata": {},
   "outputs": [],
   "source": [
    "# Obliquity of the spin\n",
    "data[\"lon_orbit\"] = data[\"orbital_elements.node_longitude.value\"] - 90\n",
    "data[\"lat_orbit\"] = 90.0 - data[\"orbital_elements.inclination.value\"]\n",
    "data[\"obliquity\"] = data[[\"lon\", \"lat\", \"lon_orbit\", \"lat_orbit\"]].apply(\n",
    "    lambda x: np.degrees(\n",
    "        angular_separation(\n",
    "            np.radians(x[0]), np.radians(x[1]), np.radians(x[2]), np.radians(x[3])\n",
    "        )\n",
    "    ),\n",
    "    axis=1,\n",
    ")\n",
    "data[\"obliquity_alt\"] = data[[\"lon_alt\", \"lat_alt\", \"lon_orbit\", \"lat_orbit\"]].apply(\n",
    "    lambda x: np.degrees(\n",
    "        angular_separation(\n",
    "            np.radians(x[0]), np.radians(x[1]), np.radians(x[2]), np.radians(x[3])\n",
    "        )\n",
    "    ),\n",
    "    axis=1,\n",
    ")"
   ]
  },
  {
   "cell_type": "markdown",
   "id": "dd244f4a",
   "metadata": {},
   "source": [
    "# Figure longitude vs inclination"
   ]
  },
  {
   "cell_type": "code",
   "execution_count": 17,
   "id": "68a843a1",
   "metadata": {},
   "outputs": [
    {
     "name": "stderr",
     "output_type": "stream",
     "text": [
      "/tmp/ipykernel_690314/971050799.py:90: UserWarning: FixedFormatter should only be used together with FixedLocator\n",
      "  a.set_yticklabels(['', '', '', '', ''])\n",
      "/tmp/ipykernel_690314/971050799.py:93: UserWarning: FixedFormatter should only be used together with FixedLocator\n",
      "  a.set_xticklabels(['', '', '', '', ''])\n"
     ]
    }
   ],
   "source": [
    "Is = np.sin(np.deg2rad(data[\"orbital_elements.inclination.value\"]))\n",
    "\n",
    "# --------------------------------------------------------------------------------\n",
    "fig, ax = plt.subplots(\n",
    "    2,\n",
    "    5,\n",
    "    figsize=fs.figsize(1, aspect=3),\n",
    "    # sharex=True,\n",
    "    # sharey=True,\n",
    "    gridspec_kw={\n",
    "        \"wspace\": 0.02,\n",
    "        \"hspace\": 0.02,\n",
    "        \"left\": 0.1,\n",
    "        \"right\": 0.98,\n",
    "        \"top\": 0.98,\n",
    "        \"bottom\": 0.13,\n",
    "    },\n",
    ")\n",
    "m = maskFINK\n",
    "\n",
    "# --------------------------------------------------------------------------------\n",
    "# Distributions\n",
    "step = 0.04\n",
    "count = 0\n",
    "for i in range(0, 2):\n",
    "    for j in range(0, 5):\n",
    "        mi = (Is[m] >= count * step) * (Is[m] < (count + 1) * step)\n",
    "        ax[i, j].hist(data[\"lon_rand\"][m][mi], bins=45, density=True, histtype=\"step\")\n",
    "        \n",
    "        ax[i, j].set_ylim(0, 5.9e-3)\n",
    "        ax[i, j].set_xlim(0, 360)\n",
    "\n",
    "#         ax[i, j].text(\n",
    "#             180,\n",
    "#             5e-3,\n",
    "#             r\"{:.2f} $\\leq \\sin(i) <$ {:.2f}\".format(count * step, (count + 1) * step),\n",
    "#             ha=\"center\",\n",
    "#             fontsize=\"x-small\",\n",
    "#         )\n",
    "#         ax[i, j].text(\n",
    "#             180,\n",
    "#             1e-3,\n",
    "#             \"{:d} ({:.2f}%)\".format(len(data[\"lon_rand\"][m][mi]),\n",
    "#                 len(data[\"lon_rand\"][m][mi]) / len(data[\"lon_rand\"][m]) * 100\n",
    "#             ),\n",
    "#             ha=\"center\",\n",
    "#             fontsize=\"x-small\",\n",
    "#         )\n",
    "\n",
    "        if i==0:\n",
    "            yTit, yNum, yFrac = 0.5e-3, 5e-3, 5e-3\n",
    "        else:\n",
    "            yTit, yNum, yFrac = 5e-3, 0.5e-3, 0.5e-3\n",
    "        \n",
    "        ax[i, j].text(\n",
    "            180,\n",
    "            yTit,\n",
    "            r\"{:.2f} $\\leq \\sin(i) <$ {:.2f}\".format(count * step, (count + 1) * step),\n",
    "            ha=\"center\",\n",
    "            fontsize=\"x-small\",\n",
    "        )\n",
    "        ax[i, j].text(\n",
    "            20,\n",
    "            yNum,\n",
    "            \"{:,d}\".format(len(data[\"lon_rand\"][m][mi])),\n",
    "            ha=\"left\",\n",
    "            fontsize=\"x-small\",\n",
    "        )\n",
    "        ax[i, j].text(\n",
    "            340,\n",
    "            yFrac,\n",
    "            \"({:.2f}%)\".format(\n",
    "                len(data[\"lon_rand\"][m][mi]) / len(data[\"lon_rand\"][m]) * 100\n",
    "            ),\n",
    "            ha=\"right\",\n",
    "            fontsize=\"x-small\",\n",
    "        )\n",
    "\n",
    "        count += 1\n",
    "        \n",
    "\n",
    "# --------------------------------------------------------------------------------\n",
    "# Axes\n",
    "ax[1, 2].set_xlabel(r\"Longitude of the spin ($^{\\circ}$)\")\n",
    "\n",
    "for a in ax[:, 0]:\n",
    "    a.set_ylabel(r\"Density\")\n",
    "\n",
    "for a in ax[:, 1:].ravel():\n",
    "    a.set_yticklabels(['', '', '', '', ''])\n",
    "    \n",
    "for a in ax[0:, 0:].ravel():\n",
    "    a.set_xticklabels(['', '', '', '', ''])\n",
    "\n",
    "for a in ax.ravel():\n",
    "    a.set_xticks([0, 90, 180, 270, 360])\n",
    "for a in ax[1, :-1]:\n",
    "    a.set_xticklabels([0, 90, 180, 270, \" \"])\n",
    "ax[1, -1].set_xticklabels([0, 90, 180, 270, 360])\n",
    "\n",
    "# --------------------------------------------------------------------------------\n",
    "fig.savefig(os.path.join(data_fink, \"gfx\", \"article\", \"longitude_inclination.pgf\"))\n",
    "fig.savefig(\n",
    "    os.path.join(data_fink, \"gfx\", \"article\", \"longitude_inclination.png\"),\n",
    "    facecolor=\"white\",\n",
    "    dpi=180,\n",
    ")"
   ]
  },
  {
   "cell_type": "code",
   "execution_count": null,
   "id": "985745c4",
   "metadata": {},
   "outputs": [],
   "source": []
  },
  {
   "cell_type": "code",
   "execution_count": null,
   "id": "e3c739e7",
   "metadata": {},
   "outputs": [],
   "source": []
  }
 ],
 "metadata": {
  "kernelspec": {
   "display_name": "Python 3 (ipykernel)",
   "language": "python",
   "name": "python3"
  },
  "language_info": {
   "codemirror_mode": {
    "name": "ipython",
    "version": 3
   },
   "file_extension": ".py",
   "mimetype": "text/x-python",
   "name": "python",
   "nbconvert_exporter": "python",
   "pygments_lexer": "ipython3",
   "version": "3.9.12"
  }
 },
 "nbformat": 4,
 "nbformat_minor": 5
}
